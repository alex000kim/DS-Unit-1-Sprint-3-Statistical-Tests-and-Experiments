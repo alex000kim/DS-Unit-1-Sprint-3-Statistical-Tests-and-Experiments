{
  "nbformat": 4,
  "nbformat_minor": 0,
  "metadata": {
    "colab": {
      "name": "LS_DSPT3_132_Sampling_Confidence_Intervals_and_Hypothesis_Testing.ipynb",
      "provenance": [],
      "collapsed_sections": [],
      "include_colab_link": true
    },
    "kernelspec": {
      "name": "python3",
      "display_name": "Python 3"
    }
  },
  "cells": [
    {
      "cell_type": "markdown",
      "metadata": {
        "id": "view-in-github",
        "colab_type": "text"
      },
      "source": [
        "<a href=\"https://colab.research.google.com/github/alex000kim/DS-Unit-1-Sprint-3-Statistical-Tests-and-Experiments/blob/master/module2-sampling-confidence-intervals-and-hypothesis-testing/LS_DSPT3_132_Sampling_Confidence_Intervals_and_Hypothesis_Testing.ipynb\" target=\"_parent\"><img src=\"https://colab.research.google.com/assets/colab-badge.svg\" alt=\"Open In Colab\"/></a>"
      ]
    },
    {
      "cell_type": "markdown",
      "metadata": {
        "id": "838Dmw1kM2LK",
        "colab_type": "text"
      },
      "source": [
        "# Lambda School Data Science Module 132\n",
        "## Sampling, Confidence Intervals, and Hypothesis Testing"
      ]
    },
    {
      "cell_type": "markdown",
      "metadata": {
        "id": "dbcPKIo5M6Ny",
        "colab_type": "text"
      },
      "source": [
        "## Prepare - examine other available hypothesis tests\n",
        "\n",
        "If you had to pick a single hypothesis test in your toolbox, t-test would probably be the best choice - but the good news is you don't have to pick just one! Here's some of the others to be aware of:"
      ]
    },
    {
      "cell_type": "code",
      "metadata": {
        "id": "tlBel8j9M6tB",
        "colab_type": "code",
        "outputId": "08421690-8cd0-4cea-acc1-399a3df58a8b",
        "colab": {
          "base_uri": "https://localhost:8080/",
          "height": 199
        }
      },
      "source": [
        "import numpy as np\n",
        "from scipy.stats import chisquare  # One-way chi square test\n",
        "\n",
        "# Chi square can take any crosstab/table and test the independence of rows/cols\n",
        "# The null hypothesis is that the rows/cols are independent -> low chi square\n",
        "# The alternative is that there is a dependence -> high chi square\n",
        "# Be aware! Chi square does *not* tell you direction/causation\n",
        "\n",
        "ind_obs = np.array([[1, 1], [2, 2]]).T\n",
        "print(ind_obs)\n",
        "print(chisquare(ind_obs, axis=None))\n",
        "\n",
        "dep_obs = np.array([[16, 18, 16, 14, 12, 12], [32, 24, 16, 28, 20, 24]]).T\n",
        "print(dep_obs)\n",
        "print(chisquare(dep_obs, axis=None))"
      ],
      "execution_count": 1,
      "outputs": [
        {
          "output_type": "stream",
          "text": [
            "[[1 2]\n",
            " [1 2]]\n",
            "Power_divergenceResult(statistic=0.6666666666666666, pvalue=0.8810148425137847)\n",
            "[[16 32]\n",
            " [18 24]\n",
            " [16 16]\n",
            " [14 28]\n",
            " [12 20]\n",
            " [12 24]]\n",
            "Power_divergenceResult(statistic=23.31034482758621, pvalue=0.015975692534127565)\n"
          ],
          "name": "stdout"
        }
      ]
    },
    {
      "cell_type": "code",
      "metadata": {
        "id": "nN0BdNiDPxbk",
        "colab_type": "code",
        "colab": {}
      },
      "source": [
        "# Distribution tests:\n",
        "# We often assume that something is normal, but it can be important to *check*\n",
        "\n",
        "# For example, later on with predictive modeling, a typical assumption is that\n",
        "# residuals (prediction errors) are normal - checking is a good diagnostic\n",
        "\n",
        "from scipy.stats import normaltest\n",
        "# Poisson models arrival times and is related to the binomial (coinflip)\n",
        "sample = np.random.poisson(5, 1000)"
      ],
      "execution_count": 0,
      "outputs": []
    },
    {
      "cell_type": "code",
      "metadata": {
        "id": "IkwmtmltVXCD",
        "colab_type": "code",
        "outputId": "c6861e2e-6573-441b-e76a-20204a12d561",
        "colab": {
          "base_uri": "https://localhost:8080/",
          "height": 269
        }
      },
      "source": [
        "import matplotlib.pyplot as plt\n",
        "plt.hist(sample);"
      ],
      "execution_count": 8,
      "outputs": [
        {
          "output_type": "display_data",
          "data": {
            "image/png": "[encoded data removed]",
            "text/plain": [
              "<Figure size 432x288 with 1 Axes>"
            ]
          },
          "metadata": {
            "tags": []
          }
        }
      ]
    },
    {
      "cell_type": "code",
      "metadata": {
        "id": "jM6JOOLnVUuQ",
        "colab_type": "code",
        "outputId": "d123495a-bb62-403b-f819-5cbee125b2ec",
        "colab": {
          "base_uri": "https://localhost:8080/",
          "height": 35
        }
      },
      "source": [
        "print(normaltest(sample))  # Pretty clearly not normal"
      ],
      "execution_count": 9,
      "outputs": [
        {
          "output_type": "stream",
          "text": [
            "NormaltestResult(statistic=41.977854235000414, pvalue=7.666987793099111e-10)\n"
          ],
          "name": "stdout"
        }
      ]
    },
    {
      "cell_type": "code",
      "metadata": {
        "id": "p4KihyoGVOKB",
        "colab_type": "code",
        "outputId": "54516b5c-ed27-4bcb-a9da-4c95ba8076e2",
        "colab": {
          "base_uri": "https://localhost:8080/",
          "height": 35
        }
      },
      "source": [
        "sample = np.random.normal(50, 3, 1000)\n",
        "print(normaltest(sample)) "
      ],
      "execution_count": 10,
      "outputs": [
        {
          "output_type": "stream",
          "text": [
            "NormaltestResult(statistic=1.1249410959102801, pvalue=0.5697996062473611)\n"
          ],
          "name": "stdout"
        }
      ]
    },
    {
      "cell_type": "code",
      "metadata": {
        "id": "QbGbE-CE-OuY",
        "colab_type": "code",
        "colab": {}
      },
      "source": [
        "# Q-Q plot: https://en.wikipedia.org/wiki/Q%E2%80%93Q_plot\n",
        "# https://www.youtube.com/watch?v=X9_ISJ0YpGw"
      ],
      "execution_count": 0,
      "outputs": []
    },
    {
      "cell_type": "markdown",
      "metadata": {
        "id": "7pT3IP36Rh0b",
        "colab_type": "text"
      },
      "source": [
        "And there's many more! `scipy.stats` is fairly comprehensive, though there are even more available if you delve into the extended world of statistics packages. As tests get increasingly obscure and specialized, the importance of knowing them by heart becomes small - but being able to look them up and figure them out when they *are* relevant is still important."
      ]
    },
    {
      "cell_type": "markdown",
      "metadata": {
        "id": "3JqroCQYQqhy",
        "colab_type": "text"
      },
      "source": [
        "## T-test Assumptions"
      ]
    },
    {
      "cell_type": "code",
      "metadata": {
        "id": "sqy2hEFRZnvI",
        "colab_type": "code",
        "colab": {}
      },
      "source": [
        "from scipy.stats import ttest_ind\n",
        "\n",
        "#ttest_ind?"
      ],
      "execution_count": 0,
      "outputs": []
    },
    {
      "cell_type": "markdown",
      "metadata": {
        "id": "xI-PcK5sZ1A9",
        "colab_type": "text"
      },
      "source": [
        "<https://statistics.laerd.com/statistical-guides/independent-t-test-statistical-guide.php>\n",
        "\n",
        "- Independence of means\n",
        "\n",
        "Are the means of our voting data independent (do not affect the outcome of one another)?\n",
        "  \n",
        "The best way to increase thel likelihood of our means being independent is to randomly sample (which we did not do).\n",
        "\n",
        "- \"Homogeneity\" of Variance? \n",
        "\n",
        "Is the magnitude of the variance between the two roughly the same?\n",
        "\n",
        "I think we're OK on this one for the voting data, although it probably could be better, one party was larger than the other.\n",
        "\n",
        "If we suspect this to be a problem then we can use Welch's T-test"
      ]
    },
    {
      "cell_type": "markdown",
      "metadata": {
        "id": "tjgoHHwGayoC",
        "colab_type": "text"
      },
      "source": [
        "- \"Dependent Variable\" (sample means) are Distributed Normally\n",
        "\n",
        "<https://stats.stackexchange.com/questions/9573/t-test-for-non-normal-when-n50>\n",
        "\n",
        "Lots of statistical tests depend on normal distributions. We can test for normality using Scipy as was shown above.\n",
        "\n",
        "This assumption is often assumed even if the assumption is a weak one. If you strongly suspect that things are not normally distributed, you can transform your data to get it looking more normal and then run your test. This problem typically goes away for large sample sizes (yay Central Limit Theorem) and is often why you don't hear it brought up. People declare the assumption to be satisfied either way. \n",
        "\n"
      ]
    },
    {
      "cell_type": "code",
      "metadata": {
        "id": "awirGyRXWGRv",
        "colab_type": "code",
        "colab": {}
      },
      "source": [
        "import matplotlib.pyplot as plt"
      ],
      "execution_count": 0,
      "outputs": []
    },
    {
      "cell_type": "code",
      "metadata": {
        "id": "urqnk8XzWEYO",
        "colab_type": "code",
        "colab": {
          "base_uri": "https://localhost:8080/",
          "height": 35
        },
        "outputId": "fb2206a5-11dd-47a5-8582-c73bd7499017"
      },
      "source": [
        "skittles_fac_1 = np.random.normal(50, 5, size=100)\n",
        "skittles_fac_1 = skittles_fac_1.round().astype(int)\n",
        "skittles_fac_1[:10]"
      ],
      "execution_count": 50,
      "outputs": [
        {
          "output_type": "execute_result",
          "data": {
            "text/plain": [
              "array([55, 49, 53, 60, 43, 47, 51, 43, 44, 49])"
            ]
          },
          "metadata": {
            "tags": []
          },
          "execution_count": 50
        }
      ]
    },
    {
      "cell_type": "code",
      "metadata": {
        "id": "H-KPzkSS_5dv",
        "colab_type": "code",
        "outputId": "d9a5231f-734b-4376-aeca-9cf117505756",
        "colab": {
          "base_uri": "https://localhost:8080/",
          "height": 35
        }
      },
      "source": [
        "skittles_fac_1.mean()"
      ],
      "execution_count": 51,
      "outputs": [
        {
          "output_type": "execute_result",
          "data": {
            "text/plain": [
              "49.45"
            ]
          },
          "metadata": {
            "tags": []
          },
          "execution_count": 51
        }
      ]
    },
    {
      "cell_type": "code",
      "metadata": {
        "id": "te9rE3CFB1zq",
        "colab_type": "code",
        "outputId": "aba6ceec-b61f-4334-8576-93bb967a4fae",
        "colab": {
          "base_uri": "https://localhost:8080/",
          "height": 269
        }
      },
      "source": [
        "plt.hist(skittles_fac_1, bins=15);"
      ],
      "execution_count": 52,
      "outputs": [
        {
          "output_type": "display_data",
          "data": {
            "image/png": "[encoded data removed]",
            "text/plain": [
              "<Figure size 432x288 with 1 Axes>"
            ]
          },
          "metadata": {
            "tags": []
          }
        }
      ]
    },
    {
      "cell_type": "code",
      "metadata": {
        "id": "njEO6a9LApsM",
        "colab_type": "code",
        "outputId": "9e8b8c22-7c9d-402f-de02-1c9a3a5b94c2",
        "colab": {
          "base_uri": "https://localhost:8080/",
          "height": 35
        }
      },
      "source": [
        "skittles_fac_2 = np.random.normal(49.3, 5.5, size=100)\n",
        "skittles_fac_2 = skittles_fac_2.round().astype(int)\n",
        "skittles_fac_2[:10]"
      ],
      "execution_count": 53,
      "outputs": [
        {
          "output_type": "execute_result",
          "data": {
            "text/plain": [
              "array([50, 36, 54, 50, 50, 40, 62, 57, 51, 48])"
            ]
          },
          "metadata": {
            "tags": []
          },
          "execution_count": 53
        }
      ]
    },
    {
      "cell_type": "code",
      "metadata": {
        "id": "HVKTGtP7AzQS",
        "colab_type": "code",
        "outputId": "5f3b83f7-7ab7-4c18-bd40-917d391eca94",
        "colab": {
          "base_uri": "https://localhost:8080/",
          "height": 269
        }
      },
      "source": [
        "plt.hist(skittles_fac_2, bins=15);"
      ],
      "execution_count": 54,
      "outputs": [
        {
          "output_type": "display_data",
          "data": {
            "image/png": "[encoded data removed]",
            "text/plain": [
              "<Figure size 432x288 with 1 Axes>"
            ]
          },
          "metadata": {
            "tags": []
          }
        }
      ]
    },
    {
      "cell_type": "code",
      "metadata": {
        "id": "M7V-GMUPB4Bg",
        "colab_type": "code",
        "outputId": "7a75c2fd-319a-447a-aeb8-6553b6fcc807",
        "colab": {
          "base_uri": "https://localhost:8080/",
          "height": 35
        }
      },
      "source": [
        "ttest_ind(skittles_fac_1, skittles_fac_2)"
      ],
      "execution_count": 55,
      "outputs": [
        {
          "output_type": "execute_result",
          "data": {
            "text/plain": [
              "Ttest_indResult(statistic=-0.300757117886975, pvalue=0.7639152838838391)"
            ]
          },
          "metadata": {
            "tags": []
          },
          "execution_count": 55
        }
      ]
    },
    {
      "cell_type": "code",
      "metadata": {
        "id": "qTGCyiM_AzY5",
        "colab_type": "code",
        "outputId": "aa67300a-33a4-4122-c98d-ac344d6c4ea8",
        "colab": {
          "base_uri": "https://localhost:8080/",
          "height": 35
        }
      },
      "source": [
        "ttest_ind(skittles_fac_1, skittles_fac_2, equal_var=False)"
      ],
      "execution_count": 56,
      "outputs": [
        {
          "output_type": "execute_result",
          "data": {
            "text/plain": [
              "Ttest_indResult(statistic=-0.300757117886975, pvalue=0.7639332000268664)"
            ]
          },
          "metadata": {
            "tags": []
          },
          "execution_count": 56
        }
      ]
    },
    {
      "cell_type": "markdown",
      "metadata": {
        "id": "lKwBxTpZDrpp",
        "colab_type": "text"
      },
      "source": [
        "# T-test doesn't say anything about the difference variances (standard deviations) - only their means"
      ]
    },
    {
      "cell_type": "code",
      "metadata": {
        "id": "p2E-LBwuClI9",
        "colab_type": "code",
        "outputId": "160795fe-3254-4e7d-9b73-66ffcd23747c",
        "colab": {
          "base_uri": "https://localhost:8080/",
          "height": 35
        }
      },
      "source": [
        "skittles_fac_1 = np.random.normal(50, 2, size=5000)\n",
        "skittles_fac_1 = skittles_fac_1.round().astype(int)\n",
        "skittles_fac_1[:10]"
      ],
      "execution_count": 82,
      "outputs": [
        {
          "output_type": "execute_result",
          "data": {
            "text/plain": [
              "array([48, 50, 52, 50, 47, 50, 49, 51, 49, 46])"
            ]
          },
          "metadata": {
            "tags": []
          },
          "execution_count": 82
        }
      ]
    },
    {
      "cell_type": "code",
      "metadata": {
        "id": "VYzqBnO6ClMi",
        "colab_type": "code",
        "outputId": "c9bc8a4e-9c6e-4792-b3a9-df7104e8af10",
        "colab": {
          "base_uri": "https://localhost:8080/",
          "height": 35
        }
      },
      "source": [
        "skittles_fac_2 = np.random.normal(50, 4, size=5000)\n",
        "skittles_fac_2 = skittles_fac_2.round().astype(int)\n",
        "skittles_fac_2[:10]"
      ],
      "execution_count": 83,
      "outputs": [
        {
          "output_type": "execute_result",
          "data": {
            "text/plain": [
              "array([59, 46, 41, 49, 52, 51, 47, 54, 50, 53])"
            ]
          },
          "metadata": {
            "tags": []
          },
          "execution_count": 83
        }
      ]
    },
    {
      "cell_type": "code",
      "metadata": {
        "id": "vysiagYEClGL",
        "colab_type": "code",
        "outputId": "acfc06d5-2570-496d-ce1e-d9ebaa1dfca4",
        "colab": {
          "base_uri": "https://localhost:8080/",
          "height": 269
        }
      },
      "source": [
        "plt.hist(skittles_fac_1, alpha=0.5, color='b', density=True)\n",
        "plt.hist(skittles_fac_2, alpha=0.5, color='r', density=True);"
      ],
      "execution_count": 84,
      "outputs": [
        {
          "output_type": "display_data",
          "data": {
            "image/png": "[encoded data removed]",
            "text/plain": [
              "<Figure size 432x288 with 1 Axes>"
            ]
          },
          "metadata": {
            "tags": []
          }
        }
      ]
    },
    {
      "cell_type": "code",
      "metadata": {
        "id": "zLc33dlADDm6",
        "colab_type": "code",
        "outputId": "d5b55196-fbd2-4468-f7be-2976ecd0130f",
        "colab": {
          "base_uri": "https://localhost:8080/",
          "height": 35
        }
      },
      "source": [
        "ttest_ind(skittles_fac_1, skittles_fac_2)"
      ],
      "execution_count": 89,
      "outputs": [
        {
          "output_type": "execute_result",
          "data": {
            "text/plain": [
              "Ttest_indResult(statistic=-0.8550404939480469, pvalue=0.3925492189581954)"
            ]
          },
          "metadata": {
            "tags": []
          },
          "execution_count": 89
        }
      ]
    },
    {
      "cell_type": "markdown",
      "metadata": {
        "id": "Cwz8s11DHVwD",
        "colab_type": "text"
      },
      "source": [
        "# KS-test"
      ]
    },
    {
      "cell_type": "code",
      "metadata": {
        "id": "Sb0gEEt5ECxe",
        "colab_type": "code",
        "colab": {}
      },
      "source": [
        "# https://en.wikipedia.org/wiki/Kolmogorov%E2%80%93Smirnov_test"
      ],
      "execution_count": 0,
      "outputs": []
    },
    {
      "cell_type": "code",
      "metadata": {
        "id": "i41bctGAETu5",
        "colab_type": "code",
        "colab": {}
      },
      "source": [
        "from scipy.stats import ks_2samp"
      ],
      "execution_count": 0,
      "outputs": []
    },
    {
      "cell_type": "code",
      "metadata": {
        "id": "frrg27nkEC8P",
        "colab_type": "code",
        "outputId": "6104dec0-e376-4b1f-83a9-16a866ca298e",
        "colab": {
          "base_uri": "https://localhost:8080/",
          "height": 35
        }
      },
      "source": [
        "ks_2samp(skittles_fac_1, skittles_fac_2)"
      ],
      "execution_count": 90,
      "outputs": [
        {
          "output_type": "execute_result",
          "data": {
            "text/plain": [
              "Ks_2sampResult(statistic=0.177, pvalue=8.282008012540285e-69)"
            ]
          },
          "metadata": {
            "tags": []
          },
          "execution_count": 90
        }
      ]
    },
    {
      "cell_type": "code",
      "metadata": {
        "id": "hmxc3SwrEeDx",
        "colab_type": "code",
        "outputId": "37e34a9f-16fa-4b9e-c8b4-80016290a70c",
        "colab": {
          "base_uri": "https://localhost:8080/",
          "height": 35
        }
      },
      "source": [
        "skittles_fac_1 = np.random.normal(50, 3, size=1000)\n",
        "skittles_fac_1 = skittles_fac_1.round().astype(int)\n",
        "skittles_fac_1[:10]"
      ],
      "execution_count": 96,
      "outputs": [
        {
          "output_type": "execute_result",
          "data": {
            "text/plain": [
              "array([49, 54, 55, 54, 47, 48, 53, 54, 52, 53])"
            ]
          },
          "metadata": {
            "tags": []
          },
          "execution_count": 96
        }
      ]
    },
    {
      "cell_type": "code",
      "metadata": {
        "id": "352qsA_bETAF",
        "colab_type": "code",
        "outputId": "c5b6ebc7-c677-4707-d9ff-b8310b0092bb",
        "colab": {
          "base_uri": "https://localhost:8080/",
          "height": 35
        }
      },
      "source": [
        "skittles_fac_2 = np.random.normal(50, 3.3, size=1000)\n",
        "skittles_fac_2 = skittles_fac_2.round().astype(int)\n",
        "skittles_fac_2[:10]"
      ],
      "execution_count": 97,
      "outputs": [
        {
          "output_type": "execute_result",
          "data": {
            "text/plain": [
              "array([43, 53, 47, 50, 51, 53, 50, 53, 46, 49])"
            ]
          },
          "metadata": {
            "tags": []
          },
          "execution_count": 97
        }
      ]
    },
    {
      "cell_type": "code",
      "metadata": {
        "id": "jtUpF3Hbplw4",
        "colab_type": "code",
        "colab": {
          "base_uri": "https://localhost:8080/",
          "height": 269
        },
        "outputId": "ce794812-032c-406d-df62-61501b666135"
      },
      "source": [
        "plt.hist(skittles_fac_1, alpha=0.5, color='b', density=True)\n",
        "plt.hist(skittles_fac_2, alpha=0.5, color='r', density=True);"
      ],
      "execution_count": 98,
      "outputs": [
        {
          "output_type": "display_data",
          "data": {
            "image/png": "[encoded data removed]",
            "text/plain": [
              "<Figure size 432x288 with 1 Axes>"
            ]
          },
          "metadata": {
            "tags": []
          }
        }
      ]
    },
    {
      "cell_type": "code",
      "metadata": {
        "id": "MJoRrmXLJdO8",
        "colab_type": "code",
        "colab": {
          "base_uri": "https://localhost:8080/",
          "height": 35
        },
        "outputId": "1be2ab9e-c17f-4b90-86d5-8cfe53c2f3fd"
      },
      "source": [
        "ks_2samp(skittles_fac_1, skittles_fac_2)"
      ],
      "execution_count": 99,
      "outputs": [
        {
          "output_type": "execute_result",
          "data": {
            "text/plain": [
              "Ks_2sampResult(statistic=0.034, pvalue=0.6101664688189142)"
            ]
          },
          "metadata": {
            "tags": []
          },
          "execution_count": 99
        }
      ]
    },
    {
      "cell_type": "code",
      "metadata": {
        "id": "4SPjHmGtKbCV",
        "colab_type": "code",
        "colab": {}
      },
      "source": [
        "def get_two_norm_dist(mus, sigmas, sizes):\n",
        "  dist_list = []\n",
        "  for i in range(2):\n",
        "    dist = np.random.normal(mus[i], sigmas[i], size=sizes[i])\n",
        "    dist = dist.round().astype(int)\n",
        "    dist_list.append(dist)\n",
        "  return dist_list"
      ],
      "execution_count": 0,
      "outputs": []
    },
    {
      "cell_type": "code",
      "metadata": {
        "id": "lMlfYUA8KVI5",
        "colab_type": "code",
        "colab": {}
      },
      "source": [
        "dist_1, dist_2 = get_two_norm_dist(mus=(50, 50), sigmas=(3, 3.3), sizes=(1000, 500))"
      ],
      "execution_count": 0,
      "outputs": []
    },
    {
      "cell_type": "code",
      "metadata": {
        "id": "FdjMw4PqKJiS",
        "colab_type": "code",
        "outputId": "9e962032-2783-44f2-a8a8-ba9e5b204f2e",
        "colab": {
          "base_uri": "https://localhost:8080/",
          "height": 35
        }
      },
      "source": [
        "ttest_ind(dist_1, dist_2)"
      ],
      "execution_count": 6,
      "outputs": [
        {
          "output_type": "execute_result",
          "data": {
            "text/plain": [
              "Ttest_indResult(statistic=-0.0761614143093791, pvalue=0.9393008503688671)"
            ]
          },
          "metadata": {
            "tags": []
          },
          "execution_count": 6
        }
      ]
    },
    {
      "cell_type": "code",
      "metadata": {
        "id": "lE-Sg8TdqgdG",
        "colab_type": "code",
        "colab": {
          "base_uri": "https://localhost:8080/",
          "height": 35
        },
        "outputId": "3605c950-1e5f-4c32-c93c-98a2984be869"
      },
      "source": [
        "ks_2samp(dist_1, dist_2)"
      ],
      "execution_count": 7,
      "outputs": [
        {
          "output_type": "execute_result",
          "data": {
            "text/plain": [
              "Ks_2sampResult(statistic=0.033, pvalue=0.8572478810406149)"
            ]
          },
          "metadata": {
            "tags": []
          },
          "execution_count": 7
        }
      ]
    },
    {
      "cell_type": "markdown",
      "metadata": {
        "id": "0jPwpj8hTeq8",
        "colab_type": "text"
      },
      "source": [
        "## Fair vs unfair dice example"
      ]
    },
    {
      "cell_type": "code",
      "metadata": {
        "id": "OmfaWR5sRsTz",
        "colab_type": "code",
        "colab": {}
      },
      "source": [
        "unfair_die = np.array(150*[1] + 130*[2] + 50*[3] + 50*[4] + 130*[5] + 150*[6])"
      ],
      "execution_count": 0,
      "outputs": []
    },
    {
      "cell_type": "code",
      "metadata": {
        "id": "wCQG-93ISP5f",
        "colab_type": "code",
        "outputId": "9e2a728a-1036-4ad1-c717-67ec5863f1f0",
        "colab": {
          "base_uri": "https://localhost:8080/",
          "height": 35
        }
      },
      "source": [
        "unfair_die.shape"
      ],
      "execution_count": 10,
      "outputs": [
        {
          "output_type": "execute_result",
          "data": {
            "text/plain": [
              "(660,)"
            ]
          },
          "metadata": {
            "tags": []
          },
          "execution_count": 10
        }
      ]
    },
    {
      "cell_type": "code",
      "metadata": {
        "id": "XYxBpCF3SNOM",
        "colab_type": "code",
        "outputId": "83940c79-7b93-4099-89db-238101bcea0e",
        "colab": {
          "base_uri": "https://localhost:8080/",
          "height": 35
        }
      },
      "source": [
        "unfair_die.mean()"
      ],
      "execution_count": 11,
      "outputs": [
        {
          "output_type": "execute_result",
          "data": {
            "text/plain": [
              "3.5"
            ]
          },
          "metadata": {
            "tags": []
          },
          "execution_count": 11
        }
      ]
    },
    {
      "cell_type": "code",
      "metadata": {
        "id": "PmeT6m3jSSEq",
        "colab_type": "code",
        "colab": {}
      },
      "source": [
        "fair_die = np.array(110*[1] + 110*[2] + 110*[3] + 110*[4] + 110*[5] + 110*[6])"
      ],
      "execution_count": 0,
      "outputs": []
    },
    {
      "cell_type": "code",
      "metadata": {
        "id": "hT6fXcx4SWui",
        "colab_type": "code",
        "outputId": "8bba7854-33e3-4176-81ab-61f50188be0a",
        "colab": {
          "base_uri": "https://localhost:8080/",
          "height": 35
        }
      },
      "source": [
        "fair_die.shape"
      ],
      "execution_count": 13,
      "outputs": [
        {
          "output_type": "execute_result",
          "data": {
            "text/plain": [
              "(660,)"
            ]
          },
          "metadata": {
            "tags": []
          },
          "execution_count": 13
        }
      ]
    },
    {
      "cell_type": "code",
      "metadata": {
        "id": "makIrZuhSX3n",
        "colab_type": "code",
        "outputId": "f31da849-1eed-4080-fe6a-b0ff48ca30e0",
        "colab": {
          "base_uri": "https://localhost:8080/",
          "height": 35
        }
      },
      "source": [
        "fair_die.mean()"
      ],
      "execution_count": 14,
      "outputs": [
        {
          "output_type": "execute_result",
          "data": {
            "text/plain": [
              "3.5"
            ]
          },
          "metadata": {
            "tags": []
          },
          "execution_count": 14
        }
      ]
    },
    {
      "cell_type": "code",
      "metadata": {
        "id": "3q57vrf6SaQO",
        "colab_type": "code",
        "outputId": "22548b3e-33bb-4718-89ac-62608ebef6fd",
        "colab": {
          "base_uri": "https://localhost:8080/",
          "height": 35
        }
      },
      "source": [
        "ttest_ind(unfair_die, fair_die)"
      ],
      "execution_count": 15,
      "outputs": [
        {
          "output_type": "execute_result",
          "data": {
            "text/plain": [
              "Ttest_indResult(statistic=0.0, pvalue=1.0)"
            ]
          },
          "metadata": {
            "tags": []
          },
          "execution_count": 15
        }
      ]
    },
    {
      "cell_type": "code",
      "metadata": {
        "id": "8V8RlyN4SaL0",
        "colab_type": "code",
        "outputId": "ff6a189d-a54c-4f84-f49e-36a37b5f5bd1",
        "colab": {
          "base_uri": "https://localhost:8080/",
          "height": 35
        }
      },
      "source": [
        "ks_2samp(unfair_die, fair_die)"
      ],
      "execution_count": 16,
      "outputs": [
        {
          "output_type": "execute_result",
          "data": {
            "text/plain": [
              "Ks_2sampResult(statistic=0.09090909090909091, pvalue=0.008524685542396894)"
            ]
          },
          "metadata": {
            "tags": []
          },
          "execution_count": 16
        }
      ]
    },
    {
      "cell_type": "markdown",
      "metadata": {
        "id": "bvvPV-RJN2vA",
        "colab_type": "text"
      },
      "source": [
        "## Central Limit Theorem\n",
        "\n"
      ]
    },
    {
      "cell_type": "code",
      "metadata": {
        "id": "FBLoOF8qOJeJ",
        "colab_type": "code",
        "outputId": "0df16189-b1d5-4a66-aa10-bc2c0e317523",
        "colab": {
          "base_uri": "https://localhost:8080/",
          "height": 73
        }
      },
      "source": [
        "import numpy as np\n",
        "import matplotlib.pyplot as plt\n",
        "import pandas as pd\n",
        "\n",
        "N = 20000\n",
        "n_size = 30\n",
        "sample_means = []\n",
        "for x in range(N):\n",
        "  coinflips = np.random.binomial(n=1, p=.5, size=n_size)\n",
        "  sample_means.append(coinflips.mean())\n",
        "\n",
        "print(len(sample_means))\n",
        "print(sample_means)"
      ],
      "execution_count": 39,
      "outputs": [
        {
          "output_type": "stream",
          "text": [
            "20000\n",
            "[0.4666666666666667, 0.5, 0.5333333333333333, 0.43333333333333335, 0.5666666666666667, 0.5, 0.4, 0.43333333333333335, 0.4666666666666667, 0.5, 0.43333333333333335, 0.5666666666666667, 0.5666666666666667, 0.43333333333333335, 0.5, 0.6333333333333333, 0.6, 0.43333333333333335, 0.3333333333333333, 0.4, 0.43333333333333335, 0.43333333333333335, 0.5666666666666667, 0.6666666666666666, 0.4, 0.4, 0.6, 0.5, 0.5, 0.4, 0.5, 0.6, 0.43333333333333335, 0.5, 0.7, 0.5, 0.4666666666666667, 0.6, 0.36666666666666664, 0.7, 0.4666666666666667, 0.5666666666666667, 0.5333333333333333, 0.6333333333333333, 0.5333333333333333, 0.4666666666666667, 0.4666666666666667, 0.4, 0.5, 0.6, 0.6, 0.6333333333333333, 0.4666666666666667, 0.5, 0.6333333333333333, 0.43333333333333335, 0.26666666666666666, 0.5333333333333333, 0.4666666666666667, 0.5333333333333333, 0.5, 0.5333333333333333, 0.4, 0.6333333333333333, 0.6, 0.6666666666666666, 0.4, 0.5333333333333333, 0.4666666666666667, 0.6, 0.3333333333333333, 0.5333333333333333, 0.4666666666666667, 0.5666666666666667, 0.4666666666666667, 0.4, 0.5333333333333333, 0.5333333333333333, 0.4666666666666667, 0.5333333333333333, 0.4, 0.5666666666666667, 0.4666666666666667, 0.5666666666666667, 0.5666666666666667, 0.43333333333333335, 0.7, 0.4, 0.43333333333333335, 0.7, 0.5333333333333333, 0.6, 0.6, 0.43333333333333335, 0.5333333333333333, 0.5, 0.4666666666666667, 0.4, 0.6666666666666666, 0.6333333333333333, 0.4666666666666667, 0.4666666666666667, 0.5, 0.5, 0.5666666666666667, 0.3333333333333333, 0.4666666666666667, 0.3333333333333333, 0.5333333333333333, 0.4, 0.5333333333333333, 0.43333333333333335, 0.6, 0.3, 0.5, 0.4, 0.6, 0.43333333333333335, 0.3, 0.6333333333333333, 0.5666666666666667, 0.5333333333333333, 0.43333333333333335, 0.4, 0.4, 0.43333333333333335, 0.6333333333333333, 0.5333333333333333, 0.4666666666666667, 0.43333333333333335, 0.5333333333333333, 0.43333333333333335, 0.5666666666666667, 0.4666666666666667, 0.43333333333333335, 0.5333333333333333, 0.3333333333333333, 0.5333333333333333, 0.5333333333333333, 0.5333333333333333, 0.6, 0.5, 0.7, 0.7666666666666667, 0.4, 0.6, 0.6666666666666666, 0.4, 0.4666666666666667, 0.6, 0.5666666666666667, 0.5666666666666667, 0.36666666666666664, 0.5666666666666667, 0.4666666666666667, 0.43333333333333335, 0.43333333333333335, 0.5, 0.36666666666666664, 0.43333333333333335, 0.36666666666666664, 0.5, 0.5333333333333333, 0.5666666666666667, 0.4, 0.6333333333333333, 0.43333333333333335, 0.6333333333333333, 0.6333333333333333, 0.6666666666666666, 0.5, 0.6, 0.7, 0.5666666666666667, 0.4666666666666667, 0.6, 0.5333333333333333, 0.5333333333333333, 0.5666666666666667, 0.4, 0.36666666666666664, 0.6, 0.6, 0.5333333333333333, 0.5333333333333333, 0.5333333333333333, 0.5333333333333333, 0.6666666666666666, 0.5, 0.5333333333333333, 0.5333333333333333, 0.23333333333333334, 0.5333333333333333, 0.36666666666666664, 0.6333333333333333, 0.6333333333333333, 0.4, 0.5, 0.4, 0.6, 0.4666666666666667, 0.43333333333333335, 0.5333333333333333, 0.7333333333333333, 0.5, 0.43333333333333335, 0.43333333333333335, 0.5333333333333333, 0.6333333333333333, 0.4666666666666667, 0.6333333333333333, 0.5333333333333333, 0.5, 0.36666666666666664, 0.4666666666666667, 0.5, 0.6, 0.36666666666666664, 0.5, 0.5666666666666667, 0.4666666666666667, 0.4666666666666667, 0.7, 0.5, 0.4666666666666667, 0.4666666666666667, 0.6, 0.5666666666666667, 0.6333333333333333, 0.3, 0.4666666666666667, 0.6, 0.5, 0.6333333333333333, 0.4, 0.3333333333333333, 0.43333333333333335, 0.5666666666666667, 0.3, 0.43333333333333335, 0.4666666666666667, 0.43333333333333335, 0.36666666666666664, 0.7333333333333333, 0.4666666666666667, 0.5, 0.5666666666666667, 0.36666666666666664, 0.6333333333333333, 0.6333333333333333, 0.3333333333333333, 0.5666666666666667, 0.43333333333333335, 0.5, 0.6, 0.4666666666666667, 0.5666666666666667, 0.7666666666666667, 0.7, 0.43333333333333335, 0.4666666666666667, 0.4666666666666667, 0.5666666666666667, 0.2, 0.5666666666666667, 0.7, 0.4666666666666667, 0.6333333333333333, 0.5, 0.5666666666666667, 0.5, 0.4666666666666667, 0.5333333333333333, 0.4, 0.36666666666666664, 0.3333333333333333, 0.26666666666666666, 0.5, 0.43333333333333335, 0.43333333333333335, 0.3333333333333333, 0.6, 0.5, 0.36666666666666664, 0.43333333333333335, 0.5666666666666667, 0.43333333333333335, 0.5, 0.5666666666666667, 0.4, 0.5, 0.4, 0.6333333333333333, 0.6, 0.5, 0.5666666666666667, 0.43333333333333335, 0.6333333333333333, 0.26666666666666666, 0.5, 0.36666666666666664, 0.6, 0.36666666666666664, 0.5, 0.43333333333333335, 0.5333333333333333, 0.5333333333333333, 0.6, 0.4666666666666667, 0.5333333333333333, 0.5, 0.5333333333333333, 0.4666666666666667, 0.43333333333333335, 0.4666666666666667, 0.6, 0.5333333333333333, 0.4666666666666667, 0.5, 0.5666666666666667, 0.5333333333333333, 0.6666666666666666, 0.3333333333333333, 0.6, 0.4666666666666667, 0.5333333333333333, 0.6333333333333333, 0.43333333333333335, 0.5666666666666667, 0.5333333333333333, 0.6, 0.5333333333333333, 0.4, 0.4, 0.6666666666666666, 0.4666666666666667, 0.5, 0.43333333333333335, 0.4666666666666667, 0.5666666666666667, 0.6666666666666666, 0.4666666666666667, 0.4666666666666667, 0.5, 0.3333333333333333, 0.5333333333333333, 0.6, 0.6333333333333333, 0.7, 0.6333333333333333, 0.6, 0.5333333333333333, 0.4666666666666667, 0.6, 0.43333333333333335, 0.6, 0.7, 0.43333333333333335, 0.43333333333333335, 0.36666666666666664, 0.43333333333333335, 0.5333333333333333, 0.43333333333333335, 0.5, 0.5666666666666667, 0.6, 0.6, 0.5333333333333333, 0.4, 0.36666666666666664, 0.6, 0.5666666666666667, 0.3333333333333333, 0.5666666666666667, 0.6, 0.5666666666666667, 0.4, 0.4666666666666667, 0.5, 0.5, 0.43333333333333335, 0.4666666666666667, 0.5, 0.6, 0.5666666666666667, 0.5666666666666667, 0.5333333333333333, 0.6333333333333333, 0.5, 0.5, 0.23333333333333334, 0.36666666666666664, 0.36666666666666664, 0.36666666666666664, 0.5333333333333333, 0.43333333333333335, 0.5333333333333333, 0.4666666666666667, 0.43333333333333335, 0.6333333333333333, 0.5666666666666667, 0.43333333333333335, 0.4666666666666667, 0.43333333333333335, 0.43333333333333335, 0.4666666666666667, 0.5, 0.43333333333333335, 0.5666666666666667, 0.5, 0.4666666666666667, 0.6333333333333333, 0.36666666666666664, 0.7, 0.6, 0.7, 0.5333333333333333, 0.43333333333333335, 0.5333333333333333, 0.5, 0.43333333333333335, 0.5666666666666667, 0.6, 0.26666666666666666, 0.5, 0.6, 0.5666666666666667, 0.6, 0.5, 0.5666666666666667, 0.6, 0.5333333333333333, 0.43333333333333335, 0.6333333333333333, 0.5666666666666667, 0.5, 0.4, 0.5, 0.5666666666666667, 0.4666666666666667, 0.5333333333333333, 0.5, 0.5333333333333333, 0.43333333333333335, 0.6, 0.5333333333333333, 0.5, 0.6666666666666666, 0.6, 0.5666666666666667, 0.6666666666666666, 0.5, 0.6666666666666666, 0.6666666666666666, 0.43333333333333335, 0.43333333333333335, 0.5, 0.43333333333333335, 0.5666666666666667, 0.5333333333333333, 0.5333333333333333, 0.6666666666666666, 0.7, 0.5, 0.43333333333333335, 0.5333333333333333, 0.5, 0.4666666666666667, 0.5, 0.4666666666666667, 0.4666666666666667, 0.6, 0.5333333333333333, 0.5666666666666667, 0.36666666666666664, 0.4666666666666667, 0.6666666666666666, 0.36666666666666664, 0.5666666666666667, 0.5666666666666667, 0.5666666666666667, 0.5666666666666667, 0.4, 0.43333333333333335, 0.36666666666666664, 0.4666666666666667, 0.5666666666666667, 0.5666666666666667, 0.36666666666666664, 0.36666666666666664, 0.6, 0.5, 0.43333333333333335, 0.6, 0.6, 0.6333333333333333, 0.6333333333333333, 0.6333333333333333, 0.4666666666666667, 0.4666666666666667, 0.6333333333333333, 0.4, 0.6333333333333333, 0.4666666666666667, 0.7, 0.6333333333333333, 0.3, 0.5, 0.5666666666666667, 0.43333333333333335, 0.5, 0.4, 0.3333333333333333, 0.5333333333333333, 0.43333333333333335, 0.4666666666666667, 0.4666666666666667, 0.4666666666666667, 0.4, 0.5333333333333333, 0.6666666666666666, 0.3, 0.5666666666666667, 0.5, 0.5333333333333333, 0.5333333333333333, 0.36666666666666664, 0.4, 0.36666666666666664, 0.5333333333333333, 0.6333333333333333, 0.6666666666666666, 0.5666666666666667, 0.6333333333333333, 0.5666666666666667, 0.5333333333333333, 0.4666666666666667, 0.5, 0.43333333333333335, 0.4666666666666667, 0.36666666666666664, 0.5, 0.5333333333333333, 0.6333333333333333, 0.6, 0.43333333333333335, 0.5666666666666667, 0.43333333333333335, 0.4, 0.5666666666666667, 0.5, 0.5333333333333333, 0.4666666666666667, 0.7333333333333333, 0.3333333333333333, 0.6, 0.4666666666666667, 0.6333333333333333, 0.5, 0.5666666666666667, 0.6333333333333333, 0.43333333333333335, 0.43333333333333335, 0.43333333333333335, 0.43333333333333335, 0.4, 0.36666666666666664, 0.43333333333333335, 0.5333333333333333, 0.5, 0.5, 0.5333333333333333, 0.6, 0.6, 0.5, 0.4666666666666667, 0.4666666666666667, 0.5, 0.3333333333333333, 0.5666666666666667, 0.23333333333333334, 0.4, 0.4666666666666667, 0.3, 0.4666666666666667, 0.4666666666666667, 0.43333333333333335, 0.43333333333333335, 0.43333333333333335, 0.5333333333333333, 0.36666666666666664, 0.43333333333333335, 0.6, 0.3333333333333333, 0.43333333333333335, 0.5, 0.4666666666666667, 0.43333333333333335, 0.6333333333333333, 0.5666666666666667, 0.5, 0.43333333333333335, 0.5333333333333333, 0.36666666666666664, 0.6333333333333333, 0.5, 0.5, 0.4, 0.43333333333333335, 0.4666666666666667, 0.3333333333333333, 0.4666666666666667, 0.6, 0.5333333333333333, 0.5666666666666667, 0.43333333333333335, 0.6, 0.5666666666666667, 0.3, 0.6333333333333333, 0.43333333333333335, 0.5, 0.4, 0.6666666666666666, 0.5333333333333333, 0.5666666666666667, 0.4666666666666667, 0.6, 0.5666666666666667, 0.7333333333333333, 0.5, 0.43333333333333335, 0.5, 0.43333333333333335, 0.5666666666666667, 0.4, 0.6666666666666666, 0.5333333333333333, 0.7, 0.5666666666666667, 0.5333333333333333, 0.4666666666666667, 0.5, 0.6666666666666666, 0.4666666666666667, 0.4, 0.6, 0.5666666666666667, 0.5666666666666667, 0.5, 0.5333333333333333, 0.4666666666666667, 0.5666666666666667, 0.6, 0.5333333333333333, 0.6333333333333333, 0.6666666666666666, 0.5333333333333333, 0.6, 0.4666666666666667, 0.4666666666666667, 0.4666666666666667, 0.4, 0.5, 0.6, 0.5333333333333333, 0.5, 0.4, 0.5, 0.4, 0.4666666666666667, 0.6, 0.5666666666666667, 0.5333333333333333, 0.5666666666666667, 0.3, 0.5, 0.5, 0.5333333333333333, 0.3333333333333333, 0.5666666666666667, 0.5, 0.5666666666666667, 0.6333333333333333, 0.5333333333333333, 0.7, 0.5333333333333333, 0.43333333333333335, 0.5333333333333333, 0.5, 0.5, 0.43333333333333335, 0.36666666666666664, 0.4666666666666667, 0.6666666666666666, 0.4, 0.5333333333333333, 0.5333333333333333, 0.6333333333333333, 0.5666666666666667, 0.4, 0.4, 0.4666666666666667, 0.6333333333333333, 0.4, 0.6666666666666666, 0.5333333333333333, 0.3333333333333333, 0.4, 0.6333333333333333, 0.4666666666666667, 0.5, 0.5666666666666667, 0.6666666666666666, 0.5, 0.6, 0.3, 0.36666666666666664, 0.43333333333333335, 0.6333333333333333, 0.5, 0.4666666666666667, 0.43333333333333335, 0.4, 0.5333333333333333, 0.43333333333333335, 0.5, 0.43333333333333335, 0.5666666666666667, 0.5, 0.5, 0.3333333333333333, 0.3333333333333333, 0.5, 0.4, 0.5, 0.3, 0.5666666666666667, 0.6, 0.4666666666666667, 0.5666666666666667, 0.4, 0.6, 0.36666666666666664, 0.4666666666666667, 0.5, 0.5666666666666667, 0.3333333333333333, 0.4, 0.5333333333333333, 0.6666666666666666, 0.4, 0.4, 0.36666666666666664, 0.6333333333333333, 0.43333333333333335, 0.43333333333333335, 0.5666666666666667, 0.36666666666666664, 0.4, 0.4666666666666667, 0.6333333333333333, 0.5333333333333333, 0.5, 0.43333333333333335, 0.4, 0.43333333333333335, 0.6333333333333333, 0.4, 0.7, 0.5333333333333333, 0.5666666666666667, 0.5333333333333333, 0.5, 0.5, 0.5, 0.5666666666666667, 0.6, 0.6, 0.5, 0.5, 0.6333333333333333, 0.26666666666666666, 0.5, 0.5333333333333333, 0.5333333333333333, 0.43333333333333335, 0.3, 0.36666666666666664, 0.4, 0.4666666666666667, 0.6, 0.5666666666666667, 0.4, 0.5, 0.43333333333333335, 0.3333333333333333, 0.43333333333333335, 0.5333333333333333, 0.6333333333333333, 0.5, 0.5666666666666667, 0.43333333333333335, 0.4666666666666667, 0.4666666666666667, 0.4, 0.4, 0.4666666666666667, 0.5, 0.5333333333333333, 0.4666666666666667, 0.4666666666666667, 0.5, 0.43333333333333335, 0.4666666666666667, 0.5, 0.43333333333333335, 0.4666666666666667, 0.6, 0.4666666666666667, 0.5333333333333333, 0.5333333333333333, 0.7, 0.43333333333333335, 0.4666666666666667, 0.5, 0.43333333333333335, 0.4666666666666667, 0.6666666666666666, 0.5333333333333333, 0.7, 0.4666666666666667, 0.3, 0.4, 0.4666666666666667, 0.5666666666666667, 0.3333333333333333, 0.5, 0.6, 0.6, 0.4, 0.5, 0.5333333333333333, 0.6, 0.5333333333333333, 0.43333333333333335, 0.6, 0.5333333333333333, 0.4, 0.43333333333333335, 0.36666666666666664, 0.4, 0.4666666666666667, 0.5, 0.3333333333333333, 0.43333333333333335, 0.6666666666666666, 0.5333333333333333, 0.4, 0.36666666666666664, 0.6333333333333333, 0.5333333333333333, 0.43333333333333335, 0.5, 0.5666666666666667, 0.43333333333333335, 0.4666666666666667, 0.4666666666666667, 0.26666666666666666, 0.6333333333333333, 0.4666666666666667, 0.36666666666666664, 0.4, 0.4666666666666667, 0.5333333333333333, 0.5, 0.5, 0.4666666666666667, 0.4, 0.6333333333333333, 0.43333333333333335, 0.6666666666666666, 0.4666666666666667, 0.5, 0.4666666666666667, 0.5, 0.5666666666666667, 0.6333333333333333, 0.5666666666666667, 0.6, 0.43333333333333335, 0.4, 0.5, 0.6, 0.43333333333333335, 0.5666666666666667, 0.23333333333333334, 0.5, 0.5, 0.7, 0.43333333333333335, 0.43333333333333335, 0.5333333333333333, 0.3, 0.6, 0.4, 0.5, 0.4666666666666667, 0.5666666666666667, 0.5666666666666667, 0.43333333333333335, 0.7666666666666667, 0.43333333333333335, 0.5, 0.6333333333333333, 0.4, 0.5, 0.7, 0.43333333333333335, 0.6333333333333333, 0.5, 0.4, 0.5, 0.4666666666666667, 0.5, 0.5333333333333333, 0.4, 0.5333333333333333, 0.6, 0.5666666666666667, 0.6, 0.4, 0.6, 0.4, 0.6333333333333333, 0.4, 0.4666666666666667, 0.5666666666666667, 0.6, 0.43333333333333335, 0.5, 0.5333333333333333, 0.6333333333333333, 0.7333333333333333, 0.4, 0.5333333333333333, 0.4666666666666667, 0.4, 0.43333333333333335, 0.36666666666666664, 0.5666666666666667, 0.6333333333333333, 0.6, 0.5333333333333333, 0.4, 0.43333333333333335, 0.6333333333333333, 0.5333333333333333, 0.5666666666666667, 0.43333333333333335, 0.5, 0.5, 0.6, 0.6666666666666666, 0.6, 0.5, 0.5666666666666667, 0.43333333333333335, 0.43333333333333335, 0.4666666666666667, 0.6, 0.43333333333333335, 0.5666666666666667, 0.3, 0.7333333333333333, 0.6333333333333333, 0.43333333333333335, 0.4666666666666667, 0.43333333333333335, 0.6333333333333333, 0.3333333333333333, 0.6666666666666666, 0.5666666666666667, 0.5, 0.36666666666666664, 0.4666666666666667, 0.6333333333333333, 0.23333333333333334, 0.3, 0.5666666666666667, 0.5333333333333333, 0.4, 0.4666666666666667, 0.5, 0.6, 0.5666666666666667, 0.5666666666666667, 0.5333333333333333, 0.4666666666666667, 0.5333333333333333, 0.36666666666666664, 0.4666666666666667, 0.5, 0.4666666666666667, 0.5333333333333333, 0.5333333333333333, 0.6333333333333333, 0.6, 0.6, 0.4, 0.5, 0.5, 0.5666666666666667, 0.5666666666666667, 0.5666666666666667, 0.4666666666666667, 0.6, 0.5666666666666667, 0.5333333333333333, 0.4666666666666667, 0.6, 0.5, 0.6333333333333333, 0.43333333333333335, 0.4, 0.6666666666666666, 0.3333333333333333, 0.43333333333333335, 0.6, 0.4, 0.3333333333333333, 0.3333333333333333, 0.5333333333333333, 0.5333333333333333, 0.5, 0.4, 0.5333333333333333, 0.4, 0.6, 0.5, 0.5666666666666667, 0.5, 0.5, 0.6666666666666666, 0.3, 0.43333333333333335, 0.5333333333333333, 0.5, 0.5, 0.7, 0.5333333333333333, 0.6333333333333333, 0.6, 0.5333333333333333, 0.5666666666666667, 0.5666666666666667, 0.43333333333333335, 0.6, 0.4666666666666667, 0.5, 0.6, 0.5, 0.5, 0.6, 0.5333333333333333, 0.6333333333333333, 0.5, 0.4666666666666667, 0.4666666666666667, 0.5666666666666667, 0.4, 0.4, 0.5666666666666667, 0.5, 0.6333333333333333, 0.5, 0.5333333333333333, 0.5333333333333333, 0.36666666666666664, 0.5, 0.5, 0.4666666666666667, 0.5, 0.4666666666666667, 0.5, 0.5333333333333333, 0.4666666666666667, 0.5, 0.6333333333333333, 0.4666666666666667, 0.5, 0.36666666666666664, 0.5666666666666667, 0.5333333333333333, 0.5333333333333333, 0.4, 0.6333333333333333, 0.6, 0.4666666666666667, 0.5333333333333333, 0.5, 0.36666666666666664, 0.3333333333333333, 0.4, 0.5333333333333333, 0.5666666666666667, 0.43333333333333335, 0.5, 0.43333333333333335, 0.4666666666666667, 0.5, 0.5333333333333333, 0.4666666666666667, 0.6, 0.5333333333333333, 0.5666666666666667, 0.4, 0.4666666666666667, 0.6, 0.5333333333333333, 0.36666666666666664, 0.36666666666666664, 0.5, 0.43333333333333335, 0.6, 0.4666666666666667, 0.5, 0.43333333333333335, 0.43333333333333335, 0.4666666666666667, 0.4666666666666667, 0.5333333333333333, 0.5333333333333333, 0.5333333333333333, 0.4, 0.4666666666666667, 0.5666666666666667, 0.4, 0.36666666666666664, 0.5333333333333333, 0.6333333333333333, 0.5, 0.6, 0.6, 0.6666666666666666, 0.43333333333333335, 0.6, 0.5333333333333333, 0.6, 0.5333333333333333, 0.5666666666666667, 0.5, 0.4, 0.43333333333333335, 0.4, 0.5333333333333333, 0.4, 0.6, 0.5, 0.5333333333333333, 0.5, 0.6333333333333333, 0.5, 0.5333333333333333, 0.5333333333333333, 0.5, 0.4666666666666667, 0.6666666666666666, 0.7, 0.7, 0.43333333333333335, 0.5666666666666667, 0.4666666666666667, 0.36666666666666664, 0.43333333333333335, 0.5, 0.36666666666666664, 0.5, 0.5666666666666667, 0.43333333333333335, 0.7333333333333333, 0.4666666666666667, 0.4666666666666667, 0.3333333333333333, 0.5, 0.4, 0.6, 0.2, 0.3333333333333333, 0.43333333333333335, 0.5333333333333333, 0.3, 0.43333333333333335, 0.5333333333333333, 0.5333333333333333, 0.4666666666666667, 0.5, 0.43333333333333335, 0.43333333333333335, 0.6, 0.4666666666666667, 0.4666666666666667, 0.43333333333333335, 0.4, 0.4666666666666667, 0.5, 0.36666666666666664, 0.4, 0.5666666666666667, 0.43333333333333335, 0.5666666666666667, 0.6333333333333333, 0.5666666666666667, 0.5, 0.43333333333333335, 0.26666666666666666, 0.36666666666666664, 0.6, 0.43333333333333335, 0.4, 0.4666666666666667, 0.6333333333333333, 0.5, 0.43333333333333335, 0.5333333333333333, 0.5, 0.4666666666666667, 0.5666666666666667, 0.6333333333333333, 0.4, 0.5333333333333333, 0.5666666666666667, 0.5333333333333333, 0.6333333333333333, 0.5333333333333333, 0.5333333333333333, 0.36666666666666664, 0.4, 0.43333333333333335, 0.5666666666666667, 0.5666666666666667, 0.6666666666666666, 0.6, 0.6, 0.5333333333333333, 0.6, 0.43333333333333335, 0.4, 0.5, 0.43333333333333335, 0.5666666666666667, 0.5333333333333333, 0.36666666666666664, 0.4666666666666667, 0.6333333333333333, 0.5666666666666667, 0.5, 0.6333333333333333, 0.5333333333333333, 0.43333333333333335, 0.5333333333333333, 0.5, 0.5666666666666667, 0.4666666666666667, 0.43333333333333335, 0.5, 0.5666666666666667, 0.5666666666666667, 0.5666666666666667, 0.36666666666666664, 0.4, 0.7666666666666667, 0.6333333333333333, 0.5333333333333333, 0.4666666666666667, 0.36666666666666664, 0.5666666666666667, 0.4, 0.43333333333333335, 0.43333333333333335, 0.6333333333333333, 0.36666666666666664, 0.5333333333333333, 0.4666666666666667, 0.6, 0.4, 0.5666666666666667, 0.43333333333333335, 0.5333333333333333, 0.5666666666666667, 0.4666666666666667, 0.5333333333333333, 0.43333333333333335, 0.5333333333333333, 0.4, 0.4, 0.5, 0.4666666666666667, 0.36666666666666664, 0.5, 0.5333333333333333, 0.4666666666666667, 0.6, 0.5, 0.5666666666666667, 0.4666666666666667, 0.6333333333333333, 0.26666666666666666, 0.5666666666666667, 0.4666666666666667, 0.3333333333333333, 0.6333333333333333, 0.4, 0.5666666666666667, 0.5, 0.43333333333333335, 0.43333333333333335, 0.4, 0.4666666666666667, 0.5333333333333333, 0.3333333333333333, 0.5, 0.6, 0.5, 0.6, 0.5, 0.5666666666666667, 0.4666666666666667, 0.4666666666666667, 0.4, 0.6333333333333333, 0.4, 0.5666666666666667, 0.4666666666666667, 0.36666666666666664, 0.43333333333333335, 0.43333333333333335, 0.5, 0.5, 0.23333333333333334, 0.5333333333333333, 0.4666666666666667, 0.4666666666666667, 0.6, 0.4666666666666667, 0.4, 0.5333333333333333, 0.4666666666666667, 0.5666666666666667, 0.5666666666666667, 0.5, 0.36666666666666664, 0.5, 0.5333333333333333, 0.36666666666666664, 0.4666666666666667, 0.5666666666666667, 0.4666666666666667, 0.43333333333333335, 0.4666666666666667, 0.5333333333333333, 0.43333333333333335, 0.6333333333333333, 0.5, 0.4666666666666667, 0.36666666666666664, 0.5666666666666667, 0.36666666666666664, 0.43333333333333335, 0.36666666666666664, 0.6333333333333333, 0.36666666666666664, 0.4666666666666667, 0.5, 0.4, 0.5333333333333333, 0.6333333333333333, 0.5666666666666667, 0.6666666666666666, 0.4666666666666667, 0.5666666666666667, 0.5333333333333333, 0.5333333333333333, 0.5666666666666667, 0.5, 0.4, 0.26666666666666666, 0.5, 0.4666666666666667, 0.36666666666666664, 0.6333333333333333, 0.5333333333333333, 0.4666666666666667, 0.5, 0.5333333333333333, 0.6666666666666666, 0.6333333333333333, 0.3333333333333333, 0.3333333333333333, 0.4666666666666667, 0.5, 0.5333333333333333, 0.6, 0.6333333333333333, 0.4666666666666667, 0.4666666666666667, 0.4, 0.5666666666666667, 0.43333333333333335, 0.5, 0.4, 0.43333333333333335, 0.43333333333333335, 0.5333333333333333, 0.7, 0.4666666666666667, 0.6333333333333333, 0.5333333333333333, 0.3333333333333333, 0.5666666666666667, 0.6666666666666666, 0.5333333333333333, 0.5333333333333333, 0.43333333333333335, 0.6666666666666666, 0.4666666666666667, 0.5, 0.5, 0.5, 0.4666666666666667, 0.3, 0.4666666666666667, 0.4, 0.36666666666666664, 0.5333333333333333, 0.5333333333333333, 0.36666666666666664, 0.43333333333333335, 0.36666666666666664, 0.6, 0.4666666666666667, 0.5666666666666667, 0.4, 0.6, 0.43333333333333335, 0.43333333333333335, 0.3, 0.6, 0.4666666666666667, 0.4666666666666667, 0.5333333333333333, 0.6333333333333333, 0.5666666666666667, 0.5, 0.43333333333333335, 0.4666666666666667, 0.5666666666666667, 0.4, 0.5, 0.6666666666666666, 0.43333333333333335, 0.43333333333333335, 0.4666666666666667, 0.4666666666666667, 0.4666666666666667, 0.36666666666666664, 0.5333333333333333, 0.4666666666666667, 0.7, 0.4666666666666667, 0.5333333333333333, 0.4666666666666667, 0.5333333333333333, 0.5333333333333333, 0.7, 0.6, 0.5, 0.4666666666666667, 0.43333333333333335, 0.6333333333333333, 0.5, 0.5666666666666667, 0.5, 0.5666666666666667, 0.6, 0.5666666666666667, 0.4666666666666667, 0.5, 0.5, 0.6666666666666666, 0.43333333333333335, 0.43333333333333335, 0.3333333333333333, 0.4666666666666667, 0.5, 0.43333333333333335, 0.3, 0.36666666666666664, 0.5666666666666667, 0.5, 0.5, 0.5333333333333333, 0.3, 0.5333333333333333, 0.3333333333333333, 0.5, 0.43333333333333335, 0.36666666666666664, 0.4666666666666667, 0.5, 0.5333333333333333, 0.4666666666666667, 0.5333333333333333, 0.4666666666666667, 0.5333333333333333, 0.5, 0.6, 0.4, 0.5333333333333333, 0.36666666666666664, 0.4666666666666667, 0.36666666666666664, 0.36666666666666664, 0.43333333333333335, 0.43333333333333335, 0.5666666666666667, 0.36666666666666664, 0.3333333333333333, 0.6333333333333333, 0.43333333333333335, 0.5, 0.4666666666666667, 0.43333333333333335, 0.43333333333333335, 0.5, 0.5333333333333333, 0.4, 0.5333333333333333, 0.6333333333333333, 0.5333333333333333, 0.4, 0.5666666666666667, 0.6, 0.5333333333333333, 0.5, 0.5, 0.5333333333333333, 0.4666666666666667, 0.5, 0.6, 0.4666666666666667, 0.6, 0.5333333333333333, 0.6, 0.4666666666666667, 0.5333333333333333, 0.5, 0.4666666666666667, 0.3333333333333333, 0.4666666666666667, 0.5333333333333333, 0.5, 0.3333333333333333, 0.5, 0.6, 0.6, 0.4, 0.43333333333333335, 0.5, 0.6, 0.36666666666666664, 0.3333333333333333, 0.5666666666666667, 0.5666666666666667, 0.4666666666666667, 0.43333333333333335, 0.5333333333333333, 0.36666666666666664, 0.5666666666666667, 0.5333333333333333, 0.3333333333333333, 0.4666666666666667, 0.6, 0.5666666666666667, 0.4666666666666667, 0.5, 0.4666666666666667, 0.5666666666666667, 0.3, 0.5333333333333333, 0.5333333333333333, 0.4666666666666667, 0.5333333333333333, 0.6666666666666666, 0.5, 0.43333333333333335, 0.5, 0.6, 0.5, 0.3333333333333333, 0.3, 0.4666666666666667, 0.5666666666666667, 0.4666666666666667, 0.6333333333333333, 0.5333333333333333, 0.5333333333333333, 0.5333333333333333, 0.36666666666666664, 0.43333333333333335, 0.6333333333333333, 0.4, 0.36666666666666664, 0.4666666666666667, 0.5666666666666667, 0.43333333333333335, 0.43333333333333335, 0.5666666666666667, 0.5666666666666667, 0.5, 0.5333333333333333, 0.4666666666666667, 0.4666666666666667, 0.43333333333333335, 0.4, 0.6666666666666666, 0.5, 0.4666666666666667, 0.5333333333333333, 0.5333333333333333, 0.6, 0.5, 0.5, 0.7333333333333333, 0.7, 0.36666666666666664, 0.5, 0.36666666666666664, 0.4666666666666667, 0.5, 0.6333333333333333, 0.5666666666666667, 0.43333333333333335, 0.5333333333333333, 0.4, 0.4666666666666667, 0.43333333333333335, 0.5333333333333333, 0.36666666666666664, 0.4, 0.6, 0.43333333333333335, 0.5666666666666667, 0.4, 0.36666666666666664, 0.5333333333333333, 0.26666666666666666, 0.5333333333333333, 0.5666666666666667, 0.4, 0.4666666666666667, 0.4, 0.6, 0.5333333333333333, 0.5666666666666667, 0.4666666666666667, 0.43333333333333335, 0.5, 0.4666666666666667, 0.4666666666666667, 0.5333333333333333, 0.6, 0.5333333333333333, 0.4666666666666667, 0.7333333333333333, 0.5333333333333333, 0.3333333333333333, 0.5333333333333333, 0.6333333333333333, 0.5333333333333333, 0.7, 0.5333333333333333, 0.6333333333333333, 0.36666666666666664, 0.5333333333333333, 0.36666666666666664, 0.4, 0.36666666666666664, 0.5, 0.7, 0.6333333333333333, 0.43333333333333335, 0.36666666666666664, 0.43333333333333335, 0.5666666666666667, 0.5, 0.5666666666666667, 0.4666666666666667, 0.3333333333333333, 0.5, 0.5, 0.5333333333333333, 0.4666666666666667, 0.5, 0.5666666666666667, 0.6333333333333333, 0.36666666666666664, 0.6666666666666666, 0.5, 0.6, 0.43333333333333335, 0.5, 0.4666666666666667, 0.4666666666666667, 0.5666666666666667, 0.7, 0.4666666666666667, 0.5, 0.5666666666666667, 0.3333333333333333, 0.4, 0.6, 0.43333333333333335, 0.4, 0.36666666666666664, 0.6, 0.5, 0.5333333333333333, 0.5666666666666667, 0.36666666666666664, 0.5333333333333333, 0.5666666666666667, 0.43333333333333335, 0.5666666666666667, 0.36666666666666664, 0.36666666666666664, 0.4666666666666667, 0.5, 0.4666666666666667, 0.6, 0.5, 0.43333333333333335, 0.6333333333333333, 0.5666666666666667, 0.5333333333333333, 0.43333333333333335, 0.5333333333333333, 0.5666666666666667, 0.4666666666666667, 0.5666666666666667, 0.5, 0.5333333333333333, 0.4, 0.7, 0.6666666666666666, 0.43333333333333335, 0.5, 0.43333333333333335, 0.4666666666666667, 0.5, 0.6, 0.5333333333333333, 0.43333333333333335, 0.5333333333333333, 0.6333333333333333, 0.36666666666666664, 0.7, 0.3333333333333333, 0.43333333333333335, 0.5333333333333333, 0.43333333333333335, 0.5333333333333333, 0.5666666666666667, 0.4, 0.6333333333333333, 0.6666666666666666, 0.43333333333333335, 0.5666666666666667, 0.5333333333333333, 0.43333333333333335, 0.5666666666666667, 0.43333333333333335, 0.4, 0.5, 0.36666666666666664, 0.4666666666666667, 0.4, 0.4666666666666667, 0.4666666666666667, 0.3, 0.5333333333333333, 0.43333333333333335, 0.4, 0.4666666666666667, 0.43333333333333335, 0.5333333333333333, 0.36666666666666664, 0.5333333333333333, 0.6333333333333333, 0.43333333333333335, 0.5333333333333333, 0.4666666666666667, 0.4666666666666667, 0.6, 0.4666666666666667, 0.43333333333333335, 0.4666666666666667, 0.5, 0.4666666666666667, 0.5333333333333333, 0.5, 0.5333333333333333, 0.6666666666666666, 0.5, 0.4666666666666667, 0.4, 0.5666666666666667, 0.6, 0.5, 0.43333333333333335, 0.7333333333333333, 0.5333333333333333, 0.5666666666666667, 0.3333333333333333, 0.6333333333333333, 0.7666666666666667, 0.5, 0.5666666666666667, 0.5, 0.43333333333333335, 0.43333333333333335, 0.6333333333333333, 0.5, 0.4, 0.6333333333333333, 0.4, 0.5333333333333333, 0.43333333333333335, 0.5333333333333333, 0.5333333333333333, 0.7666666666666667, 0.4, 0.5, 0.4, 0.6, 0.6333333333333333, 0.6333333333333333, 0.4666666666666667, 0.5333333333333333, 0.5666666666666667, 0.5333333333333333, 0.4, 0.6666666666666666, 0.36666666666666664, 0.43333333333333335, 0.6666666666666666, 0.4666666666666667, 0.5666666666666667, 0.36666666666666664, 0.36666666666666664, 0.43333333333333335, 0.5, 0.43333333333333335, 0.6, 0.5, 0.4, 0.23333333333333334, 0.7, 0.6, 0.7333333333333333, 0.43333333333333335, 0.6, 0.4, 0.4666666666666667, 0.5666666666666667, 0.4666666666666667, 0.5, 0.5, 0.5, 0.6666666666666666, 0.5666666666666667, 0.5, 0.5666666666666667, 0.6333333333333333, 0.36666666666666664, 0.6333333333333333, 0.3333333333333333, 0.4, 0.5666666666666667, 0.4, 0.3333333333333333, 0.5666666666666667, 0.5333333333333333, 0.5, 0.43333333333333335, 0.43333333333333335, 0.5, 0.4666666666666667, 0.5666666666666667, 0.5666666666666667, 0.5, 0.4666666666666667, 0.4666666666666667, 0.43333333333333335, 0.4666666666666667, 0.5, 0.5333333333333333, 0.6, 0.43333333333333335, 0.5666666666666667, 0.5666666666666667, 0.43333333333333335, 0.5333333333333333, 0.4666666666666667, 0.4666666666666667, 0.5, 0.5333333333333333, 0.6333333333333333, 0.36666666666666664, 0.3, 0.4666666666666667, 0.4666666666666667, 0.5, 0.4666666666666667, 0.5, 0.5333333333333333, 0.4, 0.6333333333333333, 0.5333333333333333, 0.5, 0.5, 0.5, 0.5, 0.4, 0.5, 0.4666666666666667, 0.5, 0.5, 0.5666666666666667, 0.5666666666666667, 0.5, 0.5333333333333333, 0.5333333333333333, 0.5333333333333333, 0.5333333333333333, 0.5, 0.5, 0.43333333333333335, 0.36666666666666664, 0.5, 0.43333333333333335, 0.43333333333333335, 0.3, 0.36666666666666664, 0.5666666666666667, 0.3333333333333333, 0.5333333333333333, 0.43333333333333335, 0.43333333333333335, 0.43333333333333335, 0.6, 0.7333333333333333, 0.4666666666666667, 0.5333333333333333, 0.4, 0.6333333333333333, 0.5, 0.4, 0.5666666666666667, 0.4666666666666667, 0.5666666666666667, 0.43333333333333335, 0.43333333333333335, 0.5, 0.4666666666666667, 0.6333333333333333, 0.4666666666666667, 0.5666666666666667, 0.26666666666666666, 0.5666666666666667, 0.4666666666666667, 0.7333333333333333, 0.4, 0.4666666666666667, 0.6333333333333333, 0.43333333333333335, 0.5333333333333333, 0.5, 0.36666666666666664, 0.5, 0.6666666666666666, 0.6666666666666666, 0.4666666666666667, 0.5333333333333333, 0.5, 0.43333333333333335, 0.5333333333333333, 0.6, 0.5666666666666667, 0.5333333333333333, 0.4, 0.7333333333333333, 0.5333333333333333, 0.4, 0.7333333333333333, 0.5, 0.3333333333333333, 0.5666666666666667, 0.6, 0.4666666666666667, 0.7, 0.36666666666666664, 0.6666666666666666, 0.4, 0.4666666666666667, 0.5, 0.43333333333333335, 0.6666666666666666, 0.7, 0.5, 0.36666666666666664, 0.4, 0.43333333333333335, 0.6333333333333333, 0.6, 0.5666666666666667, 0.43333333333333335, 0.43333333333333335, 0.43333333333333335, 0.5666666666666667, 0.6666666666666666, 0.5333333333333333, 0.6, 0.4666666666666667, 0.6333333333333333, 0.4, 0.4, 0.5, 0.36666666666666664, 0.5333333333333333, 0.3333333333333333, 0.7, 0.5, 0.5333333333333333, 0.5333333333333333, 0.5, 0.4, 0.6333333333333333, 0.5, 0.43333333333333335, 0.5, 0.5333333333333333, 0.3333333333333333, 0.5333333333333333, 0.4666666666666667, 0.5, 0.6333333333333333, 0.5333333333333333, 0.6, 0.4666666666666667, 0.7, 0.3333333333333333, 0.5, 0.43333333333333335, 0.5333333333333333, 0.4666666666666667, 0.5333333333333333, 0.5, 0.4666666666666667, 0.5, 0.36666666666666664, 0.4666666666666667, 0.5, 0.6666666666666666, 0.4, 0.4666666666666667, 0.3333333333333333, 0.5333333333333333, 0.43333333333333335, 0.43333333333333335, 0.5, 0.6333333333333333, 0.4666666666666667, 0.43333333333333335, 0.6, 0.43333333333333335, 0.5, 0.36666666666666664, 0.43333333333333335, 0.5666666666666667, 0.7333333333333333, 0.7333333333333333, 0.4666666666666667, 0.6333333333333333, 0.6, 0.43333333333333335, 0.4666666666666667, 0.4666666666666667, 0.5333333333333333, 0.3333333333333333, 0.6666666666666666, 0.4666666666666667, 0.5333333333333333, 0.5333333333333333, 0.4666666666666667, 0.43333333333333335, 0.4666666666666667, 0.4666666666666667, 0.43333333333333335, 0.4666666666666667, 0.3333333333333333, 0.5, 0.4666666666666667, 0.3333333333333333, 0.5666666666666667, 0.5, 0.5666666666666667, 0.5, 0.4, 0.3333333333333333, 0.5333333333333333, 0.5666666666666667, 0.6, 0.6666666666666666, 0.43333333333333335, 0.5333333333333333, 0.5666666666666667, 0.6333333333333333, 0.5333333333333333, 0.4666666666666667, 0.4666666666666667, 0.43333333333333335, 0.5, 0.5666666666666667, 0.6, 0.4666666666666667, 0.6666666666666666, 0.5, 0.6666666666666666, 0.43333333333333335, 0.4666666666666667, 0.5333333333333333, 0.5666666666666667, 0.5, 0.4, 0.5333333333333333, 0.43333333333333335, 0.5666666666666667, 0.5666666666666667, 0.5, 0.36666666666666664, 0.5333333333333333, 0.5, 0.36666666666666664, 0.5333333333333333, 0.5, 0.6333333333333333, 0.4666666666666667, 0.5333333333333333, 0.4666666666666667, 0.5, 0.3333333333333333, 0.5333333333333333, 0.5333333333333333, 0.4, 0.4, 0.5333333333333333, 0.4666666666666667, 0.43333333333333335, 0.5333333333333333, 0.5, 0.6, 0.5666666666666667, 0.4, 0.5666666666666667, 0.5666666666666667, 0.5, 0.3, 0.4, 0.5666666666666667, 0.3333333333333333, 0.6333333333333333, 0.5666666666666667, 0.5, 0.5, 0.5333333333333333, 0.5333333333333333, 0.4666666666666667, 0.43333333333333335, 0.5, 0.4, 0.43333333333333335, 0.3333333333333333, 0.6, 0.43333333333333335, 0.36666666666666664, 0.43333333333333335, 0.4, 0.43333333333333335, 0.26666666666666666, 0.5, 0.43333333333333335, 0.36666666666666664, 0.6333333333333333, 0.36666666666666664, 0.43333333333333335, 0.5, 0.43333333333333335, 0.5, 0.43333333333333335, 0.6, 0.4666666666666667, 0.5333333333333333, 0.36666666666666664, 0.5, 0.43333333333333335, 0.5, 0.5, 0.4666666666666667, 0.5666666666666667, 0.6333333333333333, 0.4666666666666667, 0.4666666666666667, 0.5, 0.6, 0.5333333333333333, 0.43333333333333335, 0.4, 0.2, 0.6333333333333333, 0.4666666666666667, 0.5333333333333333, 0.4666666666666667, 0.36666666666666664, 0.5, 0.4666666666666667, 0.4, 0.5, 0.5, 0.3333333333333333, 0.6333333333333333, 0.4666666666666667, 0.5333333333333333, 0.4, 0.5, 0.5, 0.5666666666666667, 0.5666666666666667, 0.26666666666666666, 0.43333333333333335, 0.5, 0.5666666666666667, 0.5333333333333333, 0.6, 0.4666666666666667, 0.5, 0.43333333333333335, 0.5, 0.4666666666666667, 0.4666666666666667, 0.36666666666666664, 0.6333333333333333, 0.43333333333333335, 0.5, 0.5333333333333333, 0.43333333333333335, 0.4666666666666667, 0.6, 0.5, 0.6, 0.43333333333333335, 0.5666666666666667, 0.5666666666666667, 0.5, 0.6333333333333333, 0.5333333333333333, 0.43333333333333335, 0.6666666666666666, 0.4, 0.36666666666666664, 0.36666666666666664, 0.4666666666666667, 0.5666666666666667, 0.4666666666666667, 0.6333333333333333, 0.43333333333333335, 0.5666666666666667, 0.6333333333333333, 0.5666666666666667, 0.36666666666666664, 0.4, 0.43333333333333335, 0.43333333333333335, 0.3, 0.6333333333333333, 0.4, 0.5333333333333333, 0.6, 0.7666666666666667, 0.4666666666666667, 0.3, 0.5333333333333333, 0.36666666666666664, 0.6, 0.5, 0.5666666666666667, 0.4666666666666667, 0.43333333333333335, 0.43333333333333335, 0.5333333333333333, 0.5333333333333333, 0.6333333333333333, 0.6, 0.5666666666666667, 0.6, 0.36666666666666664, 0.5, 0.4, 0.4, 0.5666666666666667, 0.6333333333333333, 0.4, 0.5666666666666667, 0.5333333333333333, 0.5666666666666667, 0.43333333333333335, 0.43333333333333335, 0.7, 0.5333333333333333, 0.6, 0.3333333333333333, 0.5, 0.36666666666666664, 0.4, 0.6333333333333333, 0.4666666666666667, 0.6, 0.7333333333333333, 0.3, 0.5333333333333333, 0.5, 0.5666666666666667, 0.3333333333333333, 0.26666666666666666, 0.36666666666666664, 0.5, 0.6, 0.6, 0.36666666666666664, 0.43333333333333335, 0.3333333333333333, 0.6, 0.5333333333333333, 0.4, 0.6, 0.4666666666666667, 0.4666666666666667, 0.5333333333333333, 0.4, 0.4, 0.43333333333333335, 0.6, 0.5333333333333333, 0.7666666666666667, 0.5666666666666667, 0.3333333333333333, 0.5666666666666667, 0.6666666666666666, 0.26666666666666666, 0.6, 0.4666666666666667, 0.4666666666666667, 0.4666666666666667, 0.36666666666666664, 0.6333333333333333, 0.4666666666666667, 0.4666666666666667, 0.43333333333333335, 0.5666666666666667, 0.5666666666666667, 0.5, 0.4666666666666667, 0.5, 0.6666666666666666, 0.5333333333333333, 0.6, 0.6333333333333333, 0.5333333333333333, 0.3333333333333333, 0.4, 0.4, 0.5333333333333333, 0.6333333333333333, 0.43333333333333335, 0.4666666666666667, 0.5, 0.4666666666666667, 0.4666666666666667, 0.5333333333333333, 0.6666666666666666, 0.6, 0.3333333333333333, 0.5, 0.5333333333333333, 0.4666666666666667, 0.5, 0.5, 0.4, 0.3, 0.5666666666666667, 0.5333333333333333, 0.5, 0.5333333333333333, 0.6, 0.43333333333333335, 0.6, 0.43333333333333335, 0.5, 0.5, 0.5666666666666667, 0.5333333333333333, 0.6666666666666666, 0.5666666666666667, 0.5, 0.5333333333333333, 0.5333333333333333, 0.5666666666666667, 0.5333333333333333, 0.6, 0.36666666666666664, 0.5, 0.3333333333333333, 0.5, 0.4666666666666667, 0.4, 0.36666666666666664, 0.4666666666666667, 0.36666666666666664, 0.5333333333333333, 0.6333333333333333, 0.5333333333333333, 0.5666666666666667, 0.36666666666666664, 0.4666666666666667, 0.7, 0.4, 0.6666666666666666, 0.6666666666666666, 0.6333333333333333, 0.5, 0.6, 0.6666666666666666, 0.4666666666666667, 0.4666666666666667, 0.5666666666666667, 0.6, 0.6333333333333333, 0.6, 0.4666666666666667, 0.36666666666666664, 0.36666666666666664, 0.3, 0.5666666666666667, 0.7, 0.3333333333333333, 0.3333333333333333, 0.43333333333333335, 0.4666666666666667, 0.5333333333333333, 0.5, 0.4, 0.6666666666666666, 0.5333333333333333, 0.43333333333333335, 0.5666666666666667, 0.6, 0.5666666666666667, 0.5666666666666667, 0.5333333333333333, 0.6333333333333333, 0.4666666666666667, 0.5666666666666667, 0.5, 0.43333333333333335, 0.5, 0.5666666666666667, 0.4666666666666667, 0.5666666666666667, 0.5, 0.6, 0.36666666666666664, 0.4666666666666667, 0.6, 0.43333333333333335, 0.4, 0.43333333333333335, 0.5666666666666667, 0.5333333333333333, 0.4666666666666667, 0.5, 0.6, 0.5, 0.5333333333333333, 0.5333333333333333, 0.5333333333333333, 0.6666666666666666, 0.6333333333333333, 0.6, 0.5333333333333333, 0.43333333333333335, 0.4666666666666667, 0.5666666666666667, 0.6, 0.5, 0.43333333333333335, 0.4, 0.5333333333333333, 0.7, 0.43333333333333335, 0.6666666666666666, 0.4, 0.5333333333333333, 0.5333333333333333, 0.4, 0.5666666666666667, 0.5, 0.4666666666666667, 0.4, 0.5, 0.5666666666666667, 0.36666666666666664, 0.43333333333333335, 0.5, 0.5, 0.3333333333333333, 0.5666666666666667, 0.36666666666666664, 0.43333333333333335, 0.43333333333333335, 0.4666666666666667, 0.5333333333333333, 0.6, 0.5666666666666667, 0.4, 0.5333333333333333, 0.5666666666666667, 0.4, 0.5666666666666667, 0.6, 0.4, 0.43333333333333335, 0.43333333333333335, 0.5, 0.3333333333333333, 0.4, 0.5666666666666667, 0.5666666666666667, 0.5333333333333333, 0.7333333333333333, 0.4666666666666667, 0.43333333333333335, 0.43333333333333335, 0.5, 0.5666666666666667, 0.5666666666666667, 0.3, 0.4666666666666667, 0.4666666666666667, 0.6, 0.3, 0.6, 0.4, 0.4666666666666667, 0.6333333333333333, 0.6333333333333333, 0.4666666666666667, 0.5, 0.5666666666666667, 0.5333333333333333, 0.3333333333333333, 0.4666666666666667, 0.43333333333333335, 0.36666666666666664, 0.3, 0.3333333333333333, 0.36666666666666664, 0.43333333333333335, 0.4, 0.6, 0.5666666666666667, 0.6333333333333333, 0.5, 0.5333333333333333, 0.4666666666666667, 0.5333333333333333, 0.5, 0.43333333333333335, 0.5333333333333333, 0.5666666666666667, 0.6, 0.5333333333333333, 0.3333333333333333, 0.5333333333333333, 0.5, 0.5333333333333333, 0.6333333333333333, 0.4, 0.5666666666666667, 0.36666666666666664, 0.5, 0.5, 0.5, 0.5, 0.4666666666666667, 0.5666666666666667, 0.6, 0.5, 0.5666666666666667, 0.4, 0.36666666666666664, 0.43333333333333335, 0.5666666666666667, 0.6666666666666666, 0.6, 0.5666666666666667, 0.6, 0.6, 0.5333333333333333, 0.5666666666666667, 0.5666666666666667, 0.5333333333333333, 0.43333333333333335, 0.3333333333333333, 0.5333333333333333, 0.5, 0.36666666666666664, 0.5333333333333333, 0.3333333333333333, 0.4666666666666667, 0.4666666666666667, 0.5333333333333333, 0.6666666666666666, 0.26666666666666666, 0.6, 0.4, 0.7, 0.6, 0.4666666666666667, 0.4666666666666667, 0.6, 0.4666666666666667, 0.6, 0.7333333333333333, 0.5666666666666667, 0.4666666666666667, 0.5333333333333333, 0.36666666666666664, 0.4666666666666667, 0.36666666666666664, 0.5, 0.36666666666666664, 0.6, 0.3333333333333333, 0.5, 0.5, 0.43333333333333335, 0.5, 0.5666666666666667, 0.4666666666666667, 0.5333333333333333, 0.36666666666666664, 0.5, 0.43333333333333335, 0.5333333333333333, 0.5, 0.6, 0.5, 0.3, 0.5, 0.4, 0.6, 0.5, 0.3, 0.6, 0.3, 0.43333333333333335, 0.5333333333333333, 0.5, 0.5666666666666667, 0.5666666666666667, 0.5, 0.3, 0.4666666666666667, 0.5, 0.4666666666666667, 0.6333333333333333, 0.5, 0.43333333333333335, 0.6, 0.5, 0.5666666666666667, 0.5666666666666667, 0.5666666666666667, 0.5666666666666667, 0.5, 0.4666666666666667, 0.4, 0.5, 0.5333333333333333, 0.4, 0.5666666666666667, 0.5, 0.7, 0.5, 0.43333333333333335, 0.5, 0.4666666666666667, 0.5666666666666667, 0.6333333333333333, 0.43333333333333335, 0.43333333333333335, 0.4666666666666667, 0.4666666666666667, 0.4666666666666667, 0.6333333333333333, 0.4666666666666667, 0.4, 0.5, 0.5333333333333333, 0.3, 0.43333333333333335, 0.3, 0.5333333333333333, 0.7333333333333333, 0.43333333333333335, 0.5666666666666667, 0.6666666666666666, 0.5, 0.4666666666666667, 0.4666666666666667, 0.5333333333333333, 0.6, 0.5, 0.5, 0.5666666666666667, 0.5333333333333333, 0.5333333333333333, 0.4, 0.6, 0.43333333333333335, 0.4, 0.5, 0.4666666666666667, 0.3333333333333333, 0.4, 0.5, 0.5, 0.5666666666666667, 0.43333333333333335, 0.4666666666666667, 0.4666666666666667, 0.5666666666666667, 0.7, 0.5333333333333333, 0.4666666666666667, 0.6333333333333333, 0.4, 0.5333333333333333, 0.5666666666666667, 0.43333333333333335, 0.5, 0.5, 0.6, 0.3333333333333333, 0.36666666666666664, 0.43333333333333335, 0.4666666666666667, 0.36666666666666664, 0.5333333333333333, 0.5666666666666667, 0.43333333333333335, 0.7, 0.3333333333333333, 0.5666666666666667, 0.3, 0.7333333333333333, 0.4666666666666667, 0.5333333333333333, 0.36666666666666664, 0.6, 0.5666666666666667, 0.4666666666666667, 0.6, 0.5, 0.5666666666666667, 0.43333333333333335, 0.5666666666666667, 0.6, 0.3, 0.7333333333333333, 0.5666666666666667, 0.36666666666666664, 0.6333333333333333, 0.6, 0.5333333333333333, 0.3, 0.5666666666666667, 0.43333333333333335, 0.5333333333333333, 0.5333333333333333, 0.5333333333333333, 0.4, 0.43333333333333335, 0.5, 0.7333333333333333, 0.4, 0.6333333333333333, 0.6, 0.3, 0.36666666666666664, 0.43333333333333335, 0.3333333333333333, 0.5333333333333333, 0.36666666666666664, 0.43333333333333335, 0.5333333333333333, 0.4, 0.5666666666666667, 0.6, 0.5, 0.43333333333333335, 0.6333333333333333, 0.43333333333333335, 0.43333333333333335, 0.5333333333333333, 0.4, 0.4666666666666667, 0.36666666666666664, 0.4666666666666667, 0.4, 0.4, 0.43333333333333335, 0.5, 0.5666666666666667, 0.6, 0.43333333333333335, 0.4666666666666667, 0.6, 0.6333333333333333, 0.5, 0.5, 0.43333333333333335, 0.6, 0.5333333333333333, 0.5333333333333333, 0.5, 0.6666666666666666, 0.5, 0.6, 0.5666666666666667, 0.43333333333333335, 0.5666666666666667, 0.6, 0.6666666666666666, 0.4666666666666667, 0.5333333333333333, 0.6, 0.6, 0.5333333333333333, 0.5, 0.4666666666666667, 0.5333333333333333, 0.36666666666666664, 0.4666666666666667, 0.5333333333333333, 0.4, 0.4, 0.5333333333333333, 0.3333333333333333, 0.5, 0.4666666666666667, 0.43333333333333335, 0.43333333333333335, 0.6333333333333333, 0.36666666666666664, 0.4, 0.5666666666666667, 0.5, 0.6, 0.4, 0.4666666666666667, 0.5, 0.5333333333333333, 0.6333333333333333, 0.6333333333333333, 0.6, 0.5666666666666667, 0.6, 0.4666666666666667, 0.5333333333333333, 0.4666666666666667, 0.4666666666666667, 0.6, 0.36666666666666664, 0.5333333333333333, 0.5666666666666667, 0.5333333333333333, 0.5, 0.6666666666666666, 0.43333333333333335, 0.3, 0.4, 0.43333333333333335, 0.43333333333333335, 0.5, 0.5, 0.5333333333333333, 0.43333333333333335, 0.6333333333333333, 0.4666666666666667, 0.4666666666666667, 0.5666666666666667, 0.43333333333333335, 0.4666666666666667, 0.4666666666666667, 0.16666666666666666, 0.36666666666666664, 0.5, 0.6, 0.5333333333333333, 0.6666666666666666, 0.4, 0.5666666666666667, 0.4, 0.5666666666666667, 0.5666666666666667, 0.4666666666666667, 0.4666666666666667, 0.6, 0.4666666666666667, 0.4666666666666667, 0.4, 0.36666666666666664, 0.5666666666666667, 0.43333333333333335, 0.5, 0.3333333333333333, 0.5666666666666667, 0.5333333333333333, 0.5, 0.6333333333333333, 0.5333333333333333, 0.5666666666666667, 0.43333333333333335, 0.4, 0.5666666666666667, 0.43333333333333335, 0.5333333333333333, 0.5, 0.43333333333333335, 0.4, 0.4666666666666667, 0.5, 0.5666666666666667, 0.4666666666666667, 0.6, 0.4666666666666667, 0.4, 0.5, 0.4666666666666667, 0.36666666666666664, 0.6333333333333333, 0.5666666666666667, 0.6666666666666666, 0.5, 0.4, 0.5333333333333333, 0.4, 0.43333333333333335, 0.5333333333333333, 0.5333333333333333, 0.5333333333333333, 0.6, 0.43333333333333335, 0.3, 0.4, 0.5, 0.43333333333333335, 0.6, 0.5333333333333333, 0.5333333333333333, 0.4, 0.36666666666666664, 0.43333333333333335, 0.5666666666666667, 0.4666666666666667, 0.4666666666666667, 0.5, 0.4, 0.5333333333333333, 0.5333333333333333, 0.8, 0.6666666666666666, 0.5, 0.36666666666666664, 0.4666666666666667, 0.4, 0.5, 0.6, 0.5, 0.5666666666666667, 0.4666666666666667, 0.4, 0.6333333333333333, 0.5, 0.3, 0.5666666666666667, 0.4666666666666667, 0.43333333333333335, 0.5666666666666667, 0.4, 0.3333333333333333, 0.5, 0.4666666666666667, 0.5, 0.4, 0.23333333333333334, 0.5666666666666667, 0.5333333333333333, 0.6, 0.5333333333333333, 0.6, 0.5333333333333333, 0.4666666666666667, 0.5666666666666667, 0.5666666666666667, 0.4666666666666667, 0.5, 0.5, 0.6333333333333333, 0.43333333333333335, 0.4666666666666667, 0.5666666666666667, 0.5666666666666667, 0.36666666666666664, 0.6333333333333333, 0.6333333333333333, 0.36666666666666664, 0.3, 0.5666666666666667, 0.4, 0.4666666666666667, 0.5666666666666667, 0.6333333333333333, 0.6333333333333333, 0.6333333333333333, 0.4, 0.6666666666666666, 0.6, 0.36666666666666664, 0.5333333333333333, 0.5333333333333333, 0.5666666666666667, 0.5333333333333333, 0.4666666666666667, 0.5666666666666667, 0.4666666666666667, 0.6333333333333333, 0.4666666666666667, 0.5, 0.5, 0.43333333333333335, 0.43333333333333335, 0.5, 0.3, 0.5666666666666667, 0.5, 0.5333333333333333, 0.5666666666666667, 0.36666666666666664, 0.5333333333333333, 0.4, 0.6333333333333333, 0.36666666666666664, 0.4666666666666667, 0.4666666666666667, 0.4, 0.5, 0.4666666666666667, 0.5333333333333333, 0.5, 0.5666666666666667, 0.3, 0.6333333333333333, 0.36666666666666664, 0.5333333333333333, 0.6, 0.5666666666666667, 0.5666666666666667, 0.5666666666666667, 0.4666666666666667, 0.4666666666666667, 0.5666666666666667, 0.5, 0.4666666666666667, 0.4, 0.6666666666666666, 0.4, 0.5666666666666667, 0.4, 0.5, 0.5, 0.5, 0.4666666666666667, 0.5333333333333333, 0.4666666666666667, 0.4, 0.43333333333333335, 0.5, 0.4666666666666667, 0.5, 0.43333333333333335, 0.43333333333333335, 0.36666666666666664, 0.5666666666666667, 0.6, 0.6333333333333333, 0.5, 0.43333333333333335, 0.3, 0.6333333333333333, 0.4, 0.4666666666666667, 0.5333333333333333, 0.3, 0.6333333333333333, 0.6, 0.6333333333333333, 0.43333333333333335, 0.4666666666666667, 0.43333333333333335, 0.4666666666666667, 0.4, 0.5, 0.5, 0.5666666666666667, 0.3333333333333333, 0.5333333333333333, 0.6, 0.26666666666666666, 0.5333333333333333, 0.5333333333333333, 0.36666666666666664, 0.5333333333333333, 0.43333333333333335, 0.4666666666666667, 0.4666666666666667, 0.4, 0.4666666666666667, 0.5333333333333333, 0.43333333333333335, 0.4666666666666667, 0.43333333333333335, 0.5333333333333333, 0.5333333333333333, 0.4666666666666667, 0.5666666666666667, 0.5333333333333333, 0.43333333333333335, 0.3, 0.6333333333333333, 0.36666666666666664, 0.6, 0.6, 0.6, 0.5666666666666667, 0.5666666666666667, 0.6333333333333333, 0.5666666666666667, 0.5, 0.4, 0.6333333333333333, 0.6, 0.5333333333333333, 0.43333333333333335, 0.6, 0.4666666666666667, 0.5666666666666667, 0.5333333333333333, 0.4666666666666667, 0.5333333333333333, 0.5333333333333333, 0.5, 0.5, 0.5, 0.26666666666666666, 0.4666666666666667, 0.5666666666666667, 0.5666666666666667, 0.26666666666666666, 0.43333333333333335, 0.5333333333333333, 0.4, 0.5, 0.6, 0.5, 0.4666666666666667, 0.5, 0.6, 0.5, 0.5666666666666667, 0.4666666666666667, 0.6666666666666666, 0.5, 0.6, 0.36666666666666664, 0.5, 0.4, 0.4666666666666667, 0.4, 0.7, 0.4666666666666667, 0.5666666666666667, 0.4666666666666667, 0.36666666666666664, 0.43333333333333335, 0.5, 0.4, 0.5333333333333333, 0.5, 0.6, 0.4666666666666667, 0.4, 0.4666666666666667, 0.3333333333333333, 0.4666666666666667, 0.5333333333333333, 0.4666666666666667, 0.4666666666666667, 0.23333333333333334, 0.5, 0.6333333333333333, 0.5333333333333333, 0.6, 0.7, 0.4666666666666667, 0.4666666666666667, 0.7, 0.6, 0.5333333333333333, 0.3, 0.43333333333333335, 0.5333333333333333, 0.6, 0.4666666666666667, 0.5333333333333333, 0.4, 0.6, 0.36666666666666664, 0.4666666666666667, 0.5666666666666667, 0.5666666666666667, 0.5333333333333333, 0.5666666666666667, 0.4, 0.43333333333333335, 0.5666666666666667, 0.4666666666666667, 0.5, 0.6333333333333333, 0.6, 0.6666666666666666, 0.5666666666666667, 0.43333333333333335, 0.5333333333333333, 0.6666666666666666, 0.4, 0.6, 0.5666666666666667, 0.7, 0.5, 0.6, 0.36666666666666664, 0.43333333333333335, 0.6, 0.4666666666666667, 0.5666666666666667, 0.4666666666666667, 0.5, 0.3333333333333333, 0.36666666666666664, 0.5, 0.4666666666666667, 0.3333333333333333, 0.4666666666666667, 0.4666666666666667, 0.5, 0.6, 0.7, 0.5666666666666667, 0.5666666666666667, 0.5666666666666667, 0.5666666666666667, 0.5333333333333333, 0.6, 0.5333333333333333, 0.5, 0.4666666666666667, 0.5, 0.4, 0.4666666666666667, 0.5333333333333333, 0.5333333333333333, 0.43333333333333335, 0.43333333333333335, 0.5, 0.5, 0.4, 0.4, 0.43333333333333335, 0.4666666666666667, 0.43333333333333335, 0.4, 0.5666666666666667, 0.4, 0.3333333333333333, 0.43333333333333335, 0.5666666666666667, 0.6333333333333333, 0.43333333333333335, 0.5333333333333333, 0.5666666666666667, 0.43333333333333335, 0.36666666666666664, 0.5, 0.5, 0.5333333333333333, 0.5333333333333333, 0.6, 0.6333333333333333, 0.43333333333333335, 0.5, 0.6, 0.4, 0.6666666666666666, 0.36666666666666664, 0.5666666666666667, 0.5, 0.3333333333333333, 0.5, 0.5, 0.36666666666666664, 0.6333333333333333, 0.4, 0.36666666666666664, 0.4, 0.4666666666666667, 0.5, 0.6333333333333333, 0.5666666666666667, 0.7, 0.6333333333333333, 0.4, 0.4, 0.6666666666666666, 0.5333333333333333, 0.4666666666666667, 0.5, 0.6, 0.5333333333333333, 0.4666666666666667, 0.4, 0.5333333333333333, 0.5, 0.5, 0.5333333333333333, 0.4, 0.5, 0.43333333333333335, 0.5, 0.5, 0.5333333333333333, 0.5666666666666667, 0.4, 0.5666666666666667, 0.5, 0.6333333333333333, 0.43333333333333335, 0.4666666666666667, 0.43333333333333335, 0.43333333333333335, 0.4666666666666667, 0.5666666666666667, 0.5333333333333333, 0.6, 0.4666666666666667, 0.4, 0.5666666666666667, 0.4666666666666667, 0.4666666666666667, 0.6333333333333333, 0.4, 0.6333333333333333, 0.43333333333333335, 0.4, 0.43333333333333335, 0.4666666666666667, 0.43333333333333335, 0.5666666666666667, 0.6333333333333333, 0.36666666666666664, 0.5, 0.43333333333333335, 0.43333333333333335, 0.6666666666666666, 0.6666666666666666, 0.6666666666666666, 0.4666666666666667, 0.5, 0.6, 0.6333333333333333, 0.4666666666666667, 0.6, 0.4666666666666667, 0.3333333333333333, 0.4666666666666667, 0.43333333333333335, 0.6333333333333333, 0.5333333333333333, 0.5, 0.4666666666666667, 0.5, 0.5, 0.43333333333333335, 0.6333333333333333, 0.36666666666666664, 0.36666666666666664, 0.6666666666666666, 0.6666666666666666, 0.36666666666666664, 0.4666666666666667, 0.36666666666666664, 0.5666666666666667, 0.43333333333333335, 0.5666666666666667, 0.5, 0.4666666666666667, 0.5333333333333333, 0.5666666666666667, 0.43333333333333335, 0.4, 0.5333333333333333, 0.43333333333333335, 0.5, 0.6333333333333333, 0.5, 0.5, 0.6333333333333333, 0.6333333333333333, 0.5333333333333333, 0.6333333333333333, 0.4666666666666667, 0.5, 0.3333333333333333, 0.4666666666666667, 0.36666666666666664, 0.5, 0.4666666666666667, 0.4666666666666667, 0.4, 0.43333333333333335, 0.5666666666666667, 0.4666666666666667, 0.5, 0.6, 0.43333333333333335, 0.6666666666666666, 0.6, 0.36666666666666664, 0.5666666666666667, 0.4666666666666667, 0.5, 0.4666666666666667, 0.43333333333333335, 0.5, 0.5, 0.5, 0.36666666666666664, 0.5666666666666667, 0.5666666666666667, 0.43333333333333335, 0.5333333333333333, 0.5333333333333333, 0.5333333333333333, 0.4666666666666667, 0.4666666666666667, 0.5666666666666667, 0.5333333333333333, 0.6333333333333333, 0.36666666666666664, 0.4, 0.5333333333333333, 0.4, 0.5, 0.3333333333333333, 0.5, 0.5333333333333333, 0.6, 0.6, 0.5, 0.5333333333333333, 0.36666666666666664, 0.36666666666666664, 0.6666666666666666, 0.5, 0.43333333333333335, 0.6666666666666666, 0.3333333333333333, 0.5, 0.4, 0.5333333333333333, 0.4, 0.5, 0.5, 0.5333333333333333, 0.5, 0.6333333333333333, 0.6, 0.6, 0.36666666666666664, 0.5333333333333333, 0.4666666666666667, 0.5, 0.5333333333333333, 0.5666666666666667, 0.6333333333333333, 0.4666666666666667, 0.6, 0.6666666666666666, 0.6333333333333333, 0.4666666666666667, 0.43333333333333335, 0.6, 0.3333333333333333, 0.36666666666666664, 0.4666666666666667, 0.6333333333333333, 0.5666666666666667, 0.5, 0.5666666666666667, 0.6666666666666666, 0.4666666666666667, 0.5, 0.6, 0.5333333333333333, 0.43333333333333335, 0.5666666666666667, 0.5, 0.5666666666666667, 0.43333333333333335, 0.5, 0.5666666666666667, 0.3, 0.43333333333333335, 0.6333333333333333, 0.43333333333333335, 0.5, 0.4, 0.5333333333333333, 0.6666666666666666, 0.6333333333333333, 0.5, 0.6333333333333333, 0.6, 0.4666666666666667, 0.5666666666666667, 0.4666666666666667, 0.36666666666666664, 0.5666666666666667, 0.4666666666666667, 0.5, 0.6666666666666666, 0.5666666666666667, 0.5, 0.36666666666666664, 0.5666666666666667, 0.5666666666666667, 0.4, 0.5, 0.5, 0.4666666666666667, 0.43333333333333335, 0.5, 0.3, 0.4666666666666667, 0.4666666666666667, 0.43333333333333335, 0.4, 0.5666666666666667, 0.5666666666666667, 0.43333333333333335, 0.36666666666666664, 0.43333333333333335, 0.4666666666666667, 0.4666666666666667, 0.43333333333333335, 0.5333333333333333, 0.6333333333333333, 0.5333333333333333, 0.43333333333333335, 0.6666666666666666, 0.3333333333333333, 0.5333333333333333, 0.6333333333333333, 0.4666666666666667, 0.5333333333333333, 0.5333333333333333, 0.5, 0.6333333333333333, 0.5333333333333333, 0.5666666666666667, 0.6333333333333333, 0.5, 0.3333333333333333, 0.7333333333333333, 0.5, 0.6, 0.5666666666666667, 0.5333333333333333, 0.6, 0.43333333333333335, 0.3333333333333333, 0.3, 0.5, 0.5666666666666667, 0.4666666666666667, 0.4, 0.4666666666666667, 0.6, 0.6333333333333333, 0.5333333333333333, 0.4, 0.4, 0.4666666666666667, 0.6666666666666666, 0.4666666666666667, 0.3, 0.5, 0.5333333333333333, 0.36666666666666664, 0.5, 0.36666666666666664, 0.4666666666666667, 0.43333333333333335, 0.4666666666666667, 0.6333333333333333, 0.5666666666666667, 0.5333333333333333, 0.3333333333333333, 0.5666666666666667, 0.5333333333333333, 0.36666666666666664, 0.43333333333333335, 0.4666666666666667, 0.6, 0.43333333333333335, 0.6, 0.6333333333333333, 0.6, 0.5333333333333333, 0.43333333333333335, 0.5, 0.5666666666666667, 0.3333333333333333, 0.6666666666666666, 0.5666666666666667, 0.7, 0.5, 0.4666666666666667, 0.5, 0.5333333333333333, 0.5333333333333333, 0.4666666666666667, 0.5666666666666667, 0.4666666666666667, 0.3, 0.5, 0.43333333333333335, 0.5, 0.5, 0.3333333333333333, 0.43333333333333335, 0.5, 0.6666666666666666, 0.5, 0.3333333333333333, 0.6666666666666666, 0.5, 0.36666666666666664, 0.5333333333333333, 0.4, 0.36666666666666664, 0.5333333333333333, 0.6666666666666666, 0.4666666666666667, 0.5666666666666667, 0.5333333333333333, 0.6, 0.6, 0.36666666666666664, 0.5, 0.6666666666666666, 0.5666666666666667, 0.6, 0.4666666666666667, 0.5333333333333333, 0.4, 0.6666666666666666, 0.4, 0.5333333333333333, 0.4666666666666667, 0.4, 0.4666666666666667, 0.8, 0.5, 0.5333333333333333, 0.4666666666666667, 0.4666666666666667, 0.7, 0.5333333333333333, 0.4666666666666667, 0.36666666666666664, 0.5, 0.5666666666666667, 0.5666666666666667, 0.6, 0.4, 0.43333333333333335, 0.5, 0.4666666666666667, 0.5, 0.4666666666666667, 0.6666666666666666, 0.5666666666666667, 0.5666666666666667, 0.7333333333333333, 0.43333333333333335, 0.4666666666666667, 0.5666666666666667, 0.5, 0.5333333333333333, 0.36666666666666664, 0.5, 0.4, 0.43333333333333335, 0.5, 0.6333333333333333, 0.4, 0.5666666666666667, 0.5, 0.36666666666666664, 0.6666666666666666, 0.5333333333333333, 0.5, 0.5, 0.5, 0.5333333333333333, 0.6666666666666666, 0.5, 0.5333333333333333, 0.5333333333333333, 0.26666666666666666, 0.43333333333333335, 0.6333333333333333, 0.3333333333333333, 0.4666666666666667, 0.4666666666666667, 0.2, 0.5, 0.6, 0.4, 0.4, 0.5333333333333333, 0.36666666666666664, 0.5, 0.4, 0.4666666666666667, 0.5, 0.43333333333333335, 0.5, 0.5, 0.4666666666666667, 0.5666666666666667, 0.4666666666666667, 0.6, 0.6666666666666666, 0.5666666666666667, 0.4666666666666667, 0.6666666666666666, 0.6666666666666666, 0.6333333333333333, 0.5333333333333333, 0.5666666666666667, 0.5333333333333333, 0.43333333333333335, 0.4666666666666667, 0.4, 0.7, 0.5, 0.43333333333333335, 0.4666666666666667, 0.3, 0.4, 0.43333333333333335, 0.6333333333333333, 0.5666666666666667, 0.4666666666666667, 0.3, 0.4666666666666667, 0.5333333333333333, 0.7333333333333333, 0.6, 0.5666666666666667, 0.6666666666666666, 0.5333333333333333, 0.5, 0.26666666666666666, 0.4, 0.4, 0.5, 0.5333333333333333, 0.4, 0.43333333333333335, 0.36666666666666664, 0.5666666666666667, 0.5666666666666667, 0.5, 0.43333333333333335, 0.4, 0.5333333333333333, 0.6333333333333333, 0.6, 0.5333333333333333, 0.5666666666666667, 0.5333333333333333, 0.6, 0.4666666666666667, 0.6, 0.36666666666666664, 0.6666666666666666, 0.4666666666666667, 0.5666666666666667, 0.5, 0.5666666666666667, 0.43333333333333335, 0.5333333333333333, 0.4, 0.5333333333333333, 0.4666666666666667, 0.5, 0.6, 0.5666666666666667, 0.4, 0.5, 0.5666666666666667, 0.4666666666666667, 0.4666666666666667, 0.5, 0.5666666666666667, 0.36666666666666664, 0.36666666666666664, 0.4, 0.43333333333333335, 0.5666666666666667, 0.5333333333333333, 0.5, 0.4666666666666667, 0.5, 0.6, 0.6, 0.5666666666666667, 0.5, 0.5333333333333333, 0.5666666666666667, 0.6666666666666666, 0.6, 0.4666666666666667, 0.36666666666666664, 0.5666666666666667, 0.4666666666666667, 0.5666666666666667, 0.5333333333333333, 0.5666666666666667, 0.4666666666666667, 0.7, 0.43333333333333335, 0.4666666666666667, 0.6333333333333333, 0.5666666666666667, 0.43333333333333335, 0.4666666666666667, 0.4666666666666667, 0.6, 0.5333333333333333, 0.5666666666666667, 0.26666666666666666, 0.5333333333333333, 0.43333333333333335, 0.5, 0.36666666666666664, 0.43333333333333335, 0.5666666666666667, 0.5, 0.6, 0.6666666666666666, 0.6, 0.6333333333333333, 0.5, 0.5, 0.5333333333333333, 0.4, 0.6333333333333333, 0.6333333333333333, 0.6, 0.5333333333333333, 0.4666666666666667, 0.6, 0.4666666666666667, 0.5, 0.5, 0.36666666666666664, 0.43333333333333335, 0.5666666666666667, 0.5, 0.4666666666666667, 0.5666666666666667, 0.43333333333333335, 0.5666666666666667, 0.5666666666666667, 0.4, 0.5, 0.5666666666666667, 0.6333333333333333, 0.6, 0.5, 0.3333333333333333, 0.5666666666666667, 0.5333333333333333, 0.43333333333333335, 0.6333333333333333, 0.5666666666666667, 0.3, 0.5, 0.43333333333333335, 0.5666666666666667, 0.4666666666666667, 0.4666666666666667, 0.5, 0.5666666666666667, 0.3, 0.43333333333333335, 0.4666666666666667, 0.6, 0.5333333333333333, 0.36666666666666664, 0.5666666666666667, 0.5, 0.4666666666666667, 0.43333333333333335, 0.43333333333333335, 0.4, 0.5666666666666667, 0.5, 0.43333333333333335, 0.43333333333333335, 0.5333333333333333, 0.6333333333333333, 0.5333333333333333, 0.4666666666666667, 0.3333333333333333, 0.6333333333333333, 0.5666666666666667, 0.6, 0.4666666666666667, 0.5, 0.36666666666666664, 0.5666666666666667, 0.6, 0.6, 0.5333333333333333, 0.36666666666666664, 0.5, 0.4666666666666667, 0.43333333333333335, 0.6666666666666666, 0.6333333333333333, 0.6, 0.5333333333333333, 0.4, 0.5333333333333333, 0.5333333333333333, 0.5666666666666667, 0.36666666666666664, 0.43333333333333335, 0.6666666666666666, 0.43333333333333335, 0.6333333333333333, 0.43333333333333335, 0.4666666666666667, 0.6333333333333333, 0.5333333333333333, 0.5333333333333333, 0.4, 0.5333333333333333, 0.4, 0.5333333333333333, 0.43333333333333335, 0.5, 0.3333333333333333, 0.6, 0.5, 0.6666666666666666, 0.6, 0.5, 0.3333333333333333, 0.5333333333333333, 0.6, 0.5333333333333333, 0.5666666666666667, 0.4, 0.5666666666666667, 0.43333333333333335, 0.6666666666666666, 0.43333333333333335, 0.3, 0.43333333333333335, 0.6, 0.36666666666666664, 0.4, 0.3333333333333333, 0.5333333333333333, 0.5333333333333333, 0.43333333333333335, 0.4666666666666667, 0.5, 0.4666666666666667, 0.5666666666666667, 0.6333333333333333, 0.5333333333333333, 0.3333333333333333, 0.5333333333333333, 0.4, 0.5, 0.6, 0.5, 0.5333333333333333, 0.5, 0.6, 0.4, 0.36666666666666664, 0.5666666666666667, 0.5666666666666667, 0.7, 0.4666666666666667, 0.5, 0.5, 0.5, 0.5, 0.5333333333333333, 0.6333333333333333, 0.36666666666666664, 0.5333333333333333, 0.43333333333333335, 0.43333333333333335, 0.5333333333333333, 0.3333333333333333, 0.6333333333333333, 0.5333333333333333, 0.43333333333333335, 0.5333333333333333, 0.5666666666666667, 0.4666666666666667, 0.6, 0.5333333333333333, 0.5333333333333333, 0.4666666666666667, 0.4, 0.5, 0.5666666666666667, 0.5666666666666667, 0.5333333333333333, 0.43333333333333335, 0.6333333333333333, 0.43333333333333335, 0.6, 0.4666666666666667, 0.5333333333333333, 0.5333333333333333, 0.4666666666666667, 0.5333333333333333, 0.43333333333333335, 0.5666666666666667, 0.6333333333333333, 0.4, 0.6, 0.5333333333333333, 0.6, 0.5333333333333333, 0.36666666666666664, 0.4666666666666667, 0.5666666666666667, 0.3333333333333333, 0.4666666666666667, 0.4666666666666667, 0.5333333333333333, 0.5333333333333333, 0.5, 0.4, 0.7, 0.5333333333333333, 0.5, 0.6, 0.4666666666666667, 0.36666666666666664, 0.6, 0.6, 0.36666666666666664, 0.4666666666666667, 0.5, 0.4666666666666667, 0.6666666666666666, 0.5666666666666667, 0.43333333333333335, 0.5, 0.4666666666666667, 0.4666666666666667, 0.5666666666666667, 0.3, 0.36666666666666664, 0.5, 0.5666666666666667, 0.5, 0.6, 0.5333333333333333, 0.43333333333333335, 0.8, 0.6, 0.5666666666666667, 0.4666666666666667, 0.3333333333333333, 0.5333333333333333, 0.36666666666666664, 0.4666666666666667, 0.5, 0.5333333333333333, 0.6, 0.4666666666666667, 0.6666666666666666, 0.5333333333333333, 0.5333333333333333, 0.5333333333333333, 0.5333333333333333, 0.5666666666666667, 0.5, 0.5, 0.4, 0.5666666666666667, 0.6, 0.5, 0.4666666666666667, 0.6333333333333333, 0.43333333333333335, 0.5333333333333333, 0.5333333333333333, 0.5666666666666667, 0.5666666666666667, 0.6666666666666666, 0.36666666666666664, 0.5, 0.3333333333333333, 0.6333333333333333, 0.36666666666666664, 0.26666666666666666, 0.5, 0.5, 0.43333333333333335, 0.4666666666666667, 0.5, 0.4, 0.6, 0.5, 0.3333333333333333, 0.5666666666666667, 0.36666666666666664, 0.5333333333333333, 0.5333333333333333, 0.5666666666666667, 0.6, 0.5333333333333333, 0.6666666666666666, 0.6333333333333333, 0.3333333333333333, 0.5333333333333333, 0.5, 0.7, 0.6, 0.4666666666666667, 0.7, 0.5666666666666667, 0.4, 0.5333333333333333, 0.5666666666666667, 0.5666666666666667, 0.5, 0.4, 0.5666666666666667, 0.5333333333333333, 0.4, 0.26666666666666666, 0.3333333333333333, 0.36666666666666664, 0.6, 0.5, 0.6333333333333333, 0.5333333333333333, 0.6, 0.5, 0.6333333333333333, 0.5666666666666667, 0.6, 0.43333333333333335, 0.36666666666666664, 0.6, 0.6, 0.5666666666666667, 0.6, 0.4, 0.5333333333333333, 0.5333333333333333, 0.36666666666666664, 0.4666666666666667, 0.5333333333333333, 0.4666666666666667, 0.5, 0.5, 0.5, 0.5333333333333333, 0.5333333333333333, 0.5666666666666667, 0.7, 0.5333333333333333, 0.5333333333333333, 0.36666666666666664, 0.43333333333333335, 0.5666666666666667, 0.4666666666666667, 0.4, 0.7333333333333333, 0.5333333333333333, 0.6, 0.6, 0.5333333333333333, 0.43333333333333335, 0.5, 0.43333333333333335, 0.5666666666666667, 0.5666666666666667, 0.7, 0.3333333333333333, 0.5333333333333333, 0.5, 0.7, 0.4, 0.5, 0.5333333333333333, 0.43333333333333335, 0.5, 0.5, 0.4666666666666667, 0.6666666666666666, 0.4, 0.6333333333333333, 0.6, 0.4666666666666667, 0.36666666666666664, 0.6, 0.4666666666666667, 0.4666666666666667, 0.4, 0.5, 0.36666666666666664, 0.5666666666666667, 0.5, 0.36666666666666664, 0.5, 0.5666666666666667, 0.5666666666666667, 0.4666666666666667, 0.5, 0.43333333333333335, 0.5666666666666667, 0.5333333333333333, 0.6, 0.5, 0.4666666666666667, 0.6, 0.36666666666666664, 0.5, 0.4, 0.4, 0.6, 0.7666666666666667, 0.5333333333333333, 0.5333333333333333, 0.7333333333333333, 0.4, 0.4666666666666667, 0.6, 0.43333333333333335, 0.6, 0.5333333333333333, 0.5333333333333333, 0.36666666666666664, 0.6, 0.5, 0.5666666666666667, 0.4, 0.5, 0.4666666666666667, 0.3, 0.5666666666666667, 0.5, 0.6, 0.5666666666666667, 0.26666666666666666, 0.5, 0.6, 0.4, 0.5333333333333333, 0.5333333333333333, 0.43333333333333335, 0.4, 0.3333333333333333, 0.5, 0.5666666666666667, 0.6333333333333333, 0.5, 0.4666666666666667, 0.5, 0.4666666666666667, 0.5, 0.5, 0.4666666666666667, 0.4666666666666667, 0.4666666666666667, 0.5333333333333333, 0.5, 0.3333333333333333, 0.5333333333333333, 0.5333333333333333, 0.5, 0.5, 0.5333333333333333, 0.5, 0.4666666666666667, 0.4, 0.43333333333333335, 0.4666666666666667, 0.3333333333333333, 0.5333333333333333, 0.4666666666666667, 0.4666666666666667, 0.5666666666666667, 0.5, 0.5333333333333333, 0.5, 0.5666666666666667, 0.5666666666666667, 0.5333333333333333, 0.4666666666666667, 0.5, 0.36666666666666664, 0.4, 0.6666666666666666, 0.7, 0.6, 0.5, 0.5, 0.6333333333333333, 0.5, 0.4666666666666667, 0.5333333333333333, 0.6, 0.43333333333333335, 0.4666666666666667, 0.5, 0.36666666666666664, 0.4, 0.5333333333333333, 0.4, 0.6, 0.5666666666666667, 0.23333333333333334, 0.4666666666666667, 0.5333333333333333, 0.43333333333333335, 0.5333333333333333, 0.4, 0.4, 0.5333333333333333, 0.4666666666666667, 0.5666666666666667, 0.5333333333333333, 0.36666666666666664, 0.5666666666666667, 0.36666666666666664, 0.43333333333333335, 0.5666666666666667, 0.43333333333333335, 0.4, 0.43333333333333335, 0.5, 0.4, 0.43333333333333335, 0.6, 0.5333333333333333, 0.4, 0.4666666666666667, 0.4666666666666667, 0.5666666666666667, 0.5333333333333333, 0.43333333333333335, 0.5333333333333333, 0.5666666666666667, 0.5333333333333333, 0.3, 0.5333333333333333, 0.4666666666666667, 0.5666666666666667, 0.5666666666666667, 0.4, 0.5333333333333333, 0.5333333333333333, 0.6, 0.6333333333333333, 0.5, 0.7, 0.5, 0.43333333333333335, 0.5, 0.4666666666666667, 0.5, 0.7, 0.5666666666666667, 0.4666666666666667, 0.4666666666666667, 0.5666666666666667, 0.36666666666666664, 0.6, 0.43333333333333335, 0.4666666666666667, 0.4666666666666667, 0.6333333333333333, 0.5333333333333333, 0.4666666666666667, 0.4, 0.5666666666666667, 0.5, 0.6, 0.5333333333333333, 0.43333333333333335, 0.6, 0.5, 0.5333333333333333, 0.4666666666666667, 0.5333333333333333, 0.5333333333333333, 0.4666666666666667, 0.5333333333333333, 0.4666666666666667, 0.6, 0.3333333333333333, 0.7, 0.5, 0.7333333333333333, 0.4, 0.43333333333333335, 0.43333333333333335, 0.4, 0.6, 0.4, 0.5666666666666667, 0.4, 0.4666666666666667, 0.5333333333333333, 0.5333333333333333, 0.43333333333333335, 0.6, 0.5666666666666667, 0.36666666666666664, 0.5666666666666667, 0.5333333333333333, 0.4, 0.36666666666666664, 0.5333333333333333, 0.36666666666666664, 0.5333333333333333, 0.6666666666666666, 0.5666666666666667, 0.6333333333333333, 0.5, 0.5333333333333333, 0.4666666666666667, 0.36666666666666664, 0.3333333333333333, 0.43333333333333335, 0.3, 0.5, 0.7, 0.5666666666666667, 0.5, 0.5666666666666667, 0.5, 0.43333333333333335, 0.36666666666666664, 0.4666666666666667, 0.4666666666666667, 0.5, 0.5333333333333333, 0.36666666666666664, 0.43333333333333335, 0.4666666666666667, 0.5, 0.5333333333333333, 0.5, 0.43333333333333335, 0.5, 0.36666666666666664, 0.5333333333333333, 0.4, 0.6, 0.5, 0.5333333333333333, 0.6333333333333333, 0.5666666666666667, 0.5666666666666667, 0.5333333333333333, 0.5666666666666667, 0.6333333333333333, 0.4666666666666667, 0.7, 0.6, 0.5333333333333333, 0.43333333333333335, 0.4, 0.4, 0.4666666666666667, 0.43333333333333335, 0.4, 0.5333333333333333, 0.4666666666666667, 0.6, 0.5, 0.6333333333333333, 0.3, 0.5333333333333333, 0.6, 0.5, 0.43333333333333335, 0.6, 0.3333333333333333, 0.6333333333333333, 0.5, 0.26666666666666666, 0.4, 0.7, 0.4666666666666667, 0.4, 0.6, 0.4, 0.43333333333333335, 0.36666666666666664, 0.5666666666666667, 0.6333333333333333, 0.5, 0.4666666666666667, 0.5333333333333333, 0.5666666666666667, 0.6333333333333333, 0.7, 0.5, 0.43333333333333335, 0.6, 0.4666666666666667, 0.5333333333333333, 0.5, 0.5666666666666667, 0.4666666666666667, 0.43333333333333335, 0.43333333333333335, 0.4666666666666667, 0.5, 0.5, 0.6333333333333333, 0.36666666666666664, 0.43333333333333335, 0.4, 0.43333333333333335, 0.5666666666666667, 0.4666666666666667, 0.43333333333333335, 0.6333333333333333, 0.43333333333333335, 0.3333333333333333, 0.5333333333333333, 0.4, 0.4666666666666667, 0.36666666666666664, 0.5, 0.6, 0.5, 0.4666666666666667, 0.6, 0.4666666666666667, 0.6666666666666666, 0.6, 0.5333333333333333, 0.5, 0.5333333333333333, 0.43333333333333335, 0.4666666666666667, 0.5333333333333333, 0.5, 0.6666666666666666, 0.5666666666666667, 0.4, 0.6333333333333333, 0.3, 0.5, 0.6, 0.6666666666666666, 0.5, 0.5, 0.4666666666666667, 0.5, 0.5666666666666667, 0.5, 0.5666666666666667, 0.3333333333333333, 0.3, 0.6, 0.36666666666666664, 0.43333333333333335, 0.4, 0.43333333333333335, 0.5, 0.5666666666666667, 0.5666666666666667, 0.5, 0.4, 0.5666666666666667, 0.4666666666666667, 0.5333333333333333, 0.43333333333333335, 0.43333333333333335, 0.6333333333333333, 0.4666666666666667, 0.4666666666666667, 0.4666666666666667, 0.5, 0.5333333333333333, 0.5, 0.3333333333333333, 0.6, 0.5666666666666667, 0.26666666666666666, 0.43333333333333335, 0.6, 0.5, 0.5, 0.4666666666666667, 0.6, 0.5333333333333333, 0.36666666666666664, 0.5333333333333333, 0.5333333333333333, 0.6333333333333333, 0.4666666666666667, 0.43333333333333335, 0.6, 0.5333333333333333, 0.5, 0.43333333333333335, 0.4666666666666667, 0.5333333333333333, 0.5, 0.5, 0.5333333333333333, 0.5, 0.5, 0.4666666666666667, 0.6, 0.5, 0.6666666666666666, 0.4, 0.6, 0.4, 0.4, 0.4, 0.7333333333333333, 0.4666666666666667, 0.43333333333333335, 0.43333333333333335, 0.6, 0.6, 0.5333333333333333, 0.4666666666666667, 0.6, 0.5666666666666667, 0.5666666666666667, 0.5, 0.43333333333333335, 0.5333333333333333, 0.36666666666666664, 0.6666666666666666, 0.5666666666666667, 0.43333333333333335, 0.4666666666666667, 0.7, 0.4, 0.43333333333333335, 0.5, 0.5, 0.5333333333333333, 0.4, 0.23333333333333334, 0.5, 0.43333333333333335, 0.5333333333333333, 0.5666666666666667, 0.43333333333333335, 0.5, 0.5333333333333333, 0.5333333333333333, 0.4666666666666667, 0.5, 0.6, 0.5333333333333333, 0.6666666666666666, 0.5666666666666667, 0.5666666666666667, 0.4, 0.4666666666666667, 0.6, 0.6, 0.5, 0.3333333333333333, 0.5666666666666667, 0.6666666666666666, 0.4666666666666667, 0.6333333333333333, 0.5666666666666667, 0.5, 0.6, 0.4666666666666667, 0.4, 0.5, 0.4666666666666667, 0.3, 0.5666666666666667, 0.6666666666666666, 0.36666666666666664, 0.4666666666666667, 0.5, 0.6, 0.3333333333333333, 0.5666666666666667, 0.4666666666666667, 0.43333333333333335, 0.7, 0.43333333333333335, 0.5666666666666667, 0.3333333333333333, 0.5, 0.5666666666666667, 0.4666666666666667, 0.43333333333333335, 0.5, 0.5333333333333333, 0.4666666666666667, 0.4, 0.5666666666666667, 0.5333333333333333, 0.5666666666666667, 0.36666666666666664, 0.3, 0.4666666666666667, 0.5, 0.5333333333333333, 0.6333333333333333, 0.5333333333333333, 0.4, 0.6333333333333333, 0.6666666666666666, 0.6, 0.4, 0.5, 0.5666666666666667, 0.43333333333333335, 0.5333333333333333, 0.43333333333333335, 0.5, 0.6333333333333333, 0.43333333333333335, 0.4666666666666667, 0.43333333333333335, 0.4666666666666667, 0.5, 0.43333333333333335, 0.5666666666666667, 0.4, 0.5, 0.5, 0.4, 0.43333333333333335, 0.5666666666666667, 0.43333333333333335, 0.5333333333333333, 0.5333333333333333, 0.4, 0.6, 0.5333333333333333, 0.6, 0.5, 0.5, 0.5333333333333333, 0.43333333333333335, 0.5666666666666667, 0.5666666666666667, 0.6, 0.6333333333333333, 0.5666666666666667, 0.3333333333333333, 0.4666666666666667, 0.5333333333333333, 0.5666666666666667, 0.5333333333333333, 0.5333333333333333, 0.36666666666666664, 0.5666666666666667, 0.4, 0.5333333333333333, 0.4666666666666667, 0.6, 0.4, 0.6, 0.4, 0.5333333333333333, 0.5333333333333333, 0.6, 0.5, 0.5, 0.6, 0.4666666666666667, 0.5666666666666667, 0.6, 0.6, 0.5, 0.43333333333333335, 0.5, 0.43333333333333335, 0.5666666666666667, 0.3333333333333333, 0.43333333333333335, 0.43333333333333335, 0.4666666666666667, 0.43333333333333335, 0.5, 0.5666666666666667, 0.5333333333333333, 0.43333333333333335, 0.26666666666666666, 0.5, 0.4, 0.4, 0.6666666666666666, 0.6333333333333333, 0.6, 0.6, 0.6, 0.5333333333333333, 0.5333333333333333, 0.5333333333333333, 0.6666666666666666, 0.5333333333333333, 0.6333333333333333, 0.6, 0.5666666666666667, 0.5333333333333333, 0.43333333333333335, 0.5333333333333333, 0.36666666666666664, 0.36666666666666664, 0.5, 0.5, 0.4666666666666667, 0.5333333333333333, 0.4, 0.5666666666666667, 0.5, 0.5666666666666667, 0.4666666666666667, 0.6333333333333333, 0.4, 0.43333333333333335, 0.5666666666666667, 0.6666666666666666, 0.3, 0.4, 0.43333333333333335, 0.4666666666666667, 0.5, 0.5, 0.5333333333333333, 0.5333333333333333, 0.5, 0.6666666666666666, 0.4666666666666667, 0.6333333333333333, 0.5333333333333333, 0.4, 0.43333333333333335, 0.5333333333333333, 0.5333333333333333, 0.43333333333333335, 0.43333333333333335, 0.43333333333333335, 0.4, 0.6333333333333333, 0.5666666666666667, 0.4, 0.43333333333333335, 0.2, 0.43333333333333335, 0.4, 0.43333333333333335, 0.4, 0.43333333333333335, 0.5, 0.5, 0.5333333333333333, 0.6, 0.4, 0.5, 0.6333333333333333, 0.5666666666666667, 0.5666666666666667, 0.5333333333333333, 0.43333333333333335, 0.5333333333333333, 0.6333333333333333, 0.4666666666666667, 0.43333333333333335, 0.4, 0.43333333333333335, 0.4666666666666667, 0.6333333333333333, 0.5333333333333333, 0.5666666666666667, 0.5666666666666667, 0.6333333333333333, 0.5666666666666667, 0.6333333333333333, 0.5, 0.43333333333333335, 0.4666666666666667, 0.5666666666666667, 0.6333333333333333, 0.4666666666666667, 0.43333333333333335, 0.5333333333333333, 0.5666666666666667, 0.5333333333333333, 0.5333333333333333, 0.4666666666666667, 0.36666666666666664, 0.5333333333333333, 0.3, 0.4666666666666667, 0.5666666666666667, 0.5, 0.4666666666666667, 0.4666666666666667, 0.5666666666666667, 0.4, 0.5, 0.4666666666666667, 0.5333333333333333, 0.5666666666666667, 0.6333333333333333, 0.5, 0.43333333333333335, 0.43333333333333335, 0.4666666666666667, 0.5666666666666667, 0.5, 0.36666666666666664, 0.5333333333333333, 0.6666666666666666, 0.36666666666666664, 0.36666666666666664, 0.43333333333333335, 0.23333333333333334, 0.6, 0.4, 0.5, 0.43333333333333335, 0.6333333333333333, 0.5666666666666667, 0.5, 0.5666666666666667, 0.5666666666666667, 0.4, 0.5, 0.43333333333333335, 0.36666666666666664, 0.5333333333333333, 0.43333333333333335, 0.5666666666666667, 0.43333333333333335, 0.5666666666666667, 0.5333333333333333, 0.36666666666666664, 0.5, 0.3333333333333333, 0.4, 0.6333333333333333, 0.5, 0.5666666666666667, 0.5, 0.6333333333333333, 0.5, 0.4, 0.5, 0.4, 0.36666666666666664, 0.4, 0.5666666666666667, 0.5666666666666667, 0.5, 0.4, 0.4666666666666667, 0.5333333333333333, 0.5, 0.3333333333333333, 0.4666666666666667, 0.43333333333333335, 0.5, 0.6666666666666666, 0.4666666666666667, 0.6, 0.36666666666666664, 0.3333333333333333, 0.5, 0.6, 0.5666666666666667, 0.5, 0.4666666666666667, 0.6333333333333333, 0.4666666666666667, 0.4666666666666667, 0.3, 0.4, 0.6, 0.5, 0.5666666666666667, 0.5333333333333333, 0.6666666666666666, 0.43333333333333335, 0.4, 0.4, 0.5, 0.4666666666666667, 0.5, 0.4666666666666667, 0.5666666666666667, 0.7, 0.5333333333333333, 0.5333333333333333, 0.4666666666666667, 0.4666666666666667, 0.43333333333333335, 0.4666666666666667, 0.5, 0.5333333333333333, 0.6333333333333333, 0.6666666666666666, 0.5666666666666667, 0.4666666666666667, 0.43333333333333335, 0.4, 0.6666666666666666, 0.5, 0.5, 0.43333333333333335, 0.5333333333333333, 0.5666666666666667, 0.4666666666666667, 0.43333333333333335, 0.43333333333333335, 0.4666666666666667, 0.6333333333333333, 0.6666666666666666, 0.5333333333333333, 0.3333333333333333, 0.5333333333333333, 0.4666666666666667, 0.5666666666666667, 0.5, 0.5333333333333333, 0.6, 0.6, 0.4, 0.43333333333333335, 0.5, 0.6333333333333333, 0.5333333333333333, 0.5, 0.5666666666666667, 0.5333333333333333, 0.5666666666666667, 0.5333333333333333, 0.4666666666666667, 0.36666666666666664, 0.4666666666666667, 0.5, 0.43333333333333335, 0.5, 0.4, 0.2, 0.43333333333333335, 0.5, 0.4666666666666667, 0.5333333333333333, 0.5, 0.43333333333333335, 0.4, 0.4666666666666667, 0.5333333333333333, 0.43333333333333335, 0.6333333333333333, 0.5333333333333333, 0.4666666666666667, 0.6, 0.6333333333333333, 0.4666666666666667, 0.43333333333333335, 0.5666666666666667, 0.6333333333333333, 0.6, 0.5666666666666667, 0.5333333333333333, 0.6666666666666666, 0.5, 0.5666666666666667, 0.5666666666666667, 0.5333333333333333, 0.5, 0.4666666666666667, 0.5333333333333333, 0.4, 0.3333333333333333, 0.5, 0.36666666666666664, 0.4666666666666667, 0.5, 0.5333333333333333, 0.4666666666666667, 0.5666666666666667, 0.43333333333333335, 0.4, 0.36666666666666664, 0.5666666666666667, 0.6333333333333333, 0.43333333333333335, 0.4, 0.5, 0.4, 0.4, 0.4, 0.4666666666666667, 0.6333333333333333, 0.4666666666666667, 0.36666666666666664, 0.4666666666666667, 0.5, 0.5, 0.5333333333333333, 0.4, 0.5666666666666667, 0.4666666666666667, 0.4666666666666667, 0.36666666666666664, 0.5, 0.43333333333333335, 0.43333333333333335, 0.4666666666666667, 0.4666666666666667, 0.3, 0.5, 0.5, 0.43333333333333335, 0.4, 0.5, 0.6333333333333333, 0.4, 0.43333333333333335, 0.36666666666666664, 0.6, 0.5666666666666667, 0.43333333333333335, 0.6, 0.5, 0.5333333333333333, 0.43333333333333335, 0.4666666666666667, 0.4666666666666667, 0.5, 0.43333333333333335, 0.43333333333333335, 0.43333333333333335, 0.4, 0.5, 0.43333333333333335, 0.36666666666666664, 0.4666666666666667, 0.6666666666666666, 0.7333333333333333, 0.5666666666666667, 0.5, 0.5333333333333333, 0.4, 0.4, 0.43333333333333335, 0.4666666666666667, 0.5666666666666667, 0.5, 0.5333333333333333, 0.5333333333333333, 0.4666666666666667, 0.4, 0.5333333333333333, 0.5, 0.5, 0.5666666666666667, 0.36666666666666664, 0.3333333333333333, 0.6, 0.4666666666666667, 0.36666666666666664, 0.5333333333333333, 0.4666666666666667, 0.5, 0.4666666666666667, 0.3, 0.4, 0.6, 0.6, 0.5333333333333333, 0.4, 0.5333333333333333, 0.4, 0.6666666666666666, 0.4, 0.43333333333333335, 0.6333333333333333, 0.43333333333333335, 0.5, 0.6666666666666666, 0.43333333333333335, 0.4, 0.5666666666666667, 0.5, 0.43333333333333335, 0.4666666666666667, 0.5, 0.5, 0.36666666666666664, 0.4, 0.5, 0.43333333333333335, 0.43333333333333335, 0.5, 0.3333333333333333, 0.5333333333333333, 0.7, 0.5, 0.36666666666666664, 0.5333333333333333, 0.4666666666666667, 0.5, 0.6333333333333333, 0.4666666666666667, 0.6333333333333333, 0.6, 0.43333333333333335, 0.5666666666666667, 0.26666666666666666, 0.4666666666666667, 0.5, 0.5, 0.5, 0.4666666666666667, 0.4666666666666667, 0.6333333333333333, 0.36666666666666664, 0.5, 0.43333333333333335, 0.5333333333333333, 0.5, 0.6, 0.5666666666666667, 0.7333333333333333, 0.5, 0.4, 0.4, 0.5333333333333333, 0.5333333333333333, 0.5333333333333333, 0.4, 0.5666666666666667, 0.4, 0.5, 0.6666666666666666, 0.5333333333333333, 0.3, 0.4, 0.5333333333333333, 0.4666666666666667, 0.4666666666666667, 0.5, 0.5666666666666667, 0.5333333333333333, 0.5, 0.5333333333333333, 0.5, 0.6333333333333333, 0.5333333333333333, 0.6666666666666666, 0.6666666666666666, 0.6, 0.43333333333333335, 0.6, 0.6333333333333333, 0.5, 0.4666666666666667, 0.43333333333333335, 0.5, 0.5666666666666667, 0.4, 0.43333333333333335, 0.6, 0.43333333333333335, 0.6333333333333333, 0.5, 0.43333333333333335, 0.4666666666666667, 0.5333333333333333, 0.5, 0.6333333333333333, 0.6333333333333333, 0.4666666666666667, 0.5, 0.4, 0.6333333333333333, 0.5666666666666667, 0.5, 0.5333333333333333, 0.5333333333333333, 0.5, 0.36666666666666664, 0.43333333333333335, 0.5, 0.5333333333333333, 0.6, 0.36666666666666664, 0.43333333333333335, 0.6333333333333333, 0.5, 0.43333333333333335, 0.5666666666666667, 0.5, 0.3333333333333333, 0.43333333333333335, 0.5333333333333333, 0.4666666666666667, 0.5, 0.4666666666666667, 0.43333333333333335, 0.36666666666666664, 0.4, 0.4, 0.4666666666666667, 0.5, 0.5333333333333333, 0.43333333333333335, 0.5, 0.3333333333333333, 0.36666666666666664, 0.5666666666666667, 0.43333333333333335, 0.6333333333333333, 0.4, 0.4666666666666667, 0.4666666666666667, 0.5, 0.5333333333333333, 0.4, 0.36666666666666664, 0.5, 0.43333333333333335, 0.6, 0.43333333333333335, 0.6, 0.3333333333333333, 0.43333333333333335, 0.5, 0.6666666666666666, 0.4666666666666667, 0.5, 0.5666666666666667, 0.7, 0.4, 0.6, 0.5, 0.4666666666666667, 0.43333333333333335, 0.4, 0.4666666666666667, 0.4666666666666667, 0.5, 0.5, 0.43333333333333335, 0.5666666666666667, 0.5, 0.43333333333333335, 0.6, 0.4, 0.7, 0.5333333333333333, 0.5666666666666667, 0.4666666666666667, 0.26666666666666666, 0.4, 0.5666666666666667, 0.43333333333333335, 0.5333333333333333, 0.4666666666666667, 0.3333333333333333, 0.4666666666666667, 0.5333333333333333, 0.5333333333333333, 0.43333333333333335, 0.4, 0.5, 0.5333333333333333, 0.43333333333333335, 0.4666666666666667, 0.6, 0.6333333333333333, 0.3, 0.5666666666666667, 0.43333333333333335, 0.43333333333333335, 0.3333333333333333, 0.3, 0.6, 0.5, 0.5, 0.4, 0.5333333333333333, 0.26666666666666666, 0.5333333333333333, 0.43333333333333335, 0.43333333333333335, 0.4, 0.43333333333333335, 0.43333333333333335, 0.36666666666666664, 0.4, 0.43333333333333335, 0.5, 0.3333333333333333, 0.5333333333333333, 0.5, 0.43333333333333335, 0.5, 0.6333333333333333, 0.6333333333333333, 0.4666666666666667, 0.5666666666666667, 0.5666666666666667, 0.4666666666666667, 0.5333333333333333, 0.4666666666666667, 0.5333333333333333, 0.4, 0.4, 0.5, 0.4, 0.43333333333333335, 0.5333333333333333, 0.6333333333333333, 0.43333333333333335, 0.5333333333333333, 0.5333333333333333, 0.6666666666666666, 0.4, 0.6333333333333333, 0.43333333333333335, 0.36666666666666664, 0.5333333333333333, 0.4666666666666667, 0.4, 0.36666666666666664, 0.5333333333333333, 0.43333333333333335, 0.43333333333333335, 0.5, 0.4, 0.5, 0.5, 0.7333333333333333, 0.7, 0.4, 0.5666666666666667, 0.7, 0.5, 0.5666666666666667, 0.4666666666666667, 0.5333333333333333, 0.4, 0.43333333333333335, 0.4666666666666667, 0.3, 0.43333333333333335, 0.36666666666666664, 0.26666666666666666, 0.5333333333333333, 0.43333333333333335, 0.5333333333333333, 0.5333333333333333, 0.4666666666666667, 0.4666666666666667, 0.5, 0.6333333333333333, 0.5, 0.43333333333333335, 0.5, 0.4, 0.5333333333333333, 0.4666666666666667, 0.5333333333333333, 0.6, 0.6333333333333333, 0.5666666666666667, 0.6333333333333333, 0.43333333333333335, 0.6, 0.5, 0.4666666666666667, 0.5, 0.6, 0.5666666666666667, 0.5333333333333333, 0.26666666666666666, 0.4666666666666667, 0.5333333333333333, 0.5, 0.4666666666666667, 0.4666666666666667, 0.7, 0.6, 0.5, 0.6333333333333333, 0.6, 0.5, 0.5333333333333333, 0.4666666666666667, 0.5333333333333333, 0.6666666666666666, 0.4, 0.4, 0.5, 0.5, 0.4666666666666667, 0.43333333333333335, 0.3333333333333333, 0.6666666666666666, 0.5666666666666667, 0.6, 0.6333333333333333, 0.43333333333333335, 0.5666666666666667, 0.36666666666666664, 0.43333333333333335, 0.5, 0.6, 0.43333333333333335, 0.6333333333333333, 0.6, 0.6, 0.6666666666666666, 0.4, 0.6333333333333333, 0.6, 0.3333333333333333, 0.6666666666666666, 0.4666666666666667, 0.5, 0.36666666666666664, 0.4, 0.6333333333333333, 0.5666666666666667, 0.4666666666666667, 0.43333333333333335, 0.5, 0.5666666666666667, 0.6333333333333333, 0.5, 0.4666666666666667, 0.4, 0.5, 0.4666666666666667, 0.6, 0.5333333333333333, 0.43333333333333335, 0.6666666666666666, 0.36666666666666664, 0.7, 0.6333333333333333, 0.6333333333333333, 0.5666666666666667, 0.43333333333333335, 0.43333333333333335, 0.5, 0.5666666666666667, 0.5666666666666667, 0.5333333333333333, 0.5666666666666667, 0.6, 0.6666666666666666, 0.6666666666666666, 0.5, 0.6666666666666666, 0.43333333333333335, 0.6333333333333333, 0.5, 0.3333333333333333, 0.43333333333333335, 0.4, 0.5, 0.6, 0.3333333333333333, 0.4666666666666667, 0.6, 0.6666666666666666, 0.4666666666666667, 0.4, 0.6333333333333333, 0.7, 0.4666666666666667, 0.6666666666666666, 0.5333333333333333, 0.4666666666666667, 0.5333333333333333, 0.36666666666666664, 0.5333333333333333, 0.4666666666666667, 0.5, 0.5666666666666667, 0.3, 0.43333333333333335, 0.5, 0.5333333333333333, 0.5, 0.43333333333333335, 0.43333333333333335, 0.43333333333333335, 0.4666666666666667, 0.3, 0.4666666666666667, 0.5333333333333333, 0.6, 0.4666666666666667, 0.3, 0.5333333333333333, 0.4666666666666667, 0.5, 0.5, 0.5, 0.43333333333333335, 0.5333333333333333, 0.5, 0.4, 0.5, 0.4666666666666667, 0.36666666666666664, 0.43333333333333335, 0.5333333333333333, 0.6333333333333333, 0.3333333333333333, 0.36666666666666664, 0.5, 0.6, 0.43333333333333335, 0.5666666666666667, 0.5333333333333333, 0.4666666666666667, 0.4666666666666667, 0.5, 0.43333333333333335, 0.5666666666666667, 0.4666666666666667, 0.5333333333333333, 0.5, 0.4666666666666667, 0.43333333333333335, 0.3333333333333333, 0.6, 0.5666666666666667, 0.5, 0.5333333333333333, 0.5, 0.6333333333333333, 0.6333333333333333, 0.4666666666666667, 0.43333333333333335, 0.6, 0.5333333333333333, 0.5333333333333333, 0.6333333333333333, 0.6, 0.5333333333333333, 0.5666666666666667, 0.6666666666666666, 0.5333333333333333, 0.5666666666666667, 0.5333333333333333, 0.43333333333333335, 0.3333333333333333, 0.4666666666666667, 0.36666666666666664, 0.6, 0.5333333333333333, 0.5, 0.5666666666666667, 0.6, 0.3333333333333333, 0.4666666666666667, 0.6666666666666666, 0.4, 0.5666666666666667, 0.6, 0.6, 0.23333333333333334, 0.5, 0.4666666666666667, 0.36666666666666664, 0.5, 0.5666666666666667, 0.36666666666666664, 0.6, 0.36666666666666664, 0.43333333333333335, 0.36666666666666664, 0.5333333333333333, 0.43333333333333335, 0.5666666666666667, 0.36666666666666664, 0.5, 0.6666666666666666, 0.5333333333333333, 0.5333333333333333, 0.6666666666666666, 0.5333333333333333, 0.4666666666666667, 0.6333333333333333, 0.5333333333333333, 0.5666666666666667, 0.36666666666666664, 0.4666666666666667, 0.5, 0.6333333333333333, 0.6, 0.36666666666666664, 0.6, 0.43333333333333335, 0.4666666666666667, 0.5666666666666667, 0.5, 0.43333333333333335, 0.3333333333333333, 0.36666666666666664, 0.6333333333333333, 0.5, 0.3333333333333333, 0.6333333333333333, 0.5333333333333333, 0.5, 0.7, 0.43333333333333335, 0.4666666666666667, 0.4, 0.5, 0.5666666666666667, 0.5, 0.6333333333333333, 0.6333333333333333, 0.43333333333333335, 0.5333333333333333, 0.43333333333333335, 0.5666666666666667, 0.6, 0.5666666666666667, 0.6, 0.5, 0.5, 0.4666666666666667, 0.6, 0.5, 0.36666666666666664, 0.5666666666666667, 0.5, 0.6, 0.5, 0.5666666666666667, 0.5333333333333333, 0.5333333333333333, 0.5, 0.43333333333333335, 0.5666666666666667, 0.7666666666666667, 0.5333333333333333, 0.5333333333333333, 0.5333333333333333, 0.6333333333333333, 0.5, 0.5333333333333333, 0.4666666666666667, 0.4666666666666667, 0.5, 0.36666666666666664, 0.43333333333333335, 0.5, 0.4666666666666667, 0.6333333333333333, 0.5, 0.3333333333333333, 0.3333333333333333, 0.5333333333333333, 0.5666666666666667, 0.4666666666666667, 0.4, 0.5333333333333333, 0.6666666666666666, 0.6, 0.36666666666666664, 0.6333333333333333, 0.6333333333333333, 0.4666666666666667, 0.4666666666666667, 0.5333333333333333, 0.6, 0.6, 0.5666666666666667, 0.43333333333333335, 0.5666666666666667, 0.6333333333333333, 0.5, 0.6666666666666666, 0.43333333333333335, 0.7, 0.4666666666666667, 0.5333333333333333, 0.5666666666666667, 0.5666666666666667, 0.5333333333333333, 0.4666666666666667, 0.6666666666666666, 0.43333333333333335, 0.5333333333333333, 0.6666666666666666, 0.5666666666666667, 0.4, 0.43333333333333335, 0.5666666666666667, 0.4666666666666667, 0.5666666666666667, 0.5333333333333333, 0.6, 0.5333333333333333, 0.43333333333333335, 0.4666666666666667, 0.5666666666666667, 0.36666666666666664, 0.43333333333333335, 0.5333333333333333, 0.4, 0.5333333333333333, 0.4666666666666667, 0.5, 0.5666666666666667, 0.5, 0.4666666666666667, 0.6666666666666666, 0.5, 0.43333333333333335, 0.4, 0.6666666666666666, 0.6666666666666666, 0.5333333333333333, 0.5, 0.43333333333333335, 0.43333333333333335, 0.26666666666666666, 0.7, 0.5666666666666667, 0.4666666666666667, 0.43333333333333335, 0.5333333333333333, 0.5, 0.5, 0.4666666666666667, 0.6, 0.5333333333333333, 0.5666666666666667, 0.5, 0.4666666666666667, 0.43333333333333335, 0.6, 0.4666666666666667, 0.5333333333333333, 0.43333333333333335, 0.36666666666666664, 0.5666666666666667, 0.43333333333333335, 0.7, 0.5666666666666667, 0.5666666666666667, 0.5333333333333333, 0.4666666666666667, 0.36666666666666664, 0.3333333333333333, 0.36666666666666664, 0.4, 0.36666666666666664, 0.36666666666666664, 0.4, 0.5, 0.6333333333333333, 0.43333333333333335, 0.4, 0.43333333333333335, 0.4, 0.5, 0.43333333333333335, 0.6666666666666666, 0.4666666666666667, 0.6, 0.7, 0.5, 0.4666666666666667, 0.3333333333333333, 0.4, 0.43333333333333335, 0.6, 0.4, 0.4666666666666667, 0.5, 0.4, 0.5333333333333333, 0.5333333333333333, 0.5333333333333333, 0.4, 0.6, 0.43333333333333335, 0.5333333333333333, 0.5, 0.6666666666666666, 0.5, 0.6, 0.5333333333333333, 0.6333333333333333, 0.43333333333333335, 0.5666666666666667, 0.43333333333333335, 0.4666666666666667, 0.5, 0.5333333333333333, 0.5666666666666667, 0.3333333333333333, 0.6, 0.5, 0.6, 0.3333333333333333, 0.5666666666666667, 0.4, 0.4666666666666667, 0.4, 0.4666666666666667, 0.5333333333333333, 0.5333333333333333, 0.6333333333333333, 0.4666666666666667, 0.43333333333333335, 0.43333333333333335, 0.6333333333333333, 0.5333333333333333, 0.43333333333333335, 0.5, 0.43333333333333335, 0.6666666666666666, 0.4, 0.4666666666666667, 0.3333333333333333, 0.6, 0.5666666666666667, 0.4666666666666667, 0.5666666666666667, 0.6666666666666666, 0.4666666666666667, 0.7, 0.6333333333333333, 0.6333333333333333, 0.4666666666666667, 0.5333333333333333, 0.3333333333333333, 0.4, 0.5, 0.43333333333333335, 0.6, 0.3333333333333333, 0.5666666666666667, 0.4666666666666667, 0.4666666666666667, 0.4, 0.4666666666666667, 0.7, 0.4666666666666667, 0.6333333333333333, 0.4666666666666667, 0.5, 0.5666666666666667, 0.5, 0.4666666666666667, 0.6333333333333333, 0.7, 0.4666666666666667, 0.6333333333333333, 0.5666666666666667, 0.5333333333333333, 0.5, 0.6, 0.6333333333333333, 0.4, 0.6, 0.5333333333333333, 0.5333333333333333, 0.4666666666666667, 0.4666666666666667, 0.36666666666666664, 0.4666666666666667, 0.43333333333333335, 0.5, 0.5, 0.5, 0.5666666666666667, 0.43333333333333335, 0.26666666666666666, 0.3333333333333333, 0.5666666666666667, 0.5, 0.4666666666666667, 0.5333333333333333, 0.5666666666666667, 0.5, 0.6333333333333333, 0.6666666666666666, 0.43333333333333335, 0.5666666666666667, 0.5, 0.5, 0.36666666666666664, 0.5333333333333333, 0.4666666666666667, 0.6666666666666666, 0.5333333333333333, 0.6, 0.43333333333333335, 0.5333333333333333, 0.36666666666666664, 0.36666666666666664, 0.5333333333333333, 0.5333333333333333, 0.5, 0.4666666666666667, 0.4, 0.4666666666666667, 0.4666666666666667, 0.6666666666666666, 0.6333333333333333, 0.4666666666666667, 0.5333333333333333, 0.5, 0.5, 0.26666666666666666, 0.6, 0.5333333333333333, 0.5333333333333333, 0.5, 0.6, 0.43333333333333335, 0.6666666666666666, 0.6, 0.5, 0.5, 0.5, 0.6333333333333333, 0.5333333333333333, 0.36666666666666664, 0.6333333333333333, 0.4666666666666667, 0.5333333333333333, 0.5, 0.4666666666666667, 0.16666666666666666, 0.5333333333333333, 0.43333333333333335, 0.5333333333333333, 0.4, 0.6666666666666666, 0.6, 0.43333333333333335, 0.6333333333333333, 0.3333333333333333, 0.3, 0.6, 0.5, 0.43333333333333335, 0.4666666666666667, 0.43333333333333335, 0.43333333333333335, 0.3333333333333333, 0.4, 0.5, 0.5, 0.5666666666666667, 0.3333333333333333, 0.5333333333333333, 0.3333333333333333, 0.8, 0.5, 0.43333333333333335, 0.5666666666666667, 0.5333333333333333, 0.5666666666666667, 0.6333333333333333, 0.43333333333333335, 0.43333333333333335, 0.5666666666666667, 0.5333333333333333, 0.4666666666666667, 0.4, 0.4666666666666667, 0.4, 0.3333333333333333, 0.6333333333333333, 0.6, 0.4666666666666667, 0.43333333333333335, 0.36666666666666664, 0.36666666666666664, 0.4, 0.4666666666666667, 0.43333333333333335, 0.36666666666666664, 0.4666666666666667, 0.5333333333333333, 0.5333333333333333, 0.43333333333333335, 0.5, 0.5666666666666667, 0.5666666666666667, 0.4666666666666667, 0.43333333333333335, 0.6, 0.6, 0.5666666666666667, 0.4, 0.43333333333333335, 0.36666666666666664, 0.4666666666666667, 0.6333333333333333, 0.6, 0.6, 0.5666666666666667, 0.6333333333333333, 0.43333333333333335, 0.43333333333333335, 0.5666666666666667, 0.6, 0.4666666666666667, 0.43333333333333335, 0.4666666666666667, 0.43333333333333335, 0.4666666666666667, 0.43333333333333335, 0.5, 0.5333333333333333, 0.6666666666666666, 0.4666666666666667, 0.6, 0.43333333333333335, 0.4, 0.43333333333333335, 0.7333333333333333, 0.5333333333333333, 0.4666666666666667, 0.5333333333333333, 0.4, 0.6333333333333333, 0.5, 0.5666666666666667, 0.6333333333333333, 0.4666666666666667, 0.5, 0.5666666666666667, 0.5666666666666667, 0.4666666666666667, 0.6666666666666666, 0.4666666666666667, 0.4666666666666667, 0.4666666666666667, 0.36666666666666664, 0.6666666666666666, 0.5666666666666667, 0.5333333333333333, 0.5666666666666667, 0.5, 0.43333333333333335, 0.6, 0.6, 0.5, 0.4, 0.4, 0.6, 0.5666666666666667, 0.4666666666666667, 0.5333333333333333, 0.36666666666666664, 0.5333333333333333, 0.3333333333333333, 0.5666666666666667, 0.6, 0.5666666666666667, 0.4666666666666667, 0.6333333333333333, 0.7333333333333333, 0.6666666666666666, 0.6, 0.36666666666666664, 0.4666666666666667, 0.6333333333333333, 0.43333333333333335, 0.5333333333333333, 0.6333333333333333, 0.5, 0.4666666666666667, 0.5, 0.4, 0.4666666666666667, 0.4666666666666667, 0.3, 0.5666666666666667, 0.43333333333333335, 0.4, 0.5333333333333333, 0.5333333333333333, 0.4, 0.5, 0.4666666666666667, 0.36666666666666664, 0.5666666666666667, 0.43333333333333335, 0.26666666666666666, 0.4, 0.36666666666666664, 0.43333333333333335, 0.5, 0.43333333333333335, 0.5, 0.7, 0.4666666666666667, 0.5333333333333333, 0.4666666666666667, 0.5, 0.6333333333333333, 0.4666666666666667, 0.5666666666666667, 0.4666666666666667, 0.43333333333333335, 0.5333333333333333, 0.5666666666666667, 0.5666666666666667, 0.6, 0.6, 0.5666666666666667, 0.43333333333333335, 0.36666666666666664, 0.4, 0.5666666666666667, 0.6, 0.6333333333333333, 0.6, 0.43333333333333335, 0.6333333333333333, 0.5333333333333333, 0.6333333333333333, 0.5666666666666667, 0.5333333333333333, 0.5, 0.3333333333333333, 0.5, 0.5333333333333333, 0.5666666666666667, 0.5666666666666667, 0.43333333333333335, 0.43333333333333335, 0.6666666666666666, 0.5666666666666667, 0.36666666666666664, 0.36666666666666664, 0.4, 0.5333333333333333, 0.26666666666666666, 0.5333333333333333, 0.4, 0.5333333333333333, 0.5666666666666667, 0.4, 0.43333333333333335, 0.5333333333333333, 0.4666666666666667, 0.6, 0.7, 0.5, 0.36666666666666664, 0.4, 0.4, 0.4666666666666667, 0.4666666666666667, 0.43333333333333335, 0.4, 0.4666666666666667, 0.4, 0.4666666666666667, 0.4666666666666667, 0.43333333333333335, 0.5666666666666667, 0.36666666666666664, 0.4666666666666667, 0.5666666666666667, 0.5333333333333333, 0.4666666666666667, 0.5, 0.4666666666666667, 0.43333333333333335, 0.4, 0.5333333333333333, 0.36666666666666664, 0.5333333333333333, 0.36666666666666664, 0.4666666666666667, 0.36666666666666664, 0.6, 0.4666666666666667, 0.5666666666666667, 0.43333333333333335, 0.6333333333333333, 0.4666666666666667, 0.4, 0.4666666666666667, 0.43333333333333335, 0.6333333333333333, 0.5666666666666667, 0.4666666666666667, 0.5666666666666667, 0.5, 0.3, 0.3333333333333333, 0.5333333333333333, 0.5666666666666667, 0.6, 0.4, 0.7333333333333333, 0.5666666666666667, 0.43333333333333335, 0.7, 0.5, 0.5333333333333333, 0.5, 0.6333333333333333, 0.6333333333333333, 0.5333333333333333, 0.6333333333333333, 0.5, 0.5, 0.43333333333333335, 0.5666666666666667, 0.4666666666666667, 0.26666666666666666, 0.4, 0.5333333333333333, 0.4666666666666667, 0.4666666666666667, 0.4, 0.5666666666666667, 0.6333333333333333, 0.4666666666666667, 0.6, 0.43333333333333335, 0.5, 0.4, 0.36666666666666664, 0.6333333333333333, 0.5333333333333333, 0.5333333333333333, 0.5, 0.5333333333333333, 0.43333333333333335, 0.5, 0.5, 0.5, 0.6666666666666666, 0.5666666666666667, 0.5, 0.4666666666666667, 0.4, 0.4, 0.6, 0.5666666666666667, 0.6333333333333333, 0.26666666666666666, 0.4, 0.5, 0.5333333333333333, 0.5, 0.36666666666666664, 0.5, 0.43333333333333335, 0.5, 0.43333333333333335, 0.5666666666666667, 0.6, 0.4666666666666667, 0.4666666666666667, 0.5, 0.5333333333333333, 0.36666666666666664, 0.4666666666666667, 0.36666666666666664, 0.6333333333333333, 0.43333333333333335, 0.43333333333333335, 0.6, 0.5, 0.5, 0.36666666666666664, 0.5, 0.4666666666666667, 0.5333333333333333, 0.5, 0.5, 0.5, 0.7, 0.5666666666666667, 0.5333333333333333, 0.5333333333333333, 0.4, 0.26666666666666666, 0.4666666666666667, 0.4666666666666667, 0.6, 0.5333333333333333, 0.5666666666666667, 0.5333333333333333, 0.5666666666666667, 0.5, 0.4, 0.5, 0.4666666666666667, 0.4, 0.6666666666666666, 0.4666666666666667, 0.4666666666666667, 0.36666666666666664, 0.4666666666666667, 0.5666666666666667, 0.4666666666666667, 0.5, 0.43333333333333335, 0.6333333333333333, 0.5, 0.5, 0.6333333333333333, 0.4, 0.26666666666666666, 0.6, 0.4666666666666667, 0.5666666666666667, 0.5666666666666667, 0.3333333333333333, 0.6333333333333333, 0.3, 0.4666666666666667, 0.4666666666666667, 0.3, 0.5333333333333333, 0.43333333333333335, 0.36666666666666664, 0.5, 0.4666666666666667, 0.4666666666666667, 0.3333333333333333, 0.4666666666666667, 0.5, 0.36666666666666664, 0.6666666666666666, 0.5666666666666667, 0.36666666666666664, 0.6, 0.5666666666666667, 0.5666666666666667, 0.5, 0.36666666666666664, 0.5, 0.43333333333333335, 0.7333333333333333, 0.43333333333333335, 0.4666666666666667, 0.6, 0.5333333333333333, 0.5666666666666667, 0.6333333333333333, 0.6, 0.4666666666666667, 0.7333333333333333, 0.5666666666666667, 0.4, 0.6, 0.36666666666666664, 0.4666666666666667, 0.5333333333333333, 0.6666666666666666, 0.3333333333333333, 0.43333333333333335, 0.4666666666666667, 0.5666666666666667, 0.4666666666666667, 0.5333333333333333, 0.3333333333333333, 0.4666666666666667, 0.4666666666666667, 0.4666666666666667, 0.43333333333333335, 0.6666666666666666, 0.5333333333333333, 0.6, 0.4666666666666667, 0.4, 0.5333333333333333, 0.4, 0.43333333333333335, 0.5, 0.36666666666666664, 0.43333333333333335, 0.36666666666666664, 0.5333333333333333, 0.36666666666666664, 0.43333333333333335, 0.5666666666666667, 0.4, 0.43333333333333335, 0.5333333333333333, 0.5333333333333333, 0.5333333333333333, 0.5, 0.7, 0.4, 0.6333333333333333, 0.5, 0.6333333333333333, 0.4666666666666667, 0.4666666666666667, 0.4, 0.4, 0.5333333333333333, 0.5, 0.4666666666666667, 0.4, 0.3333333333333333, 0.5, 0.5333333333333333, 0.5666666666666667, 0.36666666666666664, 0.43333333333333335, 0.43333333333333335, 0.4666666666666667, 0.6333333333333333, 0.36666666666666664, 0.5666666666666667, 0.6, 0.5333333333333333, 0.5333333333333333, 0.6, 0.5333333333333333, 0.3, 0.43333333333333335, 0.43333333333333335, 0.5, 0.5, 0.5, 0.5, 0.6, 0.5666666666666667, 0.4666666666666667, 0.6333333333333333, 0.4, 0.4666666666666667, 0.43333333333333335, 0.5666666666666667, 0.4, 0.5333333333333333, 0.6, 0.36666666666666664, 0.5333333333333333, 0.36666666666666664, 0.5666666666666667, 0.5, 0.5333333333333333, 0.3333333333333333, 0.5, 0.5, 0.4666666666666667, 0.5, 0.5333333333333333, 0.4666666666666667, 0.6, 0.43333333333333335, 0.43333333333333335, 0.5, 0.5333333333333333, 0.6666666666666666, 0.36666666666666664, 0.4666666666666667, 0.4, 0.5, 0.5333333333333333, 0.43333333333333335, 0.5, 0.5333333333333333, 0.43333333333333335, 0.36666666666666664, 0.4666666666666667, 0.6, 0.6, 0.4666666666666667, 0.36666666666666664, 0.36666666666666664, 0.5, 0.5333333333333333, 0.5666666666666667, 0.4666666666666667, 0.3333333333333333, 0.5666666666666667, 0.4666666666666667, 0.6333333333333333, 0.6333333333333333, 0.5666666666666667, 0.5, 0.6333333333333333, 0.4666666666666667, 0.3333333333333333, 0.5333333333333333, 0.43333333333333335, 0.43333333333333335, 0.5333333333333333, 0.5666666666666667, 0.5, 0.5, 0.43333333333333335, 0.4666666666666667, 0.4, 0.6333333333333333, 0.5333333333333333, 0.6, 0.5333333333333333, 0.4, 0.43333333333333335, 0.5, 0.5666666666666667, 0.4666666666666667, 0.5666666666666667, 0.4666666666666667, 0.5, 0.5, 0.4, 0.5666666666666667, 0.5666666666666667, 0.5333333333333333, 0.5666666666666667, 0.4666666666666667, 0.4, 0.5, 0.4666666666666667, 0.5, 0.6333333333333333, 0.4666666666666667, 0.5666666666666667, 0.5333333333333333, 0.5333333333333333, 0.4, 0.5, 0.6333333333333333, 0.5666666666666667, 0.4666666666666667, 0.6, 0.5333333333333333, 0.5666666666666667, 0.6333333333333333, 0.5333333333333333, 0.5333333333333333, 0.5, 0.5666666666666667, 0.5333333333333333, 0.3, 0.4666666666666667, 0.6, 0.36666666666666664, 0.4, 0.7333333333333333, 0.5333333333333333, 0.7, 0.5333333333333333, 0.5333333333333333, 0.6, 0.5666666666666667, 0.5, 0.5333333333333333, 0.4666666666666667, 0.6, 0.3333333333333333, 0.36666666666666664, 0.5666666666666667, 0.5, 0.5666666666666667, 0.5333333333333333, 0.6666666666666666, 0.5666666666666667, 0.43333333333333335, 0.4666666666666667, 0.4666666666666667, 0.6333333333333333, 0.6, 0.5, 0.5333333333333333, 0.4, 0.6, 0.4666666666666667, 0.4, 0.43333333333333335, 0.4666666666666667, 0.5666666666666667, 0.5333333333333333, 0.5333333333333333, 0.43333333333333335, 0.36666666666666664, 0.5333333333333333, 0.5333333333333333, 0.3, 0.5333333333333333, 0.5, 0.6, 0.5333333333333333, 0.5, 0.43333333333333335, 0.6, 0.43333333333333335, 0.5333333333333333, 0.5333333333333333, 0.43333333333333335, 0.5666666666666667, 0.5666666666666667, 0.6666666666666666, 0.5, 0.6, 0.5333333333333333, 0.43333333333333335, 0.6, 0.6, 0.6333333333333333, 0.5333333333333333, 0.5333333333333333, 0.6, 0.43333333333333335, 0.3333333333333333, 0.6, 0.43333333333333335, 0.5666666666666667, 0.6666666666666666, 0.6, 0.4666666666666667, 0.5, 0.5333333333333333, 0.43333333333333335, 0.5, 0.4666666666666667, 0.43333333333333335, 0.5666666666666667, 0.4666666666666667, 0.43333333333333335, 0.43333333333333335, 0.5333333333333333, 0.6333333333333333, 0.6666666666666666, 0.4666666666666667, 0.5333333333333333, 0.43333333333333335, 0.6666666666666666, 0.43333333333333335, 0.7, 0.5333333333333333, 0.6666666666666666, 0.3333333333333333, 0.6, 0.4666666666666667, 0.6, 0.5, 0.4666666666666667, 0.6666666666666666, 0.4666666666666667, 0.5333333333333333, 0.5333333333333333, 0.3333333333333333, 0.4666666666666667, 0.4, 0.4666666666666667, 0.5, 0.36666666666666664, 0.3333333333333333, 0.3333333333333333, 0.6666666666666666, 0.6333333333333333, 0.4, 0.5666666666666667, 0.5333333333333333, 0.4666666666666667, 0.4, 0.5666666666666667, 0.5666666666666667, 0.5666666666666667, 0.5333333333333333, 0.36666666666666664, 0.4, 0.3333333333333333, 0.6333333333333333, 0.5, 0.5, 0.43333333333333335, 0.5333333333333333, 0.43333333333333335, 0.36666666666666664, 0.5333333333333333, 0.7666666666666667, 0.5666666666666667, 0.36666666666666664, 0.4, 0.5333333333333333, 0.6666666666666666, 0.43333333333333335, 0.5333333333333333, 0.5, 0.3333333333333333, 0.3333333333333333, 0.4, 0.6, 0.5666666666666667, 0.4666666666666667, 0.6, 0.43333333333333335, 0.43333333333333335, 0.6, 0.5, 0.4666666666666667, 0.5, 0.5666666666666667, 0.43333333333333335, 0.5333333333333333, 0.4, 0.36666666666666664, 0.5666666666666667, 0.5, 0.5666666666666667, 0.4666666666666667, 0.4666666666666667, 0.3333333333333333, 0.43333333333333335, 0.43333333333333335, 0.6333333333333333, 0.5333333333333333, 0.5, 0.5, 0.43333333333333335, 0.4666666666666667, 0.6, 0.5, 0.7333333333333333, 0.5333333333333333, 0.36666666666666664, 0.4666666666666667, 0.5666666666666667, 0.6666666666666666, 0.36666666666666664, 0.6, 0.5, 0.6333333333333333, 0.5333333333333333, 0.5666666666666667, 0.6333333333333333, 0.43333333333333335, 0.4666666666666667, 0.4, 0.5, 0.43333333333333335, 0.6, 0.5666666666666667, 0.5333333333333333, 0.4666666666666667, 0.5, 0.43333333333333335, 0.4666666666666667, 0.23333333333333334, 0.4, 0.4, 0.7, 0.4666666666666667, 0.5333333333333333, 0.5666666666666667, 0.5333333333333333, 0.3333333333333333, 0.5, 0.6, 0.5666666666666667, 0.6333333333333333, 0.5666666666666667, 0.7, 0.5, 0.5333333333333333, 0.6333333333333333, 0.43333333333333335, 0.5, 0.4, 0.6, 0.5666666666666667, 0.4666666666666667, 0.6333333333333333, 0.6, 0.5666666666666667, 0.36666666666666664, 0.5333333333333333, 0.6, 0.5333333333333333, 0.4666666666666667, 0.4666666666666667, 0.4666666666666667, 0.4666666666666667, 0.5666666666666667, 0.5, 0.5333333333333333, 0.4666666666666667, 0.6, 0.7, 0.5, 0.26666666666666666, 0.7666666666666667, 0.5, 0.36666666666666664, 0.4666666666666667, 0.4666666666666667, 0.5333333333333333, 0.5, 0.4, 0.5333333333333333, 0.6, 0.36666666666666664, 0.5, 0.6, 0.43333333333333335, 0.43333333333333335, 0.6, 0.5333333333333333, 0.43333333333333335, 0.5, 0.36666666666666664, 0.5333333333333333, 0.4, 0.4666666666666667, 0.5666666666666667, 0.43333333333333335, 0.5, 0.43333333333333335, 0.6, 0.5, 0.5666666666666667, 0.5666666666666667, 0.6, 0.4666666666666667, 0.4666666666666667, 0.4, 0.4, 0.36666666666666664, 0.5666666666666667, 0.5, 0.43333333333333335, 0.5666666666666667, 0.5666666666666667, 0.43333333333333335, 0.43333333333333335, 0.5, 0.5, 0.6, 0.5666666666666667, 0.43333333333333335, 0.5, 0.6, 0.26666666666666666, 0.5, 0.43333333333333335, 0.36666666666666664, 0.3333333333333333, 0.5, 0.43333333333333335, 0.4666666666666667, 0.5, 0.43333333333333335, 0.3333333333333333, 0.4, 0.4666666666666667, 0.43333333333333335, 0.5666666666666667, 0.5333333333333333, 0.6666666666666666, 0.4666666666666667, 0.5333333333333333, 0.3333333333333333, 0.5333333333333333, 0.4666666666666667, 0.4666666666666667, 0.5, 0.5333333333333333, 0.4666666666666667, 0.5333333333333333, 0.6333333333333333, 0.4666666666666667, 0.5333333333333333, 0.6, 0.5, 0.6666666666666666, 0.43333333333333335, 0.5, 0.43333333333333335, 0.5333333333333333, 0.5, 0.5, 0.36666666666666664, 0.5333333333333333, 0.4666666666666667, 0.5, 0.5666666666666667, 0.6, 0.4, 0.43333333333333335, 0.5666666666666667, 0.5, 0.5333333333333333, 0.6333333333333333, 0.7, 0.43333333333333335, 0.3333333333333333, 0.5, 0.5, 0.43333333333333335, 0.6333333333333333, 0.4, 0.5666666666666667, 0.5333333333333333, 0.5, 0.5333333333333333, 0.5, 0.6666666666666666, 0.4, 0.4, 0.43333333333333335, 0.4666666666666667, 0.3, 0.4666666666666667, 0.5, 0.4, 0.43333333333333335, 0.5, 0.4, 0.43333333333333335, 0.4, 0.4, 0.3333333333333333, 0.5, 0.43333333333333335, 0.26666666666666666, 0.36666666666666664, 0.5333333333333333, 0.43333333333333335, 0.6666666666666666, 0.6333333333333333, 0.43333333333333335, 0.36666666666666664, 0.3333333333333333, 0.5, 0.6, 0.6666666666666666, 0.4, 0.5333333333333333, 0.6333333333333333, 0.4666666666666667, 0.3333333333333333, 0.43333333333333335, 0.4666666666666667, 0.43333333333333335, 0.4666666666666667, 0.4, 0.6666666666666666, 0.7333333333333333, 0.5666666666666667, 0.23333333333333334, 0.4666666666666667, 0.4, 0.4, 0.5333333333333333, 0.5666666666666667, 0.6, 0.5666666666666667, 0.5, 0.4666666666666667, 0.4, 0.4666666666666667, 0.5, 0.5333333333333333, 0.4666666666666667, 0.6333333333333333, 0.36666666666666664, 0.5333333333333333, 0.5333333333333333, 0.5333333333333333, 0.5666666666666667, 0.7666666666666667, 0.3333333333333333, 0.4, 0.5666666666666667, 0.3, 0.5666666666666667, 0.5333333333333333, 0.5, 0.4666666666666667, 0.5333333333333333, 0.5333333333333333, 0.5, 0.36666666666666664, 0.6, 0.5333333333333333, 0.43333333333333335, 0.5, 0.4666666666666667, 0.5666666666666667, 0.3, 0.4666666666666667, 0.36666666666666664, 0.6666666666666666, 0.43333333333333335, 0.6, 0.4, 0.5333333333333333, 0.4666666666666667, 0.3333333333333333, 0.5, 0.43333333333333335, 0.5333333333333333, 0.5666666666666667, 0.5666666666666667, 0.43333333333333335, 0.5666666666666667, 0.5333333333333333, 0.4666666666666667, 0.3333333333333333, 0.6666666666666666, 0.6333333333333333, 0.5333333333333333, 0.6666666666666666, 0.5666666666666667, 0.5, 0.4666666666666667, 0.36666666666666664, 0.4, 0.6333333333333333, 0.4, 0.5, 0.4, 0.4, 0.5, 0.5, 0.4666666666666667, 0.2, 0.4666666666666667, 0.5, 0.5, 0.5, 0.3, 0.5, 0.4666666666666667, 0.5333333333333333, 0.4, 0.5, 0.6, 0.5, 0.5, 0.43333333333333335, 0.5666666666666667, 0.5, 0.4666666666666667, 0.26666666666666666, 0.4, 0.3333333333333333, 0.5666666666666667, 0.5333333333333333, 0.36666666666666664, 0.6, 0.6666666666666666, 0.6333333333333333, 0.4666666666666667, 0.5333333333333333, 0.5, 0.5, 0.5666666666666667, 0.36666666666666664, 0.4, 0.5, 0.43333333333333335, 0.5333333333333333, 0.6, 0.4666666666666667, 0.5666666666666667, 0.5, 0.36666666666666664, 0.43333333333333335, 0.4666666666666667, 0.5666666666666667, 0.43333333333333335, 0.7, 0.5666666666666667, 0.4666666666666667, 0.43333333333333335, 0.36666666666666664, 0.5333333333333333, 0.36666666666666664, 0.6, 0.43333333333333335, 0.5, 0.4, 0.5, 0.5333333333333333, 0.6, 0.6, 0.43333333333333335, 0.4666666666666667, 0.43333333333333335, 0.5333333333333333, 0.6, 0.36666666666666664, 0.6333333333333333, 0.5333333333333333, 0.43333333333333335, 0.4666666666666667, 0.4666666666666667, 0.5, 0.43333333333333335, 0.6666666666666666, 0.5333333333333333, 0.5, 0.5, 0.4, 0.4, 0.3333333333333333, 0.6, 0.5333333333333333, 0.3333333333333333, 0.5666666666666667, 0.4666666666666667, 0.4666666666666667, 0.5666666666666667, 0.5333333333333333, 0.43333333333333335, 0.3333333333333333, 0.5666666666666667, 0.5, 0.43333333333333335, 0.43333333333333335, 0.43333333333333335, 0.6, 0.43333333333333335, 0.4666666666666667, 0.4666666666666667, 0.5, 0.5333333333333333, 0.5333333333333333, 0.36666666666666664, 0.5666666666666667, 0.5, 0.5, 0.4666666666666667, 0.6, 0.36666666666666664, 0.7333333333333333, 0.5666666666666667, 0.36666666666666664, 0.4, 0.4666666666666667, 0.4666666666666667, 0.4666666666666667, 0.6, 0.4666666666666667, 0.5333333333333333, 0.36666666666666664, 0.4666666666666667, 0.5666666666666667, 0.5, 0.5333333333333333, 0.5, 0.5, 0.5, 0.36666666666666664, 0.5666666666666667, 0.6666666666666666, 0.5666666666666667, 0.4666666666666667, 0.5333333333333333, 0.5, 0.4, 0.4666666666666667, 0.4666666666666667, 0.4, 0.4666666666666667, 0.43333333333333335, 0.5, 0.6666666666666666, 0.4666666666666667, 0.5, 0.43333333333333335, 0.43333333333333335, 0.4666666666666667, 0.5333333333333333, 0.4666666666666667, 0.6333333333333333, 0.5, 0.5, 0.3333333333333333, 0.6333333333333333, 0.36666666666666664, 0.5, 0.5, 0.5, 0.6, 0.3333333333333333, 0.5666666666666667, 0.4, 0.4666666666666667, 0.5333333333333333, 0.43333333333333335, 0.4, 0.5333333333333333, 0.5333333333333333, 0.43333333333333335, 0.4666666666666667, 0.5333333333333333, 0.5333333333333333, 0.5333333333333333, 0.5, 0.5, 0.36666666666666664, 0.36666666666666664, 0.3, 0.3333333333333333, 0.4666666666666667, 0.5, 0.5, 0.5333333333333333, 0.6666666666666666, 0.4, 0.4, 0.3333333333333333, 0.5333333333333333, 0.4666666666666667, 0.5333333333333333, 0.5333333333333333, 0.5333333333333333, 0.6, 0.4666666666666667, 0.5666666666666667, 0.43333333333333335, 0.5333333333333333, 0.5666666666666667, 0.5666666666666667, 0.4, 0.4, 0.5, 0.43333333333333335, 0.3333333333333333, 0.5, 0.4, 0.4666666666666667, 0.43333333333333335, 0.6, 0.4, 0.5, 0.5333333333333333, 0.5333333333333333, 0.5333333333333333, 0.5333333333333333, 0.5, 0.4, 0.43333333333333335, 0.5, 0.5666666666666667, 0.4666666666666667, 0.5666666666666667, 0.4666666666666667, 0.6666666666666666, 0.5333333333333333, 0.6, 0.36666666666666664, 0.5, 0.4666666666666667, 0.5, 0.6333333333333333, 0.5333333333333333, 0.5333333333333333, 0.36666666666666664, 0.4, 0.5333333333333333, 0.4666666666666667, 0.4666666666666667, 0.4666666666666667, 0.5333333333333333, 0.5333333333333333, 0.4, 0.5, 0.6, 0.4666666666666667, 0.6, 0.7333333333333333, 0.3333333333333333, 0.43333333333333335, 0.5, 0.5666666666666667, 0.43333333333333335, 0.5333333333333333, 0.43333333333333335, 0.5, 0.4666666666666667, 0.4666666666666667, 0.5666666666666667, 0.5, 0.43333333333333335, 0.5, 0.6333333333333333, 0.6, 0.5333333333333333, 0.5, 0.36666666666666664, 0.7333333333333333, 0.6333333333333333, 0.4666666666666667, 0.4, 0.4, 0.4666666666666667, 0.5, 0.6, 0.6, 0.5666666666666667, 0.43333333333333335, 0.43333333333333335, 0.5333333333333333, 0.36666666666666664, 0.5333333333333333, 0.4666666666666667, 0.5666666666666667, 0.5, 0.43333333333333335, 0.5, 0.43333333333333335, 0.7, 0.6333333333333333, 0.5333333333333333, 0.6, 0.6333333333333333, 0.4666666666666667, 0.4666666666666667, 0.3333333333333333, 0.7333333333333333, 0.6, 0.4, 0.5, 0.4666666666666667, 0.5333333333333333, 0.4666666666666667, 0.5666666666666667, 0.4666666666666667, 0.5666666666666667, 0.6333333333333333, 0.4666666666666667, 0.43333333333333335, 0.5, 0.5666666666666667, 0.6, 0.5, 0.43333333333333335, 0.6, 0.4666666666666667, 0.43333333333333335, 0.5, 0.43333333333333335, 0.6, 0.36666666666666664, 0.4666666666666667, 0.5666666666666667, 0.5333333333333333, 0.3333333333333333, 0.5666666666666667, 0.5666666666666667, 0.5666666666666667, 0.6333333333333333, 0.7, 0.5, 0.5, 0.43333333333333335, 0.43333333333333335, 0.5, 0.43333333333333335, 0.5, 0.5, 0.5333333333333333, 0.5666666666666667, 0.5, 0.5, 0.4666666666666667, 0.4666666666666667, 0.5333333333333333, 0.6333333333333333, 0.5333333333333333, 0.4666666666666667, 0.6666666666666666, 0.4666666666666667, 0.5333333333333333, 0.43333333333333335, 0.5666666666666667, 0.5333333333333333, 0.23333333333333334, 0.6, 0.6, 0.6, 0.3333333333333333, 0.5333333333333333, 0.6, 0.5, 0.6666666666666666, 0.4666666666666667, 0.36666666666666664, 0.4666666666666667, 0.4666666666666667, 0.6333333333333333, 0.5333333333333333, 0.5333333333333333, 0.6666666666666666, 0.5, 0.36666666666666664, 0.5, 0.3333333333333333, 0.4, 0.5, 0.5333333333333333, 0.6666666666666666, 0.6, 0.3, 0.5, 0.4666666666666667, 0.5666666666666667, 0.4666666666666667, 0.5666666666666667, 0.5, 0.36666666666666664, 0.5, 0.43333333333333335, 0.3, 0.5666666666666667, 0.5333333333333333, 0.7333333333333333, 0.5, 0.43333333333333335, 0.4666666666666667, 0.5666666666666667, 0.4666666666666667, 0.5, 0.43333333333333335, 0.26666666666666666, 0.4666666666666667, 0.5, 0.43333333333333335, 0.5333333333333333, 0.6333333333333333, 0.3, 0.43333333333333335, 0.6, 0.6, 0.43333333333333335, 0.43333333333333335, 0.36666666666666664, 0.43333333333333335, 0.5, 0.5333333333333333, 0.5333333333333333, 0.6, 0.4666666666666667, 0.4666666666666667, 0.6666666666666666, 0.6666666666666666, 0.23333333333333334, 0.5, 0.36666666666666664, 0.5333333333333333, 0.6, 0.5333333333333333, 0.36666666666666664, 0.6, 0.43333333333333335, 0.43333333333333335, 0.5, 0.3333333333333333, 0.4666666666666667, 0.6333333333333333, 0.5, 0.5, 0.4666666666666667, 0.6333333333333333, 0.6, 0.5333333333333333, 0.4, 0.26666666666666666, 0.5, 0.5333333333333333, 0.4, 0.43333333333333335, 0.5333333333333333, 0.4666666666666667, 0.5, 0.36666666666666664, 0.5, 0.5666666666666667, 0.43333333333333335, 0.4666666666666667, 0.6666666666666666, 0.3333333333333333, 0.5666666666666667, 0.5666666666666667, 0.4, 0.5666666666666667, 0.6333333333333333, 0.5333333333333333, 0.36666666666666664, 0.6, 0.4, 0.26666666666666666, 0.5, 0.5666666666666667, 0.3, 0.6333333333333333, 0.5333333333333333, 0.43333333333333335, 0.4, 0.43333333333333335, 0.5, 0.4, 0.5333333333333333, 0.6333333333333333, 0.4666666666666667, 0.23333333333333334, 0.5666666666666667, 0.5666666666666667, 0.5, 0.4, 0.5, 0.36666666666666664, 0.5333333333333333, 0.5666666666666667, 0.4, 0.6333333333333333, 0.4666666666666667, 0.6, 0.4666666666666667, 0.4, 0.4666666666666667, 0.5333333333333333, 0.4666666666666667, 0.5, 0.23333333333333334, 0.5, 0.5, 0.4666666666666667, 0.4666666666666667, 0.7, 0.6333333333333333, 0.3333333333333333, 0.5, 0.5, 0.5, 0.36666666666666664, 0.5333333333333333, 0.5, 0.4, 0.5333333333333333, 0.5, 0.23333333333333334, 0.3333333333333333, 0.43333333333333335, 0.5333333333333333, 0.5, 0.4, 0.6, 0.5666666666666667, 0.5666666666666667, 0.6333333333333333, 0.6333333333333333, 0.4666666666666667, 0.5666666666666667, 0.4, 0.6, 0.5, 0.6, 0.36666666666666664, 0.5, 0.5, 0.5, 0.43333333333333335, 0.4666666666666667, 0.4666666666666667, 0.5333333333333333, 0.4, 0.4666666666666667, 0.5333333333333333, 0.36666666666666664, 0.5666666666666667, 0.5333333333333333, 0.43333333333333335, 0.4666666666666667, 0.5333333333333333, 0.4666666666666667, 0.43333333333333335, 0.5333333333333333, 0.4, 0.5, 0.4666666666666667, 0.5666666666666667, 0.6, 0.6, 0.4666666666666667, 0.4, 0.5666666666666667, 0.6, 0.6, 0.4666666666666667, 0.4666666666666667, 0.6, 0.6333333333333333, 0.6, 0.5, 0.5333333333333333, 0.5666666666666667, 0.5666666666666667, 0.5666666666666667, 0.6333333333333333, 0.7666666666666667, 0.43333333333333335, 0.43333333333333335, 0.43333333333333335, 0.6333333333333333, 0.43333333333333335, 0.4666666666666667, 0.6, 0.4666666666666667, 0.6, 0.43333333333333335, 0.7, 0.6666666666666666, 0.4, 0.5, 0.5666666666666667, 0.5333333333333333, 0.5, 0.5666666666666667, 0.5, 0.5333333333333333, 0.43333333333333335, 0.6, 0.4, 0.4, 0.5, 0.5666666666666667, 0.3333333333333333, 0.4666666666666667, 0.5, 0.5666666666666667, 0.5, 0.5666666666666667, 0.43333333333333335, 0.36666666666666664, 0.5666666666666667, 0.4666666666666667, 0.4666666666666667, 0.43333333333333335, 0.43333333333333335, 0.5666666666666667, 0.5333333333333333, 0.4, 0.6, 0.3333333333333333, 0.4666666666666667, 0.5, 0.4666666666666667, 0.5, 0.4666666666666667, 0.43333333333333335, 0.43333333333333335, 0.5333333333333333, 0.5333333333333333, 0.6, 0.5, 0.43333333333333335, 0.5666666666666667, 0.4666666666666667, 0.5333333333333333, 0.5, 0.4, 0.36666666666666664, 0.43333333333333335, 0.43333333333333335, 0.3333333333333333, 0.43333333333333335, 0.4, 0.5666666666666667, 0.4666666666666667, 0.5333333333333333, 0.5, 0.6, 0.6333333333333333, 0.5333333333333333, 0.5, 0.3333333333333333, 0.5666666666666667, 0.5, 0.5666666666666667, 0.5666666666666667, 0.5, 0.36666666666666664, 0.4666666666666667, 0.5333333333333333, 0.5, 0.5333333333333333, 0.4, 0.5, 0.6, 0.6333333333333333, 0.43333333333333335, 0.43333333333333335, 0.4666666666666667, 0.7333333333333333, 0.6333333333333333, 0.43333333333333335, 0.43333333333333335, 0.7, 0.5, 0.4, 0.4666666666666667, 0.5, 0.6, 0.5666666666666667, 0.5666666666666667, 0.4666666666666667, 0.4666666666666667, 0.6333333333333333, 0.36666666666666664, 0.6, 0.4666666666666667, 0.5333333333333333, 0.3333333333333333, 0.7333333333333333, 0.43333333333333335, 0.6666666666666666, 0.5666666666666667, 0.36666666666666664, 0.3, 0.36666666666666664, 0.5333333333333333, 0.5, 0.5, 0.5333333333333333, 0.5333333333333333, 0.43333333333333335, 0.43333333333333335, 0.43333333333333335, 0.6, 0.6333333333333333, 0.43333333333333335, 0.3333333333333333, 0.5333333333333333, 0.5333333333333333, 0.5, 0.43333333333333335, 0.6, 0.5, 0.5666666666666667, 0.5333333333333333, 0.4666666666666667, 0.5666666666666667, 0.5333333333333333, 0.43333333333333335, 0.43333333333333335, 0.5333333333333333, 0.6333333333333333, 0.6666666666666666, 0.4, 0.4, 0.5666666666666667, 0.5, 0.4, 0.36666666666666664, 0.4666666666666667, 0.4666666666666667, 0.7, 0.5, 0.4, 0.5666666666666667, 0.4, 0.5333333333333333, 0.5333333333333333, 0.5666666666666667, 0.6, 0.4, 0.6666666666666666, 0.6, 0.23333333333333334, 0.5666666666666667, 0.6, 0.4666666666666667, 0.6333333333333333, 0.36666666666666664, 0.5, 0.5666666666666667, 0.43333333333333335, 0.5, 0.6, 0.4666666666666667, 0.6333333333333333, 0.5666666666666667, 0.36666666666666664, 0.36666666666666664, 0.6333333333333333, 0.4666666666666667, 0.6666666666666666, 0.6, 0.4666666666666667, 0.5, 0.5333333333333333, 0.4, 0.43333333333333335, 0.6, 0.43333333333333335, 0.5333333333333333, 0.43333333333333335, 0.36666666666666664, 0.36666666666666664, 0.5666666666666667, 0.5, 0.6, 0.6666666666666666, 0.36666666666666664, 0.5333333333333333, 0.5333333333333333, 0.7333333333333333, 0.5333333333333333, 0.43333333333333335, 0.36666666666666664, 0.6333333333333333, 0.4666666666666667, 0.5, 0.5, 0.5333333333333333, 0.5333333333333333, 0.43333333333333335, 0.43333333333333335, 0.6666666666666666, 0.3333333333333333, 0.4666666666666667, 0.5, 0.5, 0.6666666666666666, 0.5666666666666667, 0.4, 0.36666666666666664, 0.26666666666666666, 0.43333333333333335, 0.4666666666666667, 0.6, 0.36666666666666664, 0.5, 0.5333333333333333, 0.4666666666666667, 0.6, 0.5333333333333333, 0.36666666666666664, 0.5333333333333333, 0.6, 0.4666666666666667, 0.4666666666666667, 0.5333333333333333, 0.5, 0.5333333333333333, 0.4666666666666667, 0.7, 0.4, 0.5333333333333333, 0.43333333333333335, 0.23333333333333334, 0.6, 0.43333333333333335, 0.6, 0.3333333333333333, 0.5, 0.5, 0.6, 0.4, 0.36666666666666664, 0.5, 0.4666666666666667, 0.4, 0.43333333333333335, 0.6, 0.5333333333333333, 0.5666666666666667, 0.6, 0.5, 0.5333333333333333, 0.5333333333333333, 0.5333333333333333, 0.7, 0.43333333333333335, 0.43333333333333335, 0.6, 0.6333333333333333, 0.5666666666666667, 0.4666666666666667, 0.5666666666666667, 0.5333333333333333, 0.36666666666666664, 0.43333333333333335, 0.4, 0.6333333333333333, 0.3333333333333333, 0.5, 0.4666666666666667, 0.5333333333333333, 0.5, 0.5333333333333333, 0.4, 0.6, 0.43333333333333335, 0.5333333333333333, 0.5333333333333333, 0.5333333333333333, 0.36666666666666664, 0.43333333333333335, 0.5666666666666667, 0.5, 0.5, 0.6666666666666666, 0.5333333333333333, 0.4666666666666667, 0.43333333333333335, 0.5333333333333333, 0.5666666666666667, 0.4666666666666667, 0.36666666666666664, 0.43333333333333335, 0.5, 0.5333333333333333, 0.5, 0.6, 0.4, 0.6333333333333333, 0.4666666666666667, 0.4666666666666667, 0.43333333333333335, 0.5, 0.36666666666666664, 0.7, 0.43333333333333335, 0.4666666666666667, 0.4666666666666667, 0.5333333333333333, 0.43333333333333335, 0.4666666666666667, 0.5, 0.5, 0.43333333333333335, 0.3333333333333333, 0.5333333333333333, 0.4, 0.3, 0.5666666666666667, 0.4, 0.5666666666666667, 0.36666666666666664, 0.5333333333333333, 0.7333333333333333, 0.6666666666666666, 0.5666666666666667, 0.6666666666666666, 0.4, 0.23333333333333334, 0.5333333333333333, 0.4666666666666667, 0.6333333333333333, 0.5, 0.5666666666666667, 0.5, 0.5333333333333333, 0.6333333333333333, 0.5333333333333333, 0.5666666666666667, 0.5333333333333333, 0.5333333333333333, 0.5, 0.43333333333333335, 0.3, 0.36666666666666664, 0.43333333333333335, 0.36666666666666664, 0.5, 0.43333333333333335, 0.5, 0.4666666666666667, 0.43333333333333335, 0.5, 0.43333333333333335, 0.5666666666666667, 0.6333333333333333, 0.5666666666666667, 0.4666666666666667, 0.5333333333333333, 0.5666666666666667, 0.5333333333333333, 0.6666666666666666, 0.5, 0.4666666666666667, 0.6333333333333333, 0.5, 0.5333333333333333, 0.5333333333333333, 0.5, 0.5333333333333333, 0.36666666666666664, 0.5, 0.5333333333333333, 0.5666666666666667, 0.5666666666666667, 0.6333333333333333, 0.4, 0.5, 0.4, 0.43333333333333335, 0.4666666666666667, 0.43333333333333335, 0.4666666666666667, 0.5333333333333333, 0.4666666666666667, 0.5, 0.43333333333333335, 0.4, 0.6, 0.6, 0.5, 0.43333333333333335, 0.5333333333333333, 0.6333333333333333, 0.6, 0.6333333333333333, 0.6333333333333333, 0.5666666666666667, 0.5666666666666667, 0.5333333333333333, 0.5333333333333333, 0.36666666666666664, 0.5666666666666667, 0.5, 0.6666666666666666, 0.43333333333333335, 0.5, 0.3, 0.7666666666666667, 0.6333333333333333, 0.4, 0.6666666666666666, 0.4, 0.5666666666666667, 0.5333333333333333, 0.5666666666666667, 0.4666666666666667, 0.4666666666666667, 0.6333333333333333, 0.6, 0.43333333333333335, 0.4666666666666667, 0.5333333333333333, 0.43333333333333335, 0.36666666666666664, 0.43333333333333335, 0.4666666666666667, 0.6666666666666666, 0.3333333333333333, 0.4666666666666667, 0.5333333333333333, 0.6666666666666666, 0.5666666666666667, 0.4, 0.6, 0.4, 0.4666666666666667, 0.6, 0.6, 0.5666666666666667, 0.5666666666666667, 0.7, 0.4, 0.6666666666666666, 0.4, 0.5333333333333333, 0.4666666666666667, 0.5, 0.5333333333333333, 0.43333333333333335, 0.5666666666666667, 0.4, 0.5666666666666667, 0.6, 0.43333333333333335, 0.5, 0.5666666666666667, 0.43333333333333335, 0.43333333333333335, 0.4666666666666667, 0.4666666666666667, 0.6, 0.5, 0.4666666666666667, 0.5, 0.43333333333333335, 0.3, 0.5, 0.5, 0.6333333333333333, 0.36666666666666664, 0.43333333333333335, 0.4, 0.43333333333333335, 0.5333333333333333, 0.4, 0.6, 0.5, 0.5666666666666667, 0.4666666666666667, 0.4666666666666667, 0.5666666666666667, 0.4, 0.5666666666666667, 0.6, 0.5, 0.7333333333333333, 0.5333333333333333, 0.4666666666666667, 0.5666666666666667, 0.26666666666666666, 0.4, 0.4, 0.43333333333333335, 0.5333333333333333, 0.5, 0.5, 0.4, 0.36666666666666664, 0.4666666666666667, 0.5333333333333333, 0.5, 0.6666666666666666, 0.5333333333333333, 0.36666666666666664, 0.5666666666666667, 0.5, 0.43333333333333335, 0.5333333333333333, 0.5666666666666667, 0.5333333333333333, 0.36666666666666664, 0.36666666666666664, 0.43333333333333335, 0.4666666666666667, 0.4666666666666667, 0.6, 0.43333333333333335, 0.5666666666666667, 0.6, 0.5666666666666667, 0.5333333333333333, 0.5666666666666667, 0.6666666666666666, 0.5333333333333333, 0.8, 0.3333333333333333, 0.5, 0.6, 0.5666666666666667, 0.5666666666666667, 0.5, 0.5, 0.5, 0.5666666666666667, 0.6333333333333333, 0.36666666666666664, 0.5666666666666667, 0.43333333333333335, 0.6, 0.5333333333333333, 0.4666666666666667, 0.4, 0.4, 0.5, 0.6333333333333333, 0.6, 0.6, 0.5333333333333333, 0.43333333333333335, 0.5, 0.3333333333333333, 0.5666666666666667, 0.4666666666666667, 0.3333333333333333, 0.5666666666666667, 0.6, 0.4666666666666667, 0.6, 0.5666666666666667, 0.5333333333333333, 0.4, 0.5, 0.5666666666666667, 0.6333333333333333, 0.43333333333333335, 0.6333333333333333, 0.4666666666666667, 0.5, 0.36666666666666664, 0.4666666666666667, 0.43333333333333335, 0.5333333333333333, 0.4, 0.5333333333333333, 0.43333333333333335, 0.5666666666666667, 0.36666666666666664, 0.36666666666666664, 0.5333333333333333, 0.6, 0.6, 0.4, 0.43333333333333335, 0.5666666666666667, 0.36666666666666664, 0.4666666666666667, 0.43333333333333335, 0.36666666666666664, 0.5, 0.4666666666666667, 0.43333333333333335, 0.6, 0.5, 0.6, 0.5333333333333333, 0.5, 0.6333333333333333, 0.4, 0.36666666666666664, 0.5666666666666667, 0.6666666666666666, 0.5666666666666667, 0.5333333333333333, 0.43333333333333335, 0.36666666666666664, 0.6, 0.43333333333333335, 0.43333333333333335, 0.4, 0.4, 0.43333333333333335, 0.4, 0.5333333333333333, 0.5333333333333333, 0.4666666666666667, 0.4, 0.4666666666666667, 0.4666666666666667, 0.6, 0.4666666666666667, 0.43333333333333335, 0.4666666666666667, 0.5, 0.4666666666666667, 0.3333333333333333, 0.5666666666666667, 0.5, 0.4666666666666667, 0.5, 0.5333333333333333, 0.5333333333333333, 0.5666666666666667, 0.36666666666666664, 0.43333333333333335, 0.6666666666666666, 0.5, 0.5333333333333333, 0.5333333333333333, 0.5, 0.43333333333333335, 0.6666666666666666, 0.5333333333333333, 0.6, 0.5666666666666667, 0.43333333333333335, 0.5333333333333333, 0.43333333333333335, 0.4, 0.5666666666666667, 0.5666666666666667, 0.4666666666666667, 0.5333333333333333, 0.6333333333333333, 0.6, 0.5666666666666667, 0.7333333333333333, 0.5666666666666667, 0.43333333333333335, 0.5666666666666667, 0.5333333333333333, 0.4, 0.5, 0.5, 0.43333333333333335, 0.43333333333333335, 0.43333333333333335, 0.5666666666666667, 0.5333333333333333, 0.5333333333333333, 0.3, 0.5, 0.5666666666666667, 0.43333333333333335, 0.36666666666666664, 0.4666666666666667, 0.5666666666666667, 0.5666666666666667, 0.5, 0.4, 0.4, 0.4666666666666667, 0.6333333333333333, 0.4666666666666667, 0.5333333333333333, 0.5333333333333333, 0.6666666666666666, 0.5333333333333333, 0.4, 0.6333333333333333, 0.4666666666666667, 0.36666666666666664, 0.4666666666666667, 0.6, 0.5333333333333333, 0.4666666666666667, 0.5666666666666667, 0.7333333333333333, 0.7, 0.4, 0.6666666666666666, 0.6333333333333333, 0.4, 0.5, 0.36666666666666664, 0.4, 0.4, 0.4666666666666667, 0.5333333333333333, 0.43333333333333335, 0.5333333333333333, 0.5, 0.7333333333333333, 0.6, 0.5333333333333333, 0.6333333333333333, 0.5, 0.6333333333333333, 0.43333333333333335, 0.4666666666666667, 0.5, 0.4666666666666667, 0.5333333333333333, 0.5333333333333333, 0.4, 0.5666666666666667, 0.5, 0.5666666666666667, 0.4, 0.5333333333333333, 0.5666666666666667, 0.5333333333333333, 0.6, 0.3333333333333333, 0.6, 0.5333333333333333, 0.4, 0.5333333333333333, 0.43333333333333335, 0.4666666666666667, 0.4666666666666667, 0.5333333333333333, 0.6333333333333333, 0.6, 0.4, 0.4666666666666667, 0.5666666666666667, 0.3333333333333333, 0.5333333333333333, 0.4, 0.5333333333333333, 0.43333333333333335, 0.43333333333333335, 0.4666666666666667, 0.5333333333333333, 0.5, 0.5666666666666667, 0.4, 0.6333333333333333, 0.4, 0.6, 0.6, 0.4666666666666667, 0.43333333333333335, 0.5333333333333333, 0.43333333333333335, 0.4666666666666667, 0.43333333333333335, 0.6333333333333333, 0.5, 0.4666666666666667, 0.36666666666666664, 0.4666666666666667, 0.43333333333333335, 0.26666666666666666, 0.5666666666666667, 0.5, 0.26666666666666666, 0.4, 0.43333333333333335, 0.6, 0.4666666666666667, 0.5333333333333333, 0.5333333333333333, 0.6333333333333333, 0.6333333333333333, 0.43333333333333335, 0.4666666666666667, 0.6333333333333333, 0.5666666666666667, 0.5333333333333333, 0.5333333333333333, 0.43333333333333335, 0.5333333333333333, 0.4666666666666667, 0.5, 0.6333333333333333, 0.6333333333333333, 0.3333333333333333, 0.6, 0.43333333333333335, 0.4, 0.6, 0.5666666666666667, 0.5666666666666667, 0.4666666666666667, 0.43333333333333335, 0.36666666666666664, 0.4666666666666667, 0.43333333333333335, 0.4666666666666667, 0.5666666666666667, 0.5, 0.36666666666666664, 0.4666666666666667, 0.5666666666666667, 0.4666666666666667, 0.3333333333333333, 0.5, 0.4, 0.5, 0.7, 0.43333333333333335, 0.4666666666666667, 0.43333333333333335, 0.5666666666666667, 0.5666666666666667, 0.6, 0.5333333333333333, 0.6, 0.36666666666666664, 0.5333333333333333, 0.5666666666666667, 0.5666666666666667, 0.6666666666666666, 0.5333333333333333, 0.4, 0.6333333333333333, 0.4666666666666667, 0.5333333333333333, 0.5333333333333333, 0.5666666666666667, 0.4666666666666667, 0.36666666666666664, 0.5333333333333333, 0.4666666666666667, 0.5666666666666667, 0.5333333333333333, 0.7, 0.43333333333333335, 0.5666666666666667, 0.5, 0.5, 0.7, 0.5, 0.5666666666666667, 0.5, 0.5333333333333333, 0.5333333333333333, 0.5, 0.5333333333333333, 0.5666666666666667, 0.5666666666666667, 0.6, 0.5666666666666667, 0.4, 0.5666666666666667, 0.7, 0.6666666666666666, 0.5333333333333333, 0.5, 0.5, 0.4666666666666667, 0.4666666666666667, 0.5, 0.4666666666666667, 0.43333333333333335, 0.6333333333333333, 0.4, 0.6, 0.4, 0.6333333333333333, 0.6333333333333333, 0.36666666666666664, 0.4666666666666667, 0.5, 0.4666666666666667, 0.5, 0.43333333333333335, 0.43333333333333335, 0.5333333333333333, 0.5333333333333333, 0.6, 0.6666666666666666, 0.5, 0.4, 0.5, 0.5333333333333333, 0.5, 0.6, 0.5, 0.5, 0.5, 0.7666666666666667, 0.43333333333333335, 0.2, 0.6333333333333333, 0.5, 0.5, 0.5666666666666667, 0.5, 0.4, 0.43333333333333335, 0.6666666666666666, 0.36666666666666664, 0.5, 0.5, 0.4666666666666667, 0.43333333333333335, 0.5333333333333333, 0.5666666666666667, 0.5333333333333333, 0.4, 0.43333333333333335, 0.6, 0.6666666666666666, 0.5666666666666667, 0.5666666666666667, 0.4, 0.5666666666666667, 0.6, 0.43333333333333335, 0.6666666666666666, 0.4666666666666667, 0.4, 0.6333333333333333, 0.4, 0.4666666666666667, 0.5333333333333333, 0.5666666666666667, 0.5, 0.5, 0.3333333333333333, 0.5, 0.6, 0.5666666666666667, 0.5666666666666667, 0.5, 0.43333333333333335, 0.4666666666666667, 0.3, 0.43333333333333335, 0.5, 0.6, 0.43333333333333335, 0.5, 0.5, 0.5, 0.6, 0.36666666666666664, 0.5, 0.6333333333333333, 0.43333333333333335, 0.5, 0.6333333333333333, 0.3, 0.4, 0.5, 0.43333333333333335, 0.5, 0.5666666666666667, 0.5666666666666667, 0.43333333333333335, 0.36666666666666664, 0.6, 0.36666666666666664, 0.4, 0.5333333333333333, 0.5333333333333333, 0.6333333333333333, 0.4, 0.5666666666666667, 0.5, 0.5, 0.43333333333333335, 0.5, 0.5333333333333333, 0.43333333333333335, 0.5, 0.4, 0.6, 0.43333333333333335, 0.5666666666666667, 0.5666666666666667, 0.5, 0.26666666666666666, 0.4666666666666667, 0.4, 0.43333333333333335, 0.36666666666666664, 0.5333333333333333, 0.5333333333333333, 0.5666666666666667, 0.5666666666666667, 0.43333333333333335, 0.5333333333333333, 0.6666666666666666, 0.4666666666666667, 0.5333333333333333, 0.6333333333333333, 0.5666666666666667, 0.43333333333333335, 0.4666666666666667, 0.36666666666666664, 0.43333333333333335, 0.43333333333333335, 0.4666666666666667, 0.4, 0.4666666666666667, 0.4666666666666667, 0.4666666666666667, 0.5666666666666667, 0.7, 0.5666666666666667, 0.5, 0.36666666666666664, 0.5, 0.5666666666666667, 0.4, 0.6666666666666666, 0.43333333333333335, 0.6333333333333333, 0.5333333333333333, 0.6, 0.43333333333333335, 0.5, 0.4, 0.4666666666666667, 0.4, 0.5666666666666667, 0.5, 0.5, 0.6, 0.5, 0.5666666666666667, 0.3333333333333333, 0.5, 0.5, 0.5333333333333333, 0.6, 0.6666666666666666, 0.4, 0.3333333333333333, 0.5333333333333333, 0.4, 0.36666666666666664, 0.5, 0.5, 0.4666666666666667, 0.4666666666666667, 0.43333333333333335, 0.5, 0.5333333333333333, 0.5666666666666667, 0.4666666666666667, 0.43333333333333335, 0.43333333333333335, 0.5666666666666667, 0.4, 0.36666666666666664, 0.5666666666666667, 0.4, 0.4, 0.43333333333333335, 0.5, 0.4666666666666667, 0.4666666666666667, 0.5, 0.6333333333333333, 0.5333333333333333, 0.4, 0.43333333333333335, 0.36666666666666664, 0.43333333333333335, 0.43333333333333335, 0.43333333333333335, 0.4, 0.4, 0.43333333333333335, 0.4, 0.4666666666666667, 0.5666666666666667, 0.6, 0.4666666666666667, 0.5, 0.5666666666666667, 0.3, 0.5, 0.4666666666666667, 0.4, 0.5, 0.4666666666666667, 0.36666666666666664, 0.7, 0.43333333333333335, 0.5333333333333333, 0.5, 0.3333333333333333, 0.5333333333333333, 0.4666666666666667, 0.43333333333333335, 0.43333333333333335, 0.43333333333333335, 0.5, 0.4666666666666667, 0.4, 0.6333333333333333, 0.5333333333333333, 0.4666666666666667, 0.5333333333333333, 0.5666666666666667, 0.5, 0.5333333333333333, 0.5333333333333333, 0.4666666666666667, 0.4666666666666667, 0.43333333333333335, 0.4, 0.5333333333333333, 0.5666666666666667, 0.4, 0.3333333333333333, 0.43333333333333335, 0.5, 0.5, 0.7, 0.6, 0.5, 0.4666666666666667, 0.5, 0.5666666666666667, 0.4666666666666667, 0.5333333333333333, 0.43333333333333335, 0.5, 0.3333333333333333, 0.36666666666666664, 0.6, 0.6, 0.5, 0.3333333333333333, 0.6, 0.5666666666666667, 0.4, 0.43333333333333335, 0.3333333333333333, 0.6666666666666666, 0.5333333333333333, 0.6, 0.6666666666666666, 0.5333333333333333, 0.5, 0.5, 0.4666666666666667, 0.5, 0.43333333333333335, 0.5666666666666667, 0.5333333333333333, 0.5, 0.43333333333333335, 0.5, 0.6333333333333333, 0.5333333333333333, 0.4, 0.4666666666666667, 0.3, 0.6, 0.6, 0.6, 0.6, 0.5666666666666667, 0.4, 0.5, 0.3333333333333333, 0.5333333333333333, 0.5, 0.5333333333333333, 0.4666666666666667, 0.43333333333333335, 0.36666666666666664, 0.4666666666666667, 0.43333333333333335, 0.7, 0.4, 0.6333333333333333, 0.6, 0.6333333333333333, 0.6333333333333333, 0.4, 0.5666666666666667, 0.7, 0.5, 0.4666666666666667, 0.4666666666666667, 0.5333333333333333, 0.36666666666666664, 0.5666666666666667, 0.5, 0.5, 0.4666666666666667, 0.5333333333333333, 0.5333333333333333, 0.5666666666666667, 0.5333333333333333, 0.5666666666666667, 0.4666666666666667, 0.4666666666666667, 0.43333333333333335, 0.4, 0.5333333333333333, 0.5, 0.5666666666666667, 0.4666666666666667, 0.36666666666666664, 0.5333333333333333, 0.4666666666666667, 0.4666666666666667, 0.3, 0.4, 0.5, 0.3, 0.4, 0.7333333333333333, 0.4666666666666667, 0.6333333333333333, 0.5333333333333333, 0.43333333333333335, 0.5, 0.5, 0.4666666666666667, 0.6, 0.43333333333333335, 0.36666666666666664, 0.6333333333333333, 0.5333333333333333, 0.36666666666666664, 0.4666666666666667, 0.6, 0.4666666666666667, 0.43333333333333335, 0.4666666666666667, 0.5333333333333333, 0.4666666666666667, 0.36666666666666664, 0.36666666666666664, 0.5666666666666667, 0.4, 0.5666666666666667, 0.4, 0.43333333333333335, 0.26666666666666666, 0.4, 0.4666666666666667, 0.6333333333333333, 0.5666666666666667, 0.4666666666666667, 0.43333333333333335, 0.6333333333333333, 0.4666666666666667, 0.5333333333333333, 0.5333333333333333, 0.6, 0.5666666666666667, 0.4, 0.6, 0.5, 0.5666666666666667, 0.3333333333333333, 0.5, 0.43333333333333335, 0.5, 0.6, 0.4666666666666667, 0.5, 0.4, 0.6, 0.4666666666666667, 0.43333333333333335, 0.5666666666666667, 0.5666666666666667, 0.4666666666666667, 0.43333333333333335, 0.4666666666666667, 0.5666666666666667, 0.5333333333333333, 0.4, 0.6, 0.5333333333333333, 0.5, 0.3333333333333333, 0.5, 0.36666666666666664, 0.4, 0.43333333333333335, 0.6, 0.4666666666666667, 0.4, 0.6, 0.43333333333333335, 0.5333333333333333, 0.5333333333333333, 0.43333333333333335, 0.3, 0.5333333333333333, 0.5, 0.4666666666666667, 0.5, 0.6, 0.5666666666666667, 0.6333333333333333, 0.5333333333333333, 0.5, 0.5, 0.5, 0.43333333333333335, 0.43333333333333335, 0.6, 0.5666666666666667, 0.5, 0.6, 0.4666666666666667, 0.43333333333333335, 0.3, 0.4666666666666667, 0.43333333333333335, 0.4666666666666667, 0.5, 0.4666666666666667, 0.5333333333333333, 0.5, 0.43333333333333335, 0.5666666666666667, 0.6333333333333333, 0.6, 0.4666666666666667, 0.43333333333333335, 0.3333333333333333, 0.6, 0.4, 0.4, 0.43333333333333335, 0.5, 0.6, 0.5333333333333333, 0.5666666666666667, 0.4, 0.5, 0.4, 0.4666666666666667, 0.5333333333333333, 0.5666666666666667, 0.6, 0.43333333333333335, 0.4666666666666667, 0.5, 0.4666666666666667, 0.6666666666666666, 0.4666666666666667, 0.3333333333333333, 0.43333333333333335, 0.6, 0.3333333333333333, 0.36666666666666664, 0.5333333333333333, 0.3333333333333333, 0.4666666666666667, 0.4, 0.43333333333333335, 0.5666666666666667, 0.5666666666666667, 0.4, 0.43333333333333335, 0.5666666666666667, 0.6333333333333333, 0.4666666666666667, 0.5, 0.4666666666666667, 0.43333333333333335, 0.43333333333333335, 0.43333333333333335, 0.7333333333333333, 0.5666666666666667, 0.4666666666666667, 0.5666666666666667, 0.4666666666666667, 0.4666666666666667, 0.36666666666666664, 0.5666666666666667, 0.6333333333333333, 0.43333333333333335, 0.5, 0.4666666666666667, 0.5, 0.6333333333333333, 0.43333333333333335, 0.4666666666666667, 0.6333333333333333, 0.4666666666666667, 0.6333333333333333, 0.5, 0.5, 0.5, 0.4, 0.5, 0.5666666666666667, 0.4666666666666667, 0.4666666666666667, 0.4, 0.43333333333333335, 0.6, 0.6666666666666666, 0.43333333333333335, 0.4666666666666667, 0.4666666666666667, 0.5666666666666667, 0.5, 0.5333333333333333, 0.5333333333333333, 0.4666666666666667, 0.7, 0.6666666666666666, 0.5666666666666667, 0.4, 0.6, 0.43333333333333335, 0.5, 0.6, 0.3333333333333333, 0.6, 0.5666666666666667, 0.5333333333333333, 0.36666666666666664, 0.36666666666666664, 0.6, 0.5, 0.5666666666666667, 0.26666666666666666, 0.4666666666666667, 0.43333333333333335, 0.5, 0.6333333333333333, 0.5333333333333333, 0.4, 0.36666666666666664, 0.6, 0.36666666666666664, 0.4666666666666667, 0.5, 0.36666666666666664, 0.4666666666666667, 0.6, 0.5666666666666667, 0.6333333333333333, 0.5666666666666667, 0.4, 0.4, 0.5, 0.6333333333333333, 0.4666666666666667, 0.36666666666666664, 0.6, 0.43333333333333335, 0.7333333333333333, 0.43333333333333335, 0.36666666666666664, 0.5666666666666667, 0.4, 0.5333333333333333, 0.7333333333333333, 0.5, 0.43333333333333335, 0.43333333333333335, 0.6, 0.43333333333333335, 0.6333333333333333, 0.5, 0.43333333333333335, 0.5666666666666667, 0.5333333333333333, 0.6333333333333333, 0.5666666666666667, 0.6, 0.4666666666666667, 0.6333333333333333, 0.5333333333333333, 0.6, 0.4666666666666667, 0.4, 0.5666666666666667, 0.6, 0.6333333333333333, 0.5, 0.5, 0.6333333333333333, 0.6666666666666666, 0.4, 0.5333333333333333, 0.43333333333333335, 0.5, 0.4666666666666667, 0.5333333333333333, 0.43333333333333335, 0.6666666666666666, 0.5, 0.5333333333333333, 0.5333333333333333, 0.43333333333333335, 0.3333333333333333, 0.43333333333333335, 0.5666666666666667, 0.5, 0.4666666666666667, 0.6333333333333333, 0.5333333333333333, 0.6, 0.6, 0.3333333333333333, 0.6, 0.4, 0.6, 0.43333333333333335, 0.5333333333333333, 0.5, 0.4, 0.5, 0.4, 0.4666666666666667, 0.5, 0.7, 0.7, 0.4666666666666667, 0.6333333333333333, 0.6666666666666666, 0.7, 0.6, 0.5666666666666667, 0.5333333333333333, 0.6333333333333333, 0.6333333333333333, 0.4666666666666667, 0.6, 0.4666666666666667, 0.6, 0.7, 0.4666666666666667, 0.23333333333333334, 0.43333333333333335, 0.43333333333333335, 0.3, 0.4666666666666667, 0.5, 0.43333333333333335, 0.43333333333333335, 0.5666666666666667, 0.5666666666666667, 0.5333333333333333, 0.5, 0.43333333333333335, 0.43333333333333335, 0.43333333333333335, 0.43333333333333335, 0.3333333333333333, 0.5, 0.6666666666666666, 0.6, 0.5, 0.4666666666666667, 0.4, 0.3, 0.43333333333333335, 0.4, 0.5666666666666667, 0.5666666666666667, 0.6, 0.4666666666666667, 0.3, 0.5333333333333333, 0.36666666666666664, 0.43333333333333335, 0.43333333333333335, 0.4666666666666667, 0.6, 0.5, 0.5, 0.4666666666666667, 0.4666666666666667, 0.43333333333333335, 0.5, 0.6, 0.5666666666666667, 0.5, 0.5666666666666667, 0.5, 0.43333333333333335, 0.3, 0.6, 0.5333333333333333, 0.4, 0.5666666666666667, 0.5666666666666667, 0.5333333333333333, 0.5333333333333333, 0.5666666666666667, 0.43333333333333335, 0.6, 0.5666666666666667, 0.5666666666666667, 0.5666666666666667, 0.4, 0.6, 0.6, 0.4666666666666667, 0.4666666666666667, 0.5, 0.5, 0.4, 0.4666666666666667, 0.43333333333333335, 0.3333333333333333, 0.5333333333333333, 0.43333333333333335, 0.5, 0.5, 0.4, 0.6, 0.43333333333333335, 0.4, 0.5333333333333333, 0.5, 0.4666666666666667, 0.5, 0.43333333333333335, 0.43333333333333335, 0.5, 0.6666666666666666, 0.6, 0.4666666666666667, 0.6, 0.43333333333333335, 0.6, 0.4, 0.6, 0.36666666666666664, 0.5, 0.43333333333333335, 0.43333333333333335, 0.5, 0.4, 0.36666666666666664, 0.5666666666666667, 0.43333333333333335, 0.6, 0.5, 0.5666666666666667, 0.43333333333333335, 0.5666666666666667, 0.3333333333333333, 0.5666666666666667, 0.43333333333333335, 0.4666666666666667, 0.5333333333333333, 0.43333333333333335, 0.6, 0.4, 0.6, 0.36666666666666664, 0.5666666666666667, 0.4666666666666667, 0.5333333333333333, 0.5666666666666667, 0.5666666666666667, 0.4666666666666667, 0.5333333333333333, 0.43333333333333335, 0.5, 0.4, 0.4666666666666667, 0.5333333333333333, 0.6, 0.43333333333333335, 0.43333333333333335, 0.43333333333333335, 0.4666666666666667, 0.4666666666666667, 0.5333333333333333, 0.5, 0.3333333333333333, 0.43333333333333335, 0.6, 0.5666666666666667, 0.26666666666666666, 0.6, 0.43333333333333335, 0.6666666666666666, 0.5333333333333333, 0.4666666666666667, 0.5666666666666667, 0.6333333333333333, 0.6333333333333333, 0.43333333333333335, 0.36666666666666664, 0.4666666666666667, 0.4666666666666667, 0.3333333333333333, 0.4666666666666667, 0.5333333333333333, 0.5, 0.5333333333333333, 0.6666666666666666, 0.5, 0.4, 0.5333333333333333, 0.5666666666666667, 0.6, 0.5333333333333333, 0.4666666666666667, 0.5333333333333333, 0.43333333333333335, 0.43333333333333335, 0.5, 0.4666666666666667, 0.4, 0.6333333333333333, 0.6, 0.5333333333333333, 0.5333333333333333, 0.43333333333333335, 0.43333333333333335, 0.5333333333333333, 0.43333333333333335, 0.4666666666666667, 0.43333333333333335, 0.5333333333333333, 0.4, 0.5, 0.4, 0.4666666666666667, 0.6, 0.43333333333333335, 0.3333333333333333, 0.5666666666666667, 0.6666666666666666, 0.5333333333333333, 0.4666666666666667, 0.3333333333333333, 0.5333333333333333, 0.6, 0.5, 0.5333333333333333, 0.5666666666666667, 0.4666666666666667, 0.4666666666666667, 0.5, 0.6666666666666666, 0.6, 0.5, 0.6333333333333333, 0.3333333333333333, 0.5333333333333333, 0.6333333333333333, 0.5666666666666667, 0.3, 0.4666666666666667, 0.36666666666666664, 0.4666666666666667, 0.36666666666666664, 0.43333333333333335, 0.4, 0.6, 0.4, 0.4666666666666667, 0.4666666666666667, 0.5, 0.5, 0.4666666666666667, 0.5, 0.5333333333333333, 0.4, 0.4666666666666667, 0.5333333333333333, 0.6666666666666666, 0.5333333333333333, 0.6, 0.4, 0.6333333333333333, 0.6666666666666666, 0.43333333333333335, 0.43333333333333335, 0.6, 0.4, 0.5333333333333333, 0.4, 0.5, 0.5333333333333333, 0.5666666666666667, 0.5, 0.6, 0.7333333333333333, 0.4, 0.3333333333333333, 0.4666666666666667, 0.4666666666666667, 0.36666666666666664, 0.26666666666666666, 0.6333333333333333, 0.5333333333333333, 0.5, 0.6, 0.5666666666666667, 0.5666666666666667, 0.4666666666666667, 0.3333333333333333, 0.6, 0.6, 0.4, 0.5333333333333333, 0.4666666666666667, 0.5, 0.4, 0.6333333333333333, 0.6333333333333333, 0.5333333333333333, 0.5, 0.6, 0.43333333333333335, 0.4666666666666667, 0.4666666666666667, 0.36666666666666664, 0.7, 0.43333333333333335, 0.4666666666666667, 0.36666666666666664, 0.4666666666666667, 0.5, 0.5333333333333333, 0.43333333333333335, 0.36666666666666664, 0.6666666666666666, 0.43333333333333335, 0.6666666666666666, 0.4666666666666667, 0.43333333333333335, 0.23333333333333334, 0.6, 0.5, 0.4666666666666667, 0.5333333333333333, 0.43333333333333335, 0.5333333333333333, 0.5666666666666667, 0.6666666666666666, 0.5666666666666667, 0.5333333333333333, 0.5666666666666667, 0.5333333333333333, 0.6, 0.43333333333333335, 0.6333333333333333, 0.4, 0.6, 0.4666666666666667, 0.5333333333333333, 0.6333333333333333, 0.43333333333333335, 0.5666666666666667, 0.4666666666666667, 0.4666666666666667, 0.6, 0.6, 0.43333333333333335, 0.36666666666666664, 0.5666666666666667, 0.6333333333333333, 0.43333333333333335, 0.7333333333333333, 0.5666666666666667, 0.5, 0.5333333333333333, 0.5666666666666667, 0.43333333333333335, 0.43333333333333335, 0.6333333333333333, 0.36666666666666664, 0.6333333333333333, 0.6, 0.5, 0.6, 0.43333333333333335, 0.5, 0.43333333333333335, 0.4, 0.5666666666666667, 0.4666666666666667, 0.6, 0.5666666666666667, 0.43333333333333335, 0.6, 0.5333333333333333, 0.5333333333333333, 0.6, 0.4666666666666667, 0.4666666666666667, 0.4666666666666667, 0.4666666666666667, 0.3333333333333333, 0.5333333333333333, 0.5, 0.5333333333333333, 0.4666666666666667, 0.4, 0.4, 0.6666666666666666, 0.5666666666666667, 0.5333333333333333, 0.5333333333333333, 0.5666666666666667, 0.6333333333333333, 0.5, 0.5666666666666667, 0.5333333333333333, 0.6333333333333333, 0.7, 0.6666666666666666, 0.43333333333333335, 0.5, 0.6, 0.5666666666666667, 0.43333333333333335, 0.5, 0.5, 0.5666666666666667, 0.6333333333333333, 0.6, 0.5333333333333333, 0.5333333333333333, 0.5, 0.4666666666666667, 0.26666666666666666, 0.5, 0.5, 0.5, 0.5666666666666667, 0.43333333333333335, 0.5666666666666667, 0.6666666666666666, 0.43333333333333335, 0.6, 0.5, 0.5, 0.5333333333333333, 0.6666666666666666, 0.36666666666666664, 0.5, 0.5, 0.5, 0.5666666666666667, 0.5, 0.5, 0.5333333333333333, 0.5666666666666667, 0.5, 0.5666666666666667, 0.5666666666666667, 0.6, 0.6333333333333333, 0.5, 0.4, 0.43333333333333335, 0.4, 0.5666666666666667, 0.43333333333333335, 0.43333333333333335, 0.4666666666666667, 0.43333333333333335, 0.43333333333333335, 0.4, 0.7, 0.3, 0.5333333333333333, 0.43333333333333335, 0.36666666666666664, 0.5333333333333333, 0.5333333333333333, 0.5666666666666667, 0.6666666666666666, 0.36666666666666664, 0.4666666666666667, 0.4666666666666667, 0.5333333333333333, 0.4666666666666667, 0.5, 0.6, 0.6, 0.36666666666666664, 0.4666666666666667, 0.43333333333333335, 0.43333333333333335, 0.5, 0.5333333333333333, 0.5, 0.5666666666666667, 0.4666666666666667, 0.5666666666666667, 0.5333333333333333, 0.7, 0.43333333333333335, 0.4666666666666667, 0.5666666666666667, 0.4666666666666667, 0.5, 0.5666666666666667, 0.5333333333333333, 0.4, 0.6333333333333333, 0.5333333333333333, 0.3333333333333333, 0.5333333333333333, 0.4666666666666667, 0.5333333333333333, 0.6, 0.7, 0.5333333333333333, 0.5333333333333333, 0.4666666666666667, 0.4666666666666667, 0.7, 0.5, 0.5666666666666667, 0.5, 0.5333333333333333, 0.4666666666666667, 0.6, 0.6, 0.43333333333333335, 0.43333333333333335, 0.4666666666666667, 0.4, 0.26666666666666666, 0.4666666666666667, 0.43333333333333335, 0.4666666666666667, 0.4666666666666667, 0.36666666666666664, 0.6666666666666666, 0.5, 0.43333333333333335, 0.43333333333333335, 0.5, 0.5, 0.5, 0.6333333333333333, 0.5333333333333333, 0.5, 0.5666666666666667, 0.43333333333333335, 0.6, 0.4666666666666667, 0.5666666666666667, 0.4666666666666667, 0.5666666666666667, 0.4666666666666667, 0.26666666666666666, 0.5, 0.5, 0.4666666666666667, 0.43333333333333335, 0.5333333333333333, 0.4666666666666667, 0.5333333333333333, 0.6, 0.5, 0.4666666666666667, 0.5333333333333333, 0.4666666666666667, 0.43333333333333335, 0.5333333333333333, 0.36666666666666664, 0.5666666666666667, 0.4666666666666667, 0.5, 0.36666666666666664, 0.5, 0.5, 0.8, 0.6, 0.36666666666666664, 0.5, 0.36666666666666664, 0.5333333333333333, 0.4666666666666667, 0.6, 0.6, 0.26666666666666666, 0.5, 0.5, 0.5, 0.36666666666666664, 0.4666666666666667, 0.5, 0.5666666666666667, 0.4, 0.36666666666666664, 0.5666666666666667, 0.5, 0.5, 0.43333333333333335, 0.6, 0.5, 0.5666666666666667, 0.23333333333333334, 0.43333333333333335, 0.4, 0.43333333333333335, 0.5666666666666667, 0.5666666666666667, 0.5666666666666667, 0.43333333333333335, 0.4666666666666667, 0.4666666666666667, 0.43333333333333335, 0.4666666666666667, 0.4666666666666667, 0.6, 0.5, 0.5333333333333333, 0.5, 0.5333333333333333, 0.5, 0.5333333333333333, 0.5666666666666667, 0.43333333333333335, 0.5, 0.36666666666666664, 0.4666666666666667, 0.6666666666666666, 0.7333333333333333, 0.5, 0.36666666666666664, 0.5666666666666667, 0.43333333333333335, 0.36666666666666664, 0.43333333333333335, 0.6333333333333333, 0.3, 0.5333333333333333, 0.5, 0.5666666666666667, 0.5, 0.6333333333333333, 0.4666666666666667, 0.5, 0.43333333333333335, 0.4, 0.6, 0.4666666666666667, 0.4666666666666667, 0.5333333333333333, 0.5, 0.43333333333333335, 0.6333333333333333, 0.5333333333333333, 0.4666666666666667, 0.6, 0.43333333333333335, 0.6333333333333333, 0.5333333333333333, 0.6333333333333333, 0.36666666666666664, 0.5333333333333333, 0.4, 0.5666666666666667, 0.5333333333333333, 0.7333333333333333, 0.43333333333333335, 0.6, 0.43333333333333335, 0.5666666666666667, 0.4, 0.5666666666666667, 0.6333333333333333, 0.36666666666666664, 0.6, 0.43333333333333335, 0.5333333333333333, 0.5333333333333333, 0.3333333333333333, 0.5, 0.5666666666666667, 0.5, 0.5333333333333333, 0.4666666666666667, 0.4, 0.5, 0.5, 0.43333333333333335, 0.5666666666666667, 0.4666666666666667, 0.6333333333333333, 0.43333333333333335, 0.43333333333333335, 0.4, 0.6666666666666666, 0.5, 0.4, 0.5666666666666667, 0.43333333333333335, 0.7, 0.5, 0.5, 0.4666666666666667, 0.4, 0.4, 0.43333333333333335, 0.43333333333333335, 0.6, 0.5666666666666667, 0.5, 0.43333333333333335, 0.5333333333333333, 0.43333333333333335, 0.43333333333333335, 0.5, 0.5333333333333333, 0.4, 0.5666666666666667, 0.5333333333333333, 0.5666666666666667, 0.5, 0.4666666666666667, 0.5, 0.5666666666666667, 0.36666666666666664, 0.4, 0.6, 0.6, 0.4666666666666667, 0.5666666666666667, 0.6, 0.4666666666666667, 0.4666666666666667, 0.5666666666666667, 0.4, 0.5666666666666667, 0.5333333333333333, 0.5, 0.43333333333333335, 0.5666666666666667, 0.6, 0.6333333333333333, 0.5, 0.36666666666666664, 0.5333333333333333, 0.6, 0.5333333333333333, 0.5, 0.5, 0.5, 0.5333333333333333, 0.5, 0.4666666666666667, 0.4, 0.6, 0.4, 0.4, 0.3333333333333333, 0.43333333333333335, 0.43333333333333335, 0.5666666666666667, 0.7333333333333333, 0.4666666666666667, 0.4666666666666667, 0.5333333333333333, 0.5, 0.4, 0.7333333333333333, 0.5666666666666667, 0.4666666666666667, 0.4, 0.6333333333333333, 0.5, 0.36666666666666664, 0.6, 0.4, 0.6333333333333333, 0.4, 0.43333333333333335, 0.4666666666666667, 0.6, 0.5666666666666667, 0.4666666666666667, 0.43333333333333335, 0.4666666666666667, 0.5, 0.4, 0.6, 0.6, 0.5333333333333333, 0.4, 0.6, 0.4666666666666667, 0.5, 0.4666666666666667, 0.5, 0.5666666666666667, 0.5333333333333333, 0.7, 0.5, 0.4, 0.4, 0.6, 0.7, 0.5, 0.5666666666666667, 0.5666666666666667, 0.3333333333333333, 0.43333333333333335, 0.4666666666666667, 0.43333333333333335, 0.5666666666666667, 0.5333333333333333, 0.4666666666666667, 0.5333333333333333, 0.5333333333333333, 0.5333333333333333, 0.5, 0.4666666666666667, 0.6666666666666666, 0.6, 0.5666666666666667, 0.6, 0.43333333333333335, 0.4666666666666667, 0.6, 0.4, 0.5333333333333333, 0.5666666666666667, 0.6333333333333333, 0.5666666666666667, 0.4666666666666667, 0.5, 0.4, 0.43333333333333335, 0.6666666666666666, 0.5, 0.36666666666666664, 0.4666666666666667, 0.5666666666666667, 0.6666666666666666, 0.5333333333333333, 0.36666666666666664, 0.6333333333333333, 0.5333333333333333, 0.6666666666666666, 0.6333333333333333, 0.5666666666666667, 0.36666666666666664, 0.5333333333333333, 0.4666666666666667, 0.6, 0.36666666666666664, 0.5666666666666667, 0.5333333333333333, 0.4, 0.4, 0.5666666666666667, 0.5333333333333333, 0.5333333333333333, 0.4, 0.36666666666666664, 0.6, 0.5333333333333333, 0.43333333333333335, 0.36666666666666664, 0.6333333333333333, 0.6666666666666666, 0.6, 0.5666666666666667, 0.43333333333333335, 0.43333333333333335, 0.43333333333333335, 0.5, 0.5333333333333333, 0.5666666666666667, 0.5666666666666667, 0.5666666666666667, 0.4, 0.4666666666666667, 0.6333333333333333, 0.4666666666666667, 0.4666666666666667, 0.4666666666666667, 0.6333333333333333, 0.5, 0.6666666666666666, 0.3333333333333333, 0.43333333333333335, 0.6333333333333333, 0.36666666666666664, 0.6666666666666666, 0.43333333333333335, 0.5666666666666667, 0.5333333333333333, 0.5, 0.7333333333333333, 0.43333333333333335, 0.5, 0.5, 0.6333333333333333, 0.4, 0.4666666666666667, 0.5, 0.5, 0.4666666666666667, 0.6666666666666666, 0.4, 0.5, 0.5666666666666667, 0.4666666666666667, 0.5666666666666667, 0.5333333333333333, 0.5666666666666667, 0.4666666666666667, 0.6666666666666666, 0.6, 0.6, 0.5, 0.7, 0.3, 0.4666666666666667, 0.5333333333333333, 0.3333333333333333, 0.43333333333333335, 0.4666666666666667, 0.6333333333333333, 0.26666666666666666, 0.5333333333333333, 0.5333333333333333, 0.5666666666666667, 0.5666666666666667, 0.5, 0.6, 0.5333333333333333, 0.5333333333333333, 0.5666666666666667, 0.4666666666666667, 0.5, 0.43333333333333335, 0.4666666666666667, 0.5, 0.7, 0.3333333333333333, 0.6666666666666666, 0.5333333333333333, 0.43333333333333335, 0.5333333333333333, 0.6666666666666666, 0.7, 0.6666666666666666, 0.3, 0.6, 0.6666666666666666, 0.43333333333333335, 0.43333333333333335, 0.7, 0.5, 0.6, 0.4666666666666667, 0.5, 0.5666666666666667, 0.36666666666666664, 0.5666666666666667, 0.4666666666666667, 0.5, 0.4, 0.36666666666666664, 0.5333333333333333, 0.5333333333333333, 0.4, 0.6, 0.5, 0.43333333333333335, 0.5333333333333333, 0.5333333333333333, 0.5333333333333333, 0.36666666666666664, 0.5, 0.5333333333333333, 0.5, 0.6, 0.5333333333333333, 0.43333333333333335, 0.4666666666666667, 0.6, 0.43333333333333335, 0.4, 0.36666666666666664, 0.36666666666666664, 0.5333333333333333, 0.36666666666666664, 0.5666666666666667, 0.5, 0.5666666666666667, 0.36666666666666664, 0.5333333333333333, 0.6, 0.5, 0.4666666666666667, 0.43333333333333335, 0.4666666666666667, 0.43333333333333335, 0.43333333333333335, 0.6, 0.5666666666666667, 0.5333333333333333, 0.43333333333333335, 0.5666666666666667, 0.36666666666666664, 0.6333333333333333, 0.5666666666666667, 0.6, 0.4666666666666667, 0.5333333333333333, 0.36666666666666664, 0.43333333333333335, 0.5333333333333333, 0.5, 0.4666666666666667, 0.3, 0.36666666666666664, 0.5666666666666667, 0.43333333333333335, 0.5, 0.6666666666666666, 0.5666666666666667, 0.4666666666666667, 0.4666666666666667, 0.5666666666666667, 0.6333333333333333, 0.43333333333333335, 0.4, 0.7, 0.4, 0.6, 0.6333333333333333, 0.6333333333333333, 0.4666666666666667, 0.4666666666666667, 0.3333333333333333, 0.5333333333333333, 0.4666666666666667, 0.4666666666666667, 0.5666666666666667, 0.5666666666666667, 0.4666666666666667, 0.4666666666666667, 0.4, 0.5, 0.4666666666666667, 0.43333333333333335, 0.36666666666666664, 0.5333333333333333, 0.6333333333333333, 0.6, 0.6333333333333333, 0.4666666666666667, 0.4, 0.6333333333333333, 0.5666666666666667, 0.5666666666666667, 0.36666666666666664, 0.43333333333333335, 0.6333333333333333, 0.5333333333333333, 0.5666666666666667, 0.4666666666666667, 0.5, 0.6, 0.5666666666666667, 0.4, 0.5, 0.5, 0.5333333333333333, 0.36666666666666664, 0.5333333333333333, 0.36666666666666664, 0.5, 0.6, 0.43333333333333335, 0.4666666666666667, 0.43333333333333335, 0.8, 0.6333333333333333, 0.5, 0.43333333333333335, 0.5, 0.43333333333333335, 0.4666666666666667, 0.5666666666666667, 0.4, 0.5, 0.5, 0.6666666666666666, 0.6666666666666666, 0.5666666666666667, 0.43333333333333335, 0.4, 0.4, 0.4, 0.5666666666666667, 0.3333333333333333, 0.36666666666666664, 0.4, 0.5, 0.36666666666666664, 0.5, 0.5666666666666667, 0.5, 0.5333333333333333, 0.5333333333333333, 0.5333333333333333, 0.5333333333333333, 0.3333333333333333, 0.36666666666666664, 0.4666666666666667, 0.5333333333333333, 0.5333333333333333, 0.5333333333333333, 0.7333333333333333, 0.6, 0.4666666666666667, 0.5333333333333333, 0.5, 0.5, 0.36666666666666664, 0.4, 0.5, 0.6, 0.5333333333333333, 0.5, 0.4666666666666667, 0.5333333333333333, 0.6, 0.5333333333333333, 0.5333333333333333, 0.3333333333333333, 0.3333333333333333, 0.5666666666666667, 0.5666666666666667, 0.6333333333333333, 0.5333333333333333, 0.6666666666666666, 0.6333333333333333, 0.5, 0.5, 0.5666666666666667, 0.5, 0.43333333333333335, 0.6333333333333333, 0.5333333333333333, 0.5333333333333333, 0.36666666666666664, 0.6333333333333333, 0.6333333333333333, 0.6, 0.5, 0.6666666666666666, 0.5, 0.4666666666666667, 0.5333333333333333, 0.5, 0.4666666666666667, 0.5, 0.5666666666666667, 0.7, 0.6666666666666666, 0.5, 0.6, 0.5, 0.5333333333333333, 0.5333333333333333, 0.5666666666666667, 0.5666666666666667, 0.36666666666666664, 0.4, 0.5666666666666667, 0.6, 0.6333333333333333, 0.5, 0.4666666666666667, 0.4, 0.5333333333333333, 0.43333333333333335, 0.4666666666666667, 0.5666666666666667, 0.5666666666666667, 0.4, 0.5, 0.6333333333333333, 0.6333333333333333, 0.4666666666666667, 0.43333333333333335, 0.6333333333333333, 0.5, 0.6, 0.5333333333333333, 0.2, 0.43333333333333335, 0.5, 0.4666666666666667, 0.43333333333333335, 0.7, 0.4666666666666667, 0.6, 0.4666666666666667, 0.5333333333333333, 0.6666666666666666, 0.4, 0.6, 0.5, 0.4666666666666667, 0.4, 0.5666666666666667, 0.43333333333333335, 0.5666666666666667, 0.4666666666666667, 0.6666666666666666, 0.43333333333333335, 0.6, 0.4666666666666667, 0.43333333333333335, 0.4666666666666667, 0.4666666666666667, 0.5, 0.4, 0.5, 0.5333333333333333, 0.4, 0.5, 0.5666666666666667, 0.5333333333333333, 0.5666666666666667, 0.5666666666666667, 0.5666666666666667, 0.36666666666666664, 0.7333333333333333, 0.4, 0.43333333333333335, 0.4, 0.3, 0.6, 0.43333333333333335, 0.43333333333333335, 0.5, 0.36666666666666664, 0.7666666666666667, 0.4, 0.5, 0.4666666666666667, 0.5333333333333333, 0.5, 0.6, 0.6, 0.5, 0.5666666666666667, 0.6, 0.5333333333333333, 0.36666666666666664, 0.43333333333333335, 0.5666666666666667, 0.5333333333333333, 0.36666666666666664, 0.6666666666666666, 0.6666666666666666, 0.43333333333333335, 0.6666666666666666, 0.5, 0.4, 0.5666666666666667, 0.4666666666666667, 0.36666666666666664, 0.7, 0.5333333333333333, 0.7333333333333333, 0.4, 0.4, 0.4666666666666667, 0.4, 0.6, 0.6, 0.5333333333333333, 0.5333333333333333, 0.5333333333333333, 0.3, 0.5666666666666667, 0.5333333333333333, 0.5333333333333333, 0.7, 0.4666666666666667, 0.6333333333333333, 0.5, 0.5666666666666667, 0.5, 0.4666666666666667, 0.5, 0.5, 0.5666666666666667, 0.5333333333333333, 0.4, 0.6, 0.6, 0.4666666666666667, 0.43333333333333335, 0.5666666666666667, 0.3333333333333333, 0.4, 0.43333333333333335, 0.5666666666666667, 0.5666666666666667, 0.43333333333333335, 0.6333333333333333, 0.4666666666666667, 0.5666666666666667, 0.43333333333333335, 0.5, 0.5333333333333333, 0.5, 0.4666666666666667, 0.4, 0.6, 0.43333333333333335, 0.6, 0.5, 0.7, 0.5333333333333333, 0.5333333333333333, 0.5, 0.5666666666666667, 0.4666666666666667, 0.6333333333333333, 0.5, 0.5666666666666667, 0.6, 0.5, 0.5, 0.5, 0.5, 0.43333333333333335, 0.4666666666666667, 0.4666666666666667, 0.5, 0.6, 0.6, 0.4666666666666667, 0.6, 0.43333333333333335, 0.5, 0.5, 0.4666666666666667, 0.43333333333333335, 0.5, 0.4666666666666667, 0.5, 0.6, 0.43333333333333335, 0.4666666666666667, 0.6666666666666666, 0.5, 0.4, 0.5666666666666667, 0.5333333333333333, 0.4666666666666667, 0.36666666666666664, 0.6666666666666666, 0.5333333333333333, 0.6666666666666666, 0.5333333333333333, 0.4666666666666667, 0.5, 0.4666666666666667, 0.6, 0.4, 0.6333333333333333, 0.5666666666666667, 0.7, 0.4666666666666667, 0.5333333333333333, 0.36666666666666664, 0.43333333333333335, 0.4666666666666667, 0.6333333333333333, 0.4666666666666667, 0.4666666666666667, 0.4666666666666667, 0.4666666666666667, 0.5, 0.43333333333333335, 0.6333333333333333, 0.5333333333333333, 0.3, 0.36666666666666664, 0.4666666666666667, 0.5333333333333333, 0.5666666666666667, 0.6, 0.6, 0.4666666666666667, 0.4, 0.6, 0.5, 0.5, 0.4, 0.3, 0.3333333333333333, 0.7, 0.5666666666666667, 0.5, 0.43333333333333335, 0.4666666666666667, 0.3, 0.43333333333333335, 0.43333333333333335, 0.6, 0.4666666666666667, 0.4666666666666667, 0.5333333333333333, 0.5666666666666667, 0.36666666666666664, 0.4, 0.5333333333333333, 0.5333333333333333, 0.5333333333333333, 0.5666666666666667, 0.4666666666666667, 0.5333333333333333, 0.5333333333333333, 0.7, 0.5, 0.4666666666666667, 0.4, 0.3333333333333333, 0.4, 0.3333333333333333, 0.5333333333333333, 0.4, 0.5333333333333333, 0.6, 0.43333333333333335, 0.5333333333333333, 0.36666666666666664, 0.4666666666666667, 0.7, 0.5, 0.4666666666666667, 0.43333333333333335, 0.5, 0.5, 0.4666666666666667, 0.43333333333333335, 0.6333333333333333, 0.4666666666666667, 0.5333333333333333, 0.5, 0.4666666666666667, 0.5333333333333333, 0.4, 0.5333333333333333, 0.5333333333333333, 0.3, 0.6, 0.5333333333333333, 0.5, 0.6333333333333333, 0.5333333333333333, 0.5333333333333333, 0.6, 0.5333333333333333, 0.5666666666666667, 0.5, 0.7, 0.3333333333333333, 0.5, 0.4666666666666667, 0.5333333333333333, 0.4, 0.4666666666666667, 0.4666666666666667, 0.36666666666666664, 0.43333333333333335, 0.5, 0.36666666666666664, 0.4666666666666667, 0.5, 0.4666666666666667, 0.5333333333333333, 0.5, 0.6, 0.43333333333333335, 0.5, 0.4666666666666667, 0.4, 0.43333333333333335, 0.6666666666666666, 0.4666666666666667, 0.4, 0.43333333333333335, 0.36666666666666664, 0.5333333333333333, 0.4, 0.6, 0.5666666666666667, 0.4666666666666667, 0.5333333333333333, 0.5333333333333333, 0.4666666666666667, 0.5666666666666667, 0.4, 0.3, 0.4666666666666667, 0.5666666666666667, 0.4666666666666667, 0.43333333333333335, 0.6333333333333333, 0.6333333333333333, 0.3333333333333333, 0.6, 0.5666666666666667, 0.43333333333333335, 0.4, 0.43333333333333335, 0.4, 0.6, 0.5333333333333333, 0.4, 0.4, 0.6, 0.4666666666666667, 0.6, 0.6, 0.5333333333333333, 0.5333333333333333, 0.6333333333333333, 0.6, 0.4666666666666667, 0.4, 0.5666666666666667, 0.3, 0.5, 0.43333333333333335, 0.36666666666666664, 0.5333333333333333, 0.5, 0.43333333333333335, 0.5, 0.5, 0.5333333333333333, 0.4666666666666667, 0.43333333333333335, 0.5333333333333333, 0.36666666666666664, 0.43333333333333335, 0.6, 0.5333333333333333, 0.5, 0.5, 0.6333333333333333, 0.6, 0.4666666666666667, 0.5333333333333333, 0.4666666666666667, 0.5333333333333333, 0.4666666666666667, 0.4, 0.5333333333333333, 0.5333333333333333, 0.5333333333333333, 0.36666666666666664, 0.5666666666666667, 0.5, 0.5666666666666667, 0.43333333333333335, 0.5333333333333333, 0.3, 0.43333333333333335, 0.3, 0.5666666666666667, 0.5, 0.5, 0.26666666666666666, 0.5666666666666667, 0.5, 0.5, 0.5666666666666667, 0.3333333333333333, 0.43333333333333335, 0.4666666666666667, 0.5, 0.5333333333333333, 0.6666666666666666, 0.5666666666666667, 0.5, 0.3333333333333333, 0.5, 0.5, 0.4666666666666667, 0.5, 0.4, 0.5, 0.4666666666666667, 0.4, 0.6666666666666666, 0.5, 0.4, 0.6666666666666666, 0.4, 0.43333333333333335, 0.5, 0.6666666666666666, 0.36666666666666664, 0.6, 0.36666666666666664, 0.5333333333333333, 0.5333333333333333, 0.4, 0.6333333333333333, 0.6, 0.5, 0.4666666666666667, 0.5, 0.4666666666666667, 0.5666666666666667, 0.5, 0.6, 0.4666666666666667, 0.3, 0.43333333333333335, 0.4, 0.43333333333333335, 0.5333333333333333, 0.5, 0.5, 0.36666666666666664, 0.6, 0.4, 0.6, 0.4666666666666667, 0.4666666666666667, 0.43333333333333335, 0.6666666666666666, 0.36666666666666664, 0.3333333333333333, 0.6333333333333333, 0.3, 0.6, 0.6333333333333333, 0.5333333333333333, 0.4, 0.5333333333333333, 0.4666666666666667, 0.36666666666666664, 0.8, 0.5, 0.4666666666666667, 0.4666666666666667, 0.4666666666666667, 0.3333333333333333, 0.43333333333333335, 0.5666666666666667, 0.5666666666666667, 0.36666666666666664, 0.43333333333333335, 0.4666666666666667, 0.3, 0.6333333333333333, 0.4666666666666667, 0.43333333333333335, 0.5666666666666667, 0.5666666666666667, 0.6333333333333333, 0.6333333333333333, 0.5666666666666667, 0.5333333333333333, 0.36666666666666664, 0.5666666666666667, 0.36666666666666664, 0.5333333333333333, 0.5, 0.4666666666666667, 0.4, 0.5, 0.5666666666666667, 0.5666666666666667, 0.5333333333333333, 0.5, 0.6666666666666666, 0.4, 0.5, 0.43333333333333335, 0.5666666666666667, 0.5, 0.5, 0.3333333333333333, 0.6, 0.5666666666666667, 0.6333333333333333, 0.3333333333333333, 0.4666666666666667, 0.5333333333333333, 0.5333333333333333, 0.36666666666666664, 0.6, 0.3333333333333333, 0.5, 0.36666666666666664, 0.6, 0.6666666666666666, 0.6, 0.5666666666666667, 0.43333333333333335, 0.5, 0.6, 0.5666666666666667, 0.5666666666666667, 0.4, 0.5333333333333333, 0.43333333333333335, 0.4666666666666667, 0.6333333333333333, 0.6, 0.6333333333333333, 0.5, 0.4666666666666667, 0.7666666666666667, 0.3, 0.7, 0.5, 0.5333333333333333, 0.5666666666666667, 0.5666666666666667, 0.5, 0.43333333333333335, 0.4666666666666667, 0.6666666666666666, 0.7333333333333333, 0.5333333333333333, 0.43333333333333335, 0.4666666666666667, 0.4666666666666667, 0.5333333333333333, 0.4666666666666667, 0.6, 0.5, 0.4, 0.4666666666666667, 0.5, 0.4666666666666667, 0.4, 0.6, 0.5, 0.4, 0.43333333333333335, 0.36666666666666664, 0.6333333333333333, 0.4666666666666667, 0.6333333333333333, 0.5, 0.43333333333333335, 0.43333333333333335, 0.4, 0.43333333333333335, 0.43333333333333335, 0.4666666666666667, 0.6666666666666666, 0.3333333333333333, 0.43333333333333335, 0.4666666666666667, 0.5, 0.5666666666666667, 0.6333333333333333, 0.6, 0.5666666666666667, 0.5, 0.6333333333333333, 0.6666666666666666, 0.36666666666666664, 0.5333333333333333, 0.5, 0.4666666666666667, 0.43333333333333335, 0.5666666666666667, 0.4, 0.6, 0.3333333333333333, 0.36666666666666664, 0.4, 0.6666666666666666, 0.5333333333333333, 0.43333333333333335, 0.5666666666666667, 0.5333333333333333, 0.6, 0.43333333333333335, 0.23333333333333334, 0.36666666666666664, 0.43333333333333335, 0.5666666666666667, 0.3, 0.6, 0.5333333333333333, 0.5, 0.36666666666666664, 0.5, 0.5333333333333333, 0.5333333333333333, 0.4666666666666667, 0.5, 0.3333333333333333, 0.6666666666666666, 0.4666666666666667, 0.4, 0.5333333333333333, 0.43333333333333335, 0.4, 0.5, 0.5666666666666667, 0.4666666666666667, 0.6, 0.6333333333333333, 0.43333333333333335, 0.6333333333333333, 0.4666666666666667, 0.6, 0.5333333333333333, 0.4, 0.5666666666666667, 0.5666666666666667, 0.43333333333333335, 0.5333333333333333, 0.7, 0.3333333333333333, 0.4666666666666667, 0.5333333333333333, 0.5, 0.6666666666666666, 0.26666666666666666, 0.5, 0.3333333333333333, 0.43333333333333335, 0.6, 0.5666666666666667, 0.5666666666666667, 0.4666666666666667, 0.6, 0.4, 0.3333333333333333, 0.5, 0.5, 0.5, 0.4, 0.6333333333333333, 0.3333333333333333, 0.4666666666666667, 0.43333333333333335, 0.5, 0.3, 0.5333333333333333, 0.43333333333333335, 0.4666666666666667, 0.6, 0.5666666666666667, 0.4666666666666667, 0.6666666666666666, 0.5333333333333333, 0.43333333333333335, 0.43333333333333335, 0.5333333333333333, 0.5, 0.5666666666666667, 0.43333333333333335, 0.36666666666666664, 0.5333333333333333, 0.5333333333333333, 0.3333333333333333, 0.5666666666666667, 0.5333333333333333, 0.6, 0.43333333333333335, 0.5333333333333333, 0.43333333333333335, 0.4, 0.43333333333333335, 0.5666666666666667, 0.5333333333333333, 0.5, 0.43333333333333335, 0.43333333333333335, 0.43333333333333335, 0.5333333333333333, 0.6333333333333333, 0.4666666666666667, 0.36666666666666664, 0.4666666666666667, 0.6333333333333333, 0.5666666666666667, 0.43333333333333335, 0.6666666666666666, 0.5, 0.5666666666666667, 0.5666666666666667, 0.6, 0.5333333333333333, 0.36666666666666664, 0.43333333333333335, 0.5, 0.4666666666666667, 0.6666666666666666, 0.5333333333333333, 0.5666666666666667, 0.36666666666666664, 0.5333333333333333, 0.43333333333333335, 0.5333333333333333, 0.5333333333333333, 0.4666666666666667, 0.5, 0.5, 0.4, 0.4, 0.6666666666666666, 0.5, 0.4, 0.36666666666666664, 0.43333333333333335, 0.3333333333333333, 0.6666666666666666, 0.4666666666666667, 0.5333333333333333, 0.43333333333333335, 0.4666666666666667, 0.43333333333333335, 0.5333333333333333, 0.5333333333333333, 0.5, 0.4666666666666667, 0.5, 0.6333333333333333, 0.43333333333333335, 0.5, 0.5, 0.5, 0.6, 0.5, 0.5333333333333333, 0.6333333333333333, 0.5333333333333333, 0.6333333333333333, 0.6333333333333333, 0.6, 0.36666666666666664, 0.36666666666666664, 0.5, 0.4, 0.4, 0.5333333333333333, 0.5, 0.4, 0.6333333333333333, 0.4, 0.5666666666666667, 0.5666666666666667, 0.2, 0.36666666666666664, 0.6333333333333333, 0.6, 0.4666666666666667, 0.36666666666666664, 0.4666666666666667, 0.6333333333333333, 0.3, 0.43333333333333335, 0.5666666666666667, 0.3333333333333333, 0.5333333333333333, 0.5, 0.6333333333333333, 0.36666666666666664, 0.4, 0.4666666666666667, 0.5666666666666667, 0.43333333333333335, 0.43333333333333335, 0.5666666666666667, 0.5333333333333333, 0.43333333333333335, 0.26666666666666666, 0.5333333333333333, 0.36666666666666664, 0.5, 0.4, 0.4666666666666667, 0.5333333333333333, 0.4666666666666667, 0.43333333333333335, 0.6333333333333333, 0.5666666666666667, 0.5, 0.5666666666666667, 0.5, 0.43333333333333335, 0.4666666666666667, 0.4666666666666667, 0.36666666666666664, 0.43333333333333335, 0.5666666666666667, 0.5333333333333333, 0.43333333333333335, 0.6, 0.5, 0.5, 0.5666666666666667, 0.5, 0.4666666666666667, 0.5666666666666667, 0.4666666666666667, 0.4, 0.3333333333333333, 0.6, 0.4666666666666667, 0.5333333333333333, 0.43333333333333335, 0.4666666666666667, 0.43333333333333335, 0.43333333333333335, 0.5, 0.36666666666666664, 0.5666666666666667, 0.5666666666666667, 0.5, 0.6333333333333333, 0.5, 0.4, 0.6333333333333333, 0.36666666666666664, 0.36666666666666664, 0.4666666666666667, 0.6, 0.4666666666666667, 0.4666666666666667, 0.6, 0.43333333333333335, 0.43333333333333335, 0.4666666666666667, 0.5333333333333333, 0.6, 0.4666666666666667, 0.4666666666666667, 0.4666666666666667, 0.5666666666666667, 0.4666666666666667, 0.3, 0.5, 0.4666666666666667, 0.5666666666666667, 0.6, 0.5666666666666667, 0.5, 0.5, 0.6333333333333333, 0.5333333333333333, 0.5, 0.5333333333333333, 0.43333333333333335, 0.5, 0.5, 0.5, 0.3333333333333333, 0.6333333333333333, 0.5333333333333333, 0.4666666666666667, 0.5, 0.5666666666666667, 0.36666666666666664, 0.5333333333333333, 0.43333333333333335, 0.4666666666666667, 0.5333333333333333, 0.5, 0.5, 0.36666666666666664, 0.4666666666666667, 0.36666666666666664, 0.6333333333333333, 0.43333333333333335, 0.36666666666666664, 0.4666666666666667, 0.6666666666666666, 0.5333333333333333, 0.3333333333333333, 0.5, 0.6333333333333333, 0.4666666666666667, 0.6, 0.5, 0.5, 0.6666666666666666, 0.6, 0.5666666666666667, 0.5666666666666667, 0.5, 0.5, 0.5666666666666667, 0.43333333333333335, 0.7333333333333333, 0.5666666666666667, 0.5666666666666667, 0.43333333333333335, 0.5333333333333333, 0.5666666666666667, 0.5, 0.4666666666666667, 0.6, 0.5666666666666667, 0.5333333333333333, 0.43333333333333335, 0.5, 0.43333333333333335, 0.43333333333333335, 0.36666666666666664, 0.4, 0.36666666666666664, 0.5, 0.36666666666666664, 0.43333333333333335, 0.6333333333333333, 0.4, 0.4, 0.5666666666666667, 0.4666666666666667, 0.5666666666666667, 0.7, 0.6333333333333333, 0.6, 0.5666666666666667, 0.43333333333333335, 0.36666666666666664, 0.5333333333333333, 0.5, 0.5333333333333333, 0.43333333333333335, 0.5666666666666667, 0.4, 0.5333333333333333, 0.5, 0.5666666666666667, 0.6333333333333333, 0.6333333333333333, 0.6333333333333333, 0.6, 0.4666666666666667, 0.6333333333333333, 0.5, 0.5666666666666667, 0.6333333333333333, 0.4, 0.5333333333333333, 0.5666666666666667, 0.6, 0.36666666666666664, 0.6, 0.36666666666666664, 0.43333333333333335, 0.4666666666666667, 0.5, 0.5333333333333333, 0.5333333333333333, 0.4666666666666667, 0.4, 0.6666666666666666, 0.6, 0.5666666666666667, 0.5333333333333333, 0.43333333333333335, 0.6333333333333333, 0.4666666666666667, 0.4666666666666667, 0.5666666666666667, 0.4666666666666667, 0.6, 0.7, 0.4666666666666667, 0.43333333333333335, 0.5, 0.43333333333333335, 0.5, 0.4, 0.5666666666666667, 0.3333333333333333, 0.36666666666666664, 0.4666666666666667, 0.4, 0.5333333333333333, 0.4, 0.4666666666666667, 0.4, 0.5, 0.4, 0.5666666666666667, 0.5, 0.5666666666666667, 0.5666666666666667, 0.5333333333333333, 0.6333333333333333, 0.5666666666666667, 0.5666666666666667, 0.4, 0.6, 0.5, 0.43333333333333335, 0.4, 0.6, 0.5, 0.5666666666666667, 0.5333333333333333, 0.3333333333333333, 0.6, 0.3333333333333333, 0.6, 0.43333333333333335, 0.5333333333333333, 0.6, 0.4666666666666667, 0.5333333333333333, 0.43333333333333335, 0.4, 0.5, 0.5, 0.5333333333333333, 0.4666666666666667, 0.6333333333333333, 0.5333333333333333, 0.3, 0.5333333333333333, 0.5, 0.4, 0.5666666666666667, 0.4666666666666667, 0.3333333333333333, 0.3, 0.6, 0.6333333333333333, 0.5, 0.6333333333333333, 0.6, 0.4666666666666667, 0.6, 0.3, 0.5666666666666667, 0.5666666666666667, 0.5333333333333333, 0.5666666666666667, 0.4666666666666667, 0.4666666666666667, 0.5, 0.3333333333333333, 0.6, 0.43333333333333335, 0.5, 0.4666666666666667, 0.6, 0.4666666666666667, 0.5, 0.5, 0.43333333333333335, 0.43333333333333335, 0.36666666666666664, 0.4666666666666667, 0.5, 0.43333333333333335, 0.5333333333333333, 0.43333333333333335, 0.5333333333333333, 0.4666666666666667, 0.4666666666666667, 0.43333333333333335, 0.4666666666666667, 0.5333333333333333, 0.4666666666666667, 0.4, 0.5333333333333333, 0.5333333333333333, 0.36666666666666664, 0.5333333333333333, 0.5333333333333333, 0.4666666666666667, 0.5, 0.4666666666666667, 0.5666666666666667, 0.36666666666666664, 0.4666666666666667, 0.5, 0.5333333333333333, 0.6333333333333333, 0.4, 0.36666666666666664, 0.5, 0.43333333333333335, 0.6333333333333333, 0.5666666666666667, 0.4, 0.5666666666666667, 0.6333333333333333, 0.4, 0.5666666666666667, 0.4, 0.5333333333333333, 0.36666666666666664, 0.3, 0.5333333333333333, 0.43333333333333335, 0.5, 0.5333333333333333, 0.5, 0.43333333333333335, 0.3, 0.7, 0.3333333333333333, 0.4666666666666667, 0.5666666666666667, 0.36666666666666664, 0.5666666666666667, 0.4, 0.5, 0.3333333333333333, 0.43333333333333335, 0.5, 0.6, 0.4, 0.5333333333333333, 0.4, 0.43333333333333335, 0.5333333333333333, 0.6666666666666666, 0.36666666666666664, 0.5, 0.5666666666666667, 0.5333333333333333, 0.4, 0.4666666666666667, 0.4, 0.36666666666666664, 0.43333333333333335, 0.6333333333333333, 0.5333333333333333, 0.43333333333333335, 0.5333333333333333, 0.5, 0.6, 0.4, 0.6, 0.43333333333333335, 0.4666666666666667, 0.6, 0.6, 0.36666666666666664, 0.4, 0.5, 0.4666666666666667, 0.5333333333333333, 0.43333333333333335, 0.5, 0.5333333333333333, 0.5, 0.5, 0.4, 0.43333333333333335, 0.43333333333333335, 0.5666666666666667, 0.5, 0.5666666666666667, 0.43333333333333335, 0.4, 0.4666666666666667, 0.4666666666666667, 0.6, 0.6, 0.4666666666666667, 0.5666666666666667, 0.4, 0.4666666666666667, 0.6, 0.4666666666666667, 0.3333333333333333, 0.5333333333333333, 0.6333333333333333, 0.4, 0.7, 0.36666666666666664, 0.4, 0.3333333333333333, 0.4, 0.5, 0.5666666666666667, 0.5333333333333333, 0.5333333333333333, 0.7, 0.43333333333333335, 0.43333333333333335, 0.5, 0.5666666666666667, 0.6666666666666666, 0.5, 0.5333333333333333, 0.6666666666666666, 0.36666666666666664, 0.43333333333333335, 0.5666666666666667, 0.5333333333333333, 0.3, 0.4, 0.4666666666666667, 0.4, 0.5, 0.5333333333333333, 0.5, 0.5, 0.5, 0.6, 0.4, 0.4666666666666667, 0.5, 0.36666666666666664, 0.36666666666666664, 0.5, 0.36666666666666664, 0.6, 0.6, 0.6666666666666666, 0.3333333333333333, 0.6, 0.5333333333333333, 0.5333333333333333, 0.5666666666666667, 0.36666666666666664, 0.5333333333333333, 0.43333333333333335, 0.4, 0.4, 0.5, 0.3333333333333333, 0.3, 0.4666666666666667, 0.43333333333333335, 0.5, 0.4666666666666667, 0.5333333333333333, 0.5333333333333333, 0.43333333333333335, 0.43333333333333335, 0.4666666666666667, 0.5666666666666667, 0.5, 0.5333333333333333, 0.5, 0.43333333333333335, 0.5, 0.5, 0.5666666666666667, 0.43333333333333335, 0.5, 0.6666666666666666, 0.43333333333333335, 0.43333333333333335, 0.4666666666666667, 0.5333333333333333, 0.36666666666666664, 0.5333333333333333, 0.5333333333333333, 0.4666666666666667, 0.5, 0.5, 0.4, 0.4666666666666667, 0.43333333333333335, 0.5, 0.36666666666666664, 0.5, 0.3333333333333333, 0.5, 0.5333333333333333, 0.5666666666666667, 0.5, 0.43333333333333335, 0.23333333333333334, 0.4666666666666667, 0.5333333333333333, 0.6666666666666666, 0.5, 0.5666666666666667, 0.4, 0.5333333333333333, 0.4666666666666667, 0.6, 0.4666666666666667, 0.43333333333333335, 0.5, 0.5333333333333333, 0.3333333333333333, 0.5, 0.5666666666666667, 0.5666666666666667, 0.5333333333333333, 0.6333333333333333, 0.7, 0.43333333333333335, 0.5666666666666667, 0.5, 0.5, 0.5666666666666667, 0.5, 0.5, 0.4666666666666667, 0.5, 0.4666666666666667, 0.6, 0.5, 0.4666666666666667, 0.4, 0.5, 0.3, 0.4666666666666667, 0.43333333333333335, 0.5, 0.5333333333333333, 0.36666666666666664, 0.7333333333333333, 0.4666666666666667, 0.5, 0.5333333333333333, 0.6333333333333333, 0.5666666666666667, 0.4, 0.5, 0.5666666666666667, 0.5666666666666667, 0.5666666666666667, 0.5333333333333333, 0.6, 0.6666666666666666, 0.5333333333333333, 0.36666666666666664, 0.4, 0.6, 0.5666666666666667, 0.5333333333333333, 0.43333333333333335, 0.5666666666666667, 0.5666666666666667, 0.5333333333333333, 0.4, 0.4, 0.5666666666666667, 0.5, 0.5666666666666667, 0.36666666666666664, 0.5666666666666667, 0.4666666666666667, 0.5666666666666667, 0.5, 0.4666666666666667, 0.5333333333333333, 0.7, 0.7, 0.3333333333333333, 0.43333333333333335, 0.4, 0.36666666666666664, 0.4, 0.5333333333333333, 0.5, 0.43333333333333335, 0.5666666666666667, 0.5666666666666667, 0.43333333333333335, 0.4, 0.4666666666666667, 0.4, 0.5333333333333333, 0.5, 0.5333333333333333, 0.4, 0.43333333333333335, 0.5, 0.4666666666666667, 0.43333333333333335, 0.5666666666666667, 0.5, 0.4, 0.5333333333333333, 0.4, 0.5666666666666667, 0.3333333333333333, 0.5, 0.6, 0.5333333333333333, 0.43333333333333335, 0.6666666666666666, 0.5, 0.4, 0.6, 0.5666666666666667, 0.5, 0.5, 0.5, 0.5666666666666667, 0.5333333333333333, 0.5, 0.43333333333333335, 0.5666666666666667, 0.4, 0.5333333333333333, 0.36666666666666664, 0.6666666666666666, 0.4666666666666667, 0.43333333333333335, 0.4666666666666667, 0.4666666666666667, 0.4666666666666667, 0.5, 0.5, 0.5333333333333333, 0.5333333333333333, 0.5333333333333333, 0.6666666666666666, 0.5333333333333333, 0.5333333333333333, 0.6333333333333333, 0.6, 0.36666666666666664, 0.5333333333333333, 0.6333333333333333, 0.36666666666666664, 0.5666666666666667, 0.5333333333333333, 0.4, 0.5333333333333333, 0.5666666666666667, 0.5, 0.4, 0.7, 0.5333333333333333, 0.4, 0.5333333333333333, 0.5, 0.4, 0.5666666666666667, 0.6666666666666666, 0.5, 0.43333333333333335, 0.7333333333333333, 0.4666666666666667, 0.3333333333333333, 0.5, 0.5666666666666667, 0.26666666666666666, 0.36666666666666664, 0.5, 0.5333333333333333, 0.5333333333333333, 0.5, 0.4666666666666667, 0.5666666666666667, 0.43333333333333335, 0.4666666666666667, 0.6, 0.4666666666666667, 0.43333333333333335, 0.36666666666666664, 0.36666666666666664, 0.4666666666666667, 0.4, 0.4666666666666667, 0.4666666666666667, 0.36666666666666664, 0.5, 0.5666666666666667, 0.6, 0.5333333333333333, 0.6333333333333333, 0.3, 0.6, 0.6, 0.4, 0.43333333333333335, 0.5666666666666667, 0.5, 0.4666666666666667, 0.6, 0.4, 0.5666666666666667, 0.5666666666666667, 0.5666666666666667, 0.3, 0.23333333333333334, 0.5666666666666667, 0.4, 0.5, 0.3333333333333333, 0.36666666666666664, 0.4666666666666667, 0.5, 0.6666666666666666, 0.4, 0.43333333333333335, 0.5333333333333333, 0.4666666666666667, 0.5333333333333333, 0.4666666666666667, 0.43333333333333335, 0.5, 0.6, 0.4666666666666667, 0.6, 0.5333333333333333, 0.43333333333333335, 0.6, 0.5333333333333333, 0.5333333333333333, 0.7333333333333333, 0.4666666666666667, 0.4, 0.5, 0.6, 0.5666666666666667, 0.5333333333333333, 0.5, 0.6666666666666666, 0.4, 0.5666666666666667, 0.5333333333333333, 0.5333333333333333, 0.5, 0.5666666666666667, 0.5666666666666667, 0.5, 0.43333333333333335, 0.4666666666666667, 0.3333333333333333, 0.6, 0.4, 0.5666666666666667, 0.4666666666666667, 0.26666666666666666, 0.5333333333333333, 0.5333333333333333, 0.4666666666666667, 0.36666666666666664, 0.7333333333333333, 0.5, 0.6, 0.4666666666666667, 0.5333333333333333, 0.43333333333333335, 0.4666666666666667, 0.6666666666666666, 0.5333333333333333, 0.5, 0.4, 0.5666666666666667, 0.4666666666666667, 0.4666666666666667, 0.6, 0.5, 0.4666666666666667, 0.6333333333333333, 0.6333333333333333, 0.36666666666666664, 0.5666666666666667, 0.4666666666666667, 0.4666666666666667, 0.4666666666666667, 0.6666666666666666, 0.6333333333333333, 0.3, 0.4666666666666667, 0.5333333333333333, 0.6, 0.5333333333333333, 0.5333333333333333, 0.5, 0.4666666666666667, 0.5, 0.5333333333333333, 0.4666666666666667, 0.5333333333333333, 0.5, 0.5333333333333333, 0.4666666666666667, 0.3333333333333333, 0.6333333333333333, 0.4, 0.5333333333333333, 0.36666666666666664, 0.5333333333333333, 0.6666666666666666, 0.5333333333333333, 0.26666666666666666, 0.4, 0.5, 0.43333333333333335, 0.43333333333333335, 0.36666666666666664, 0.5666666666666667, 0.5666666666666667, 0.4666666666666667, 0.5666666666666667, 0.5333333333333333, 0.4666666666666667, 0.4, 0.4666666666666667, 0.6, 0.4, 0.4666666666666667, 0.5666666666666667, 0.5, 0.5, 0.43333333333333335, 0.5333333333333333, 0.36666666666666664, 0.6, 0.6, 0.6, 0.4, 0.5, 0.7333333333333333, 0.3, 0.4666666666666667, 0.5666666666666667, 0.43333333333333335, 0.4666666666666667, 0.4, 0.4, 0.5, 0.36666666666666664, 0.4666666666666667, 0.43333333333333335, 0.5666666666666667, 0.3, 0.5666666666666667, 0.4, 0.5, 0.4666666666666667, 0.43333333333333335, 0.43333333333333335, 0.43333333333333335, 0.6, 0.5, 0.6666666666666666, 0.4, 0.5, 0.5666666666666667, 0.43333333333333335, 0.6333333333333333, 0.4666666666666667, 0.5, 0.5333333333333333, 0.5666666666666667, 0.3333333333333333, 0.5, 0.5333333333333333, 0.5333333333333333, 0.4666666666666667, 0.6333333333333333, 0.6333333333333333, 0.5333333333333333, 0.5, 0.6333333333333333, 0.6333333333333333, 0.6333333333333333, 0.43333333333333335, 0.5, 0.4666666666666667, 0.5333333333333333, 0.6333333333333333, 0.4666666666666667, 0.5333333333333333, 0.5333333333333333, 0.5333333333333333, 0.5666666666666667, 0.5333333333333333, 0.4666666666666667, 0.4, 0.43333333333333335, 0.8, 0.5666666666666667, 0.5666666666666667, 0.43333333333333335, 0.4666666666666667, 0.4, 0.5, 0.6333333333333333, 0.5, 0.4666666666666667, 0.4, 0.6, 0.3333333333333333, 0.4, 0.4666666666666667, 0.6333333333333333, 0.4, 0.4666666666666667, 0.6666666666666666, 0.4, 0.5, 0.5333333333333333, 0.5666666666666667, 0.5333333333333333, 0.6, 0.5333333333333333, 0.4, 0.5333333333333333, 0.5666666666666667, 0.5333333333333333, 0.3, 0.4, 0.5333333333333333, 0.5333333333333333, 0.5333333333333333, 0.5, 0.36666666666666664, 0.4666666666666667, 0.4666666666666667, 0.5333333333333333, 0.4, 0.5333333333333333, 0.43333333333333335, 0.5333333333333333, 0.5333333333333333, 0.43333333333333335, 0.43333333333333335, 0.5333333333333333, 0.5666666666666667, 0.5666666666666667, 0.6, 0.5, 0.4666666666666667, 0.36666666666666664, 0.43333333333333335, 0.6333333333333333, 0.5, 0.43333333333333335, 0.6666666666666666, 0.4, 0.6, 0.3, 0.43333333333333335, 0.5333333333333333, 0.5, 0.5666666666666667, 0.5333333333333333, 0.5333333333333333, 0.4666666666666667, 0.6666666666666666, 0.7, 0.5333333333333333, 0.4, 0.4666666666666667, 0.5333333333333333, 0.4, 0.6666666666666666, 0.5, 0.4, 0.5333333333333333, 0.5333333333333333, 0.4, 0.4, 0.36666666666666664, 0.3333333333333333, 0.6333333333333333, 0.5333333333333333, 0.36666666666666664, 0.5, 0.4666666666666667, 0.5333333333333333, 0.5333333333333333, 0.36666666666666664, 0.4666666666666667, 0.6666666666666666, 0.5, 0.6, 0.6, 0.4666666666666667, 0.43333333333333335, 0.5, 0.6666666666666666, 0.6333333333333333, 0.43333333333333335, 0.4666666666666667, 0.4, 0.6333333333333333, 0.4, 0.5, 0.5666666666666667, 0.4666666666666667, 0.3333333333333333, 0.4666666666666667, 0.43333333333333335, 0.6666666666666666, 0.4666666666666667, 0.4666666666666667, 0.4666666666666667, 0.5333333333333333, 0.6, 0.4666666666666667, 0.5666666666666667, 0.5333333333333333, 0.4, 0.5333333333333333, 0.4666666666666667, 0.43333333333333335, 0.5666666666666667, 0.36666666666666664, 0.5, 0.36666666666666664, 0.4666666666666667, 0.5, 0.4, 0.6, 0.43333333333333335, 0.43333333333333335, 0.3333333333333333, 0.6, 0.6, 0.5666666666666667, 0.4666666666666667, 0.4, 0.3, 0.4, 0.43333333333333335, 0.26666666666666666, 0.5333333333333333, 0.5, 0.4, 0.4, 0.6333333333333333, 0.36666666666666664, 0.5666666666666667, 0.3333333333333333, 0.4666666666666667, 0.43333333333333335, 0.5333333333333333, 0.6, 0.4666666666666667, 0.6666666666666666, 0.5666666666666667, 0.4, 0.43333333333333335, 0.5, 0.5666666666666667, 0.5666666666666667, 0.5666666666666667, 0.43333333333333335, 0.4, 0.5333333333333333, 0.3333333333333333, 0.5, 0.6333333333333333, 0.5666666666666667, 0.5666666666666667, 0.5333333333333333, 0.4, 0.6, 0.5333333333333333, 0.6, 0.6333333333333333, 0.6, 0.6333333333333333, 0.4666666666666667, 0.6333333333333333, 0.4666666666666667, 0.43333333333333335, 0.6333333333333333, 0.5, 0.5666666666666667, 0.4666666666666667, 0.4, 0.5, 0.43333333333333335, 0.5666666666666667, 0.5666666666666667, 0.4, 0.4666666666666667, 0.4, 0.5333333333333333, 0.43333333333333335, 0.6666666666666666, 0.5666666666666667, 0.4666666666666667, 0.6, 0.36666666666666664, 0.5666666666666667, 0.5, 0.5333333333333333, 0.5, 0.5, 0.4, 0.5666666666666667, 0.4, 0.3333333333333333, 0.5666666666666667, 0.4666666666666667, 0.5, 0.5666666666666667, 0.4, 0.36666666666666664, 0.4, 0.6333333333333333, 0.5333333333333333, 0.4666666666666667, 0.4666666666666667, 0.5, 0.5666666666666667, 0.5, 0.7, 0.3333333333333333, 0.5, 0.5333333333333333, 0.5, 0.5666666666666667, 0.5666666666666667, 0.5333333333333333, 0.5, 0.4666666666666667, 0.4, 0.4666666666666667, 0.5333333333333333, 0.5666666666666667, 0.5333333333333333, 0.5, 0.5666666666666667, 0.5333333333333333, 0.3333333333333333, 0.5666666666666667, 0.4666666666666667, 0.4666666666666667, 0.43333333333333335, 0.5333333333333333, 0.43333333333333335, 0.6, 0.43333333333333335, 0.6, 0.5, 0.36666666666666664, 0.4, 0.4666666666666667, 0.7, 0.5333333333333333, 0.6, 0.4666666666666667, 0.5666666666666667, 0.5666666666666667, 0.5, 0.43333333333333335, 0.36666666666666664, 0.36666666666666664, 0.6333333333333333, 0.4666666666666667, 0.5, 0.4666666666666667, 0.5666666666666667, 0.4666666666666667, 0.5, 0.6666666666666666, 0.5, 0.4666666666666667, 0.5333333333333333, 0.4666666666666667, 0.4666666666666667, 0.5, 0.6666666666666666, 0.5, 0.3333333333333333, 0.5333333333333333, 0.6333333333333333, 0.6333333333333333, 0.4666666666666667, 0.7, 0.6, 0.5333333333333333, 0.4666666666666667, 0.6, 0.4666666666666667, 0.5, 0.5, 0.3, 0.5666666666666667, 0.5333333333333333, 0.5666666666666667, 0.5333333333333333, 0.6333333333333333, 0.5666666666666667, 0.5333333333333333, 0.43333333333333335, 0.6666666666666666, 0.6666666666666666, 0.43333333333333335, 0.6666666666666666, 0.4666666666666667, 0.5333333333333333, 0.6333333333333333, 0.7, 0.6333333333333333, 0.4666666666666667, 0.5666666666666667, 0.43333333333333335, 0.4666666666666667, 0.7, 0.43333333333333335, 0.5, 0.6333333333333333, 0.5333333333333333, 0.5, 0.36666666666666664, 0.5, 0.4666666666666667, 0.5666666666666667, 0.5333333333333333, 0.6333333333333333, 0.4666666666666667, 0.5333333333333333, 0.5, 0.5333333333333333, 0.43333333333333335, 0.5333333333333333, 0.43333333333333335, 0.4, 0.6, 0.4, 0.5333333333333333, 0.6, 0.5, 0.6333333333333333, 0.4666666666666667, 0.5666666666666667, 0.5333333333333333, 0.6666666666666666, 0.43333333333333335, 0.5, 0.4666666666666667, 0.4666666666666667, 0.43333333333333335, 0.7, 0.5333333333333333, 0.5, 0.43333333333333335, 0.6666666666666666, 0.5666666666666667, 0.4666666666666667, 0.5333333333333333, 0.4, 0.5333333333333333, 0.7, 0.4666666666666667, 0.43333333333333335, 0.6333333333333333, 0.4666666666666667, 0.5, 0.4, 0.3333333333333333, 0.6333333333333333, 0.4, 0.36666666666666664, 0.6, 0.5666666666666667, 0.6, 0.6, 0.6, 0.5, 0.43333333333333335, 0.5333333333333333, 0.4, 0.4666666666666667, 0.4666666666666667, 0.4666666666666667, 0.5333333333333333, 0.5333333333333333, 0.4, 0.5666666666666667, 0.6333333333333333, 0.4666666666666667, 0.6, 0.5, 0.3, 0.7, 0.4666666666666667, 0.5, 0.6, 0.4666666666666667, 0.3, 0.6, 0.5666666666666667, 0.5666666666666667, 0.6, 0.6, 0.36666666666666664, 0.5666666666666667, 0.3333333333333333, 0.5333333333333333, 0.6333333333333333, 0.5666666666666667, 0.5666666666666667, 0.6, 0.5333333333333333, 0.43333333333333335, 0.4, 0.5, 0.4666666666666667, 0.4, 0.43333333333333335, 0.6, 0.6, 0.5, 0.43333333333333335, 0.43333333333333335, 0.6, 0.5, 0.5333333333333333, 0.36666666666666664, 0.4, 0.4666666666666667, 0.7333333333333333, 0.6, 0.5, 0.4666666666666667, 0.6, 0.5, 0.5, 0.4, 0.4666666666666667, 0.4666666666666667, 0.5666666666666667, 0.43333333333333335, 0.5, 0.43333333333333335, 0.4666666666666667, 0.5333333333333333, 0.3, 0.5333333333333333, 0.3, 0.4666666666666667, 0.43333333333333335, 0.6666666666666666, 0.4, 0.4, 0.6333333333333333, 0.5333333333333333, 0.5, 0.5, 0.26666666666666666, 0.4666666666666667, 0.4666666666666667, 0.4666666666666667, 0.4, 0.5666666666666667, 0.4, 0.6666666666666666, 0.4666666666666667, 0.6, 0.5666666666666667, 0.43333333333333335, 0.4666666666666667, 0.6333333333333333, 0.6, 0.4, 0.4666666666666667, 0.4666666666666667, 0.6333333333333333, 0.36666666666666664, 0.5333333333333333, 0.36666666666666664, 0.6, 0.6333333333333333, 0.43333333333333335, 0.36666666666666664, 0.7, 0.5666666666666667, 0.4666666666666667, 0.6333333333333333, 0.4, 0.4666666666666667, 0.6333333333333333, 0.5333333333333333, 0.4666666666666667, 0.5, 0.6666666666666666, 0.5333333333333333, 0.4666666666666667, 0.5333333333333333, 0.4666666666666667, 0.4666666666666667, 0.5, 0.4, 0.6, 0.5666666666666667, 0.6333333333333333, 0.36666666666666664, 0.5666666666666667, 0.43333333333333335, 0.3333333333333333, 0.4666666666666667, 0.4, 0.5333333333333333, 0.5, 0.43333333333333335, 0.5333333333333333, 0.4666666666666667, 0.43333333333333335, 0.4666666666666667, 0.6, 0.36666666666666664, 0.36666666666666664, 0.43333333333333335, 0.5, 0.6, 0.5, 0.4666666666666667, 0.7, 0.6, 0.4666666666666667, 0.5333333333333333, 0.3, 0.4666666666666667, 0.6, 0.6, 0.43333333333333335, 0.5666666666666667, 0.6, 0.5, 0.4666666666666667, 0.5, 0.6666666666666666, 0.4, 0.4, 0.4, 0.4666666666666667, 0.5333333333333333, 0.6666666666666666, 0.43333333333333335, 0.26666666666666666, 0.5333333333333333, 0.43333333333333335, 0.4, 0.4666666666666667, 0.6666666666666666, 0.6666666666666666, 0.5666666666666667, 0.5, 0.4666666666666667, 0.6666666666666666, 0.43333333333333335, 0.6, 0.4, 0.5666666666666667, 0.4, 0.4, 0.43333333333333335, 0.43333333333333335, 0.5333333333333333, 0.4666666666666667, 0.5333333333333333, 0.6, 0.36666666666666664, 0.5, 0.4666666666666667, 0.5666666666666667, 0.36666666666666664, 0.5666666666666667, 0.5333333333333333, 0.3333333333333333, 0.36666666666666664, 0.43333333333333335, 0.5333333333333333, 0.5, 0.5333333333333333, 0.43333333333333335, 0.4, 0.5333333333333333, 0.36666666666666664, 0.5333333333333333, 0.7, 0.6, 0.5, 0.4666666666666667, 0.43333333333333335, 0.5333333333333333, 0.5333333333333333, 0.5333333333333333, 0.4666666666666667, 0.5666666666666667, 0.6, 0.36666666666666664, 0.43333333333333335, 0.4666666666666667, 0.6333333333333333, 0.36666666666666664, 0.5333333333333333, 0.5333333333333333, 0.5666666666666667, 0.5333333333333333, 0.5, 0.7666666666666667, 0.43333333333333335, 0.6, 0.5, 0.5666666666666667, 0.7666666666666667, 0.4666666666666667, 0.6666666666666666, 0.5666666666666667, 0.5, 0.5333333333333333, 0.4666666666666667, 0.5666666666666667, 0.4666666666666667, 0.5333333333333333, 0.4666666666666667, 0.4666666666666667, 0.5666666666666667, 0.6, 0.26666666666666666, 0.5, 0.5666666666666667, 0.43333333333333335, 0.4666666666666667, 0.3333333333333333, 0.5333333333333333, 0.43333333333333335, 0.6, 0.43333333333333335, 0.4666666666666667, 0.7, 0.5, 0.5333333333333333, 0.5, 0.36666666666666664, 0.5666666666666667, 0.6333333333333333, 0.3333333333333333, 0.2, 0.4, 0.5333333333333333, 0.5, 0.5333333333333333, 0.5666666666666667, 0.6333333333333333, 0.43333333333333335, 0.5666666666666667, 0.6666666666666666, 0.5333333333333333, 0.5, 0.5666666666666667, 0.5, 0.5, 0.6, 0.5333333333333333, 0.5666666666666667, 0.6, 0.43333333333333335, 0.6333333333333333, 0.43333333333333335, 0.5333333333333333, 0.6, 0.5666666666666667, 0.5333333333333333, 0.4666666666666667, 0.5666666666666667, 0.5333333333333333, 0.5, 0.5, 0.43333333333333335, 0.3333333333333333, 0.4666666666666667, 0.4, 0.5666666666666667, 0.7333333333333333, 0.6333333333333333, 0.4666666666666667, 0.36666666666666664, 0.5, 0.4666666666666667, 0.6333333333333333, 0.3333333333333333, 0.5333333333333333, 0.5333333333333333, 0.5, 0.5333333333333333, 0.5666666666666667, 0.4666666666666667, 0.43333333333333335, 0.5333333333333333, 0.7333333333333333, 0.43333333333333335, 0.4666666666666667, 0.6333333333333333, 0.4, 0.5, 0.5333333333333333, 0.4666666666666667, 0.4666666666666667, 0.5, 0.5333333333333333, 0.4666666666666667, 0.4666666666666667, 0.3, 0.5666666666666667, 0.36666666666666664, 0.5666666666666667, 0.4666666666666667, 0.36666666666666664, 0.5666666666666667, 0.5333333333333333, 0.6, 0.4666666666666667, 0.4666666666666667, 0.26666666666666666, 0.5666666666666667, 0.5, 0.4666666666666667, 0.5666666666666667, 0.5, 0.5, 0.5, 0.4666666666666667, 0.5, 0.4, 0.5333333333333333, 0.6333333333333333, 0.5, 0.5, 0.43333333333333335, 0.5, 0.6333333333333333, 0.43333333333333335, 0.5333333333333333, 0.4, 0.5333333333333333, 0.7, 0.4666666666666667, 0.6, 0.6333333333333333, 0.4666666666666667, 0.4, 0.4666666666666667, 0.5, 0.6333333333333333, 0.43333333333333335, 0.6, 0.36666666666666664, 0.5666666666666667, 0.5, 0.4, 0.4666666666666667, 0.5, 0.43333333333333335, 0.36666666666666664, 0.5666666666666667, 0.6666666666666666, 0.5666666666666667, 0.43333333333333335, 0.43333333333333335, 0.6, 0.5333333333333333, 0.5333333333333333, 0.5333333333333333, 0.43333333333333335, 0.4, 0.5, 0.5666666666666667, 0.5, 0.36666666666666664, 0.4666666666666667, 0.5333333333333333, 0.5333333333333333, 0.43333333333333335, 0.6, 0.5333333333333333, 0.5666666666666667, 0.43333333333333335, 0.5, 0.43333333333333335, 0.3333333333333333, 0.43333333333333335, 0.7333333333333333, 0.6333333333333333, 0.4, 0.5666666666666667, 0.5333333333333333, 0.3, 0.5, 0.5333333333333333, 0.5333333333333333, 0.43333333333333335, 0.36666666666666664, 0.36666666666666664, 0.6, 0.6, 0.36666666666666664, 0.4666666666666667, 0.6, 0.6, 0.5, 0.5, 0.4666666666666667, 0.4666666666666667, 0.36666666666666664, 0.5, 0.6, 0.43333333333333335, 0.36666666666666664, 0.43333333333333335, 0.5333333333333333, 0.3333333333333333, 0.4666666666666667, 0.43333333333333335, 0.5333333333333333, 0.5, 0.7, 0.36666666666666664, 0.5666666666666667, 0.3333333333333333, 0.5333333333333333, 0.4, 0.4666666666666667, 0.43333333333333335, 0.6666666666666666, 0.36666666666666664, 0.5333333333333333, 0.5666666666666667, 0.43333333333333335, 0.43333333333333335, 0.5333333333333333, 0.4666666666666667, 0.4666666666666667, 0.5666666666666667, 0.5333333333333333, 0.6333333333333333, 0.5666666666666667, 0.43333333333333335, 0.6333333333333333, 0.5333333333333333, 0.43333333333333335, 0.6666666666666666, 0.6, 0.5666666666666667, 0.6, 0.5666666666666667, 0.4666666666666667, 0.6333333333333333, 0.4, 0.5333333333333333, 0.6, 0.4, 0.4666666666666667, 0.4666666666666667, 0.5666666666666667, 0.5, 0.4, 0.43333333333333335, 0.5666666666666667, 0.5666666666666667, 0.4666666666666667, 0.4, 0.6333333333333333, 0.4, 0.6, 0.4, 0.6666666666666666, 0.6333333333333333, 0.4666666666666667, 0.43333333333333335, 0.4666666666666667, 0.5666666666666667, 0.5333333333333333, 0.6666666666666666, 0.6333333333333333, 0.4666666666666667, 0.5666666666666667, 0.5333333333333333, 0.4, 0.5666666666666667, 0.4, 0.5666666666666667, 0.3333333333333333, 0.5333333333333333, 0.4, 0.26666666666666666, 0.43333333333333335, 0.5666666666666667, 0.5, 0.5333333333333333, 0.6, 0.6333333333333333, 0.43333333333333335, 0.5666666666666667, 0.43333333333333335, 0.6, 0.43333333333333335, 0.5, 0.4666666666666667, 0.6, 0.3333333333333333, 0.6666666666666666, 0.6, 0.4666666666666667, 0.5, 0.43333333333333335, 0.6666666666666666, 0.5333333333333333, 0.4666666666666667, 0.36666666666666664, 0.43333333333333335, 0.43333333333333335, 0.6333333333333333, 0.43333333333333335, 0.36666666666666664, 0.4666666666666667, 0.6, 0.7, 0.4, 0.36666666666666664, 0.4, 0.5666666666666667, 0.43333333333333335, 0.5, 0.4, 0.43333333333333335, 0.5333333333333333, 0.43333333333333335, 0.43333333333333335, 0.4, 0.6666666666666666, 0.5333333333333333, 0.4, 0.4, 0.5, 0.6, 0.5, 0.4, 0.5333333333333333, 0.6, 0.5666666666666667, 0.4666666666666667, 0.43333333333333335, 0.6, 0.4, 0.5666666666666667, 0.5666666666666667, 0.6, 0.4666666666666667, 0.4, 0.36666666666666664, 0.5, 0.6, 0.5666666666666667, 0.5333333333333333, 0.4666666666666667, 0.4, 0.5333333333333333, 0.43333333333333335, 0.6, 0.5, 0.6333333333333333, 0.5, 0.5333333333333333, 0.5333333333333333, 0.6, 0.5666666666666667, 0.5333333333333333, 0.5, 0.5, 0.6333333333333333, 0.6, 0.5666666666666667, 0.43333333333333335, 0.4666666666666667, 0.4, 0.5333333333333333, 0.5333333333333333, 0.7, 0.5333333333333333, 0.36666666666666664, 0.5, 0.3, 0.6, 0.5666666666666667, 0.6, 0.6, 0.43333333333333335, 0.4666666666666667, 0.4666666666666667, 0.4, 0.36666666666666664, 0.36666666666666664, 0.7, 0.4666666666666667, 0.43333333333333335, 0.5, 0.5, 0.5666666666666667, 0.3333333333333333, 0.43333333333333335, 0.36666666666666664, 0.5, 0.4666666666666667, 0.5333333333333333, 0.5333333333333333, 0.4, 0.5, 0.6, 0.4, 0.4666666666666667, 0.36666666666666664, 0.5, 0.5333333333333333, 0.5666666666666667, 0.6, 0.4666666666666667, 0.36666666666666664, 0.4666666666666667, 0.4666666666666667, 0.5666666666666667, 0.5666666666666667, 0.43333333333333335, 0.6, 0.5333333333333333, 0.43333333333333335, 0.5333333333333333, 0.5, 0.43333333333333335, 0.6, 0.5666666666666667, 0.36666666666666664, 0.5333333333333333, 0.4, 0.43333333333333335, 0.3333333333333333, 0.5, 0.5, 0.5333333333333333, 0.4666666666666667, 0.36666666666666664, 0.5333333333333333, 0.6333333333333333, 0.5, 0.4, 0.43333333333333335, 0.3, 0.5333333333333333, 0.5666666666666667, 0.6, 0.5666666666666667, 0.5333333333333333, 0.6, 0.43333333333333335, 0.4666666666666667, 0.7, 0.4666666666666667, 0.5666666666666667, 0.36666666666666664, 0.5, 0.6, 0.5333333333333333, 0.4, 0.4666666666666667, 0.4666666666666667, 0.6, 0.3333333333333333, 0.4666666666666667, 0.5333333333333333, 0.5333333333333333, 0.36666666666666664, 0.4, 0.4666666666666667, 0.4, 0.5, 0.5, 0.6, 0.5333333333333333, 0.6, 0.5, 0.4666666666666667, 0.5, 0.4, 0.4666666666666667, 0.4, 0.6666666666666666, 0.43333333333333335, 0.5, 0.5, 0.6333333333333333, 0.4666666666666667, 0.5666666666666667, 0.6666666666666666, 0.4, 0.4, 0.5333333333333333, 0.5666666666666667, 0.6, 0.5333333333333333, 0.43333333333333335, 0.43333333333333335, 0.5333333333333333, 0.3, 0.5, 0.4, 0.43333333333333335, 0.4666666666666667, 0.4666666666666667, 0.43333333333333335, 0.36666666666666664, 0.43333333333333335, 0.6666666666666666, 0.6, 0.5333333333333333, 0.5, 0.6666666666666666, 0.6666666666666666, 0.4666666666666667, 0.5, 0.6333333333333333, 0.4666666666666667, 0.5333333333333333, 0.4666666666666667, 0.6, 0.3333333333333333, 0.43333333333333335, 0.43333333333333335, 0.4666666666666667, 0.43333333333333335, 0.4, 0.4666666666666667, 0.5333333333333333, 0.5, 0.5333333333333333, 0.6, 0.5333333333333333, 0.5333333333333333, 0.43333333333333335, 0.5, 0.5, 0.5666666666666667, 0.36666666666666664, 0.5333333333333333, 0.4, 0.6666666666666666, 0.5333333333333333, 0.4666666666666667, 0.5666666666666667, 0.5333333333333333, 0.5, 0.5666666666666667, 0.5, 0.6333333333333333, 0.5333333333333333, 0.4666666666666667, 0.5, 0.6666666666666666, 0.4, 0.5333333333333333, 0.43333333333333335, 0.5, 0.3, 0.36666666666666664, 0.43333333333333335, 0.7666666666666667, 0.6, 0.6, 0.6666666666666666, 0.43333333333333335, 0.5666666666666667, 0.3, 0.4666666666666667, 0.43333333333333335, 0.5, 0.5333333333333333, 0.6333333333333333, 0.6, 0.43333333333333335, 0.6, 0.3333333333333333, 0.5666666666666667, 0.6333333333333333, 0.4666666666666667, 0.3, 0.6, 0.4, 0.43333333333333335, 0.4666666666666667, 0.5, 0.5, 0.5, 0.6, 0.5666666666666667, 0.4, 0.5666666666666667, 0.5666666666666667, 0.4, 0.36666666666666664, 0.5, 0.6333333333333333, 0.3333333333333333, 0.6666666666666666, 0.36666666666666664, 0.3333333333333333, 0.5666666666666667, 0.43333333333333335, 0.43333333333333335, 0.5, 0.5333333333333333, 0.43333333333333335, 0.43333333333333335, 0.5333333333333333, 0.4666666666666667, 0.4666666666666667, 0.6333333333333333, 0.43333333333333335, 0.3, 0.5, 0.5333333333333333, 0.43333333333333335, 0.7666666666666667, 0.4666666666666667, 0.43333333333333335, 0.5666666666666667, 0.5666666666666667, 0.6, 0.43333333333333335, 0.6, 0.5, 0.4666666666666667, 0.5, 0.6, 0.6666666666666666, 0.5666666666666667, 0.4, 0.6666666666666666, 0.5666666666666667, 0.5333333333333333, 0.3333333333333333, 0.43333333333333335, 0.5333333333333333, 0.4666666666666667, 0.5666666666666667, 0.6, 0.36666666666666664, 0.6, 0.4666666666666667, 0.4666666666666667, 0.5333333333333333, 0.5666666666666667, 0.4, 0.4, 0.4666666666666667, 0.5333333333333333, 0.5333333333333333, 0.43333333333333335, 0.4, 0.4666666666666667, 0.5, 0.6, 0.6666666666666666, 0.4, 0.3333333333333333, 0.6333333333333333, 0.4666666666666667, 0.36666666666666664, 0.4, 0.36666666666666664, 0.5333333333333333, 0.5333333333333333, 0.6333333333333333, 0.43333333333333335, 0.4666666666666667, 0.4666666666666667, 0.4666666666666667, 0.6, 0.5333333333333333, 0.36666666666666664, 0.7, 0.6, 0.5333333333333333, 0.6333333333333333, 0.5333333333333333, 0.5, 0.6666666666666666, 0.43333333333333335, 0.4, 0.4666666666666667, 0.43333333333333335, 0.5666666666666667, 0.5333333333333333, 0.4666666666666667, 0.5666666666666667, 0.5, 0.4666666666666667, 0.4666666666666667, 0.5333333333333333, 0.6, 0.5, 0.43333333333333335, 0.6, 0.3333333333333333, 0.43333333333333335, 0.5666666666666667, 0.4666666666666667, 0.5, 0.6666666666666666, 0.4, 0.43333333333333335, 0.6333333333333333, 0.5, 0.3, 0.5333333333333333, 0.3, 0.4666666666666667, 0.4, 0.6, 0.5, 0.5333333333333333, 0.6, 0.5333333333333333, 0.5666666666666667, 0.5333333333333333, 0.36666666666666664, 0.6, 0.43333333333333335, 0.5666666666666667, 0.4, 0.5, 0.6333333333333333, 0.5666666666666667, 0.6666666666666666, 0.43333333333333335, 0.4, 0.43333333333333335, 0.5333333333333333, 0.4666666666666667, 0.43333333333333335, 0.5333333333333333, 0.6333333333333333, 0.5333333333333333, 0.6, 0.26666666666666666, 0.6333333333333333, 0.6333333333333333, 0.6, 0.5666666666666667, 0.5333333333333333, 0.43333333333333335, 0.4666666666666667, 0.5, 0.36666666666666664, 0.4666666666666667, 0.5333333333333333, 0.4666666666666667, 0.4, 0.4666666666666667, 0.5666666666666667, 0.5, 0.5666666666666667, 0.43333333333333335, 0.4666666666666667, 0.5666666666666667, 0.5333333333333333, 0.5666666666666667, 0.4666666666666667, 0.43333333333333335, 0.6666666666666666, 0.36666666666666664, 0.4666666666666667, 0.5333333333333333, 0.4666666666666667, 0.5666666666666667, 0.6666666666666666, 0.4666666666666667, 0.7333333333333333, 0.4, 0.36666666666666664, 0.5, 0.6, 0.3333333333333333, 0.43333333333333335, 0.5333333333333333, 0.36666666666666664, 0.3, 0.5, 0.5, 0.4, 0.6, 0.3333333333333333, 0.36666666666666664, 0.36666666666666664, 0.5, 0.4, 0.5666666666666667, 0.43333333333333335, 0.6666666666666666, 0.5333333333333333, 0.6, 0.4666666666666667, 0.4, 0.4666666666666667, 0.5666666666666667, 0.6, 0.4666666666666667, 0.6666666666666666, 0.6333333333333333, 0.43333333333333335, 0.36666666666666664, 0.43333333333333335, 0.5, 0.6, 0.6666666666666666, 0.4, 0.43333333333333335, 0.5666666666666667, 0.5333333333333333, 0.7, 0.4666666666666667, 0.5333333333333333, 0.5666666666666667, 0.6, 0.5, 0.5, 0.5, 0.4666666666666667, 0.3333333333333333, 0.5, 0.43333333333333335, 0.5333333333333333, 0.4666666666666667, 0.5333333333333333, 0.43333333333333335, 0.6, 0.43333333333333335, 0.5333333333333333, 0.5, 0.43333333333333335, 0.6, 0.4666666666666667, 0.5666666666666667, 0.6333333333333333, 0.6333333333333333, 0.6333333333333333, 0.43333333333333335, 0.5666666666666667, 0.5, 0.43333333333333335, 0.5, 0.5, 0.5333333333333333, 0.4666666666666667, 0.5333333333333333, 0.36666666666666664, 0.4666666666666667, 0.6, 0.5333333333333333, 0.5, 0.5333333333333333, 0.4, 0.4666666666666667, 0.5666666666666667, 0.5, 0.43333333333333335, 0.4, 0.6, 0.43333333333333335, 0.5333333333333333, 0.5, 0.6, 0.43333333333333335, 0.5666666666666667, 0.5, 0.6, 0.4666666666666667, 0.6333333333333333, 0.5333333333333333, 0.5, 0.6, 0.5666666666666667, 0.5666666666666667, 0.5666666666666667, 0.6666666666666666, 0.5, 0.3333333333333333, 0.4666666666666667, 0.4, 0.5, 0.4666666666666667, 0.6, 0.5666666666666667, 0.4666666666666667, 0.5666666666666667, 0.36666666666666664, 0.6666666666666666, 0.6333333333333333, 0.4, 0.5, 0.43333333333333335, 0.43333333333333335, 0.5666666666666667, 0.5333333333333333, 0.4666666666666667, 0.43333333333333335, 0.36666666666666664, 0.5666666666666667, 0.5, 0.7333333333333333, 0.4666666666666667, 0.4, 0.4666666666666667, 0.6333333333333333, 0.5333333333333333, 0.43333333333333335, 0.4666666666666667, 0.5666666666666667, 0.5, 0.4, 0.3333333333333333, 0.36666666666666664, 0.4666666666666667, 0.43333333333333335, 0.36666666666666664, 0.5666666666666667, 0.5333333333333333, 0.4, 0.36666666666666664, 0.5, 0.43333333333333335, 0.43333333333333335, 0.5, 0.5, 0.4, 0.6, 0.5333333333333333, 0.4666666666666667, 0.43333333333333335, 0.4, 0.6666666666666666, 0.6, 0.6666666666666666, 0.5666666666666667, 0.5, 0.43333333333333335, 0.5333333333333333, 0.6333333333333333, 0.3333333333333333, 0.36666666666666664, 0.6333333333333333, 0.5666666666666667, 0.5333333333333333, 0.5, 0.4666666666666667, 0.5, 0.43333333333333335, 0.5333333333333333, 0.3333333333333333, 0.4666666666666667, 0.5666666666666667, 0.43333333333333335, 0.5333333333333333, 0.5, 0.36666666666666664, 0.5333333333333333, 0.6, 0.3333333333333333, 0.43333333333333335, 0.5666666666666667, 0.4666666666666667, 0.6333333333333333, 0.6, 0.4666666666666667, 0.5, 0.5666666666666667, 0.5333333333333333, 0.5666666666666667, 0.6333333333333333, 0.6333333333333333, 0.5333333333333333, 0.5666666666666667, 0.5, 0.5666666666666667, 0.5, 0.5333333333333333, 0.43333333333333335, 0.5333333333333333, 0.5, 0.5666666666666667, 0.5333333333333333, 0.36666666666666664, 0.6, 0.5, 0.6, 0.5333333333333333, 0.5333333333333333, 0.4666666666666667, 0.4666666666666667, 0.43333333333333335, 0.5666666666666667, 0.5666666666666667, 0.4, 0.5, 0.5333333333333333, 0.5666666666666667, 0.5333333333333333, 0.5666666666666667, 0.4, 0.4, 0.4666666666666667, 0.4, 0.6, 0.4666666666666667, 0.36666666666666664, 0.5, 0.5333333333333333, 0.3333333333333333, 0.43333333333333335, 0.5666666666666667, 0.4, 0.5666666666666667, 0.7333333333333333, 0.6, 0.43333333333333335, 0.5333333333333333, 0.5666666666666667, 0.5333333333333333, 0.5333333333333333, 0.4, 0.6666666666666666, 0.43333333333333335, 0.5666666666666667, 0.5666666666666667, 0.5333333333333333, 0.5, 0.6333333333333333, 0.4666666666666667, 0.6333333333333333, 0.6333333333333333, 0.3, 0.5, 0.7333333333333333, 0.6, 0.43333333333333335, 0.5333333333333333, 0.5333333333333333, 0.6666666666666666, 0.4666666666666667, 0.36666666666666664, 0.4666666666666667, 0.5333333333333333, 0.43333333333333335, 0.3333333333333333, 0.36666666666666664, 0.36666666666666664, 0.43333333333333335, 0.4, 0.43333333333333335, 0.4, 0.6333333333333333, 0.43333333333333335, 0.5333333333333333, 0.5, 0.4666666666666667, 0.4666666666666667, 0.4666666666666667, 0.5666666666666667, 0.5333333333333333, 0.6333333333333333, 0.5, 0.6333333333333333, 0.5666666666666667, 0.5333333333333333, 0.7333333333333333, 0.5666666666666667, 0.4666666666666667, 0.5333333333333333, 0.5666666666666667, 0.5, 0.5, 0.4666666666666667, 0.5333333333333333, 0.4, 0.4666666666666667, 0.4666666666666667, 0.4666666666666667, 0.43333333333333335, 0.5666666666666667, 0.5666666666666667, 0.5, 0.6666666666666666, 0.5, 0.4, 0.43333333333333335, 0.6333333333333333, 0.43333333333333335, 0.36666666666666664, 0.43333333333333335, 0.43333333333333335, 0.5666666666666667, 0.4666666666666667, 0.43333333333333335, 0.6666666666666666, 0.3, 0.36666666666666664, 0.5333333333333333, 0.5, 0.4, 0.43333333333333335, 0.3333333333333333, 0.5, 0.43333333333333335, 0.4, 0.3, 0.6, 0.6666666666666666, 0.5, 0.5333333333333333, 0.5666666666666667, 0.43333333333333335, 0.5666666666666667, 0.5333333333333333, 0.6666666666666666, 0.36666666666666664, 0.5, 0.6, 0.4, 0.6666666666666666, 0.5333333333333333, 0.6666666666666666, 0.6, 0.6666666666666666, 0.4666666666666667, 0.7, 0.5333333333333333, 0.5, 0.5333333333333333, 0.5333333333333333, 0.5, 0.5, 0.4666666666666667, 0.43333333333333335, 0.6666666666666666, 0.5666666666666667, 0.6666666666666666, 0.5, 0.5666666666666667, 0.5333333333333333, 0.6333333333333333, 0.5, 0.4, 0.4666666666666667, 0.5, 0.5333333333333333, 0.5333333333333333, 0.43333333333333335, 0.5333333333333333, 0.6, 0.4666666666666667, 0.5333333333333333, 0.43333333333333335, 0.5666666666666667, 0.36666666666666664, 0.5666666666666667, 0.43333333333333335, 0.4666666666666667, 0.5, 0.4, 0.3333333333333333, 0.4, 0.4666666666666667, 0.3333333333333333, 0.43333333333333335, 0.5, 0.3333333333333333, 0.4, 0.4666666666666667, 0.5, 0.5, 0.5, 0.43333333333333335, 0.5333333333333333, 0.4666666666666667, 0.4666666666666667, 0.36666666666666664, 0.5666666666666667, 0.5333333333333333, 0.6333333333333333, 0.4, 0.6, 0.5666666666666667, 0.4, 0.4666666666666667, 0.6333333333333333, 0.3, 0.4666666666666667, 0.6, 0.5333333333333333, 0.4666666666666667, 0.5666666666666667, 0.3, 0.5666666666666667, 0.5666666666666667, 0.4666666666666667, 0.5666666666666667, 0.5333333333333333, 0.4, 0.4666666666666667, 0.5, 0.5666666666666667, 0.26666666666666666, 0.4666666666666667, 0.3333333333333333, 0.5333333333333333, 0.6666666666666666, 0.36666666666666664, 0.36666666666666664, 0.6, 0.6666666666666666, 0.43333333333333335, 0.4666666666666667, 0.5333333333333333, 0.5, 0.43333333333333335, 0.5333333333333333, 0.5, 0.6666666666666666, 0.5333333333333333, 0.5333333333333333, 0.43333333333333335, 0.4666666666666667, 0.6, 0.5, 0.7, 0.4666666666666667, 0.5666666666666667, 0.43333333333333335, 0.7, 0.36666666666666664, 0.4, 0.4666666666666667, 0.36666666666666664, 0.6, 0.5, 0.4, 0.5, 0.6, 0.43333333333333335, 0.6, 0.6333333333333333, 0.5, 0.5333333333333333, 0.43333333333333335, 0.5333333333333333, 0.4666666666666667, 0.5333333333333333, 0.36666666666666664, 0.3333333333333333, 0.5, 0.5333333333333333, 0.5333333333333333, 0.6, 0.6333333333333333, 0.6, 0.5666666666666667, 0.5, 0.5, 0.36666666666666664, 0.36666666666666664, 0.6333333333333333, 0.4, 0.43333333333333335, 0.4666666666666667, 0.5666666666666667, 0.36666666666666664, 0.5, 0.5666666666666667, 0.5333333333333333, 0.3333333333333333, 0.4666666666666667, 0.3, 0.6333333333333333, 0.36666666666666664, 0.5333333333333333, 0.43333333333333335, 0.5, 0.4666666666666667, 0.4666666666666667, 0.5666666666666667, 0.5, 0.5333333333333333, 0.5666666666666667, 0.6, 0.5333333333333333, 0.43333333333333335, 0.6333333333333333, 0.5333333333333333, 0.5, 0.43333333333333335, 0.36666666666666664, 0.4, 0.5333333333333333, 0.36666666666666664, 0.5, 0.6, 0.4666666666666667, 0.5666666666666667, 0.36666666666666664, 0.5, 0.4666666666666667, 0.4, 0.3333333333333333, 0.5333333333333333, 0.36666666666666664, 0.6666666666666666, 0.5, 0.5333333333333333, 0.6333333333333333, 0.5333333333333333, 0.7333333333333333, 0.43333333333333335, 0.6, 0.43333333333333335, 0.5, 0.4666666666666667, 0.4666666666666667, 0.6, 0.4666666666666667, 0.43333333333333335, 0.5, 0.36666666666666664, 0.5333333333333333, 0.5333333333333333, 0.5666666666666667, 0.36666666666666664, 0.43333333333333335, 0.6, 0.5, 0.43333333333333335, 0.5, 0.5666666666666667, 0.5333333333333333, 0.3, 0.3333333333333333, 0.36666666666666664, 0.5666666666666667, 0.3333333333333333, 0.5, 0.6333333333333333, 0.43333333333333335, 0.6, 0.4666666666666667, 0.6, 0.5666666666666667, 0.5666666666666667, 0.43333333333333335, 0.6333333333333333, 0.4666666666666667, 0.5666666666666667, 0.6, 0.5, 0.4, 0.36666666666666664, 0.4666666666666667, 0.5, 0.5, 0.5666666666666667, 0.5666666666666667, 0.4, 0.5333333333333333, 0.5, 0.7, 0.6666666666666666, 0.5, 0.6, 0.43333333333333335, 0.5666666666666667, 0.6666666666666666, 0.6, 0.6333333333333333, 0.6, 0.5333333333333333, 0.5, 0.5, 0.5, 0.4, 0.5, 0.6666666666666666, 0.6333333333333333, 0.7, 0.4666666666666667, 0.5333333333333333, 0.4666666666666667, 0.6, 0.43333333333333335, 0.5, 0.5, 0.4666666666666667, 0.6, 0.36666666666666664, 0.4666666666666667, 0.5, 0.6666666666666666, 0.5333333333333333, 0.36666666666666664, 0.5666666666666667, 0.4666666666666667, 0.5, 0.6, 0.5, 0.5666666666666667, 0.4, 0.6333333333333333, 0.6333333333333333, 0.5, 0.6, 0.5333333333333333, 0.5666666666666667, 0.5333333333333333, 0.5, 0.5666666666666667, 0.6333333333333333, 0.5, 0.6333333333333333, 0.6333333333333333, 0.43333333333333335, 0.36666666666666664, 0.4666666666666667, 0.4666666666666667, 0.4666666666666667, 0.4666666666666667, 0.4666666666666667, 0.4, 0.43333333333333335, 0.5666666666666667, 0.6, 0.6666666666666666, 0.5, 0.43333333333333335, 0.5, 0.5666666666666667, 0.6, 0.26666666666666666, 0.4, 0.6333333333333333, 0.4, 0.4666666666666667, 0.5, 0.6, 0.6, 0.6, 0.43333333333333335, 0.5333333333333333, 0.7666666666666667, 0.4666666666666667, 0.5333333333333333, 0.3333333333333333, 0.5333333333333333, 0.5333333333333333, 0.16666666666666666, 0.4666666666666667, 0.4666666666666667, 0.4, 0.5666666666666667, 0.4666666666666667, 0.36666666666666664, 0.5333333333333333, 0.6666666666666666, 0.43333333333333335, 0.6333333333333333, 0.5, 0.4, 0.43333333333333335, 0.43333333333333335, 0.43333333333333335, 0.4666666666666667, 0.5, 0.5333333333333333, 0.4, 0.6, 0.36666666666666664, 0.4666666666666667, 0.5, 0.4666666666666667, 0.5333333333333333, 0.4, 0.4666666666666667, 0.5, 0.43333333333333335, 0.6666666666666666, 0.6666666666666666, 0.4666666666666667, 0.4666666666666667, 0.5333333333333333, 0.4666666666666667, 0.5, 0.43333333333333335, 0.5666666666666667, 0.5666666666666667, 0.5666666666666667, 0.5, 0.4666666666666667, 0.36666666666666664, 0.6, 0.5, 0.4666666666666667, 0.5333333333333333, 0.4, 0.5333333333333333, 0.5, 0.6333333333333333, 0.5333333333333333, 0.6333333333333333, 0.5, 0.5, 0.5666666666666667, 0.4, 0.5, 0.43333333333333335, 0.4, 0.4666666666666667, 0.4, 0.6, 0.5333333333333333, 0.5333333333333333, 0.5666666666666667, 0.4666666666666667, 0.5, 0.5, 0.5333333333333333, 0.4666666666666667, 0.5333333333333333, 0.6333333333333333, 0.6333333333333333, 0.5333333333333333, 0.5, 0.4666666666666667, 0.6333333333333333, 0.4666666666666667, 0.4666666666666667, 0.43333333333333335, 0.6333333333333333, 0.43333333333333335, 0.4666666666666667, 0.36666666666666664, 0.4666666666666667, 0.5, 0.5, 0.4666666666666667, 0.5333333333333333, 0.4666666666666667, 0.5, 0.4666666666666667, 0.7, 0.5333333333333333, 0.4666666666666667, 0.7, 0.3333333333333333, 0.5333333333333333, 0.4666666666666667, 0.5666666666666667, 0.5666666666666667, 0.4, 0.6333333333333333, 0.4666666666666667, 0.4666666666666667, 0.5, 0.5333333333333333, 0.4666666666666667, 0.4666666666666667, 0.5666666666666667, 0.5666666666666667, 0.5, 0.5666666666666667, 0.6, 0.5, 0.5, 0.4666666666666667, 0.5333333333333333, 0.4666666666666667, 0.43333333333333335, 0.6, 0.5666666666666667, 0.4, 0.6, 0.5666666666666667, 0.5666666666666667, 0.3, 0.5333333333333333, 0.5666666666666667, 0.4, 0.5333333333333333, 0.5333333333333333, 0.5666666666666667, 0.5333333333333333, 0.7, 0.5, 0.4666666666666667, 0.5333333333333333, 0.5666666666666667, 0.4666666666666667, 0.4666666666666667, 0.5, 0.5666666666666667, 0.5, 0.36666666666666664, 0.5, 0.4, 0.5, 0.5666666666666667, 0.4666666666666667, 0.4666666666666667, 0.5666666666666667, 0.7, 0.5666666666666667, 0.6666666666666666, 0.4, 0.5333333333333333, 0.6, 0.43333333333333335, 0.3333333333333333, 0.6666666666666666, 0.6666666666666666, 0.4, 0.43333333333333335, 0.6333333333333333, 0.3333333333333333, 0.5333333333333333, 0.5666666666666667, 0.6, 0.7, 0.3333333333333333, 0.6, 0.5, 0.5666666666666667, 0.4, 0.36666666666666664, 0.6333333333333333, 0.6666666666666666, 0.4666666666666667, 0.36666666666666664, 0.36666666666666664, 0.5333333333333333, 0.4666666666666667, 0.43333333333333335, 0.6, 0.36666666666666664, 0.5333333333333333, 0.3333333333333333, 0.6333333333333333, 0.4666666666666667, 0.4666666666666667, 0.43333333333333335, 0.5666666666666667, 0.5, 0.4, 0.5333333333333333, 0.5, 0.43333333333333335, 0.36666666666666664, 0.43333333333333335, 0.5333333333333333, 0.5333333333333333, 0.36666666666666664, 0.4, 0.43333333333333335, 0.4666666666666667, 0.4666666666666667, 0.6333333333333333, 0.5, 0.6, 0.6, 0.4666666666666667, 0.6, 0.5, 0.5666666666666667, 0.6333333333333333, 0.43333333333333335, 0.43333333333333335, 0.5333333333333333, 0.5, 0.5, 0.5, 0.4, 0.3333333333333333, 0.6666666666666666, 0.43333333333333335, 0.5666666666666667, 0.5333333333333333, 0.4, 0.4, 0.4, 0.4666666666666667, 0.5333333333333333, 0.5, 0.5666666666666667, 0.26666666666666666, 0.5333333333333333, 0.5333333333333333, 0.5666666666666667, 0.5333333333333333, 0.4666666666666667, 0.4666666666666667, 0.4666666666666667, 0.4666666666666667, 0.6, 0.4666666666666667, 0.3333333333333333, 0.5333333333333333, 0.4666666666666667, 0.4666666666666667, 0.6, 0.6666666666666666, 0.5666666666666667, 0.6, 0.7333333333333333, 0.4, 0.5, 0.5, 0.5666666666666667, 0.5333333333333333, 0.43333333333333335, 0.4666666666666667, 0.6333333333333333, 0.36666666666666664, 0.5666666666666667, 0.5666666666666667, 0.36666666666666664, 0.5333333333333333, 0.5, 0.5, 0.6, 0.6, 0.6666666666666666, 0.43333333333333335, 0.5666666666666667, 0.5666666666666667, 0.43333333333333335, 0.4, 0.5, 0.5, 0.6, 0.5, 0.43333333333333335, 0.4666666666666667, 0.36666666666666664, 0.7666666666666667, 0.36666666666666664, 0.6, 0.4, 0.4666666666666667, 0.4666666666666667, 0.5, 0.6, 0.6333333333333333, 0.5, 0.5, 0.43333333333333335, 0.36666666666666664, 0.3, 0.5666666666666667, 0.5, 0.4666666666666667, 0.4666666666666667, 0.5, 0.6333333333333333, 0.4666666666666667, 0.4666666666666667, 0.4666666666666667, 0.5666666666666667, 0.5333333333333333, 0.4666666666666667, 0.36666666666666664, 0.4666666666666667, 0.5, 0.36666666666666664, 0.6666666666666666, 0.4, 0.5333333333333333, 0.5, 0.5333333333333333, 0.5, 0.36666666666666664, 0.26666666666666666, 0.5666666666666667, 0.5333333333333333, 0.4666666666666667, 0.5333333333333333, 0.6, 0.5666666666666667, 0.5333333333333333, 0.4, 0.6333333333333333, 0.5333333333333333, 0.36666666666666664, 0.5333333333333333, 0.43333333333333335, 0.7, 0.5, 0.5666666666666667, 0.5, 0.43333333333333335, 0.6333333333333333, 0.36666666666666664, 0.4, 0.4666666666666667, 0.4666666666666667, 0.5666666666666667, 0.5333333333333333, 0.5666666666666667, 0.3333333333333333, 0.6, 0.43333333333333335, 0.3333333333333333, 0.5, 0.6, 0.4666666666666667, 0.43333333333333335, 0.4666666666666667, 0.4666666666666667, 0.36666666666666664, 0.36666666666666664, 0.5666666666666667, 0.5333333333333333, 0.6333333333333333, 0.3333333333333333, 0.6, 0.5, 0.43333333333333335, 0.6, 0.26666666666666666, 0.43333333333333335, 0.43333333333333335, 0.5666666666666667, 0.43333333333333335, 0.4666666666666667, 0.43333333333333335, 0.4666666666666667, 0.5666666666666667, 0.43333333333333335, 0.4666666666666667, 0.4666666666666667, 0.43333333333333335, 0.4666666666666667, 0.5, 0.5333333333333333, 0.3333333333333333, 0.4, 0.5666666666666667, 0.5333333333333333, 0.43333333333333335, 0.43333333333333335, 0.5666666666666667, 0.43333333333333335, 0.5666666666666667, 0.5666666666666667, 0.4666666666666667, 0.5333333333333333, 0.5, 0.4, 0.5666666666666667, 0.5, 0.5, 0.5, 0.4666666666666667, 0.6, 0.6333333333333333, 0.6333333333333333, 0.7, 0.4666666666666667, 0.4, 0.43333333333333335, 0.6666666666666666, 0.6666666666666666, 0.43333333333333335, 0.6333333333333333, 0.4, 0.5666666666666667, 0.5333333333333333, 0.5666666666666667, 0.4666666666666667, 0.5666666666666667, 0.5666666666666667, 0.4666666666666667, 0.36666666666666664, 0.5, 0.6, 0.4, 0.5, 0.5666666666666667, 0.5666666666666667, 0.5, 0.5333333333333333, 0.5, 0.36666666666666664, 0.6, 0.5, 0.36666666666666664, 0.4666666666666667, 0.5, 0.4, 0.6666666666666666, 0.2, 0.36666666666666664, 0.3333333333333333, 0.4666666666666667, 0.5333333333333333, 0.5, 0.4666666666666667, 0.6, 0.36666666666666664, 0.5333333333333333, 0.4, 0.5333333333333333, 0.43333333333333335, 0.6333333333333333, 0.4666666666666667, 0.5, 0.5666666666666667, 0.43333333333333335, 0.5333333333333333, 0.6, 0.5333333333333333, 0.4666666666666667, 0.7, 0.5, 0.5333333333333333, 0.5666666666666667, 0.6, 0.5, 0.5, 0.5333333333333333, 0.5333333333333333, 0.5333333333333333, 0.6333333333333333, 0.43333333333333335, 0.5, 0.43333333333333335, 0.4, 0.43333333333333335, 0.6333333333333333, 0.6333333333333333, 0.6333333333333333, 0.5333333333333333, 0.36666666666666664, 0.4, 0.5666666666666667, 0.5666666666666667, 0.6666666666666666, 0.36666666666666664, 0.6, 0.6666666666666666, 0.4, 0.4666666666666667, 0.6, 0.5, 0.5666666666666667, 0.5333333333333333, 0.6333333333333333, 0.43333333333333335, 0.4, 0.43333333333333335, 0.6, 0.4666666666666667, 0.4, 0.4666666666666667, 0.5666666666666667, 0.5, 0.5, 0.6, 0.36666666666666664, 0.36666666666666664, 0.5666666666666667, 0.43333333333333335, 0.36666666666666664, 0.36666666666666664, 0.5666666666666667, 0.5, 0.5666666666666667, 0.5, 0.5, 0.5666666666666667, 0.3333333333333333, 0.5333333333333333, 0.5, 0.5666666666666667, 0.4, 0.5666666666666667, 0.5666666666666667, 0.43333333333333335, 0.5333333333333333, 0.3333333333333333, 0.43333333333333335, 0.5666666666666667, 0.6, 0.5666666666666667, 0.6, 0.6, 0.6666666666666666, 0.5, 0.6666666666666666, 0.5333333333333333, 0.43333333333333335, 0.5, 0.4666666666666667, 0.5666666666666667, 0.4, 0.4, 0.43333333333333335, 0.4666666666666667, 0.5333333333333333, 0.5333333333333333, 0.4666666666666667, 0.6333333333333333, 0.6666666666666666, 0.5666666666666667, 0.5666666666666667, 0.6, 0.5333333333333333, 0.4, 0.5, 0.6333333333333333, 0.3333333333333333, 0.4666666666666667, 0.3, 0.36666666666666664, 0.5666666666666667, 0.5333333333333333, 0.5666666666666667, 0.5333333333333333, 0.6666666666666666, 0.5, 0.5333333333333333, 0.4, 0.5333333333333333, 0.3333333333333333, 0.43333333333333335, 0.3333333333333333, 0.5333333333333333, 0.5666666666666667, 0.5666666666666667, 0.3333333333333333, 0.4666666666666667, 0.36666666666666664, 0.5333333333333333, 0.4666666666666667, 0.36666666666666664, 0.4666666666666667, 0.5, 0.6, 0.43333333333333335, 0.5333333333333333, 0.43333333333333335, 0.5333333333333333, 0.6666666666666666, 0.5333333333333333, 0.5, 0.5, 0.43333333333333335, 0.6, 0.5333333333333333, 0.5, 0.36666666666666664, 0.4, 0.5, 0.43333333333333335, 0.6, 0.5, 0.43333333333333335, 0.5333333333333333, 0.36666666666666664, 0.5333333333333333, 0.5, 0.3333333333333333, 0.5, 0.7666666666666667, 0.5666666666666667, 0.5, 0.5333333333333333, 0.6, 0.7333333333333333, 0.4666666666666667, 0.43333333333333335, 0.6, 0.6333333333333333, 0.4666666666666667, 0.5333333333333333, 0.5, 0.5, 0.43333333333333335, 0.5666666666666667, 0.5333333333333333, 0.36666666666666664, 0.43333333333333335, 0.4, 0.36666666666666664, 0.6, 0.6, 0.43333333333333335, 0.43333333333333335, 0.5666666666666667, 0.6333333333333333, 0.43333333333333335, 0.4666666666666667, 0.4666666666666667, 0.43333333333333335, 0.6333333333333333, 0.5, 0.4666666666666667, 0.4666666666666667, 0.6333333333333333, 0.4, 0.5666666666666667, 0.4666666666666667, 0.4666666666666667, 0.4666666666666667, 0.6666666666666666, 0.4666666666666667, 0.5333333333333333, 0.5333333333333333, 0.4, 0.5333333333333333, 0.5333333333333333, 0.43333333333333335, 0.43333333333333335, 0.5666666666666667, 0.5, 0.5666666666666667, 0.5333333333333333, 0.6, 0.5, 0.5, 0.4666666666666667, 0.4, 0.43333333333333335, 0.6333333333333333, 0.43333333333333335, 0.5, 0.4666666666666667, 0.6333333333333333, 0.5, 0.5666666666666667, 0.6333333333333333, 0.5, 0.43333333333333335, 0.5666666666666667, 0.43333333333333335, 0.6, 0.3, 0.36666666666666664, 0.4, 0.36666666666666664, 0.5666666666666667, 0.5, 0.4666666666666667, 0.4666666666666667, 0.36666666666666664, 0.36666666666666664, 0.6666666666666666, 0.5333333333333333, 0.3, 0.5, 0.5, 0.5333333333333333, 0.5, 0.4666666666666667, 0.4666666666666667, 0.36666666666666664, 0.7, 0.5, 0.5, 0.23333333333333334, 0.6333333333333333, 0.36666666666666664, 0.4666666666666667, 0.36666666666666664, 0.5, 0.43333333333333335, 0.4666666666666667, 0.4, 0.3, 0.5333333333333333, 0.5333333333333333, 0.4, 0.5333333333333333, 0.5666666666666667, 0.43333333333333335, 0.5333333333333333, 0.5666666666666667, 0.4, 0.5333333333333333, 0.4, 0.5666666666666667, 0.5, 0.6, 0.4666666666666667, 0.5333333333333333, 0.5333333333333333, 0.6, 0.4, 0.4666666666666667, 0.5333333333333333, 0.5, 0.3333333333333333, 0.7333333333333333, 0.26666666666666666, 0.5, 0.5666666666666667, 0.5333333333333333, 0.5666666666666667, 0.5666666666666667, 0.5, 0.5333333333333333, 0.5, 0.6333333333333333, 0.4, 0.4666666666666667, 0.4, 0.6, 0.5333333333333333, 0.5333333333333333, 0.5666666666666667, 0.3333333333333333, 0.6, 0.4, 0.5666666666666667, 0.5, 0.6333333333333333, 0.5666666666666667, 0.43333333333333335, 0.4, 0.5, 0.5, 0.5666666666666667, 0.4666666666666667, 0.5333333333333333, 0.6, 0.6333333333333333, 0.5, 0.5, 0.6333333333333333, 0.3, 0.6333333333333333, 0.36666666666666664, 0.5666666666666667, 0.4666666666666667, 0.43333333333333335, 0.5333333333333333, 0.7, 0.5666666666666667, 0.5, 0.5, 0.5, 0.5333333333333333, 0.3, 0.6666666666666666, 0.6, 0.6, 0.5333333333333333, 0.5333333333333333, 0.5, 0.5, 0.6, 0.43333333333333335, 0.36666666666666664, 0.5333333333333333, 0.4, 0.5333333333333333, 0.4, 0.4666666666666667, 0.5333333333333333, 0.5333333333333333, 0.3, 0.5333333333333333, 0.6, 0.4666666666666667, 0.5666666666666667, 0.6333333333333333, 0.6333333333333333, 0.4, 0.5333333333333333, 0.6, 0.5666666666666667, 0.4666666666666667, 0.3, 0.5333333333333333, 0.43333333333333335, 0.5, 0.4666666666666667, 0.5333333333333333, 0.36666666666666664, 0.4666666666666667, 0.5333333333333333, 0.43333333333333335, 0.4, 0.5333333333333333, 0.4666666666666667, 0.36666666666666664, 0.4666666666666667, 0.5666666666666667, 0.36666666666666664, 0.43333333333333335, 0.5, 0.5333333333333333, 0.5666666666666667, 0.43333333333333335, 0.6333333333333333, 0.5333333333333333, 0.43333333333333335, 0.5, 0.3333333333333333, 0.5333333333333333, 0.5666666666666667, 0.4666666666666667, 0.7, 0.36666666666666664, 0.36666666666666664, 0.5666666666666667, 0.3333333333333333, 0.4666666666666667, 0.7, 0.36666666666666664, 0.4, 0.4666666666666667, 0.6333333333333333, 0.5333333333333333, 0.5333333333333333, 0.4666666666666667, 0.5333333333333333, 0.5666666666666667, 0.5, 0.5333333333333333, 0.4666666666666667, 0.5, 0.43333333333333335, 0.6, 0.4666666666666667, 0.36666666666666664, 0.43333333333333335, 0.5666666666666667, 0.6, 0.4666666666666667, 0.5333333333333333, 0.6, 0.5666666666666667, 0.5333333333333333, 0.36666666666666664, 0.5666666666666667, 0.6, 0.5333333333333333, 0.5, 0.6666666666666666, 0.6, 0.5666666666666667, 0.36666666666666664, 0.6, 0.36666666666666664, 0.6, 0.4666666666666667, 0.5, 0.5, 0.36666666666666664, 0.6, 0.5666666666666667, 0.5666666666666667, 0.5, 0.4666666666666667, 0.36666666666666664, 0.36666666666666664, 0.4666666666666667, 0.5, 0.6, 0.6, 0.23333333333333334, 0.43333333333333335, 0.4, 0.4666666666666667, 0.43333333333333335, 0.5666666666666667, 0.3333333333333333, 0.4666666666666667, 0.5666666666666667, 0.36666666666666664, 0.5, 0.5, 0.6333333333333333, 0.43333333333333335, 0.43333333333333335, 0.5333333333333333, 0.5333333333333333, 0.4, 0.5333333333333333, 0.5666666666666667, 0.5666666666666667, 0.36666666666666664, 0.5666666666666667, 0.43333333333333335, 0.7, 0.5666666666666667, 0.5333333333333333, 0.3333333333333333, 0.6, 0.6, 0.43333333333333335, 0.4, 0.43333333333333335, 0.2, 0.36666666666666664, 0.6, 0.43333333333333335, 0.6666666666666666, 0.5333333333333333, 0.6666666666666666, 0.5, 0.5, 0.36666666666666664, 0.4, 0.5, 0.5666666666666667, 0.3333333333333333, 0.6, 0.23333333333333334, 0.3, 0.43333333333333335, 0.4666666666666667, 0.6, 0.43333333333333335, 0.43333333333333335, 0.43333333333333335, 0.5333333333333333, 0.6666666666666666, 0.4666666666666667, 0.6666666666666666, 0.7, 0.6, 0.5333333333333333, 0.43333333333333335, 0.5333333333333333, 0.5333333333333333, 0.7666666666666667, 0.4666666666666667, 0.4666666666666667, 0.43333333333333335, 0.5666666666666667, 0.5333333333333333, 0.3333333333333333, 0.5, 0.5666666666666667, 0.5, 0.5666666666666667, 0.5333333333333333, 0.7, 0.6666666666666666, 0.4666666666666667, 0.5333333333333333, 0.43333333333333335, 0.5, 0.5666666666666667, 0.5666666666666667, 0.4666666666666667, 0.5333333333333333, 0.4, 0.5, 0.5333333333333333, 0.36666666666666664, 0.6666666666666666, 0.6, 0.6666666666666666, 0.5, 0.4, 0.3333333333333333, 0.5, 0.5666666666666667, 0.3, 0.5333333333333333, 0.36666666666666664, 0.7, 0.5, 0.43333333333333335, 0.6666666666666666, 0.5, 0.5666666666666667, 0.7666666666666667, 0.7, 0.4666666666666667, 0.4666666666666667, 0.4666666666666667, 0.6, 0.7, 0.5, 0.23333333333333334, 0.6, 0.5333333333333333, 0.3, 0.5666666666666667, 0.43333333333333335, 0.5333333333333333, 0.43333333333333335, 0.6, 0.6, 0.43333333333333335, 0.4666666666666667, 0.4666666666666667, 0.43333333333333335, 0.43333333333333335, 0.5, 0.6, 0.5333333333333333, 0.5, 0.36666666666666664, 0.36666666666666664, 0.5333333333333333, 0.6, 0.36666666666666664, 0.5, 0.3333333333333333, 0.4, 0.4666666666666667, 0.5666666666666667, 0.3333333333333333, 0.6666666666666666, 0.6, 0.3333333333333333, 0.6333333333333333, 0.5, 0.43333333333333335, 0.7333333333333333, 0.5666666666666667, 0.6, 0.4666666666666667, 0.4, 0.4666666666666667, 0.5333333333333333, 0.4, 0.5333333333333333, 0.4666666666666667, 0.5333333333333333, 0.5666666666666667, 0.4, 0.6333333333333333, 0.4666666666666667, 0.5333333333333333, 0.5333333333333333, 0.5, 0.36666666666666664, 0.5333333333333333, 0.5666666666666667, 0.5333333333333333, 0.6, 0.5666666666666667, 0.3333333333333333, 0.6666666666666666, 0.4666666666666667, 0.5, 0.4666666666666667, 0.6, 0.36666666666666664, 0.43333333333333335, 0.5666666666666667, 0.5, 0.7333333333333333, 0.3333333333333333, 0.5333333333333333, 0.6, 0.4666666666666667, 0.4, 0.5666666666666667, 0.4, 0.43333333333333335, 0.3333333333333333, 0.3333333333333333, 0.43333333333333335, 0.5333333333333333, 0.4666666666666667, 0.5, 0.5333333333333333, 0.6, 0.6, 0.5666666666666667, 0.4666666666666667, 0.5, 0.43333333333333335, 0.6333333333333333, 0.36666666666666664, 0.3, 0.3, 0.5, 0.36666666666666664, 0.6, 0.4666666666666667, 0.6666666666666666, 0.5333333333333333, 0.5666666666666667, 0.5333333333333333, 0.5666666666666667, 0.5333333333333333, 0.4666666666666667, 0.6, 0.4, 0.5, 0.5333333333333333, 0.5, 0.4666666666666667, 0.6666666666666666, 0.4, 0.5333333333333333, 0.4, 0.5666666666666667, 0.4666666666666667, 0.6, 0.5666666666666667, 0.4666666666666667, 0.5666666666666667, 0.6, 0.3333333333333333, 0.6, 0.26666666666666666, 0.3333333333333333, 0.4666666666666667, 0.36666666666666664, 0.3333333333333333, 0.5333333333333333, 0.36666666666666664, 0.4666666666666667, 0.4666666666666667, 0.7, 0.5666666666666667, 0.6, 0.5333333333333333, 0.5, 0.4, 0.4666666666666667, 0.43333333333333335, 0.36666666666666664, 0.23333333333333334, 0.8, 0.43333333333333335, 0.6333333333333333, 0.7, 0.4, 0.4666666666666667, 0.4666666666666667, 0.3333333333333333, 0.5666666666666667, 0.6333333333333333, 0.5333333333333333, 0.6333333333333333, 0.5333333333333333, 0.6, 0.7, 0.4, 0.6, 0.4666666666666667, 0.4666666666666667, 0.6333333333333333, 0.5333333333333333, 0.5666666666666667, 0.5333333333333333, 0.43333333333333335, 0.6, 0.4666666666666667, 0.5, 0.4666666666666667, 0.43333333333333335, 0.4666666666666667, 0.7333333333333333, 0.6, 0.5, 0.4666666666666667, 0.5333333333333333, 0.36666666666666664, 0.4666666666666667, 0.43333333333333335, 0.4, 0.5333333333333333, 0.5, 0.5, 0.6666666666666666, 0.4, 0.4, 0.5, 0.5333333333333333, 0.4, 0.4666666666666667, 0.7666666666666667, 0.6, 0.5333333333333333, 0.5666666666666667, 0.5, 0.4666666666666667, 0.6, 0.8, 0.5333333333333333, 0.5, 0.6, 0.6666666666666666, 0.5, 0.5333333333333333, 0.4, 0.43333333333333335, 0.4, 0.4666666666666667, 0.5666666666666667, 0.5, 0.5666666666666667, 0.5333333333333333, 0.36666666666666664, 0.43333333333333335, 0.5333333333333333, 0.7, 0.4, 0.5, 0.3333333333333333, 0.43333333333333335, 0.5, 0.5666666666666667, 0.43333333333333335, 0.5333333333333333, 0.5333333333333333, 0.4, 0.4, 0.5333333333333333, 0.43333333333333335, 0.6333333333333333, 0.5333333333333333, 0.4666666666666667, 0.6, 0.5666666666666667, 0.4666666666666667, 0.4666666666666667, 0.43333333333333335, 0.6, 0.36666666666666664, 0.4666666666666667, 0.6666666666666666, 0.5333333333333333, 0.4666666666666667, 0.6, 0.4666666666666667, 0.6333333333333333, 0.5333333333333333, 0.5333333333333333, 0.5666666666666667, 0.43333333333333335, 0.4, 0.6333333333333333, 0.6, 0.43333333333333335, 0.4, 0.5666666666666667, 0.4, 0.4666666666666667, 0.5, 0.4, 0.5333333333333333, 0.43333333333333335, 0.4, 0.4666666666666667, 0.5333333333333333, 0.36666666666666664, 0.6333333333333333, 0.7666666666666667, 0.3333333333333333, 0.5, 0.5, 0.5, 0.5333333333333333, 0.43333333333333335, 0.6333333333333333, 0.5333333333333333, 0.4, 0.5, 0.4, 0.3, 0.7333333333333333, 0.5666666666666667, 0.5666666666666667, 0.6333333333333333, 0.5, 0.5666666666666667, 0.6, 0.6333333333333333, 0.5666666666666667, 0.6333333333333333, 0.36666666666666664, 0.5333333333333333, 0.5, 0.4666666666666667, 0.5, 0.5666666666666667, 0.6666666666666666, 0.43333333333333335, 0.5666666666666667, 0.43333333333333335, 0.4666666666666667, 0.4, 0.5333333333333333, 0.7, 0.6333333333333333, 0.6333333333333333, 0.6, 0.43333333333333335, 0.43333333333333335, 0.5333333333333333, 0.5, 0.5333333333333333, 0.6, 0.5, 0.5, 0.5, 0.5333333333333333, 0.4, 0.5333333333333333, 0.5333333333333333, 0.43333333333333335, 0.6, 0.4, 0.3333333333333333, 0.4666666666666667, 0.5333333333333333, 0.3333333333333333, 0.5333333333333333, 0.5666666666666667, 0.5, 0.4666666666666667, 0.5, 0.5, 0.4666666666666667, 0.6333333333333333, 0.6333333333333333, 0.6333333333333333, 0.5333333333333333, 0.6333333333333333, 0.5, 0.6, 0.5, 0.4666666666666667, 0.6, 0.5333333333333333, 0.6333333333333333, 0.3333333333333333, 0.4666666666666667, 0.6, 0.43333333333333335, 0.5333333333333333, 0.4, 0.5, 0.7, 0.5, 0.43333333333333335, 0.5666666666666667, 0.5333333333333333, 0.36666666666666664, 0.4666666666666667, 0.6, 0.36666666666666664, 0.5, 0.5, 0.5, 0.4666666666666667, 0.6666666666666666, 0.4666666666666667, 0.6333333333333333, 0.4666666666666667, 0.5333333333333333, 0.5333333333333333, 0.36666666666666664, 0.4666666666666667, 0.6666666666666666, 0.4666666666666667, 0.5333333333333333, 0.6333333333333333, 0.5666666666666667, 0.5333333333333333, 0.6, 0.3333333333333333, 0.4666666666666667, 0.36666666666666664, 0.5, 0.5, 0.4666666666666667, 0.36666666666666664, 0.5333333333333333, 0.4666666666666667, 0.36666666666666664, 0.5333333333333333, 0.5666666666666667, 0.5, 0.4, 0.4, 0.43333333333333335, 0.5333333333333333, 0.3, 0.5666666666666667, 0.7, 0.3333333333333333, 0.36666666666666664, 0.43333333333333335, 0.4666666666666667, 0.3333333333333333, 0.4, 0.5, 0.43333333333333335, 0.4666666666666667, 0.4666666666666667, 0.5, 0.5, 0.6333333333333333, 0.43333333333333335, 0.5333333333333333, 0.7, 0.4666666666666667, 0.4, 0.6, 0.5333333333333333, 0.5333333333333333, 0.6666666666666666, 0.6, 0.36666666666666664, 0.43333333333333335, 0.7666666666666667, 0.43333333333333335, 0.5666666666666667, 0.36666666666666664, 0.43333333333333335, 0.43333333333333335, 0.43333333333333335, 0.4, 0.4666666666666667, 0.36666666666666664, 0.5333333333333333, 0.6, 0.4, 0.5666666666666667, 0.3333333333333333, 0.5333333333333333, 0.3333333333333333, 0.4, 0.6333333333333333, 0.43333333333333335, 0.6, 0.3, 0.3333333333333333, 0.5666666666666667, 0.5, 0.4, 0.4666666666666667, 0.6333333333333333, 0.43333333333333335, 0.43333333333333335, 0.5666666666666667, 0.43333333333333335, 0.5, 0.5, 0.5666666666666667, 0.4, 0.6, 0.43333333333333335, 0.5333333333333333, 0.5333333333333333, 0.5666666666666667, 0.4666666666666667, 0.5666666666666667, 0.6, 0.43333333333333335, 0.6333333333333333, 0.5333333333333333, 0.5666666666666667, 0.5666666666666667, 0.5333333333333333, 0.5666666666666667, 0.5333333333333333, 0.4666666666666667, 0.3, 0.43333333333333335, 0.5, 0.5333333333333333, 0.5, 0.4666666666666667, 0.4666666666666667, 0.5, 0.43333333333333335, 0.5333333333333333, 0.4, 0.5666666666666667, 0.5, 0.3333333333333333, 0.3333333333333333, 0.5333333333333333, 0.5, 0.6333333333333333, 0.5, 0.4666666666666667, 0.4, 0.5, 0.6666666666666666, 0.5333333333333333, 0.36666666666666664, 0.5666666666666667, 0.5333333333333333, 0.5666666666666667, 0.4, 0.5, 0.5, 0.5, 0.26666666666666666, 0.36666666666666664, 0.5, 0.43333333333333335, 0.6333333333333333, 0.5, 0.36666666666666664, 0.4, 0.6, 0.4, 0.4, 0.5666666666666667, 0.5333333333333333, 0.36666666666666664, 0.6, 0.6, 0.6666666666666666, 0.43333333333333335, 0.43333333333333335, 0.4666666666666667, 0.4, 0.5333333333333333, 0.4666666666666667, 0.5, 0.6333333333333333, 0.5333333333333333, 0.5333333333333333, 0.43333333333333335, 0.5333333333333333, 0.5666666666666667, 0.36666666666666664, 0.5666666666666667, 0.5333333333333333, 0.6, 0.5, 0.43333333333333335, 0.5, 0.4, 0.4666666666666667, 0.36666666666666664, 0.4666666666666667, 0.4666666666666667, 0.3333333333333333, 0.4666666666666667, 0.6, 0.5, 0.5666666666666667, 0.36666666666666664, 0.4666666666666667, 0.5, 0.6, 0.4, 0.5, 0.4666666666666667, 0.6, 0.36666666666666664, 0.4666666666666667, 0.5666666666666667, 0.5, 0.5, 0.6, 0.43333333333333335, 0.6, 0.6333333333333333, 0.4666666666666667, 0.5333333333333333, 0.5333333333333333, 0.43333333333333335, 0.5666666666666667, 0.7, 0.5333333333333333, 0.6, 0.5, 0.5333333333333333, 0.6333333333333333, 0.6, 0.5, 0.43333333333333335, 0.43333333333333335, 0.5333333333333333, 0.4, 0.6, 0.4, 0.5333333333333333, 0.6, 0.5, 0.5666666666666667, 0.5666666666666667, 0.5, 0.5666666666666667, 0.6333333333333333, 0.5666666666666667, 0.5333333333333333, 0.4, 0.5333333333333333, 0.4666666666666667, 0.5, 0.5, 0.5, 0.5333333333333333, 0.6, 0.6666666666666666, 0.5666666666666667, 0.6, 0.5666666666666667, 0.5666666666666667, 0.4666666666666667, 0.43333333333333335, 0.5, 0.4666666666666667, 0.4, 0.5666666666666667, 0.5, 0.5666666666666667, 0.5, 0.43333333333333335, 0.4666666666666667, 0.5, 0.43333333333333335, 0.5333333333333333, 0.5333333333333333, 0.4666666666666667, 0.3333333333333333, 0.5666666666666667, 0.4, 0.6, 0.5333333333333333, 0.4666666666666667, 0.43333333333333335, 0.36666666666666664, 0.4, 0.4666666666666667, 0.6, 0.6666666666666666, 0.36666666666666664, 0.6333333333333333, 0.4666666666666667, 0.6, 0.4666666666666667, 0.4666666666666667, 0.6, 0.6, 0.5, 0.43333333333333335, 0.43333333333333335, 0.4, 0.6666666666666666, 0.5333333333333333, 0.4, 0.4666666666666667, 0.5666666666666667, 0.4, 0.43333333333333335, 0.4, 0.4666666666666667, 0.43333333333333335, 0.4666666666666667, 0.4, 0.5333333333333333, 0.5333333333333333, 0.3, 0.5333333333333333, 0.5333333333333333, 0.36666666666666664, 0.4666666666666667, 0.5, 0.36666666666666664, 0.6, 0.7, 0.4, 0.5, 0.4666666666666667, 0.5333333333333333, 0.43333333333333335, 0.3333333333333333, 0.5, 0.3333333333333333, 0.36666666666666664, 0.36666666666666664, 0.43333333333333335, 0.5333333333333333, 0.5333333333333333, 0.4, 0.5333333333333333, 0.5666666666666667, 0.7666666666666667, 0.6666666666666666, 0.6333333333333333, 0.5333333333333333, 0.6, 0.4, 0.5, 0.43333333333333335, 0.4666666666666667, 0.5333333333333333, 0.4666666666666667, 0.5333333333333333, 0.4666666666666667, 0.4, 0.5, 0.5, 0.5, 0.5, 0.6, 0.4666666666666667, 0.7, 0.6, 0.5666666666666667, 0.5333333333333333, 0.5666666666666667, 0.5666666666666667, 0.5333333333333333, 0.5666666666666667, 0.43333333333333335, 0.43333333333333335, 0.6333333333333333, 0.6, 0.43333333333333335, 0.4, 0.6, 0.4, 0.43333333333333335, 0.5333333333333333, 0.4666666666666667, 0.3, 0.6333333333333333, 0.6, 0.5333333333333333, 0.5333333333333333, 0.6333333333333333, 0.5666666666666667, 0.6, 0.5666666666666667, 0.43333333333333335, 0.3, 0.6, 0.5, 0.5333333333333333, 0.6333333333333333, 0.6333333333333333, 0.5333333333333333, 0.5333333333333333, 0.5, 0.5, 0.5666666666666667, 0.6, 0.4666666666666667, 0.5, 0.6, 0.5666666666666667, 0.5, 0.6, 0.4666666666666667, 0.5666666666666667, 0.3, 0.5666666666666667, 0.43333333333333335, 0.3333333333333333, 0.4666666666666667, 0.4666666666666667, 0.5666666666666667, 0.4, 0.3, 0.5, 0.43333333333333335, 0.5, 0.4666666666666667, 0.5, 0.5666666666666667, 0.5333333333333333, 0.43333333333333335, 0.3333333333333333, 0.5, 0.5333333333333333, 0.5, 0.5333333333333333, 0.3, 0.5333333333333333, 0.5, 0.43333333333333335, 0.6, 0.6, 0.6333333333333333, 0.43333333333333335, 0.6, 0.3333333333333333, 0.4666666666666667, 0.4, 0.4, 0.5666666666666667, 0.3333333333333333, 0.43333333333333335, 0.6, 0.43333333333333335, 0.43333333333333335, 0.3333333333333333, 0.4666666666666667, 0.5, 0.5, 0.5, 0.5, 0.4666666666666667, 0.36666666666666664, 0.4666666666666667, 0.6666666666666666, 0.5, 0.4666666666666667, 0.5666666666666667, 0.4, 0.4666666666666667, 0.6, 0.6, 0.5333333333333333, 0.5, 0.2, 0.6, 0.5333333333333333, 0.4666666666666667, 0.43333333333333335, 0.5, 0.4666666666666667, 0.6666666666666666, 0.3333333333333333, 0.5666666666666667, 0.4666666666666667, 0.36666666666666664, 0.5666666666666667, 0.4, 0.7333333333333333, 0.3, 0.36666666666666664, 0.36666666666666664, 0.4666666666666667, 0.6, 0.5666666666666667, 0.4666666666666667, 0.5, 0.5666666666666667, 0.5333333333333333, 0.43333333333333335, 0.4666666666666667, 0.5333333333333333, 0.4, 0.5333333333333333, 0.43333333333333335, 0.5666666666666667, 0.36666666666666664, 0.4, 0.5666666666666667, 0.5, 0.6333333333333333, 0.4, 0.5666666666666667, 0.6333333333333333, 0.5333333333333333, 0.5666666666666667, 0.5333333333333333, 0.4666666666666667, 0.5333333333333333, 0.43333333333333335, 0.36666666666666664, 0.4, 0.5, 0.7, 0.4666666666666667, 0.43333333333333335, 0.5, 0.5333333333333333, 0.6333333333333333, 0.4666666666666667, 0.4, 0.5666666666666667, 0.5333333333333333, 0.43333333333333335, 0.5, 0.5, 0.3333333333333333, 0.43333333333333335, 0.5666666666666667, 0.36666666666666664, 0.5666666666666667, 0.5666666666666667, 0.5, 0.43333333333333335, 0.4, 0.6666666666666666, 0.5333333333333333, 0.5666666666666667, 0.4666666666666667, 0.43333333333333335, 0.36666666666666664, 0.6333333333333333, 0.6, 0.26666666666666666, 0.5, 0.43333333333333335, 0.5666666666666667, 0.6333333333333333, 0.5666666666666667, 0.6333333333333333, 0.4666666666666667, 0.3333333333333333, 0.4666666666666667, 0.5666666666666667, 0.4, 0.43333333333333335, 0.3333333333333333, 0.5, 0.4666666666666667, 0.6, 0.4666666666666667, 0.5333333333333333, 0.43333333333333335, 0.6, 0.5666666666666667, 0.6333333333333333, 0.6, 0.43333333333333335, 0.3333333333333333, 0.5, 0.5666666666666667, 0.4, 0.5666666666666667, 0.5666666666666667, 0.5333333333333333, 0.43333333333333335, 0.36666666666666664, 0.4666666666666667, 0.5333333333333333, 0.5666666666666667, 0.6, 0.5, 0.5333333333333333, 0.6666666666666666, 0.7666666666666667, 0.36666666666666664, 0.5, 0.5, 0.5333333333333333, 0.36666666666666664, 0.43333333333333335, 0.6, 0.43333333333333335, 0.4, 0.5333333333333333, 0.36666666666666664, 0.5666666666666667, 0.43333333333333335, 0.4666666666666667, 0.5333333333333333, 0.4666666666666667, 0.5333333333333333, 0.5, 0.6, 0.6, 0.4666666666666667, 0.4666666666666667, 0.6, 0.6333333333333333, 0.5333333333333333, 0.43333333333333335, 0.4, 0.43333333333333335, 0.5666666666666667, 0.36666666666666664, 0.5666666666666667, 0.43333333333333335, 0.43333333333333335, 0.43333333333333335, 0.5, 0.3333333333333333, 0.6333333333333333, 0.5, 0.5333333333333333, 0.5666666666666667, 0.3333333333333333, 0.7, 0.5666666666666667, 0.4666666666666667, 0.6333333333333333, 0.5333333333333333, 0.4, 0.5666666666666667, 0.5, 0.4666666666666667, 0.6, 0.4, 0.5333333333333333, 0.4, 0.4666666666666667, 0.36666666666666664, 0.4666666666666667, 0.6, 0.7, 0.3, 0.4666666666666667, 0.6, 0.6666666666666666, 0.6, 0.4, 0.5, 0.6, 0.4666666666666667, 0.5333333333333333, 0.6, 0.5, 0.5, 0.5, 0.5333333333333333, 0.43333333333333335, 0.43333333333333335, 0.43333333333333335, 0.4, 0.5333333333333333, 0.43333333333333335, 0.6, 0.6333333333333333, 0.5666666666666667, 0.4666666666666667, 0.5, 0.4666666666666667, 0.4, 0.6333333333333333, 0.43333333333333335, 0.5, 0.6, 0.5333333333333333, 0.43333333333333335, 0.3333333333333333, 0.6, 0.26666666666666666, 0.7, 0.5, 0.3, 0.3, 0.4, 0.4666666666666667, 0.43333333333333335, 0.36666666666666664, 0.4666666666666667, 0.4, 0.4666666666666667, 0.5, 0.6, 0.43333333333333335, 0.5666666666666667, 0.43333333333333335, 0.43333333333333335, 0.4666666666666667, 0.6, 0.4666666666666667, 0.6, 0.5666666666666667, 0.3333333333333333, 0.5666666666666667, 0.4, 0.3333333333333333, 0.6, 0.5333333333333333, 0.4666666666666667, 0.5333333333333333, 0.5333333333333333, 0.3333333333333333, 0.6333333333333333, 0.4666666666666667, 0.5, 0.6, 0.4, 0.36666666666666664, 0.6666666666666666, 0.5, 0.6, 0.5, 0.6333333333333333, 0.4666666666666667, 0.4666666666666667, 0.4, 0.4, 0.4666666666666667, 0.5333333333333333, 0.6, 0.4, 0.4666666666666667, 0.5333333333333333, 0.5, 0.6, 0.4666666666666667, 0.6, 0.5333333333333333, 0.36666666666666664, 0.5, 0.4666666666666667, 0.43333333333333335, 0.7, 0.7, 0.5666666666666667, 0.5666666666666667, 0.43333333333333335, 0.5333333333333333, 0.5333333333333333, 0.43333333333333335, 0.5333333333333333, 0.5333333333333333, 0.5666666666666667, 0.6333333333333333, 0.43333333333333335, 0.4, 0.5, 0.4666666666666667, 0.36666666666666664, 0.5333333333333333, 0.36666666666666664, 0.4666666666666667, 0.43333333333333335, 0.4, 0.5333333333333333, 0.5333333333333333, 0.5333333333333333, 0.5, 0.5, 0.4666666666666667, 0.7333333333333333, 0.5333333333333333, 0.6333333333333333, 0.43333333333333335, 0.36666666666666664, 0.43333333333333335, 0.5333333333333333, 0.5666666666666667, 0.5666666666666667, 0.5666666666666667, 0.6, 0.4666666666666667, 0.6666666666666666, 0.5666666666666667, 0.43333333333333335, 0.7333333333333333, 0.4, 0.4666666666666667, 0.7, 0.7, 0.4666666666666667, 0.4, 0.5, 0.6, 0.4, 0.5, 0.4666666666666667, 0.4666666666666667, 0.5333333333333333, 0.6, 0.43333333333333335, 0.43333333333333335, 0.4, 0.5, 0.5333333333333333, 0.5666666666666667, 0.4, 0.4666666666666667, 0.43333333333333335, 0.4666666666666667, 0.4666666666666667, 0.5333333333333333, 0.6, 0.36666666666666664, 0.5666666666666667, 0.5, 0.43333333333333335, 0.4666666666666667, 0.5333333333333333, 0.5333333333333333, 0.5, 0.4666666666666667, 0.6, 0.5, 0.5, 0.5666666666666667, 0.6, 0.5, 0.6, 0.5666666666666667, 0.5, 0.5666666666666667, 0.5, 0.5666666666666667, 0.4666666666666667, 0.36666666666666664, 0.4, 0.5333333333333333, 0.3333333333333333, 0.4, 0.5333333333333333, 0.4, 0.4666666666666667, 0.5, 0.4666666666666667, 0.3, 0.5666666666666667, 0.5333333333333333, 0.4, 0.5, 0.6333333333333333, 0.3333333333333333, 0.4666666666666667, 0.5, 0.4, 0.4666666666666667, 0.4, 0.5, 0.4666666666666667, 0.3333333333333333, 0.6, 0.4666666666666667, 0.43333333333333335, 0.6, 0.36666666666666664, 0.5666666666666667, 0.4666666666666667, 0.36666666666666664, 0.6, 0.43333333333333335, 0.6, 0.7666666666666667, 0.43333333333333335, 0.6, 0.4666666666666667, 0.5333333333333333, 0.5, 0.5333333333333333, 0.7, 0.4666666666666667, 0.5333333333333333, 0.36666666666666664, 0.5333333333333333, 0.36666666666666664, 0.5333333333333333, 0.4666666666666667, 0.5333333333333333, 0.5, 0.5333333333333333, 0.4666666666666667, 0.4, 0.36666666666666664, 0.5666666666666667, 0.5, 0.43333333333333335, 0.43333333333333335, 0.6, 0.5, 0.5666666666666667, 0.6, 0.43333333333333335, 0.5, 0.5333333333333333, 0.3333333333333333, 0.4666666666666667, 0.4, 0.4, 0.5333333333333333, 0.5, 0.5, 0.3333333333333333, 0.43333333333333335, 0.4666666666666667, 0.6333333333333333, 0.7, 0.5333333333333333, 0.36666666666666664, 0.4666666666666667, 0.6, 0.43333333333333335, 0.5333333333333333, 0.6333333333333333, 0.5333333333333333, 0.6, 0.6, 0.5333333333333333, 0.6, 0.6333333333333333, 0.6333333333333333, 0.5333333333333333, 0.5, 0.6333333333333333, 0.8, 0.5666666666666667, 0.43333333333333335, 0.6666666666666666, 0.5, 0.5333333333333333, 0.4666666666666667, 0.4666666666666667, 0.36666666666666664, 0.43333333333333335, 0.6, 0.4, 0.5, 0.5333333333333333, 0.4666666666666667, 0.5, 0.4666666666666667, 0.4, 0.5666666666666667, 0.3333333333333333, 0.3333333333333333, 0.3333333333333333, 0.6333333333333333, 0.5, 0.5333333333333333, 0.43333333333333335, 0.5666666666666667, 0.4666666666666667, 0.43333333333333335, 0.5333333333333333, 0.43333333333333335, 0.36666666666666664, 0.6, 0.6, 0.4666666666666667, 0.5, 0.4666666666666667, 0.43333333333333335, 0.43333333333333335, 0.5333333333333333, 0.5666666666666667, 0.4, 0.5, 0.43333333333333335, 0.4666666666666667, 0.5, 0.36666666666666664, 0.5666666666666667, 0.6, 0.43333333333333335, 0.4, 0.4666666666666667, 0.5666666666666667, 0.4, 0.43333333333333335, 0.3333333333333333, 0.4666666666666667, 0.5666666666666667, 0.6, 0.5, 0.5666666666666667, 0.43333333333333335, 0.5333333333333333, 0.5, 0.4666666666666667, 0.5333333333333333, 0.6, 0.4666666666666667, 0.7333333333333333, 0.4, 0.5, 0.5, 0.6666666666666666, 0.6, 0.5, 0.5, 0.3333333333333333, 0.6, 0.5333333333333333, 0.6, 0.43333333333333335, 0.3333333333333333, 0.5666666666666667, 0.5333333333333333, 0.6, 0.5333333333333333, 0.36666666666666664, 0.43333333333333335, 0.6333333333333333, 0.7, 0.43333333333333335, 0.5333333333333333, 0.6, 0.6, 0.3333333333333333, 0.43333333333333335, 0.43333333333333335, 0.6666666666666666, 0.5, 0.5, 0.4, 0.4, 0.4, 0.5333333333333333, 0.5333333333333333, 0.4666666666666667, 0.5333333333333333, 0.5666666666666667, 0.4666666666666667, 0.6, 0.3333333333333333, 0.5333333333333333, 0.5333333333333333, 0.43333333333333335, 0.5, 0.5666666666666667, 0.4666666666666667, 0.5666666666666667, 0.4666666666666667, 0.5666666666666667, 0.5, 0.4, 0.4666666666666667, 0.5, 0.43333333333333335, 0.5333333333333333, 0.5333333333333333, 0.6666666666666666, 0.36666666666666664, 0.4666666666666667, 0.6, 0.4666666666666667, 0.5, 0.7, 0.4666666666666667, 0.5333333333333333, 0.4666666666666667, 0.6, 0.5, 0.43333333333333335, 0.5333333333333333, 0.5, 0.5, 0.5333333333333333, 0.4, 0.4, 0.5666666666666667, 0.6333333333333333, 0.6, 0.5666666666666667, 0.6333333333333333, 0.5666666666666667, 0.6, 0.5, 0.6, 0.36666666666666664, 0.5666666666666667, 0.5666666666666667, 0.4666666666666667, 0.4666666666666667, 0.43333333333333335, 0.4, 0.5, 0.6, 0.6333333333333333, 0.5, 0.5, 0.43333333333333335, 0.5333333333333333, 0.36666666666666664, 0.3, 0.6333333333333333, 0.5, 0.4666666666666667, 0.4666666666666667, 0.4666666666666667, 0.4, 0.6, 0.36666666666666664, 0.5, 0.5333333333333333, 0.4, 0.5333333333333333, 0.5666666666666667, 0.5333333333333333, 0.7666666666666667, 0.7333333333333333, 0.5, 0.4666666666666667, 0.5666666666666667, 0.6, 0.5333333333333333, 0.5, 0.4666666666666667, 0.4666666666666667, 0.6, 0.5666666666666667, 0.5666666666666667, 0.43333333333333335, 0.4, 0.3333333333333333, 0.4, 0.4, 0.43333333333333335, 0.6, 0.43333333333333335, 0.5, 0.5, 0.6333333333333333, 0.6, 0.4666666666666667, 0.5, 0.4666666666666667, 0.43333333333333335, 0.5, 0.7, 0.36666666666666664, 0.6666666666666666, 0.3333333333333333, 0.4666666666666667, 0.6666666666666666, 0.5666666666666667, 0.5666666666666667, 0.5666666666666667, 0.5, 0.3, 0.4666666666666667, 0.5666666666666667, 0.3, 0.6, 0.4666666666666667, 0.4666666666666667, 0.5666666666666667, 0.5666666666666667, 0.3, 0.43333333333333335, 0.43333333333333335, 0.4, 0.5333333333333333, 0.5, 0.4666666666666667, 0.5666666666666667, 0.5, 0.5, 0.4666666666666667, 0.5333333333333333, 0.5, 0.6333333333333333, 0.5666666666666667, 0.5, 0.5333333333333333, 0.5666666666666667, 0.6, 0.4, 0.5666666666666667, 0.5, 0.43333333333333335, 0.5666666666666667, 0.43333333333333335, 0.5333333333333333, 0.4666666666666667, 0.5666666666666667, 0.6333333333333333, 0.5666666666666667, 0.5666666666666667, 0.5666666666666667, 0.6333333333333333, 0.5333333333333333, 0.4, 0.6333333333333333, 0.36666666666666664, 0.5, 0.7333333333333333, 0.6, 0.5, 0.5333333333333333, 0.5666666666666667, 0.4666666666666667, 0.4666666666666667, 0.5, 0.43333333333333335, 0.5, 0.5333333333333333, 0.5666666666666667, 0.5666666666666667, 0.3333333333333333, 0.4666666666666667, 0.6333333333333333, 0.5333333333333333, 0.5, 0.5, 0.5333333333333333, 0.4666666666666667, 0.3333333333333333, 0.43333333333333335, 0.43333333333333335, 0.5333333333333333, 0.4666666666666667, 0.43333333333333335, 0.5333333333333333, 0.5, 0.5333333333333333, 0.4, 0.4666666666666667, 0.7, 0.5666666666666667, 0.5666666666666667, 0.6, 0.4666666666666667, 0.5, 0.4666666666666667, 0.5, 0.5, 0.6, 0.5666666666666667, 0.5, 0.6333333333333333, 0.43333333333333335, 0.5333333333333333, 0.43333333333333335, 0.4666666666666667, 0.3333333333333333, 0.5, 0.5, 0.5, 0.5, 0.36666666666666664, 0.4, 0.7, 0.4666666666666667, 0.36666666666666664, 0.5, 0.5666666666666667, 0.4666666666666667, 0.5333333333333333, 0.4666666666666667, 0.6333333333333333, 0.5, 0.5, 0.6333333333333333, 0.43333333333333335, 0.4666666666666667, 0.5666666666666667, 0.3333333333333333, 0.5, 0.5, 0.3, 0.36666666666666664, 0.43333333333333335, 0.5666666666666667, 0.6666666666666666, 0.5, 0.4666666666666667, 0.36666666666666664, 0.4666666666666667, 0.5, 0.4, 0.6, 0.7, 0.43333333333333335, 0.43333333333333335, 0.5666666666666667, 0.5333333333333333, 0.43333333333333335, 0.5, 0.4, 0.4666666666666667, 0.5, 0.7333333333333333, 0.5333333333333333, 0.43333333333333335, 0.3, 0.36666666666666664, 0.5666666666666667, 0.4, 0.5666666666666667, 0.36666666666666664, 0.5, 0.5333333333333333, 0.4666666666666667, 0.5666666666666667, 0.4666666666666667, 0.5666666666666667, 0.36666666666666664, 0.4666666666666667, 0.43333333333333335, 0.4, 0.6666666666666666, 0.5333333333333333, 0.6, 0.6333333333333333, 0.4666666666666667, 0.5666666666666667, 0.6, 0.6, 0.4666666666666667, 0.36666666666666664, 0.43333333333333335, 0.4666666666666667, 0.5666666666666667, 0.4, 0.6666666666666666, 0.6, 0.5333333333333333, 0.6, 0.5333333333333333, 0.5, 0.5, 0.4666666666666667, 0.4, 0.5, 0.43333333333333335, 0.43333333333333335, 0.5333333333333333, 0.6333333333333333, 0.43333333333333335, 0.5333333333333333, 0.6, 0.4666666666666667, 0.6333333333333333, 0.5, 0.5, 0.5333333333333333, 0.43333333333333335, 0.4666666666666667, 0.3, 0.3333333333333333, 0.5333333333333333, 0.5666666666666667, 0.5, 0.3333333333333333, 0.36666666666666664, 0.4666666666666667, 0.43333333333333335, 0.43333333333333335, 0.6, 0.4, 0.6333333333333333, 0.4666666666666667, 0.6666666666666666, 0.36666666666666664, 0.5, 0.4666666666666667, 0.5, 0.5, 0.3333333333333333, 0.4666666666666667, 0.6333333333333333, 0.5333333333333333, 0.6, 0.43333333333333335, 0.6, 0.4, 0.6, 0.6, 0.43333333333333335, 0.4, 0.5666666666666667, 0.43333333333333335, 0.4, 0.5333333333333333, 0.5666666666666667, 0.5666666666666667, 0.4666666666666667, 0.5, 0.4, 0.4, 0.3, 0.5666666666666667, 0.5666666666666667, 0.3333333333333333, 0.6, 0.5, 0.4, 0.4, 0.6, 0.6333333333333333, 0.6666666666666666, 0.6, 0.43333333333333335, 0.6333333333333333, 0.4666666666666667, 0.4, 0.5333333333333333, 0.5333333333333333, 0.5666666666666667, 0.43333333333333335, 0.5333333333333333, 0.6, 0.5, 0.4, 0.5666666666666667, 0.5, 0.5333333333333333, 0.4666666666666667, 0.5333333333333333, 0.43333333333333335, 0.5333333333333333, 0.4, 0.3333333333333333, 0.4666666666666667, 0.5333333333333333, 0.4666666666666667, 0.5666666666666667, 0.5, 0.5333333333333333, 0.4666666666666667, 0.5666666666666667, 0.3, 0.43333333333333335, 0.5333333333333333, 0.3333333333333333, 0.5333333333333333, 0.5666666666666667, 0.5, 0.6333333333333333, 0.5333333333333333, 0.5, 0.43333333333333335, 0.5333333333333333, 0.6333333333333333, 0.5, 0.5, 0.4, 0.5333333333333333, 0.6333333333333333, 0.5333333333333333, 0.4, 0.43333333333333335, 0.6, 0.6, 0.43333333333333335, 0.6, 0.5333333333333333, 0.5333333333333333, 0.5666666666666667, 0.4666666666666667, 0.6, 0.4, 0.4, 0.4666666666666667, 0.5, 0.5, 0.4666666666666667, 0.36666666666666664, 0.3333333333333333, 0.5333333333333333, 0.4666666666666667, 0.7, 0.5, 0.5666666666666667, 0.7, 0.7333333333333333, 0.5666666666666667, 0.6333333333333333, 0.43333333333333335, 0.5666666666666667, 0.6, 0.6, 0.5, 0.4, 0.5, 0.5666666666666667, 0.43333333333333335, 0.5333333333333333, 0.5333333333333333, 0.3, 0.4666666666666667, 0.4666666666666667, 0.5666666666666667, 0.5666666666666667, 0.5666666666666667, 0.43333333333333335, 0.43333333333333335, 0.6, 0.6, 0.36666666666666664, 0.36666666666666664, 0.3, 0.5333333333333333, 0.6, 0.5333333333333333, 0.4666666666666667, 0.7333333333333333, 0.5666666666666667, 0.36666666666666664, 0.5666666666666667, 0.6666666666666666, 0.5, 0.7, 0.6, 0.4, 0.6, 0.4666666666666667, 0.5, 0.5, 0.4666666666666667, 0.4666666666666667, 0.5, 0.5, 0.5333333333333333, 0.43333333333333335, 0.43333333333333335, 0.6333333333333333, 0.6333333333333333, 0.3, 0.43333333333333335, 0.43333333333333335, 0.5666666666666667, 0.5, 0.5666666666666667, 0.5666666666666667, 0.5, 0.5, 0.6333333333333333, 0.4666666666666667, 0.4666666666666667, 0.6333333333333333, 0.6333333333333333, 0.5, 0.6, 0.5666666666666667, 0.4666666666666667, 0.43333333333333335, 0.4, 0.5666666666666667, 0.4666666666666667, 0.4666666666666667, 0.6666666666666666, 0.5333333333333333, 0.5, 0.43333333333333335, 0.4666666666666667, 0.5333333333333333, 0.5333333333333333, 0.6, 0.5, 0.4, 0.6, 0.5333333333333333, 0.5333333333333333, 0.43333333333333335, 0.5333333333333333, 0.5, 0.36666666666666664, 0.4666666666666667, 0.5666666666666667, 0.5, 0.4666666666666667, 0.5, 0.4, 0.5, 0.4666666666666667, 0.5, 0.6333333333333333, 0.5666666666666667, 0.43333333333333335, 0.5666666666666667, 0.5333333333333333, 0.6, 0.6, 0.7, 0.6333333333333333, 0.4666666666666667, 0.6333333333333333, 0.3333333333333333, 0.36666666666666664, 0.5333333333333333, 0.5333333333333333, 0.43333333333333335, 0.5333333333333333, 0.6333333333333333, 0.5333333333333333, 0.5333333333333333, 0.4666666666666667, 0.4666666666666667, 0.5, 0.43333333333333335, 0.4666666666666667, 0.3, 0.4666666666666667, 0.5666666666666667, 0.43333333333333335, 0.43333333333333335, 0.6, 0.6666666666666666, 0.6, 0.5333333333333333, 0.6333333333333333, 0.5, 0.6666666666666666, 0.5333333333333333, 0.6, 0.7333333333333333, 0.4, 0.3333333333333333, 0.36666666666666664, 0.5, 0.5666666666666667, 0.3333333333333333, 0.3333333333333333, 0.36666666666666664, 0.6666666666666666, 0.3, 0.5333333333333333, 0.5, 0.5, 0.4666666666666667, 0.4666666666666667, 0.4, 0.5333333333333333, 0.5666666666666667, 0.6, 0.6, 0.5, 0.4666666666666667, 0.4666666666666667, 0.5, 0.5333333333333333, 0.5666666666666667, 0.4, 0.43333333333333335, 0.6, 0.5333333333333333, 0.43333333333333335, 0.4666666666666667, 0.5, 0.5333333333333333, 0.4666666666666667, 0.5333333333333333, 0.36666666666666664, 0.4666666666666667, 0.5333333333333333, 0.5, 0.5666666666666667, 0.5666666666666667, 0.36666666666666664, 0.5, 0.4, 0.5, 0.43333333333333335, 0.5, 0.5, 0.36666666666666664, 0.4666666666666667, 0.5, 0.4, 0.5666666666666667, 0.5666666666666667, 0.5, 0.43333333333333335, 0.4, 0.5, 0.43333333333333335, 0.3, 0.4, 0.5666666666666667, 0.5333333333333333, 0.43333333333333335, 0.4, 0.4666666666666667, 0.4, 0.4666666666666667, 0.5666666666666667, 0.5, 0.36666666666666664, 0.43333333333333335, 0.5333333333333333, 0.5666666666666667, 0.43333333333333335, 0.3333333333333333, 0.5666666666666667, 0.5333333333333333, 0.5333333333333333, 0.43333333333333335, 0.36666666666666664, 0.6333333333333333, 0.6, 0.43333333333333335, 0.5, 0.43333333333333335, 0.6666666666666666, 0.43333333333333335, 0.43333333333333335, 0.4666666666666667, 0.3, 0.5, 0.5333333333333333, 0.4666666666666667, 0.43333333333333335, 0.5, 0.4, 0.4, 0.6666666666666666, 0.4666666666666667, 0.5, 0.5333333333333333, 0.6333333333333333, 0.4666666666666667, 0.36666666666666664, 0.5, 0.5, 0.5, 0.36666666666666664, 0.5, 0.5, 0.4, 0.43333333333333335, 0.4666666666666667, 0.4, 0.5, 0.4666666666666667, 0.5, 0.5, 0.5333333333333333, 0.5666666666666667, 0.4666666666666667, 0.4, 0.6333333333333333, 0.4666666666666667, 0.5, 0.5666666666666667, 0.26666666666666666, 0.4666666666666667, 0.6333333333333333, 0.6333333333333333, 0.5, 0.5, 0.43333333333333335, 0.5, 0.43333333333333335, 0.43333333333333335, 0.3333333333333333, 0.4666666666666667, 0.43333333333333335, 0.6, 0.7333333333333333, 0.4666666666666667, 0.3333333333333333, 0.4, 0.43333333333333335, 0.4666666666666667, 0.6, 0.4666666666666667, 0.6, 0.36666666666666664, 0.6, 0.7, 0.5333333333333333, 0.4, 0.4666666666666667, 0.5, 0.4666666666666667, 0.5, 0.5333333333333333, 0.43333333333333335, 0.6333333333333333, 0.5, 0.5, 0.6333333333333333, 0.5333333333333333, 0.4666666666666667, 0.36666666666666664, 0.5333333333333333, 0.5, 0.5333333333333333, 0.6, 0.4666666666666667, 0.5666666666666667, 0.4666666666666667, 0.43333333333333335, 0.5, 0.5333333333333333, 0.43333333333333335, 0.3333333333333333, 0.43333333333333335, 0.6, 0.5333333333333333, 0.6333333333333333, 0.6666666666666666, 0.5, 0.5, 0.5, 0.5666666666666667, 0.5, 0.5, 0.4, 0.6, 0.6, 0.5, 0.4666666666666667, 0.5666666666666667, 0.43333333333333335, 0.4666666666666667, 0.4666666666666667, 0.5, 0.43333333333333335, 0.5333333333333333, 0.5, 0.5666666666666667, 0.43333333333333335, 0.4666666666666667, 0.4666666666666667, 0.5333333333333333, 0.4666666666666667, 0.4666666666666667, 0.43333333333333335, 0.43333333333333335, 0.5666666666666667, 0.4666666666666667, 0.43333333333333335, 0.5333333333333333, 0.36666666666666664, 0.36666666666666664, 0.5, 0.43333333333333335, 0.5333333333333333, 0.5666666666666667, 0.6666666666666666, 0.7, 0.5, 0.6666666666666666, 0.5, 0.43333333333333335, 0.4, 0.3333333333333333, 0.3333333333333333, 0.4666666666666667, 0.4666666666666667, 0.5333333333333333, 0.43333333333333335, 0.5, 0.3, 0.4666666666666667, 0.5333333333333333, 0.4666666666666667, 0.4666666666666667, 0.5666666666666667, 0.5666666666666667, 0.5333333333333333, 0.6333333333333333, 0.5333333333333333, 0.4, 0.6333333333333333, 0.6666666666666666, 0.5666666666666667, 0.5666666666666667, 0.5666666666666667, 0.4, 0.4666666666666667, 0.4666666666666667, 0.43333333333333335, 0.4666666666666667, 0.6, 0.36666666666666664, 0.4, 0.43333333333333335, 0.5333333333333333, 0.5, 0.6, 0.5, 0.5333333333333333, 0.5333333333333333, 0.5666666666666667, 0.5666666666666667, 0.5666666666666667, 0.4, 0.43333333333333335, 0.6333333333333333, 0.3333333333333333, 0.4666666666666667, 0.4666666666666667, 0.5333333333333333, 0.5, 0.4, 0.4666666666666667, 0.6, 0.5333333333333333, 0.5666666666666667, 0.4, 0.4, 0.4666666666666667, 0.36666666666666664, 0.43333333333333335, 0.5333333333333333, 0.5, 0.5333333333333333, 0.5333333333333333, 0.5, 0.3, 0.43333333333333335, 0.5333333333333333, 0.5666666666666667, 0.4666666666666667, 0.5666666666666667, 0.5666666666666667, 0.5666666666666667, 0.4666666666666667, 0.4, 0.4666666666666667, 0.5, 0.5333333333333333, 0.5, 0.5666666666666667, 0.6333333333333333, 0.5, 0.5, 0.5333333333333333, 0.5333333333333333, 0.5333333333333333, 0.43333333333333335, 0.5333333333333333, 0.5, 0.43333333333333335, 0.5, 0.5, 0.4666666666666667, 0.5, 0.6333333333333333, 0.5, 0.5, 0.6666666666666666, 0.6, 0.43333333333333335, 0.6666666666666666, 0.4, 0.7, 0.43333333333333335, 0.5333333333333333, 0.4666666666666667, 0.4, 0.4, 0.5, 0.4666666666666667, 0.43333333333333335, 0.4666666666666667, 0.5333333333333333, 0.5333333333333333, 0.6333333333333333, 0.3333333333333333, 0.43333333333333335, 0.5333333333333333, 0.5666666666666667, 0.6333333333333333, 0.6, 0.5333333333333333, 0.43333333333333335, 0.5333333333333333, 0.3333333333333333, 0.5, 0.5, 0.5333333333333333, 0.4, 0.5, 0.43333333333333335, 0.5333333333333333, 0.43333333333333335, 0.5, 0.43333333333333335, 0.7333333333333333, 0.5, 0.6333333333333333, 0.4, 0.6, 0.4, 0.5666666666666667, 0.4666666666666667, 0.5, 0.6, 0.5333333333333333, 0.5666666666666667, 0.4666666666666667, 0.5, 0.3333333333333333, 0.36666666666666664, 0.5666666666666667, 0.6333333333333333, 0.4, 0.4666666666666667, 0.5, 0.5666666666666667, 0.36666666666666664, 0.5, 0.5666666666666667, 0.43333333333333335, 0.4666666666666667, 0.5, 0.5666666666666667, 0.4, 0.5666666666666667, 0.5333333333333333, 0.3333333333333333, 0.5, 0.4, 0.5666666666666667, 0.5, 0.43333333333333335, 0.36666666666666664, 0.5, 0.5, 0.4666666666666667, 0.4666666666666667, 0.36666666666666664, 0.3, 0.3, 0.5333333333333333, 0.5333333333333333, 0.3, 0.5, 0.5666666666666667, 0.36666666666666664, 0.5, 0.7, 0.7333333333333333, 0.5333333333333333, 0.6, 0.4666666666666667, 0.5, 0.26666666666666666, 0.5333333333333333, 0.43333333333333335, 0.5, 0.6333333333333333, 0.4, 0.6333333333333333, 0.3333333333333333, 0.5, 0.7333333333333333, 0.7, 0.5333333333333333, 0.4666666666666667, 0.6666666666666666, 0.4666666666666667, 0.3333333333333333, 0.5, 0.5333333333333333, 0.6666666666666666, 0.5666666666666667, 0.6, 0.36666666666666664, 0.5333333333333333, 0.4, 0.6, 0.43333333333333335, 0.36666666666666664, 0.4666666666666667, 0.5, 0.5333333333333333, 0.5, 0.6, 0.6, 0.6, 0.4666666666666667, 0.5, 0.6, 0.5333333333333333, 0.5666666666666667, 0.26666666666666666, 0.5666666666666667, 0.4666666666666667, 0.4, 0.6, 0.5333333333333333, 0.5666666666666667, 0.43333333333333335, 0.5333333333333333, 0.4666666666666667, 0.4666666666666667, 0.4, 0.3, 0.5333333333333333, 0.5, 0.4666666666666667, 0.5, 0.5333333333333333, 0.43333333333333335, 0.6, 0.5, 0.5666666666666667, 0.6333333333333333, 0.4666666666666667, 0.5, 0.5, 0.6, 0.4666666666666667, 0.4666666666666667, 0.5, 0.4666666666666667, 0.5333333333333333, 0.5, 0.43333333333333335, 0.5, 0.6, 0.43333333333333335, 0.5333333333333333, 0.43333333333333335, 0.43333333333333335, 0.4, 0.4, 0.6, 0.36666666666666664, 0.5666666666666667, 0.36666666666666664, 0.7333333333333333, 0.4666666666666667, 0.5, 0.4, 0.5, 0.4666666666666667, 0.5666666666666667, 0.5333333333333333, 0.43333333333333335, 0.36666666666666664, 0.5666666666666667, 0.5666666666666667, 0.4, 0.4666666666666667, 0.6, 0.5666666666666667, 0.5666666666666667, 0.6, 0.4666666666666667, 0.6, 0.5, 0.43333333333333335, 0.5, 0.5333333333333333, 0.5333333333333333, 0.6333333333333333, 0.36666666666666664, 0.4666666666666667, 0.5666666666666667, 0.36666666666666664, 0.5333333333333333, 0.36666666666666664, 0.4, 0.5, 0.43333333333333335, 0.4666666666666667, 0.4666666666666667, 0.4, 0.3333333333333333, 0.5, 0.36666666666666664, 0.26666666666666666, 0.3333333333333333, 0.6, 0.36666666666666664, 0.43333333333333335, 0.5, 0.5333333333333333, 0.5333333333333333, 0.6, 0.4666666666666667, 0.5, 0.4666666666666667, 0.5, 0.4, 0.5333333333333333, 0.6333333333333333, 0.4666666666666667, 0.5666666666666667, 0.43333333333333335, 0.5, 0.6333333333333333, 0.5, 0.6, 0.3333333333333333, 0.5666666666666667, 0.6, 0.5, 0.4666666666666667, 0.43333333333333335, 0.5, 0.43333333333333335, 0.5333333333333333, 0.6333333333333333, 0.4666666666666667, 0.5, 0.43333333333333335, 0.3333333333333333, 0.43333333333333335, 0.5, 0.5333333333333333, 0.36666666666666664, 0.4, 0.4, 0.5, 0.5, 0.7, 0.7333333333333333, 0.5333333333333333, 0.4666666666666667, 0.6, 0.6, 0.6333333333333333, 0.43333333333333335, 0.5333333333333333, 0.3333333333333333, 0.6666666666666666, 0.5333333333333333, 0.5, 0.5, 0.3, 0.43333333333333335, 0.6, 0.4, 0.4666666666666667, 0.5333333333333333, 0.5333333333333333, 0.5, 0.4, 0.4666666666666667, 0.5, 0.5333333333333333, 0.4, 0.36666666666666664, 0.5, 0.5333333333333333, 0.6666666666666666, 0.5, 0.4, 0.6333333333333333, 0.36666666666666664, 0.5666666666666667, 0.43333333333333335, 0.6333333333333333, 0.5333333333333333, 0.5666666666666667, 0.36666666666666664, 0.36666666666666664, 0.4, 0.5666666666666667, 0.4666666666666667, 0.6333333333333333, 0.43333333333333335, 0.5666666666666667, 0.36666666666666664, 0.5333333333333333, 0.4666666666666667, 0.4, 0.4, 0.43333333333333335, 0.43333333333333335, 0.5666666666666667, 0.4666666666666667, 0.5333333333333333, 0.6, 0.36666666666666664, 0.5, 0.5, 0.5333333333333333, 0.4, 0.6, 0.4666666666666667, 0.36666666666666664, 0.5, 0.3, 0.6, 0.5, 0.4, 0.4, 0.43333333333333335, 0.5666666666666667, 0.5333333333333333, 0.5, 0.5666666666666667, 0.6, 0.36666666666666664, 0.4666666666666667, 0.4666666666666667, 0.5, 0.4666666666666667, 0.4, 0.5666666666666667, 0.4666666666666667, 0.5666666666666667, 0.3, 0.5666666666666667, 0.43333333333333335, 0.4, 0.6666666666666666, 0.4666666666666667, 0.4666666666666667, 0.4666666666666667, 0.4, 0.5333333333333333, 0.6, 0.5666666666666667, 0.5, 0.7, 0.6333333333333333, 0.6666666666666666, 0.5, 0.5, 0.5666666666666667, 0.6333333333333333, 0.5666666666666667, 0.5333333333333333, 0.5333333333333333, 0.4666666666666667, 0.43333333333333335, 0.4666666666666667, 0.5, 0.36666666666666664, 0.5, 0.5, 0.4, 0.3, 0.6333333333333333, 0.43333333333333335, 0.4, 0.5, 0.5333333333333333, 0.6666666666666666, 0.5666666666666667, 0.36666666666666664, 0.6333333333333333, 0.5, 0.5, 0.5333333333333333, 0.4, 0.4666666666666667, 0.4, 0.4, 0.5333333333333333, 0.4, 0.7333333333333333, 0.5, 0.4666666666666667, 0.36666666666666664, 0.6666666666666666, 0.36666666666666664, 0.5, 0.5666666666666667, 0.4666666666666667, 0.6, 0.5, 0.5666666666666667, 0.5, 0.6, 0.43333333333333335, 0.36666666666666664, 0.6333333333333333, 0.5333333333333333, 0.43333333333333335, 0.5666666666666667, 0.4, 0.43333333333333335, 0.4666666666666667, 0.4666666666666667, 0.4, 0.43333333333333335, 0.5, 0.7333333333333333, 0.43333333333333335, 0.6, 0.4666666666666667, 0.6, 0.43333333333333335, 0.43333333333333335, 0.5, 0.4666666666666667, 0.6, 0.5, 0.5666666666666667, 0.5, 0.6666666666666666, 0.43333333333333335, 0.5, 0.43333333333333335, 0.4666666666666667, 0.5666666666666667, 0.6333333333333333, 0.5, 0.5666666666666667, 0.6, 0.43333333333333335, 0.4, 0.5333333333333333, 0.36666666666666664, 0.5333333333333333, 0.3333333333333333, 0.5, 0.4, 0.5, 0.5, 0.5, 0.5333333333333333, 0.36666666666666664, 0.43333333333333335, 0.7666666666666667, 0.5333333333333333, 0.5333333333333333, 0.5666666666666667, 0.5666666666666667, 0.36666666666666664, 0.4, 0.3333333333333333, 0.5333333333333333, 0.5, 0.5333333333333333, 0.4, 0.43333333333333335, 0.4666666666666667, 0.4666666666666667, 0.5, 0.6333333333333333, 0.5666666666666667, 0.6, 0.6333333333333333, 0.5333333333333333, 0.5666666666666667, 0.5, 0.4, 0.6666666666666666, 0.5666666666666667, 0.5666666666666667, 0.43333333333333335, 0.43333333333333335, 0.5333333333333333, 0.5, 0.5333333333333333, 0.4666666666666667, 0.5333333333333333, 0.43333333333333335, 0.7, 0.6666666666666666, 0.5666666666666667, 0.4666666666666667, 0.4666666666666667, 0.4, 0.3333333333333333, 0.5, 0.43333333333333335, 0.4666666666666667, 0.5, 0.4666666666666667, 0.43333333333333335, 0.43333333333333335, 0.4666666666666667, 0.3333333333333333, 0.5666666666666667, 0.4, 0.4, 0.6, 0.43333333333333335, 0.6333333333333333, 0.3, 0.4666666666666667, 0.5, 0.6, 0.5, 0.3, 0.4666666666666667, 0.43333333333333335, 0.5666666666666667, 0.4, 0.5333333333333333, 0.5, 0.4, 0.43333333333333335, 0.5333333333333333, 0.4, 0.6, 0.6, 0.4666666666666667, 0.43333333333333335, 0.4666666666666667, 0.4, 0.43333333333333335, 0.43333333333333335, 0.5, 0.43333333333333335, 0.6333333333333333, 0.5333333333333333, 0.4666666666666667, 0.5666666666666667, 0.43333333333333335, 0.43333333333333335, 0.5333333333333333, 0.4, 0.36666666666666664, 0.5, 0.5666666666666667, 0.5, 0.5666666666666667, 0.4, 0.4666666666666667, 0.5333333333333333, 0.5333333333333333, 0.5, 0.5666666666666667, 0.5333333333333333, 0.4, 0.5666666666666667, 0.43333333333333335, 0.6, 0.6666666666666666, 0.43333333333333335, 0.36666666666666664, 0.5, 0.5, 0.43333333333333335, 0.5333333333333333, 0.5333333333333333, 0.5, 0.5, 0.5333333333333333, 0.5, 0.4666666666666667, 0.5333333333333333, 0.36666666666666664, 0.6333333333333333, 0.5333333333333333, 0.5, 0.5666666666666667, 0.6, 0.5666666666666667, 0.6333333333333333, 0.5666666666666667, 0.5333333333333333, 0.43333333333333335, 0.5333333333333333, 0.4, 0.5666666666666667, 0.5666666666666667, 0.6, 0.4, 0.4, 0.5333333333333333, 0.3333333333333333, 0.5, 0.5666666666666667, 0.4, 0.5666666666666667, 0.4666666666666667, 0.36666666666666664, 0.4666666666666667, 0.5, 0.5666666666666667, 0.43333333333333335, 0.6, 0.5333333333333333, 0.3333333333333333, 0.4666666666666667, 0.3, 0.5666666666666667, 0.5, 0.43333333333333335, 0.5, 0.6333333333333333, 0.5, 0.6333333333333333, 0.5, 0.4, 0.4666666666666667, 0.3, 0.6, 0.6, 0.5333333333333333, 0.5333333333333333, 0.6, 0.5333333333333333, 0.5333333333333333, 0.4666666666666667, 0.5333333333333333, 0.5, 0.6, 0.6333333333333333, 0.5, 0.5, 0.36666666666666664, 0.5333333333333333, 0.43333333333333335, 0.43333333333333335, 0.6, 0.6666666666666666, 0.5333333333333333, 0.4, 0.5333333333333333, 0.5666666666666667, 0.5, 0.36666666666666664, 0.5333333333333333, 0.5666666666666667, 0.6, 0.5, 0.4, 0.6666666666666666, 0.7, 0.6666666666666666, 0.43333333333333335, 0.6, 0.2, 0.6, 0.5, 0.5666666666666667, 0.5333333333333333, 0.4666666666666667, 0.4666666666666667, 0.5333333333333333, 0.6, 0.43333333333333335, 0.4, 0.6333333333333333, 0.5333333333333333, 0.5333333333333333, 0.36666666666666664, 0.5, 0.4666666666666667, 0.36666666666666664, 0.5, 0.5333333333333333, 0.5666666666666667, 0.6666666666666666, 0.5, 0.4666666666666667, 0.4666666666666667, 0.6666666666666666, 0.5, 0.4, 0.6, 0.4, 0.5333333333333333, 0.36666666666666664, 0.5333333333333333, 0.4666666666666667, 0.4666666666666667, 0.5, 0.4, 0.5, 0.5, 0.5, 0.26666666666666666, 0.4666666666666667, 0.5333333333333333, 0.4, 0.5, 0.6, 0.6666666666666666, 0.5, 0.43333333333333335, 0.5, 0.5333333333333333, 0.5333333333333333, 0.6666666666666666, 0.5666666666666667, 0.43333333333333335, 0.4666666666666667, 0.4666666666666667, 0.5333333333333333, 0.5333333333333333, 0.5, 0.5, 0.5333333333333333, 0.5666666666666667, 0.6333333333333333, 0.7, 0.5, 0.43333333333333335, 0.43333333333333335, 0.3, 0.36666666666666664, 0.4666666666666667, 0.6333333333333333, 0.4666666666666667, 0.5333333333333333, 0.5, 0.3, 0.6, 0.36666666666666664, 0.43333333333333335, 0.5333333333333333, 0.5333333333333333, 0.43333333333333335, 0.43333333333333335, 0.6, 0.4, 0.4666666666666667, 0.36666666666666664, 0.4666666666666667, 0.5666666666666667, 0.5333333333333333, 0.4666666666666667, 0.5, 0.4666666666666667, 0.4, 0.4666666666666667, 0.6, 0.6333333333333333, 0.4666666666666667, 0.6, 0.3333333333333333, 0.4, 0.4666666666666667, 0.3, 0.5666666666666667, 0.5, 0.6, 0.4666666666666667, 0.5333333333333333, 0.6, 0.3333333333333333, 0.6, 0.5666666666666667, 0.5333333333333333, 0.7333333333333333, 0.7, 0.6, 0.5333333333333333, 0.5, 0.8, 0.4666666666666667, 0.5666666666666667, 0.5666666666666667, 0.4, 0.3333333333333333, 0.6333333333333333, 0.6, 0.5333333333333333, 0.5333333333333333, 0.5, 0.5, 0.43333333333333335, 0.43333333333333335, 0.5, 0.43333333333333335, 0.5, 0.6333333333333333, 0.6333333333333333, 0.43333333333333335, 0.5333333333333333, 0.36666666666666664, 0.4, 0.6333333333333333, 0.43333333333333335, 0.5333333333333333, 0.4, 0.5, 0.4666666666666667, 0.5333333333333333, 0.5666666666666667, 0.4, 0.4666666666666667, 0.4666666666666667, 0.6333333333333333, 0.5666666666666667, 0.43333333333333335, 0.3333333333333333, 0.6333333333333333, 0.6, 0.5666666666666667, 0.36666666666666664, 0.5, 0.4666666666666667, 0.5666666666666667, 0.6333333333333333, 0.4666666666666667, 0.5, 0.3333333333333333, 0.5333333333333333, 0.5333333333333333, 0.6666666666666666, 0.3333333333333333, 0.3333333333333333, 0.5, 0.5666666666666667, 0.5333333333333333, 0.5333333333333333, 0.43333333333333335, 0.5666666666666667, 0.43333333333333335, 0.5333333333333333, 0.5, 0.4, 0.4, 0.5, 0.6, 0.4, 0.5333333333333333, 0.4, 0.36666666666666664, 0.43333333333333335, 0.4666666666666667, 0.4, 0.4, 0.6333333333333333, 0.6, 0.6666666666666666, 0.6666666666666666, 0.43333333333333335, 0.43333333333333335, 0.36666666666666664, 0.4666666666666667, 0.6, 0.4, 0.5, 0.4666666666666667, 0.4, 0.43333333333333335, 0.5666666666666667, 0.5666666666666667, 0.43333333333333335, 0.6, 0.5333333333333333, 0.3333333333333333, 0.5666666666666667, 0.4666666666666667, 0.4666666666666667, 0.43333333333333335, 0.4, 0.4666666666666667, 0.6, 0.5, 0.4666666666666667, 0.4, 0.7, 0.3333333333333333, 0.5666666666666667, 0.6333333333333333, 0.43333333333333335, 0.3, 0.4666666666666667, 0.3333333333333333, 0.4, 0.5, 0.43333333333333335, 0.5666666666666667, 0.4666666666666667, 0.43333333333333335, 0.5, 0.5, 0.6, 0.4, 0.5, 0.26666666666666666, 0.43333333333333335, 0.4666666666666667, 0.5333333333333333, 0.4666666666666667, 0.43333333333333335, 0.6666666666666666, 0.6, 0.4, 0.43333333333333335, 0.43333333333333335, 0.6, 0.5333333333333333, 0.26666666666666666, 0.43333333333333335, 0.36666666666666664, 0.6, 0.4666666666666667, 0.36666666666666664, 0.6, 0.5, 0.4666666666666667, 0.5, 0.5333333333333333, 0.5333333333333333, 0.5, 0.4, 0.5, 0.6333333333333333, 0.4666666666666667, 0.5333333333333333, 0.5666666666666667, 0.36666666666666664, 0.5333333333333333, 0.6, 0.5666666666666667, 0.6666666666666666, 0.4666666666666667, 0.5333333333333333, 0.5, 0.43333333333333335, 0.4666666666666667, 0.5, 0.4, 0.6333333333333333, 0.5333333333333333, 0.4666666666666667, 0.4, 0.5, 0.5333333333333333, 0.5333333333333333, 0.5666666666666667, 0.36666666666666664, 0.4, 0.5333333333333333, 0.43333333333333335, 0.43333333333333335, 0.4, 0.4, 0.43333333333333335, 0.36666666666666664, 0.6666666666666666, 0.4666666666666667, 0.5, 0.5666666666666667, 0.43333333333333335, 0.43333333333333335, 0.6, 0.6, 0.4666666666666667, 0.36666666666666664, 0.43333333333333335, 0.6666666666666666, 0.6333333333333333, 0.4, 0.4666666666666667, 0.6, 0.5333333333333333, 0.4666666666666667, 0.5666666666666667, 0.43333333333333335, 0.6, 0.5333333333333333, 0.5, 0.5333333333333333, 0.5333333333333333, 0.4, 0.5, 0.5333333333333333, 0.5333333333333333, 0.3, 0.6666666666666666, 0.5, 0.43333333333333335, 0.5666666666666667, 0.5666666666666667, 0.26666666666666666, 0.4666666666666667, 0.6333333333333333, 0.5, 0.6, 0.36666666666666664, 0.5, 0.43333333333333335, 0.5, 0.5333333333333333, 0.3, 0.5, 0.5666666666666667, 0.5333333333333333, 0.4666666666666667, 0.4666666666666667, 0.4666666666666667, 0.5333333333333333, 0.6333333333333333, 0.6, 0.5666666666666667, 0.5, 0.5333333333333333, 0.5333333333333333, 0.6666666666666666, 0.5666666666666667, 0.5, 0.36666666666666664, 0.4666666666666667, 0.4666666666666667, 0.36666666666666664, 0.4666666666666667, 0.6, 0.43333333333333335, 0.4, 0.5666666666666667, 0.5, 0.6, 0.5333333333333333, 0.6333333333333333, 0.43333333333333335, 0.43333333333333335, 0.43333333333333335, 0.3333333333333333, 0.4, 0.3333333333333333, 0.4666666666666667, 0.5333333333333333, 0.5666666666666667, 0.3333333333333333, 0.36666666666666664, 0.5666666666666667, 0.36666666666666664, 0.5333333333333333, 0.5, 0.43333333333333335, 0.5666666666666667, 0.4, 0.3, 0.43333333333333335, 0.6333333333333333, 0.5666666666666667, 0.6, 0.43333333333333335, 0.5666666666666667, 0.5333333333333333, 0.4666666666666667, 0.5333333333333333, 0.5, 0.5333333333333333, 0.5666666666666667, 0.43333333333333335, 0.6333333333333333, 0.3333333333333333, 0.4, 0.43333333333333335, 0.43333333333333335, 0.4666666666666667, 0.5333333333333333, 0.6333333333333333, 0.43333333333333335, 0.5, 0.6, 0.5, 0.43333333333333335, 0.43333333333333335, 0.43333333333333335, 0.5, 0.5666666666666667, 0.5, 0.4, 0.5, 0.5, 0.4, 0.26666666666666666, 0.5, 0.5333333333333333, 0.4666666666666667, 0.6, 0.36666666666666664, 0.43333333333333335, 0.5333333333333333, 0.4, 0.5666666666666667, 0.5333333333333333, 0.43333333333333335, 0.5, 0.5, 0.4666666666666667, 0.43333333333333335, 0.5, 0.5333333333333333, 0.5666666666666667, 0.43333333333333335, 0.5, 0.4, 0.4, 0.5666666666666667, 0.4, 0.5333333333333333, 0.5333333333333333, 0.5, 0.4666666666666667, 0.5333333333333333, 0.5333333333333333, 0.6, 0.5, 0.5, 0.43333333333333335, 0.4, 0.36666666666666664, 0.5, 0.4666666666666667, 0.5, 0.5333333333333333, 0.43333333333333335, 0.43333333333333335, 0.5333333333333333, 0.5333333333333333, 0.4, 0.36666666666666664, 0.5333333333333333, 0.43333333333333335, 0.5333333333333333, 0.4666666666666667, 0.3, 0.5666666666666667, 0.7, 0.6333333333333333, 0.5, 0.26666666666666666, 0.5333333333333333, 0.43333333333333335, 0.5333333333333333, 0.5666666666666667, 0.5333333333333333, 0.5333333333333333, 0.4666666666666667, 0.6333333333333333, 0.36666666666666664, 0.43333333333333335, 0.36666666666666664, 0.4, 0.43333333333333335, 0.6, 0.4666666666666667, 0.43333333333333335, 0.43333333333333335, 0.5333333333333333, 0.5, 0.5666666666666667, 0.6, 0.5, 0.6333333333333333, 0.5, 0.4, 0.5666666666666667, 0.43333333333333335, 0.4666666666666667, 0.6, 0.5, 0.43333333333333335, 0.5, 0.6333333333333333, 0.4666666666666667, 0.4666666666666667, 0.43333333333333335, 0.4666666666666667, 0.4666666666666667, 0.4666666666666667, 0.5333333333333333, 0.3333333333333333, 0.4666666666666667, 0.5, 0.5, 0.4666666666666667, 0.5, 0.43333333333333335, 0.5333333333333333, 0.43333333333333335, 0.5, 0.4666666666666667, 0.36666666666666664, 0.5, 0.3, 0.43333333333333335, 0.6333333333333333, 0.3333333333333333, 0.4666666666666667, 0.4666666666666667, 0.43333333333333335, 0.5666666666666667, 0.4666666666666667, 0.5666666666666667, 0.43333333333333335, 0.4666666666666667, 0.5, 0.5, 0.4, 0.43333333333333335, 0.4666666666666667, 0.6333333333333333, 0.5, 0.5, 0.43333333333333335, 0.5, 0.5333333333333333, 0.43333333333333335, 0.5, 0.6, 0.5333333333333333, 0.5333333333333333, 0.6, 0.5, 0.43333333333333335, 0.5666666666666667, 0.6, 0.36666666666666664, 0.5666666666666667, 0.5333333333333333, 0.5666666666666667, 0.5666666666666667, 0.36666666666666664, 0.5333333333333333, 0.5666666666666667, 0.5666666666666667, 0.3333333333333333, 0.4, 0.4666666666666667, 0.4666666666666667, 0.5, 0.6, 0.4666666666666667, 0.36666666666666664, 0.7666666666666667, 0.5, 0.4, 0.43333333333333335, 0.6333333333333333, 0.6, 0.4666666666666667, 0.5666666666666667, 0.4666666666666667, 0.5, 0.5, 0.4, 0.4, 0.5333333333333333, 0.5666666666666667, 0.43333333333333335, 0.6, 0.5, 0.5666666666666667, 0.5, 0.4, 0.7, 0.6333333333333333, 0.26666666666666666, 0.5666666666666667, 0.4, 0.43333333333333335, 0.3333333333333333, 0.6, 0.5333333333333333, 0.6, 0.4, 0.5333333333333333, 0.3333333333333333, 0.5, 0.4666666666666667, 0.43333333333333335, 0.43333333333333335, 0.36666666666666664, 0.4666666666666667, 0.4, 0.4, 0.4, 0.4666666666666667, 0.5666666666666667, 0.43333333333333335, 0.5333333333333333, 0.4666666666666667, 0.3333333333333333, 0.6333333333333333, 0.6, 0.5, 0.3333333333333333, 0.5666666666666667, 0.6, 0.43333333333333335, 0.6, 0.6, 0.6, 0.5666666666666667, 0.4, 0.4, 0.5333333333333333, 0.4666666666666667, 0.5, 0.6666666666666666, 0.4666666666666667, 0.4666666666666667, 0.43333333333333335, 0.36666666666666664, 0.4, 0.43333333333333335, 0.36666666666666664, 0.4, 0.6666666666666666, 0.5333333333333333, 0.6, 0.43333333333333335, 0.5, 0.7, 0.5333333333333333, 0.4666666666666667, 0.5, 0.5333333333333333, 0.43333333333333335, 0.43333333333333335, 0.4, 0.6666666666666666, 0.3333333333333333, 0.43333333333333335, 0.4666666666666667, 0.5, 0.5, 0.5, 0.4, 0.6333333333333333, 0.5, 0.6, 0.6666666666666666, 0.6, 0.43333333333333335, 0.5666666666666667, 0.5666666666666667, 0.4666666666666667, 0.43333333333333335, 0.4666666666666667, 0.5333333333333333, 0.4666666666666667, 0.6333333333333333, 0.6, 0.36666666666666664, 0.5, 0.4666666666666667, 0.6333333333333333, 0.4666666666666667, 0.5666666666666667, 0.6333333333333333, 0.43333333333333335, 0.43333333333333335, 0.5, 0.5666666666666667, 0.6, 0.4666666666666667, 0.43333333333333335, 0.4, 0.4666666666666667, 0.43333333333333335, 0.43333333333333335, 0.43333333333333335, 0.4, 0.5333333333333333, 0.5, 0.36666666666666664, 0.6, 0.4, 0.5666666666666667, 0.5666666666666667, 0.5, 0.43333333333333335, 0.5333333333333333, 0.6666666666666666, 0.4666666666666667, 0.43333333333333335, 0.6, 0.5, 0.6333333333333333, 0.6, 0.4, 0.43333333333333335, 0.6333333333333333, 0.6, 0.4, 0.5666666666666667, 0.5333333333333333, 0.4666666666666667, 0.5, 0.5333333333333333, 0.5333333333333333, 0.6333333333333333, 0.4, 0.4, 0.6666666666666666, 0.3333333333333333, 0.4666666666666667, 0.4666666666666667, 0.5666666666666667, 0.4, 0.4666666666666667, 0.5, 0.4666666666666667, 0.43333333333333335, 0.6333333333333333, 0.6333333333333333, 0.6, 0.43333333333333335, 0.5, 0.5666666666666667, 0.6333333333333333, 0.5666666666666667, 0.3333333333333333, 0.5666666666666667, 0.3333333333333333, 0.4666666666666667, 0.5666666666666667, 0.6666666666666666, 0.36666666666666664, 0.6, 0.3333333333333333, 0.43333333333333335, 0.7333333333333333, 0.43333333333333335, 0.6, 0.6333333333333333, 0.5666666666666667, 0.5666666666666667, 0.6333333333333333, 0.5, 0.5, 0.6333333333333333, 0.6333333333333333, 0.6333333333333333, 0.36666666666666664, 0.3333333333333333, 0.5, 0.3333333333333333, 0.6666666666666666, 0.43333333333333335, 0.5, 0.4, 0.43333333333333335, 0.5, 0.43333333333333335, 0.5666666666666667, 0.5, 0.4, 0.5333333333333333, 0.4, 0.4666666666666667, 0.26666666666666666, 0.5666666666666667, 0.6, 0.6666666666666666, 0.5666666666666667, 0.5333333333333333, 0.43333333333333335, 0.5333333333333333, 0.5333333333333333, 0.43333333333333335, 0.6, 0.6333333333333333, 0.6333333333333333, 0.3333333333333333, 0.5666666666666667, 0.6333333333333333, 0.6, 0.4666666666666667, 0.5, 0.4666666666666667, 0.6333333333333333, 0.5, 0.43333333333333335, 0.6666666666666666, 0.4, 0.7333333333333333, 0.5666666666666667, 0.4, 0.43333333333333335, 0.5666666666666667, 0.4666666666666667, 0.5666666666666667, 0.36666666666666664, 0.4666666666666667, 0.43333333333333335, 0.6, 0.6, 0.4666666666666667, 0.7, 0.23333333333333334, 0.6666666666666666, 0.4, 0.7, 0.4666666666666667, 0.5, 0.43333333333333335, 0.5333333333333333, 0.5, 0.4666666666666667, 0.43333333333333335, 0.4666666666666667, 0.6, 0.5, 0.5333333333333333, 0.6333333333333333, 0.5333333333333333, 0.6, 0.5, 0.5666666666666667, 0.6, 0.3333333333333333, 0.5666666666666667, 0.3333333333333333, 0.4666666666666667, 0.5, 0.4666666666666667, 0.5333333333333333, 0.4666666666666667, 0.5, 0.6333333333333333, 0.4, 0.5, 0.6, 0.36666666666666664, 0.4666666666666667, 0.5, 0.6, 0.5333333333333333, 0.6, 0.43333333333333335, 0.5666666666666667, 0.6, 0.5333333333333333, 0.6, 0.6, 0.43333333333333335, 0.5, 0.5666666666666667, 0.5666666666666667, 0.43333333333333335, 0.5333333333333333, 0.4666666666666667, 0.4666666666666667, 0.5, 0.5666666666666667, 0.4666666666666667, 0.5333333333333333, 0.5333333333333333, 0.4666666666666667, 0.4666666666666667, 0.5666666666666667, 0.36666666666666664, 0.6333333333333333, 0.5333333333333333, 0.36666666666666664, 0.4666666666666667, 0.5, 0.3333333333333333, 0.5666666666666667, 0.5, 0.3333333333333333, 0.5333333333333333, 0.3, 0.6333333333333333, 0.5333333333333333, 0.5, 0.6, 0.5666666666666667, 0.7, 0.43333333333333335, 0.5333333333333333, 0.43333333333333335, 0.4666666666666667, 0.5666666666666667, 0.5, 0.4666666666666667, 0.5333333333333333, 0.5333333333333333, 0.5, 0.5, 0.7, 0.4, 0.4, 0.5333333333333333, 0.6666666666666666, 0.4, 0.6333333333333333, 0.5666666666666667, 0.5666666666666667, 0.5666666666666667, 0.7333333333333333, 0.6, 0.36666666666666664, 0.5333333333333333, 0.6333333333333333, 0.5666666666666667, 0.5, 0.4, 0.43333333333333335, 0.5333333333333333, 0.5, 0.5666666666666667, 0.43333333333333335, 0.5666666666666667, 0.3, 0.6, 0.5333333333333333, 0.6, 0.5666666666666667, 0.43333333333333335, 0.5333333333333333, 0.36666666666666664, 0.4, 0.4666666666666667, 0.3, 0.26666666666666666, 0.5, 0.4, 0.5, 0.5666666666666667, 0.43333333333333335, 0.36666666666666664, 0.4, 0.36666666666666664, 0.6, 0.7, 0.36666666666666664, 0.4, 0.4666666666666667, 0.5666666666666667, 0.43333333333333335, 0.36666666666666664, 0.5, 0.6, 0.5666666666666667, 0.5333333333333333, 0.4, 0.3333333333333333, 0.5666666666666667, 0.4, 0.4666666666666667, 0.5, 0.5, 0.6333333333333333, 0.43333333333333335, 0.4666666666666667, 0.4666666666666667, 0.5666666666666667, 0.4, 0.6333333333333333, 0.43333333333333335, 0.5333333333333333, 0.5666666666666667, 0.5666666666666667, 0.36666666666666664, 0.3333333333333333, 0.4, 0.5666666666666667, 0.4666666666666667, 0.4666666666666667, 0.6, 0.5, 0.43333333333333335, 0.5, 0.4666666666666667, 0.4, 0.43333333333333335, 0.6, 0.6, 0.5333333333333333, 0.5666666666666667, 0.4666666666666667, 0.43333333333333335, 0.4666666666666667, 0.5, 0.36666666666666664, 0.6, 0.5333333333333333, 0.4666666666666667, 0.4, 0.5666666666666667, 0.5333333333333333, 0.5333333333333333, 0.5, 0.43333333333333335, 0.43333333333333335, 0.36666666666666664, 0.4666666666666667, 0.43333333333333335, 0.5, 0.4, 0.5, 0.5, 0.5666666666666667, 0.7333333333333333, 0.4, 0.5666666666666667, 0.36666666666666664, 0.5333333333333333, 0.5, 0.5, 0.5, 0.6333333333333333, 0.43333333333333335, 0.5333333333333333, 0.6, 0.5666666666666667, 0.5, 0.4666666666666667, 0.43333333333333335, 0.5666666666666667, 0.36666666666666664, 0.6666666666666666, 0.4, 0.4, 0.3333333333333333, 0.5, 0.6, 0.4, 0.5666666666666667, 0.6, 0.5333333333333333, 0.4666666666666667, 0.43333333333333335, 0.6333333333333333, 0.4666666666666667, 0.5666666666666667, 0.4, 0.4666666666666667, 0.4, 0.6666666666666666, 0.4666666666666667, 0.43333333333333335, 0.5, 0.5666666666666667, 0.6, 0.5, 0.4666666666666667, 0.43333333333333335, 0.5, 0.3, 0.5333333333333333, 0.5333333333333333, 0.5333333333333333, 0.6, 0.5333333333333333, 0.43333333333333335, 0.5, 0.6, 0.43333333333333335, 0.3333333333333333, 0.43333333333333335, 0.5666666666666667, 0.4, 0.5333333333333333, 0.5, 0.6666666666666666, 0.43333333333333335, 0.6333333333333333, 0.43333333333333335, 0.5, 0.6333333333333333, 0.5, 0.5333333333333333, 0.6666666666666666, 0.5333333333333333, 0.5, 0.5666666666666667, 0.3333333333333333, 0.4, 0.43333333333333335, 0.5666666666666667, 0.5, 0.43333333333333335, 0.5, 0.6333333333333333, 0.43333333333333335, 0.5, 0.4666666666666667, 0.4666666666666667, 0.43333333333333335, 0.6666666666666666, 0.3333333333333333, 0.4666666666666667, 0.5, 0.5, 0.6, 0.4666666666666667, 0.5, 0.5, 0.4, 0.4666666666666667, 0.5666666666666667, 0.5666666666666667, 0.5666666666666667, 0.5333333333333333, 0.5333333333333333, 0.5666666666666667, 0.5, 0.5, 0.4, 0.4666666666666667, 0.4666666666666667, 0.43333333333333335, 0.4666666666666667, 0.4666666666666667, 0.5, 0.36666666666666664, 0.5333333333333333, 0.43333333333333335, 0.5666666666666667, 0.5, 0.4, 0.6666666666666666, 0.43333333333333335, 0.5333333333333333, 0.4666666666666667, 0.43333333333333335, 0.4666666666666667, 0.6333333333333333, 0.6, 0.43333333333333335, 0.4, 0.5, 0.4, 0.4, 0.36666666666666664, 0.5666666666666667, 0.4666666666666667, 0.3333333333333333, 0.43333333333333335, 0.3333333333333333, 0.36666666666666664, 0.6333333333333333, 0.5666666666666667, 0.5333333333333333, 0.4666666666666667, 0.6333333333333333, 0.6333333333333333, 0.6666666666666666, 0.5333333333333333, 0.6333333333333333, 0.4666666666666667, 0.36666666666666664, 0.4, 0.6, 0.4666666666666667, 0.5, 0.6, 0.43333333333333335, 0.5, 0.4666666666666667, 0.5333333333333333, 0.36666666666666664, 0.4666666666666667, 0.5, 0.6333333333333333, 0.5, 0.36666666666666664, 0.4666666666666667, 0.5666666666666667, 0.6, 0.5333333333333333, 0.4666666666666667, 0.5666666666666667, 0.5333333333333333, 0.43333333333333335, 0.5666666666666667, 0.6, 0.43333333333333335, 0.5333333333333333, 0.4666666666666667, 0.43333333333333335, 0.5, 0.6333333333333333, 0.5333333333333333, 0.5333333333333333, 0.6666666666666666, 0.43333333333333335, 0.5333333333333333, 0.4666666666666667, 0.7, 0.6, 0.5333333333333333, 0.5, 0.3, 0.43333333333333335, 0.5, 0.4666666666666667, 0.4666666666666667, 0.5, 0.5333333333333333, 0.4666666666666667, 0.36666666666666664, 0.5333333333333333, 0.36666666666666664, 0.6, 0.6, 0.5333333333333333, 0.5333333333333333, 0.5666666666666667, 0.5333333333333333, 0.43333333333333335, 0.3, 0.4666666666666667, 0.6, 0.4666666666666667, 0.6, 0.5666666666666667, 0.4, 0.5, 0.3, 0.6, 0.5666666666666667, 0.5333333333333333, 0.6, 0.4666666666666667, 0.5666666666666667, 0.4, 0.4666666666666667, 0.5, 0.6, 0.36666666666666664, 0.5333333333333333, 0.43333333333333335, 0.5, 0.4666666666666667, 0.5333333333333333, 0.5333333333333333, 0.5333333333333333, 0.5666666666666667, 0.3333333333333333, 0.4, 0.5666666666666667, 0.5333333333333333, 0.43333333333333335, 0.4666666666666667, 0.5333333333333333, 0.4666666666666667, 0.6, 0.5, 0.4666666666666667, 0.4666666666666667, 0.5, 0.3333333333333333, 0.4666666666666667, 0.6, 0.36666666666666664, 0.6, 0.6666666666666666, 0.4666666666666667, 0.7, 0.36666666666666664, 0.43333333333333335, 0.5, 0.6666666666666666, 0.5666666666666667, 0.5333333333333333, 0.4666666666666667, 0.5, 0.6, 0.4666666666666667, 0.7, 0.6, 0.6, 0.6, 0.5666666666666667, 0.4, 0.4, 0.6333333333333333, 0.5333333333333333, 0.5333333333333333, 0.5666666666666667, 0.6, 0.5, 0.5, 0.36666666666666664, 0.5333333333333333, 0.6666666666666666, 0.3, 0.43333333333333335, 0.5, 0.6333333333333333, 0.5333333333333333, 0.5333333333333333, 0.6333333333333333, 0.3, 0.4666666666666667, 0.6333333333333333, 0.4, 0.6666666666666666, 0.4666666666666667, 0.4666666666666667, 0.5333333333333333, 0.6333333333333333, 0.36666666666666664, 0.4666666666666667, 0.5666666666666667, 0.5333333333333333, 0.5333333333333333, 0.4, 0.5333333333333333, 0.5333333333333333, 0.5, 0.4666666666666667, 0.5666666666666667, 0.4666666666666667, 0.5666666666666667, 0.5, 0.5, 0.5666666666666667, 0.4666666666666667, 0.5333333333333333, 0.4, 0.6, 0.5333333333333333, 0.6, 0.4666666666666667, 0.6, 0.8, 0.5333333333333333, 0.36666666666666664, 0.6, 0.5666666666666667, 0.43333333333333335, 0.4666666666666667, 0.5, 0.5, 0.5, 0.5333333333333333, 0.4666666666666667, 0.36666666666666664, 0.6333333333333333, 0.43333333333333335, 0.4, 0.5, 0.5666666666666667, 0.4666666666666667, 0.4666666666666667, 0.36666666666666664, 0.5, 0.4666666666666667, 0.6, 0.43333333333333335, 0.4666666666666667, 0.5, 0.3333333333333333, 0.4, 0.6, 0.36666666666666664, 0.4666666666666667, 0.5333333333333333, 0.5333333333333333, 0.5333333333333333, 0.6, 0.43333333333333335, 0.4666666666666667, 0.5666666666666667, 0.6666666666666666, 0.4666666666666667, 0.4, 0.43333333333333335, 0.6, 0.5666666666666667, 0.6666666666666666, 0.36666666666666664, 0.5333333333333333, 0.36666666666666664, 0.6, 0.5666666666666667, 0.5666666666666667, 0.36666666666666664, 0.5, 0.5333333333333333, 0.43333333333333335, 0.5333333333333333, 0.4666666666666667, 0.4666666666666667, 0.4666666666666667, 0.5, 0.7333333333333333, 0.4666666666666667, 0.4666666666666667, 0.3333333333333333, 0.4666666666666667, 0.5, 0.5333333333333333, 0.7, 0.5333333333333333, 0.4, 0.6666666666666666, 0.5, 0.43333333333333335, 0.5666666666666667, 0.4666666666666667, 0.6, 0.4, 0.4666666666666667, 0.4666666666666667, 0.36666666666666664, 0.5, 0.43333333333333335, 0.4666666666666667, 0.6333333333333333, 0.43333333333333335, 0.5666666666666667, 0.4666666666666667, 0.43333333333333335, 0.6666666666666666, 0.5666666666666667, 0.6, 0.6333333333333333, 0.36666666666666664, 0.5666666666666667, 0.5666666666666667, 0.4666666666666667, 0.4666666666666667, 0.5333333333333333, 0.4, 0.4666666666666667, 0.5666666666666667, 0.5666666666666667, 0.5333333333333333, 0.6333333333333333, 0.5333333333333333, 0.6, 0.5, 0.36666666666666664, 0.4, 0.5, 0.4666666666666667, 0.43333333333333335, 0.5333333333333333, 0.5, 0.5, 0.4666666666666667, 0.6, 0.3333333333333333, 0.5666666666666667, 0.5333333333333333, 0.5, 0.4, 0.5, 0.43333333333333335, 0.5333333333333333, 0.43333333333333335, 0.3, 0.4, 0.5333333333333333, 0.6, 0.5, 0.5333333333333333, 0.5333333333333333, 0.6666666666666666, 0.5666666666666667, 0.4666666666666667, 0.5666666666666667, 0.36666666666666664, 0.5666666666666667, 0.5, 0.36666666666666664, 0.43333333333333335, 0.43333333333333335, 0.4666666666666667, 0.4666666666666667, 0.6333333333333333, 0.4666666666666667, 0.5333333333333333, 0.5666666666666667, 0.5, 0.4, 0.5333333333333333, 0.4666666666666667, 0.5666666666666667, 0.5, 0.5333333333333333, 0.43333333333333335, 0.6, 0.5666666666666667, 0.43333333333333335, 0.5666666666666667, 0.26666666666666666, 0.4, 0.5666666666666667, 0.43333333333333335, 0.5, 0.4666666666666667, 0.36666666666666664, 0.5666666666666667, 0.5, 0.3333333333333333, 0.6333333333333333, 0.6, 0.5333333333333333, 0.5, 0.5333333333333333, 0.5, 0.4, 0.5333333333333333, 0.6, 0.5, 0.5, 0.43333333333333335, 0.5, 0.6, 0.43333333333333335, 0.7, 0.5, 0.6, 0.4, 0.4666666666666667, 0.6333333333333333, 0.5666666666666667, 0.4666666666666667, 0.5, 0.5666666666666667, 0.4666666666666667, 0.5, 0.6666666666666666, 0.5, 0.4, 0.5333333333333333, 0.4, 0.36666666666666664, 0.4666666666666667, 0.7, 0.43333333333333335, 0.43333333333333335, 0.4, 0.4666666666666667, 0.4666666666666667, 0.4666666666666667, 0.3, 0.5, 0.4, 0.6, 0.5, 0.6666666666666666, 0.6, 0.4, 0.5666666666666667, 0.5, 0.7333333333333333, 0.5, 0.5666666666666667, 0.6333333333333333, 0.43333333333333335, 0.5, 0.4, 0.4666666666666667, 0.43333333333333335, 0.3333333333333333, 0.5666666666666667, 0.6, 0.6, 0.4, 0.6333333333333333, 0.36666666666666664, 0.4666666666666667, 0.43333333333333335, 0.6, 0.4666666666666667, 0.4, 0.5333333333333333, 0.5333333333333333, 0.36666666666666664, 0.36666666666666664, 0.5666666666666667, 0.5666666666666667, 0.5, 0.36666666666666664, 0.5, 0.5333333333333333, 0.5333333333333333, 0.6333333333333333, 0.5333333333333333, 0.5, 0.4, 0.6, 0.36666666666666664, 0.6666666666666666, 0.5333333333333333, 0.4666666666666667, 0.4666666666666667, 0.5, 0.5666666666666667, 0.6333333333333333, 0.6666666666666666, 0.4666666666666667, 0.3, 0.43333333333333335, 0.5, 0.5666666666666667, 0.5, 0.5666666666666667, 0.5333333333333333, 0.6333333333333333, 0.4, 0.4666666666666667, 0.5333333333333333, 0.4666666666666667, 0.3333333333333333, 0.5333333333333333, 0.5333333333333333, 0.5, 0.5333333333333333, 0.6333333333333333, 0.4666666666666667, 0.6666666666666666, 0.6, 0.6333333333333333, 0.6333333333333333, 0.5666666666666667, 0.5, 0.6333333333333333]\n"
          ],
          "name": "stdout"
        }
      ]
    },
    {
      "cell_type": "code",
      "metadata": {
        "id": "rfeA06evOT2K",
        "colab_type": "code",
        "outputId": "1fb3f337-6907-462a-dbed-ae08b1ddac6a",
        "colab": {
          "base_uri": "https://localhost:8080/",
          "height": 206
        }
      },
      "source": [
        "# Create dataframe with single coin flip\n",
        "df = pd.DataFrame({'one-samp': np.random.binomial(n=1, p=.5, size=30)})\n",
        "df.head()"
      ],
      "execution_count": 40,
      "outputs": [
        {
          "output_type": "execute_result",
          "data": {
            "text/html": [
              "<div>\n",
              "<style scoped>\n",
              "    .dataframe tbody tr th:only-of-type {\n",
              "        vertical-align: middle;\n",
              "    }\n",
              "\n",
              "    .dataframe tbody tr th {\n",
              "        vertical-align: top;\n",
              "    }\n",
              "\n",
              "    .dataframe thead th {\n",
              "        text-align: right;\n",
              "    }\n",
              "</style>\n",
              "<table border=\"1\" class=\"dataframe\">\n",
              "  <thead>\n",
              "    <tr style=\"text-align: right;\">\n",
              "      <th></th>\n",
              "      <th>one-samp</th>\n",
              "    </tr>\n",
              "  </thead>\n",
              "  <tbody>\n",
              "    <tr>\n",
              "      <th>0</th>\n",
              "      <td>1</td>\n",
              "    </tr>\n",
              "    <tr>\n",
              "      <th>1</th>\n",
              "      <td>1</td>\n",
              "    </tr>\n",
              "    <tr>\n",
              "      <th>2</th>\n",
              "      <td>1</td>\n",
              "    </tr>\n",
              "    <tr>\n",
              "      <th>3</th>\n",
              "      <td>1</td>\n",
              "    </tr>\n",
              "    <tr>\n",
              "      <th>4</th>\n",
              "      <td>0</td>\n",
              "    </tr>\n",
              "  </tbody>\n",
              "</table>\n",
              "</div>"
            ],
            "text/plain": [
              "   one-samp\n",
              "0         1\n",
              "1         1\n",
              "2         1\n",
              "3         1\n",
              "4         0"
            ]
          },
          "metadata": {
            "tags": []
          },
          "execution_count": 40
        }
      ]
    },
    {
      "cell_type": "code",
      "metadata": {
        "id": "GlMSNFX6OmBV",
        "colab_type": "code",
        "outputId": "6c2c4b8a-b0e7-45e7-9e8f-c33ae9e9dbed",
        "colab": {
          "base_uri": "https://localhost:8080/",
          "height": 281
        }
      },
      "source": [
        "# Plot histogram to look at distribution of a single coin flip \n",
        "df.hist();"
      ],
      "execution_count": 41,
      "outputs": [
        {
          "output_type": "display_data",
          "data": {
            "image/png": "[encoded data removed]",
            "text/plain": [
              "<Figure size 432x288 with 1 Axes>"
            ]
          },
          "metadata": {
            "tags": []
          }
        }
      ]
    },
    {
      "cell_type": "code",
      "metadata": {
        "id": "Jw9lpWRkI0g5",
        "colab_type": "code",
        "outputId": "a0d48a45-dece-4dcd-e028-02e54d57ff5d",
        "colab": {
          "base_uri": "https://localhost:8080/",
          "height": 71
        }
      },
      "source": [
        "df['one-samp'].value_counts()"
      ],
      "execution_count": 42,
      "outputs": [
        {
          "output_type": "execute_result",
          "data": {
            "text/plain": [
              "1    17\n",
              "0    13\n",
              "Name: one-samp, dtype: int64"
            ]
          },
          "metadata": {
            "tags": []
          },
          "execution_count": 42
        }
      ]
    },
    {
      "cell_type": "code",
      "metadata": {
        "id": "8dAO2qNTJELe",
        "colab_type": "code",
        "outputId": "8ba92eac-31cf-4a1d-a93f-f92a3d35d254",
        "colab": {
          "base_uri": "https://localhost:8080/",
          "height": 35
        }
      },
      "source": [
        "df['one-samp'].mean()"
      ],
      "execution_count": 43,
      "outputs": [
        {
          "output_type": "execute_result",
          "data": {
            "text/plain": [
              "0.5666666666666667"
            ]
          },
          "metadata": {
            "tags": []
          },
          "execution_count": 43
        }
      ]
    },
    {
      "cell_type": "code",
      "metadata": {
        "id": "Jie4ypgLOs5M",
        "colab_type": "code",
        "outputId": "47a7dac8-5943-4e13-a384-fac351678453",
        "colab": {
          "base_uri": "https://localhost:8080/",
          "height": 296
        }
      },
      "source": [
        "# Plot histogram to look at distribution of all coin flips\n",
        "ax = plt.hist(sample_means, bins=20)\n",
        "plt.title(f'Distribution of {N} sample means \\n (of {n_size} coinflips each)');"
      ],
      "execution_count": 45,
      "outputs": [
        {
          "output_type": "display_data",
          "data": {
            "image/png": "[encoded data removed]",
            "text/plain": [
              "<Figure size 432x288 with 1 Axes>"
            ]
          },
          "metadata": {
            "tags": []
          }
        }
      ]
    },
    {
      "cell_type": "markdown",
      "metadata": {
        "id": "LsEAjc4rOylm",
        "colab_type": "text"
      },
      "source": [
        "What does the Central Limit Theorem State? That no matter the initial distribution of the population, the distribution of sample means taken will approximate a normal distribution as $n \\rightarrow \\infty$.\n",
        "\n",
        "This has very important implications for hypothesis testing and is precisely the reason why the t-distribution begins to approximate the normal distribution as our sample size increases. "
      ]
    },
    {
      "cell_type": "markdown",
      "metadata": {
        "id": "EYqo5vZZSFUr",
        "colab_type": "text"
      },
      "source": [
        "## Standard Error of the Mean\n",
        "\n",
        "What does it mean to \"estimate\"? the Population mean?"
      ]
    },
    {
      "cell_type": "code",
      "metadata": {
        "id": "puGXH6vbSIE4",
        "colab_type": "code",
        "outputId": "08cf5cc1-bb0d-4d05-ca50-a078d6dfaedf",
        "colab": {
          "base_uri": "https://localhost:8080/",
          "height": 35
        }
      },
      "source": [
        "n_patients = 10*np.random.poisson(2.5, 2000)\n",
        "n_patients"
      ],
      "execution_count": 54,
      "outputs": [
        {
          "output_type": "execute_result",
          "data": {
            "text/plain": [
              "array([10, 20, 50, ..., 10, 10, 40])"
            ]
          },
          "metadata": {
            "tags": []
          },
          "execution_count": 54
        }
      ]
    },
    {
      "cell_type": "code",
      "metadata": {
        "id": "xN24FZ0KNWuh",
        "colab_type": "code",
        "outputId": "faa42ca7-27be-49e7-f634-1ff5694cb95f",
        "colab": {
          "base_uri": "https://localhost:8080/",
          "height": 35
        }
      },
      "source": [
        "np.unique(n_patients)"
      ],
      "execution_count": 55,
      "outputs": [
        {
          "output_type": "execute_result",
          "data": {
            "text/plain": [
              "array([  0,  10,  20,  30,  40,  50,  60,  70,  80, 100])"
            ]
          },
          "metadata": {
            "tags": []
          },
          "execution_count": 55
        }
      ]
    },
    {
      "cell_type": "code",
      "metadata": {
        "id": "2X-aKCTSXVOc",
        "colab_type": "code",
        "outputId": "b1766900-3d64-4171-f1f8-54566ccd1627",
        "colab": {
          "base_uri": "https://localhost:8080/",
          "height": 299
        }
      },
      "source": [
        "plt.hist(n_patients)\n",
        "plt.title('Distibution of patients between 10 pm and 11 pm')"
      ],
      "execution_count": 56,
      "outputs": [
        {
          "output_type": "execute_result",
          "data": {
            "text/plain": [
              "Text(0.5, 1.0, 'Distibution of patients between 10 pm and 11 pm')"
            ]
          },
          "metadata": {
            "tags": []
          },
          "execution_count": 56
        },
        {
          "output_type": "display_data",
          "data": {
            "image/png": "[encoded data removed]",
            "text/plain": [
              "<Figure size 432x288 with 1 Axes>"
            ]
          },
          "metadata": {
            "tags": []
          }
        }
      ]
    },
    {
      "cell_type": "code",
      "metadata": {
        "id": "fQlloeU4qwuI",
        "colab_type": "code",
        "outputId": "f93634c6-f7f4-4222-9bd9-47b4ce79f724",
        "colab": {
          "base_uri": "https://localhost:8080/",
          "height": 35
        }
      },
      "source": [
        "n_patients.mean()"
      ],
      "execution_count": 57,
      "outputs": [
        {
          "output_type": "execute_result",
          "data": {
            "text/plain": [
              "24.79"
            ]
          },
          "metadata": {
            "tags": []
          },
          "execution_count": 57
        }
      ]
    },
    {
      "cell_type": "code",
      "metadata": {
        "id": "sOD7gQMxq3ib",
        "colab_type": "code",
        "outputId": "1f9e4bd0-ff2c-40fc-ef1a-34284d58e56d",
        "colab": {
          "base_uri": "https://localhost:8080/",
          "height": 35
        }
      },
      "source": [
        "np.median(n_patients)"
      ],
      "execution_count": 51,
      "outputs": [
        {
          "output_type": "execute_result",
          "data": {
            "text/plain": [
              "20.0"
            ]
          },
          "metadata": {
            "tags": []
          },
          "execution_count": 51
        }
      ]
    },
    {
      "cell_type": "code",
      "metadata": {
        "id": "XgYgG3hvu-Yv",
        "colab_type": "code",
        "colab": {
          "base_uri": "https://localhost:8080/",
          "height": 217
        },
        "outputId": "c90baad3-f22a-4efb-c8a1-4142935e28de"
      },
      "source": [
        "population = pd.Series(10*np.random.poisson(2.5, 1000000))\n",
        "population[:10]"
      ],
      "execution_count": 59,
      "outputs": [
        {
          "output_type": "execute_result",
          "data": {
            "text/plain": [
              "0    50\n",
              "1    10\n",
              "2    10\n",
              "3    10\n",
              "4    20\n",
              "5    30\n",
              "6    60\n",
              "7    20\n",
              "8    20\n",
              "9    10\n",
              "dtype: int64"
            ]
          },
          "metadata": {
            "tags": []
          },
          "execution_count": 59
        }
      ]
    },
    {
      "cell_type": "code",
      "metadata": {
        "id": "BY0ls0pvRecJ",
        "colab_type": "code",
        "colab": {}
      },
      "source": [
        "sample_means = []\n",
        "for _ in range(1000):\n",
        "  m = population.sample(100).mean()\n",
        "  sample_means.append(m)"
      ],
      "execution_count": 0,
      "outputs": []
    },
    {
      "cell_type": "code",
      "metadata": {
        "id": "SpMBMasFrJQK",
        "colab_type": "code",
        "outputId": "e0a7246d-2065-467e-aa7b-38344d1b5a2d",
        "colab": {
          "base_uri": "https://localhost:8080/",
          "height": 269
        }
      },
      "source": [
        "plt.hist(sample_means, bins=15);"
      ],
      "execution_count": 64,
      "outputs": [
        {
          "output_type": "display_data",
          "data": {
            "image/png": "[encoded data removed]",
            "text/plain": [
              "<Figure size 432x288 with 1 Axes>"
            ]
          },
          "metadata": {
            "tags": []
          }
        }
      ]
    },
    {
      "cell_type": "code",
      "metadata": {
        "id": "FiDVnvVqOEOe",
        "colab_type": "code",
        "colab": {}
      },
      "source": [
        ""
      ],
      "execution_count": 0,
      "outputs": []
    },
    {
      "cell_type": "code",
      "metadata": {
        "id": "LoFnoY8lRsX8",
        "colab_type": "code",
        "colab": {}
      },
      "source": [
        ""
      ],
      "execution_count": 0,
      "outputs": []
    },
    {
      "cell_type": "markdown",
      "metadata": {
        "id": "nfdQf8QYUUmw",
        "colab_type": "text"
      },
      "source": [
        "## Build and Interpret a Confidence Interval\n",
        "\n",
        "<img src=\"https://github.com/ryanallredblog/ryanallredblog.github.io/blob/master/img/Confidence_Interval.png?raw=true\" width=400>"
      ]
    },
    {
      "cell_type": "code",
      "metadata": {
        "id": "mdgxROnYXeg4",
        "colab_type": "code",
        "colab": {}
      },
      "source": [
        "# https://www.youtube.com/watch?v=J1twbrHel3o\n",
        "# https://www.youtube.com/watch?v=hlM7zdf7zwU\n",
        "# https://www.youtube.com/watch?v=27iSnzss2wM"
      ],
      "execution_count": 0,
      "outputs": []
    },
    {
      "cell_type": "code",
      "metadata": {
        "colab_type": "code",
        "outputId": "cba1cd7b-d97b-4989-d7b3-a5f3c9ea057f",
        "id": "juyUeRCLQFzP",
        "colab": {
          "base_uri": "https://localhost:8080/",
          "height": 35
        }
      },
      "source": [
        "pop = pd.Series(np.random.binomial(1, p=0.45, size=1000000))\n",
        "pop.sum()"
      ],
      "execution_count": 66,
      "outputs": [
        {
          "output_type": "execute_result",
          "data": {
            "text/plain": [
              "449819"
            ]
          },
          "metadata": {
            "tags": []
          },
          "execution_count": 66
        }
      ]
    },
    {
      "cell_type": "code",
      "metadata": {
        "id": "J_ktraWUICT5",
        "colab_type": "code",
        "colab": {}
      },
      "source": [
        "from scipy import stats \n",
        "\n",
        "def confidence_interval(data, confidence=0.95):\n",
        "  \"\"\"\n",
        "  Calculate a confidence interval around a sample mean for given data.\n",
        "  Using t-distribution and two-tailed test, default 95% confidence. \n",
        "  \n",
        "  Arguments:\n",
        "    data - iterable (list or numpy array) of sample observations\n",
        "    confidence - level of confidence for the interval\n",
        "  \n",
        "  Returns:\n",
        "    tuple of (mean, lower bound, upper bound)\n",
        "  \"\"\"\n",
        "  data = np.array(data)\n",
        "  mean = np.mean(data)\n",
        "  n = len(data)\n",
        "  stderr = stats.sem(data)\n",
        "  t = stats.t.ppf((1 + confidence) / 2.0, n - 1)\n",
        "  interval = stderr * t\n",
        "  return (mean, mean - interval, mean + interval)"
      ],
      "execution_count": 0,
      "outputs": []
    },
    {
      "cell_type": "code",
      "metadata": {
        "id": "NyquqtImICP0",
        "colab_type": "code",
        "colab": {
          "base_uri": "https://localhost:8080/",
          "height": 126
        },
        "outputId": "32321d9c-42d0-41cc-a85d-956adfbcbc3e"
      },
      "source": [
        "sample_size = 100\n",
        "sample = pop.sample(sample_size)\n",
        "sample.head()"
      ],
      "execution_count": 68,
      "outputs": [
        {
          "output_type": "execute_result",
          "data": {
            "text/plain": [
              "600797    1\n",
              "687461    0\n",
              "536656    1\n",
              "443727    1\n",
              "530779    0\n",
              "dtype: int64"
            ]
          },
          "metadata": {
            "tags": []
          },
          "execution_count": 68
        }
      ]
    },
    {
      "cell_type": "code",
      "metadata": {
        "id": "KiCJPfxKRbgM",
        "colab_type": "code",
        "outputId": "33c40aed-5c55-475a-9d64-16439ad4c4e1",
        "colab": {
          "base_uri": "https://localhost:8080/",
          "height": 35
        }
      },
      "source": [
        "sample_mean = sample.mean()\n",
        "sample_std = np.std(sample, ddof=1)\n",
        "print(sample_mean, sample_std)"
      ],
      "execution_count": 71,
      "outputs": [
        {
          "output_type": "stream",
          "text": [
            "0.43 0.49756985195624276\n"
          ],
          "name": "stdout"
        }
      ]
    },
    {
      "cell_type": "code",
      "metadata": {
        "id": "WMOJpzAHQfjr",
        "colab_type": "code",
        "outputId": "2a52da99-bb20-4ffd-9833-f93528e16086",
        "colab": {
          "base_uri": "https://localhost:8080/",
          "height": 35
        }
      },
      "source": [
        "standard_error = sample_std/np.sqrt(sample_size)\n",
        "standard_error"
      ],
      "execution_count": 72,
      "outputs": [
        {
          "output_type": "execute_result",
          "data": {
            "text/plain": [
              "0.04975698519562428"
            ]
          },
          "metadata": {
            "tags": []
          },
          "execution_count": 72
        }
      ]
    },
    {
      "cell_type": "code",
      "metadata": {
        "id": "fdDsWaoWQfyK",
        "colab_type": "code",
        "outputId": "7f757558-d08e-45da-ffbe-fe224cd888f6",
        "colab": {
          "base_uri": "https://localhost:8080/",
          "height": 35
        }
      },
      "source": [
        "t = 1.984 # 95% confidence\n",
        "(sample_mean, sample_mean - t*standard_error, sample_mean + t*standard_error)"
      ],
      "execution_count": 73,
      "outputs": [
        {
          "output_type": "execute_result",
          "data": {
            "text/plain": [
              "(0.43, 0.33128214137188144, 0.5287178586281186)"
            ]
          },
          "metadata": {
            "tags": []
          },
          "execution_count": 73
        }
      ]
    },
    {
      "cell_type": "code",
      "metadata": {
        "id": "JutEx7ORRQIj",
        "colab_type": "code",
        "outputId": "94f4ce6c-684a-42e6-e6b1-519e33a237fa",
        "colab": {
          "base_uri": "https://localhost:8080/",
          "height": 35
        }
      },
      "source": [
        "confidence_interval(sample, confidence=0.95)"
      ],
      "execution_count": 79,
      "outputs": [
        {
          "output_type": "execute_result",
          "data": {
            "text/plain": [
              "(0.43, 0.3312713465188757, 0.5287286534811243)"
            ]
          },
          "metadata": {
            "tags": []
          },
          "execution_count": 79
        }
      ]
    },
    {
      "cell_type": "markdown",
      "metadata": {
        "id": "pTIzrkKdUaLl",
        "colab_type": "text"
      },
      "source": [
        "## Run a $\\chi^{2}$ Test \"by hand\" (Using Numpy)"
      ]
    },
    {
      "cell_type": "code",
      "metadata": {
        "id": "DDsovHUyUj3v",
        "colab_type": "code",
        "outputId": "ed5ea9b7-4afc-4d91-fb9b-c015c04cde86",
        "colab": {
          "base_uri": "https://localhost:8080/",
          "height": 328
        }
      },
      "source": [
        "df = pd.read_csv('https://raw.githubusercontent.com/ryanleeallred/datasets/master/adult.csv', na_values=\" ?\")\n",
        "print(df.shape)\n",
        "df.head()"
      ],
      "execution_count": 80,
      "outputs": [
        {
          "output_type": "stream",
          "text": [
            "(32561, 15)\n"
          ],
          "name": "stdout"
        },
        {
          "output_type": "execute_result",
          "data": {
            "text/html": [
              "<div>\n",
              "<style scoped>\n",
              "    .dataframe tbody tr th:only-of-type {\n",
              "        vertical-align: middle;\n",
              "    }\n",
              "\n",
              "    .dataframe tbody tr th {\n",
              "        vertical-align: top;\n",
              "    }\n",
              "\n",
              "    .dataframe thead th {\n",
              "        text-align: right;\n",
              "    }\n",
              "</style>\n",
              "<table border=\"1\" class=\"dataframe\">\n",
              "  <thead>\n",
              "    <tr style=\"text-align: right;\">\n",
              "      <th></th>\n",
              "      <th>age</th>\n",
              "      <th>workclass</th>\n",
              "      <th>fnlwgt</th>\n",
              "      <th>education</th>\n",
              "      <th>education-num</th>\n",
              "      <th>marital-status</th>\n",
              "      <th>occupation</th>\n",
              "      <th>relationship</th>\n",
              "      <th>race</th>\n",
              "      <th>sex</th>\n",
              "      <th>capital-gain</th>\n",
              "      <th>capital-loss</th>\n",
              "      <th>hours-per-week</th>\n",
              "      <th>country</th>\n",
              "      <th>salary</th>\n",
              "    </tr>\n",
              "  </thead>\n",
              "  <tbody>\n",
              "    <tr>\n",
              "      <th>0</th>\n",
              "      <td>39</td>\n",
              "      <td>State-gov</td>\n",
              "      <td>77516</td>\n",
              "      <td>Bachelors</td>\n",
              "      <td>13</td>\n",
              "      <td>Never-married</td>\n",
              "      <td>Adm-clerical</td>\n",
              "      <td>Not-in-family</td>\n",
              "      <td>White</td>\n",
              "      <td>Male</td>\n",
              "      <td>2174</td>\n",
              "      <td>0</td>\n",
              "      <td>40</td>\n",
              "      <td>United-States</td>\n",
              "      <td>&lt;=50K</td>\n",
              "    </tr>\n",
              "    <tr>\n",
              "      <th>1</th>\n",
              "      <td>50</td>\n",
              "      <td>Self-emp-not-inc</td>\n",
              "      <td>83311</td>\n",
              "      <td>Bachelors</td>\n",
              "      <td>13</td>\n",
              "      <td>Married-civ-spouse</td>\n",
              "      <td>Exec-managerial</td>\n",
              "      <td>Husband</td>\n",
              "      <td>White</td>\n",
              "      <td>Male</td>\n",
              "      <td>0</td>\n",
              "      <td>0</td>\n",
              "      <td>13</td>\n",
              "      <td>United-States</td>\n",
              "      <td>&lt;=50K</td>\n",
              "    </tr>\n",
              "    <tr>\n",
              "      <th>2</th>\n",
              "      <td>38</td>\n",
              "      <td>Private</td>\n",
              "      <td>215646</td>\n",
              "      <td>HS-grad</td>\n",
              "      <td>9</td>\n",
              "      <td>Divorced</td>\n",
              "      <td>Handlers-cleaners</td>\n",
              "      <td>Not-in-family</td>\n",
              "      <td>White</td>\n",
              "      <td>Male</td>\n",
              "      <td>0</td>\n",
              "      <td>0</td>\n",
              "      <td>40</td>\n",
              "      <td>United-States</td>\n",
              "      <td>&lt;=50K</td>\n",
              "    </tr>\n",
              "    <tr>\n",
              "      <th>3</th>\n",
              "      <td>53</td>\n",
              "      <td>Private</td>\n",
              "      <td>234721</td>\n",
              "      <td>11th</td>\n",
              "      <td>7</td>\n",
              "      <td>Married-civ-spouse</td>\n",
              "      <td>Handlers-cleaners</td>\n",
              "      <td>Husband</td>\n",
              "      <td>Black</td>\n",
              "      <td>Male</td>\n",
              "      <td>0</td>\n",
              "      <td>0</td>\n",
              "      <td>40</td>\n",
              "      <td>United-States</td>\n",
              "      <td>&lt;=50K</td>\n",
              "    </tr>\n",
              "    <tr>\n",
              "      <th>4</th>\n",
              "      <td>28</td>\n",
              "      <td>Private</td>\n",
              "      <td>338409</td>\n",
              "      <td>Bachelors</td>\n",
              "      <td>13</td>\n",
              "      <td>Married-civ-spouse</td>\n",
              "      <td>Prof-specialty</td>\n",
              "      <td>Wife</td>\n",
              "      <td>Black</td>\n",
              "      <td>Female</td>\n",
              "      <td>0</td>\n",
              "      <td>0</td>\n",
              "      <td>40</td>\n",
              "      <td>Cuba</td>\n",
              "      <td>&lt;=50K</td>\n",
              "    </tr>\n",
              "  </tbody>\n",
              "</table>\n",
              "</div>"
            ],
            "text/plain": [
              "   age          workclass  fnlwgt  ... hours-per-week         country  salary\n",
              "0   39          State-gov   77516  ...             40   United-States   <=50K\n",
              "1   50   Self-emp-not-inc   83311  ...             13   United-States   <=50K\n",
              "2   38            Private  215646  ...             40   United-States   <=50K\n",
              "3   53            Private  234721  ...             40   United-States   <=50K\n",
              "4   28            Private  338409  ...             40            Cuba   <=50K\n",
              "\n",
              "[5 rows x 15 columns]"
            ]
          },
          "metadata": {
            "tags": []
          },
          "execution_count": 80
        }
      ]
    },
    {
      "cell_type": "code",
      "metadata": {
        "id": "aXwXmi1bdawm",
        "colab_type": "code",
        "outputId": "b950d967-3e00-4c4a-9a9f-a774c1d3228b",
        "colab": {
          "base_uri": "https://localhost:8080/",
          "height": 269
        }
      },
      "source": [
        "df['hours-per-week'].hist(bins=20);"
      ],
      "execution_count": 81,
      "outputs": [
        {
          "output_type": "display_data",
          "data": {
            "image/png": "[encoded data removed]",
            "text/plain": [
              "<Figure size 432x288 with 1 Axes>"
            ]
          },
          "metadata": {
            "tags": []
          }
        }
      ]
    },
    {
      "cell_type": "code",
      "metadata": {
        "id": "eWSgZMKKcLRx",
        "colab_type": "code",
        "outputId": "9c48eee0-162a-4c77-96cc-6b28507a3209",
        "colab": {
          "base_uri": "https://localhost:8080/",
          "height": 175
        }
      },
      "source": [
        "df.describe(exclude='number')"
      ],
      "execution_count": 82,
      "outputs": [
        {
          "output_type": "execute_result",
          "data": {
            "text/html": [
              "<div>\n",
              "<style scoped>\n",
              "    .dataframe tbody tr th:only-of-type {\n",
              "        vertical-align: middle;\n",
              "    }\n",
              "\n",
              "    .dataframe tbody tr th {\n",
              "        vertical-align: top;\n",
              "    }\n",
              "\n",
              "    .dataframe thead th {\n",
              "        text-align: right;\n",
              "    }\n",
              "</style>\n",
              "<table border=\"1\" class=\"dataframe\">\n",
              "  <thead>\n",
              "    <tr style=\"text-align: right;\">\n",
              "      <th></th>\n",
              "      <th>workclass</th>\n",
              "      <th>education</th>\n",
              "      <th>marital-status</th>\n",
              "      <th>occupation</th>\n",
              "      <th>relationship</th>\n",
              "      <th>race</th>\n",
              "      <th>sex</th>\n",
              "      <th>country</th>\n",
              "      <th>salary</th>\n",
              "    </tr>\n",
              "  </thead>\n",
              "  <tbody>\n",
              "    <tr>\n",
              "      <th>count</th>\n",
              "      <td>30725</td>\n",
              "      <td>32561</td>\n",
              "      <td>32561</td>\n",
              "      <td>30718</td>\n",
              "      <td>32561</td>\n",
              "      <td>32561</td>\n",
              "      <td>32561</td>\n",
              "      <td>31978</td>\n",
              "      <td>32561</td>\n",
              "    </tr>\n",
              "    <tr>\n",
              "      <th>unique</th>\n",
              "      <td>8</td>\n",
              "      <td>16</td>\n",
              "      <td>7</td>\n",
              "      <td>14</td>\n",
              "      <td>6</td>\n",
              "      <td>5</td>\n",
              "      <td>2</td>\n",
              "      <td>41</td>\n",
              "      <td>2</td>\n",
              "    </tr>\n",
              "    <tr>\n",
              "      <th>top</th>\n",
              "      <td>Private</td>\n",
              "      <td>HS-grad</td>\n",
              "      <td>Married-civ-spouse</td>\n",
              "      <td>Prof-specialty</td>\n",
              "      <td>Husband</td>\n",
              "      <td>White</td>\n",
              "      <td>Male</td>\n",
              "      <td>United-States</td>\n",
              "      <td>&lt;=50K</td>\n",
              "    </tr>\n",
              "    <tr>\n",
              "      <th>freq</th>\n",
              "      <td>22696</td>\n",
              "      <td>10501</td>\n",
              "      <td>14976</td>\n",
              "      <td>4140</td>\n",
              "      <td>13193</td>\n",
              "      <td>27816</td>\n",
              "      <td>21790</td>\n",
              "      <td>29170</td>\n",
              "      <td>24720</td>\n",
              "    </tr>\n",
              "  </tbody>\n",
              "</table>\n",
              "</div>"
            ],
            "text/plain": [
              "       workclass education       marital-status  ...    sex         country  salary\n",
              "count      30725     32561                32561  ...  32561           31978   32561\n",
              "unique         8        16                    7  ...      2              41       2\n",
              "top      Private   HS-grad   Married-civ-spouse  ...   Male   United-States   <=50K\n",
              "freq       22696     10501                14976  ...  21790           29170   24720\n",
              "\n",
              "[4 rows x 9 columns]"
            ]
          },
          "metadata": {
            "tags": []
          },
          "execution_count": 82
        }
      ]
    },
    {
      "cell_type": "code",
      "metadata": {
        "id": "ijwOlJpMdVcc",
        "colab_type": "code",
        "outputId": "944c4923-632f-4bcd-82f6-f2dc528621df",
        "colab": {
          "base_uri": "https://localhost:8080/",
          "height": 144
        }
      },
      "source": [
        "cut_points = [0, 9, 19, 29, 39, 49, 500]\n",
        "label_names = ['0-9','10-19','20-29','30-39','40-49','50+']\n",
        "df['hours_per_week_categories'] = pd.cut(df['hours-per-week'], cut_points, labels=label_names)\n",
        "df['hours_per_week_categories'].value_counts()"
      ],
      "execution_count": 83,
      "outputs": [
        {
          "output_type": "execute_result",
          "data": {
            "text/plain": [
              "40-49    18336\n",
              "50+       6462\n",
              "30-39     3667\n",
              "20-29     2392\n",
              "10-19     1246\n",
              "0-9        458\n",
              "Name: hours_per_week_categories, dtype: int64"
            ]
          },
          "metadata": {
            "tags": []
          },
          "execution_count": 83
        }
      ]
    },
    {
      "cell_type": "code",
      "metadata": {
        "id": "8qZ9MnhieeDe",
        "colab_type": "code",
        "outputId": "95c0bf9c-ecb6-4617-ca43-fea9e97a8938",
        "colab": {
          "base_uri": "https://localhost:8080/",
          "height": 71
        }
      },
      "source": [
        "df['sex'].value_counts()"
      ],
      "execution_count": 84,
      "outputs": [
        {
          "output_type": "execute_result",
          "data": {
            "text/plain": [
              " Male      21790\n",
              " Female    10771\n",
              "Name: sex, dtype: int64"
            ]
          },
          "metadata": {
            "tags": []
          },
          "execution_count": 84
        }
      ]
    },
    {
      "cell_type": "code",
      "metadata": {
        "id": "ICcAkcAJejvG",
        "colab_type": "code",
        "outputId": "7df6418b-0791-4ff1-88b0-71a6609eb322",
        "colab": {
          "base_uri": "https://localhost:8080/",
          "height": 175
        }
      },
      "source": [
        "df = df.sort_values(by='hours_per_week_categories')\n",
        "# https://github.com/pandas-dev/pandas/issues/25278\n",
        "contingency_table = pd.crosstab(df['sex'], df['hours_per_week_categories'], margins=True)\n",
        "contingency_table"
      ],
      "execution_count": 86,
      "outputs": [
        {
          "output_type": "execute_result",
          "data": {
            "text/html": [
              "<div>\n",
              "<style scoped>\n",
              "    .dataframe tbody tr th:only-of-type {\n",
              "        vertical-align: middle;\n",
              "    }\n",
              "\n",
              "    .dataframe tbody tr th {\n",
              "        vertical-align: top;\n",
              "    }\n",
              "\n",
              "    .dataframe thead th {\n",
              "        text-align: right;\n",
              "    }\n",
              "</style>\n",
              "<table border=\"1\" class=\"dataframe\">\n",
              "  <thead>\n",
              "    <tr style=\"text-align: right;\">\n",
              "      <th>hours_per_week_categories</th>\n",
              "      <th>0-9</th>\n",
              "      <th>10-19</th>\n",
              "      <th>20-29</th>\n",
              "      <th>30-39</th>\n",
              "      <th>40-49</th>\n",
              "      <th>50+</th>\n",
              "      <th>All</th>\n",
              "    </tr>\n",
              "    <tr>\n",
              "      <th>sex</th>\n",
              "      <th></th>\n",
              "      <th></th>\n",
              "      <th></th>\n",
              "      <th></th>\n",
              "      <th></th>\n",
              "      <th></th>\n",
              "      <th></th>\n",
              "    </tr>\n",
              "  </thead>\n",
              "  <tbody>\n",
              "    <tr>\n",
              "      <th>Female</th>\n",
              "      <td>235</td>\n",
              "      <td>671</td>\n",
              "      <td>1287</td>\n",
              "      <td>1914</td>\n",
              "      <td>5636</td>\n",
              "      <td>1028</td>\n",
              "      <td>10771</td>\n",
              "    </tr>\n",
              "    <tr>\n",
              "      <th>Male</th>\n",
              "      <td>223</td>\n",
              "      <td>575</td>\n",
              "      <td>1105</td>\n",
              "      <td>1753</td>\n",
              "      <td>12700</td>\n",
              "      <td>5434</td>\n",
              "      <td>21790</td>\n",
              "    </tr>\n",
              "    <tr>\n",
              "      <th>All</th>\n",
              "      <td>458</td>\n",
              "      <td>1246</td>\n",
              "      <td>2392</td>\n",
              "      <td>3667</td>\n",
              "      <td>18336</td>\n",
              "      <td>6462</td>\n",
              "      <td>32561</td>\n",
              "    </tr>\n",
              "  </tbody>\n",
              "</table>\n",
              "</div>"
            ],
            "text/plain": [
              "hours_per_week_categories  0-9  10-19  20-29  30-39  40-49   50+    All\n",
              "sex                                                                    \n",
              " Female                    235    671   1287   1914   5636  1028  10771\n",
              " Male                      223    575   1105   1753  12700  5434  21790\n",
              "All                        458   1246   2392   3667  18336  6462  32561"
            ]
          },
          "metadata": {
            "tags": []
          },
          "execution_count": 86
        }
      ]
    },
    {
      "cell_type": "markdown",
      "metadata": {
        "id": "uyw_hby7-OHF",
        "colab_type": "text"
      },
      "source": [
        "## Expected Value Calculation\n",
        "\\begin{align}\n",
        "expected_{i,j} =\\frac{(row_{i\\ total})(column_{j\\ total} ) }{(\\text{total observations})}  \n",
        "\\end{align}"
      ]
    },
    {
      "cell_type": "code",
      "metadata": {
        "id": "C11nWaal-acY",
        "colab_type": "code",
        "outputId": "2a1bd6de-df79-4687-fbe9-fd7941f492a1",
        "colab": {
          "base_uri": "https://localhost:8080/",
          "height": 53
        }
      },
      "source": [
        "row_sums = contingency_table.iloc[0:2, 6].values\n",
        "col_sums = contingency_table.iloc[2, 0:6].values\n",
        "\n",
        "print(row_sums)\n",
        "print(col_sums)"
      ],
      "execution_count": 87,
      "outputs": [
        {
          "output_type": "stream",
          "text": [
            "[10771 21790]\n",
            "[  458  1246  2392  3667 18336  6462]\n"
          ],
          "name": "stdout"
        }
      ]
    },
    {
      "cell_type": "code",
      "metadata": {
        "id": "YTEj8BeHgXV8",
        "colab_type": "code",
        "outputId": "381cbe0a-3adc-4a24-d290-008ef3be357a",
        "colab": {
          "base_uri": "https://localhost:8080/",
          "height": 35
        }
      },
      "source": [
        "total = contingency_table.loc['All','All']\n",
        "total"
      ],
      "execution_count": 88,
      "outputs": [
        {
          "output_type": "execute_result",
          "data": {
            "text/plain": [
              "32561"
            ]
          },
          "metadata": {
            "tags": []
          },
          "execution_count": 88
        }
      ]
    },
    {
      "cell_type": "code",
      "metadata": {
        "id": "Px1hiusMgpG7",
        "colab_type": "code",
        "outputId": "206ffbbd-747d-4f6d-ab6f-8152255c6b77",
        "colab": {
          "base_uri": "https://localhost:8080/",
          "height": 108
        }
      },
      "source": [
        "expected = []\n",
        "for row_sum in row_sums:\n",
        "  expected_row = []\n",
        "  for column in col_sums:\n",
        "    expected_val = column*row_sum/total\n",
        "    expected_row.append(expected_val)\n",
        "  expected.append(expected_row)\n",
        "  \n",
        "expected = np.array(expected)\n",
        "print(expected.shape)\n",
        "print(expected)"
      ],
      "execution_count": 89,
      "outputs": [
        {
          "output_type": "stream",
          "text": [
            "(2, 6)\n",
            "[[  151.50388502   412.16995793   791.26046497  1213.02346365\n",
            "   6065.44811277  2137.59411566]\n",
            " [  306.49611498   833.83004207  1600.73953503  2453.97653635\n",
            "  12270.55188723  4324.40588434]]\n"
          ],
          "name": "stdout"
        }
      ]
    },
    {
      "cell_type": "markdown",
      "metadata": {
        "id": "R6AWydhG_P4s",
        "colab_type": "text"
      },
      "source": [
        "## Chi-Squared Statistic with Numpy\n",
        "\n",
        "\\begin{align}\n",
        "\\chi^2 = \\sum \\frac{(observed_{i}-expected_{i})^2}{(expected_{i})}\n",
        "\\end{align}\n",
        "\n",
        "For the $observed$ values we will just use a version of our contingency table without the margins as a numpy array. In this way, if our observed values array and our expected values array are the same shape, then we can subtract them and divide them directly which makes the calculations a lot cleaner. No for loops!"
      ]
    },
    {
      "cell_type": "code",
      "metadata": {
        "id": "fUMKMBDNhhiF",
        "colab_type": "code",
        "outputId": "7a34adb2-5991-4059-f0cb-df0d713de06b",
        "colab": {
          "base_uri": "https://localhost:8080/",
          "height": 71
        }
      },
      "source": [
        "observed = pd.crosstab(df['sex'], df['hours_per_week_categories']).values\n",
        "print(observed.shape)\n",
        "observed"
      ],
      "execution_count": 90,
      "outputs": [
        {
          "output_type": "stream",
          "text": [
            "(2, 6)\n"
          ],
          "name": "stdout"
        },
        {
          "output_type": "execute_result",
          "data": {
            "text/plain": [
              "array([[  235,   671,  1287,  1914,  5636,  1028],\n",
              "       [  223,   575,  1105,  1753, 12700,  5434]])"
            ]
          },
          "metadata": {
            "tags": []
          },
          "execution_count": 90
        }
      ]
    },
    {
      "cell_type": "code",
      "metadata": {
        "id": "o7YgaNij_cSo",
        "colab_type": "code",
        "outputId": "8ae5de98-e7ce-4ebb-dd2b-d30b03d5cf27",
        "colab": {
          "base_uri": "https://localhost:8080/",
          "height": 35
        }
      },
      "source": [
        "chi_square = ((observed - expected)**2/(expected)).sum()\n",
        "chi_square"
      ],
      "execution_count": 91,
      "outputs": [
        {
          "output_type": "execute_result",
          "data": {
            "text/plain": [
              "2287.190943926107"
            ]
          },
          "metadata": {
            "tags": []
          },
          "execution_count": 91
        }
      ]
    },
    {
      "cell_type": "code",
      "metadata": {
        "id": "3r9Av1spcwuM",
        "colab_type": "code",
        "colab": {}
      },
      "source": [
        "# https://people.smp.uq.edu.au/YoniNazarathy/stat_models_B_course_spring_07/distributions/chisqtab.pdf"
      ],
      "execution_count": 0,
      "outputs": []
    },
    {
      "cell_type": "markdown",
      "metadata": {
        "id": "7Igz-XHcVbW3",
        "colab_type": "text"
      },
      "source": [
        "## Run a $\\chi^{2}$ Test using Scipy"
      ]
    },
    {
      "cell_type": "code",
      "metadata": {
        "id": "kazgId8L9tYZ",
        "colab_type": "code",
        "outputId": "4074f075-5292-4510-b31e-75cd2e647751",
        "colab": {
          "base_uri": "https://localhost:8080/",
          "height": 1000
        }
      },
      "source": [
        "help(stats.chi2_contingency)"
      ],
      "execution_count": 92,
      "outputs": [
        {
          "output_type": "stream",
          "text": [
            "Help on function chi2_contingency in module scipy.stats.contingency:\n",
            "\n",
            "chi2_contingency(observed, correction=True, lambda_=None)\n",
            "    Chi-square test of independence of variables in a contingency table.\n",
            "    \n",
            "    This function computes the chi-square statistic and p-value for the\n",
            "    hypothesis test of independence of the observed frequencies in the\n",
            "    contingency table [1]_ `observed`.  The expected frequencies are computed\n",
            "    based on the marginal sums under the assumption of independence; see\n",
            "    `scipy.stats.contingency.expected_freq`.  The number of degrees of\n",
            "    freedom is (expressed using numpy functions and attributes)::\n",
            "    \n",
            "        dof = observed.size - sum(observed.shape) + observed.ndim - 1\n",
            "    \n",
            "    \n",
            "    Parameters\n",
            "    ----------\n",
            "    observed : array_like\n",
            "        The contingency table. The table contains the observed frequencies\n",
            "        (i.e. number of occurrences) in each category.  In the two-dimensional\n",
            "        case, the table is often described as an \"R x C table\".\n",
            "    correction : bool, optional\n",
            "        If True, *and* the degrees of freedom is 1, apply Yates' correction\n",
            "        for continuity.  The effect of the correction is to adjust each\n",
            "        observed value by 0.5 towards the corresponding expected value.\n",
            "    lambda_ : float or str, optional.\n",
            "        By default, the statistic computed in this test is Pearson's\n",
            "        chi-squared statistic [2]_.  `lambda_` allows a statistic from the\n",
            "        Cressie-Read power divergence family [3]_ to be used instead.  See\n",
            "        `power_divergence` for details.\n",
            "    \n",
            "    Returns\n",
            "    -------\n",
            "    chi2 : float\n",
            "        The test statistic.\n",
            "    p : float\n",
            "        The p-value of the test\n",
            "    dof : int\n",
            "        Degrees of freedom\n",
            "    expected : ndarray, same shape as `observed`\n",
            "        The expected frequencies, based on the marginal sums of the table.\n",
            "    \n",
            "    See Also\n",
            "    --------\n",
            "    contingency.expected_freq\n",
            "    fisher_exact\n",
            "    chisquare\n",
            "    power_divergence\n",
            "    \n",
            "    Notes\n",
            "    -----\n",
            "    An often quoted guideline for the validity of this calculation is that\n",
            "    the test should be used only if the observed and expected frequencies\n",
            "    in each cell are at least 5.\n",
            "    \n",
            "    This is a test for the independence of different categories of a\n",
            "    population. The test is only meaningful when the dimension of\n",
            "    `observed` is two or more.  Applying the test to a one-dimensional\n",
            "    table will always result in `expected` equal to `observed` and a\n",
            "    chi-square statistic equal to 0.\n",
            "    \n",
            "    This function does not handle masked arrays, because the calculation\n",
            "    does not make sense with missing values.\n",
            "    \n",
            "    Like stats.chisquare, this function computes a chi-square statistic;\n",
            "    the convenience this function provides is to figure out the expected\n",
            "    frequencies and degrees of freedom from the given contingency table.\n",
            "    If these were already known, and if the Yates' correction was not\n",
            "    required, one could use stats.chisquare.  That is, if one calls::\n",
            "    \n",
            "        chi2, p, dof, ex = chi2_contingency(obs, correction=False)\n",
            "    \n",
            "    then the following is true::\n",
            "    \n",
            "        (chi2, p) == stats.chisquare(obs.ravel(), f_exp=ex.ravel(),\n",
            "                                     ddof=obs.size - 1 - dof)\n",
            "    \n",
            "    The `lambda_` argument was added in version 0.13.0 of scipy.\n",
            "    \n",
            "    References\n",
            "    ----------\n",
            "    .. [1] \"Contingency table\",\n",
            "           https://en.wikipedia.org/wiki/Contingency_table\n",
            "    .. [2] \"Pearson's chi-squared test\",\n",
            "           https://en.wikipedia.org/wiki/Pearson%27s_chi-squared_test\n",
            "    .. [3] Cressie, N. and Read, T. R. C., \"Multinomial Goodness-of-Fit\n",
            "           Tests\", J. Royal Stat. Soc. Series B, Vol. 46, No. 3 (1984),\n",
            "           pp. 440-464.\n",
            "    \n",
            "    Examples\n",
            "    --------\n",
            "    A two-way example (2 x 3):\n",
            "    \n",
            "    >>> from scipy.stats import chi2_contingency\n",
            "    >>> obs = np.array([[10, 10, 20], [20, 20, 20]])\n",
            "    >>> chi2_contingency(obs)\n",
            "    (2.7777777777777777,\n",
            "     0.24935220877729619,\n",
            "     2,\n",
            "     array([[ 12.,  12.,  16.],\n",
            "            [ 18.,  18.,  24.]]))\n",
            "    \n",
            "    Perform the test using the log-likelihood ratio (i.e. the \"G-test\")\n",
            "    instead of Pearson's chi-squared statistic.\n",
            "    \n",
            "    >>> g, p, dof, expctd = chi2_contingency(obs, lambda_=\"log-likelihood\")\n",
            "    >>> g, p\n",
            "    (2.7688587616781319, 0.25046668010954165)\n",
            "    \n",
            "    A four-way example (2 x 2 x 2 x 2):\n",
            "    \n",
            "    >>> obs = np.array(\n",
            "    ...     [[[[12, 17],\n",
            "    ...        [11, 16]],\n",
            "    ...       [[11, 12],\n",
            "    ...        [15, 16]]],\n",
            "    ...      [[[23, 15],\n",
            "    ...        [30, 22]],\n",
            "    ...       [[14, 17],\n",
            "    ...        [15, 16]]]])\n",
            "    >>> chi2_contingency(obs)\n",
            "    (8.7584514426741897,\n",
            "     0.64417725029295503,\n",
            "     11,\n",
            "     array([[[[ 14.15462386,  14.15462386],\n",
            "              [ 16.49423111,  16.49423111]],\n",
            "             [[ 11.2461395 ,  11.2461395 ],\n",
            "              [ 13.10500554,  13.10500554]]],\n",
            "            [[[ 19.5591166 ,  19.5591166 ],\n",
            "              [ 22.79202844,  22.79202844]],\n",
            "             [[ 15.54012004,  15.54012004],\n",
            "              [ 18.10873492,  18.10873492]]]]))\n",
            "\n"
          ],
          "name": "stdout"
        }
      ]
    },
    {
      "cell_type": "code",
      "metadata": {
        "id": "HtzWU6I5iVyz",
        "colab_type": "code",
        "outputId": "bce61a1c-01b1-4503-a3f1-b86fa2531cd7",
        "colab": {
          "base_uri": "https://localhost:8080/",
          "height": 90
        }
      },
      "source": [
        "chi_squared, p_value, dof, expected = stats.chi2_contingency(observed)\n",
        "print(chi_squared, p_value, dof, expected)"
      ],
      "execution_count": 93,
      "outputs": [
        {
          "output_type": "stream",
          "text": [
            "2287.190943926107 0.0 5 [[  151.50388502   412.16995793   791.26046497  1213.02346365\n",
            "   6065.44811277  2137.59411566]\n",
            " [  306.49611498   833.83004207  1600.73953503  2453.97653635\n",
            "  12270.55188723  4324.40588434]]\n"
          ],
          "name": "stdout"
        }
      ]
    },
    {
      "cell_type": "markdown",
      "metadata": {
        "id": "TRtBEP3rA307",
        "colab_type": "text"
      },
      "source": [
        "Null Hypothesis: Hours worked per week bins is **independent** of sex. \n",
        "\n",
        "Due to a p-value of 0, we REJECT the null hypothesis that hours worked per week and sex are independent, and conclude that there is an association between hours worked per week and sex. "
      ]
    }
  ]
}